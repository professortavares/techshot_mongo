{
 "cells": [
  {
   "cell_type": "markdown",
   "id": "d65f76bd",
   "metadata": {},
   "source": [
    "# Notebook responsável por alguns aspectos de modelagem OneToOne / OneToFew Embedding (usando MongoEngine)"
   ]
  },
  {
   "cell_type": "markdown",
   "id": "d7d2da3b",
   "metadata": {},
   "source": [
    "## Bibliotecas importantes"
   ]
  },
  {
   "cell_type": "code",
   "execution_count": 1,
   "id": "f0fb9fd7",
   "metadata": {},
   "outputs": [],
   "source": [
    "from mongoengine import *\n",
    "import pprint\n",
    "import numpy as np\n",
    "import pandas as pd\n",
    "import unidecode\n",
    "\n",
    "# para geração de dados fake\n",
    "from faker import Faker\n"
   ]
  },
  {
   "cell_type": "markdown",
   "id": "3a233703",
   "metadata": {},
   "source": [
    "## Classes úteis"
   ]
  },
  {
   "cell_type": "code",
   "execution_count": 2,
   "id": "0b71aa64",
   "metadata": {},
   "outputs": [],
   "source": [
    "class Endereco (EmbeddedDocument):\n",
    "    logradouro = StringField(max_length=200, required=True)\n",
    "    numero = StringField(max_length=10, required=True)\n",
    "    bairro = StringField(max_length=50, required=True)\n",
    "    cidade = StringField(max_length=200, required=True)\n",
    "    uf = StringField(max_length=50, required=True)\n",
    "    cep = StringField(max_length=10, required=True)\n",
    "    \n",
    "    def __str__(self):\n",
    "        return f\"{self.logradouro}, {self.numero}\"\n",
    "    \n",
    "    \n",
    "class Pessoa (Document):\n",
    "    cpf = StringField(max_length=20, required=True)\n",
    "    primeiro_nome = StringField(max_length=200, required=True)\n",
    "    ultimo_nome = StringField(max_length=400, required=True)\n",
    "    idade = IntField(min_value=0, max_value=120, required=True)\n",
    "    data_nascimento = StringField(max_length=20, required=True)\n",
    "    email = EmailField(max_length=50)\n",
    "    telefones = ListField(StringField(max_length=50), max_length=4)\n",
    "    formacoes = ListField(StringField(max_length=50), max_length=4)\n",
    "    \n",
    "    # Referência (linking) para um objeto da classe pessoa\n",
    "    endereco = EmbeddedDocumentField(Endereco)\n",
    "    \n",
    "    def __str__(self):\n",
    "        return f\"{self.pk}, {self.cpf}, {self.primeiro_nome}, Endereço: {self.endereco}\"\n"
   ]
  },
  {
   "cell_type": "markdown",
   "id": "4dfe91a8",
   "metadata": {},
   "source": [
    "## Funções uteis"
   ]
  },
  {
   "cell_type": "code",
   "execution_count": 3,
   "id": "ea741f12",
   "metadata": {},
   "outputs": [],
   "source": [
    "def criar_endereco():\n",
    "    \n",
    "    logradouro = fake.street_name()\n",
    "    numero = fake.building_number()\n",
    "    bairro = fake.bairro()\n",
    "    cidade = fake.city()\n",
    "    uf = fake.administrative_unit()\n",
    "    cep = fake.postcode()\n",
    "\n",
    "    endereco = Endereco(logradouro=logradouro, numero=numero, bairro=bairro, cidade=cidade, uf=uf, cep=cep)\n",
    "    return endereco"
   ]
  },
  {
   "cell_type": "code",
   "execution_count": 4,
   "id": "cedde46c",
   "metadata": {},
   "outputs": [],
   "source": [
    "def criar_pessoa():\n",
    "    \n",
    "    cpf = fake.cpf()\n",
    "    primeiro_nome = fake.first_name()\n",
    "    ultimo_nome = fake.last_name()\n",
    "    idade = np.random.randint(18, 50)\n",
    "    data_nascimento = fake.date()\n",
    "    email = f'{cpf}@{fake.free_email_domain()}'\n",
    "    \n",
    "    # criando os telefones\n",
    "    telefones = []\n",
    "    n = np.random.randint(1, 4)\n",
    "    for i in range(n):\n",
    "        telefones.append(fake.msisdn())\n",
    "    \n",
    "    # criando as formações\n",
    "    formacoes = []\n",
    "    n = np.random.randint(1, 4)\n",
    "    for i in range(n):\n",
    "        formacoes.append(fake.job())\n",
    "    \n",
    "    endereco = criar_endereco()\n",
    "    \n",
    "    pessoa = Pessoa(cpf=cpf, primeiro_nome=primeiro_nome, \n",
    "                    ultimo_nome=ultimo_nome, idade=idade, \n",
    "                    data_nascimento=data_nascimento, \n",
    "                    email=email, telefones=telefones, \n",
    "                    formacoes=formacoes, endereco=endereco)\n",
    "    return pessoa"
   ]
  },
  {
   "cell_type": "markdown",
   "id": "648352cd",
   "metadata": {},
   "source": [
    "## Configurações"
   ]
  },
  {
   "cell_type": "code",
   "execution_count": 5,
   "id": "332b9e9b",
   "metadata": {},
   "outputs": [],
   "source": [
    "pp = pprint.PrettyPrinter(compact=True)\n",
    "# gerando dados fictícios em português do Brasil\n",
    "fake = Faker(['pt_BR'])"
   ]
  },
  {
   "cell_type": "markdown",
   "id": "55a2771b",
   "metadata": {},
   "source": [
    "## Inserção de vários documentos"
   ]
  },
  {
   "cell_type": "markdown",
   "id": "9d0204f1",
   "metadata": {},
   "source": [
    "### Conectando ao MongoDB"
   ]
  },
  {
   "cell_type": "code",
   "execution_count": 7,
   "id": "fc8b60e3",
   "metadata": {},
   "outputs": [
    {
     "data": {
      "text/plain": [
       "MongoClient(host=['localhost:27017'], document_class=dict, tz_aware=False, connect=True, read_preference=Primary(), uuidrepresentation=3)"
      ]
     },
     "execution_count": 7,
     "metadata": {},
     "output_type": "execute_result"
    }
   ],
   "source": [
    "connect('onetoone_embedding')"
   ]
  },
  {
   "cell_type": "markdown",
   "id": "7b551e88",
   "metadata": {},
   "source": [
    "### Exemplo - Criação de vários documentos compostos"
   ]
  },
  {
   "cell_type": "code",
   "execution_count": 9,
   "id": "5450a862",
   "metadata": {},
   "outputs": [
    {
     "name": "stdout",
     "output_type": "stream",
     "text": [
      "[<Pessoa: None, 901.456.327-25, Júlia, Endereço: Avenida de Gonçalves, 86>,\n",
      " <Pessoa: None, 058.719.423-50, Sofia, Endereço: Praça Davi Luiz Viana, 80>,\n",
      " <Pessoa: None, 401.829.537-50, Danilo, Endereço: Esplanada de Ferreira, 22>,\n",
      " <Pessoa: None, 902.164.738-96, Laura, Endereço: Chácara de Jesus, 51>,\n",
      " <Pessoa: None, 859.671.230-59, Pedro Lucas, Endereço: Loteamento Noah da Rosa, 51>,\n",
      " <Pessoa: None, 504.763.891-00, Amanda, Endereço: Jardim Ana Luiza Vieira, 37>,\n",
      " <Pessoa: None, 207.913.568-68, Ana Luiza, Endereço: Ladeira Heitor da Cruz, 72>,\n",
      " <Pessoa: None, 084.152.639-70, André, Endereço: Campo João Vitor Moraes, 39>,\n",
      " <Pessoa: None, 829.465.713-19, Vinicius, Endereço: Chácara Pinto, 8>,\n",
      " <Pessoa: None, 140.952.763-80, Rafael, Endereço: Conjunto de Rocha, 37>]\n"
     ]
    }
   ],
   "source": [
    "lista_pessoas = []\n",
    "\n",
    "for i in range(10):\n",
    "    lista_pessoas.append(criar_pessoa())\n",
    "    \n",
    "pp.pprint(lista_pessoas)"
   ]
  },
  {
   "cell_type": "code",
   "execution_count": 10,
   "id": "7036ac60-5979-4445-a5fd-54bf39925482",
   "metadata": {},
   "outputs": [
    {
     "name": "stdout",
     "output_type": "stream",
     "text": [
      "None\n"
     ]
    }
   ],
   "source": [
    "pp.pprint(lista_pessoas[0].pk)"
   ]
  },
  {
   "cell_type": "markdown",
   "id": "e22f2eab",
   "metadata": {},
   "source": [
    "### Inserindo os documentos no banco de dados"
   ]
  },
  {
   "cell_type": "code",
   "execution_count": 11,
   "id": "2c048809",
   "metadata": {},
   "outputs": [
    {
     "data": {
      "text/plain": [
       "<Pessoa: 625ff64041ea728155610666, 901.456.327-25, Júlia, Endereço: Avenida de Gonçalves, 86>"
      ]
     },
     "execution_count": 11,
     "metadata": {},
     "output_type": "execute_result"
    }
   ],
   "source": [
    "# inserindo 1 documento apenas\n",
    "lista_pessoas[0].save()"
   ]
  },
  {
   "cell_type": "code",
   "execution_count": 12,
   "id": "b2cce9fd",
   "metadata": {},
   "outputs": [
    {
     "name": "stdout",
     "output_type": "stream",
     "text": [
      "ObjectId('625ff64041ea728155610666')\n"
     ]
    }
   ],
   "source": [
    "pp.pprint(lista_pessoas[0].pk)"
   ]
  },
  {
   "cell_type": "code",
   "execution_count": 13,
   "id": "8e269e5c-3aae-4180-84c6-f0d89d8a8dd7",
   "metadata": {},
   "outputs": [
    {
     "data": {
      "text/plain": [
       "[<Pessoa: 625ff67341ea728155610667, 058.719.423-50, Sofia, Endereço: Praça Davi Luiz Viana, 80>,\n",
       " <Pessoa: 625ff67341ea728155610668, 401.829.537-50, Danilo, Endereço: Esplanada de Ferreira, 22>,\n",
       " <Pessoa: 625ff67341ea728155610669, 902.164.738-96, Laura, Endereço: Chácara de Jesus, 51>,\n",
       " <Pessoa: 625ff67341ea72815561066a, 859.671.230-59, Pedro Lucas, Endereço: Loteamento Noah da Rosa, 51>,\n",
       " <Pessoa: 625ff67341ea72815561066b, 504.763.891-00, Amanda, Endereço: Jardim Ana Luiza Vieira, 37>,\n",
       " <Pessoa: 625ff67341ea72815561066c, 207.913.568-68, Ana Luiza, Endereço: Ladeira Heitor da Cruz, 72>,\n",
       " <Pessoa: 625ff67341ea72815561066d, 084.152.639-70, André, Endereço: Campo João Vitor Moraes, 39>,\n",
       " <Pessoa: 625ff67341ea72815561066e, 829.465.713-19, Vinicius, Endereço: Chácara Pinto, 8>,\n",
       " <Pessoa: 625ff67341ea72815561066f, 140.952.763-80, Rafael, Endereço: Conjunto de Rocha, 37>]"
      ]
     },
     "execution_count": 13,
     "metadata": {},
     "output_type": "execute_result"
    }
   ],
   "source": [
    "# inserindo todos os outros documentos\n",
    "Pessoa.objects.insert(lista_pessoas[1:])"
   ]
  },
  {
   "cell_type": "markdown",
   "id": "eb1e708f",
   "metadata": {},
   "source": [
    "## Recuperando os documentos inseridos"
   ]
  },
  {
   "cell_type": "markdown",
   "id": "4d3c61ec",
   "metadata": {},
   "source": [
    "#### Recuperar todos"
   ]
  },
  {
   "cell_type": "code",
   "execution_count": 14,
   "id": "36d993f5",
   "metadata": {},
   "outputs": [
    {
     "name": "stdout",
     "output_type": "stream",
     "text": [
      "ObjectId('625ff64041ea728155610666')\n",
      "ObjectId('625ff67341ea728155610667')\n",
      "ObjectId('625ff67341ea728155610668')\n",
      "ObjectId('625ff67341ea728155610669')\n",
      "ObjectId('625ff67341ea72815561066a')\n",
      "ObjectId('625ff67341ea72815561066b')\n",
      "ObjectId('625ff67341ea72815561066c')\n",
      "ObjectId('625ff67341ea72815561066d')\n",
      "ObjectId('625ff67341ea72815561066e')\n",
      "ObjectId('625ff67341ea72815561066f')\n"
     ]
    }
   ],
   "source": [
    "for p in Pessoa.objects:\n",
    "    pp.pprint(p.id)"
   ]
  },
  {
   "cell_type": "code",
   "execution_count": 15,
   "id": "ead155d5",
   "metadata": {},
   "outputs": [
    {
     "name": "stdout",
     "output_type": "stream",
     "text": [
      "<Pessoa: 625ff64041ea728155610666, 901.456.327-25, Júlia, Endereço: Avenida de Gonçalves, 86>\n"
     ]
    }
   ],
   "source": [
    "pessoa = Pessoa.objects.first()\n",
    "pp.pprint(pessoa)"
   ]
  },
  {
   "cell_type": "code",
   "execution_count": 16,
   "id": "7987ce5a",
   "metadata": {},
   "outputs": [],
   "source": [
    "pessoa.delete()"
   ]
  },
  {
   "cell_type": "code",
   "execution_count": 17,
   "id": "87cee784",
   "metadata": {},
   "outputs": [
    {
     "data": {
      "text/plain": [
       "[]"
      ]
     },
     "execution_count": 17,
     "metadata": {},
     "output_type": "execute_result"
    }
   ],
   "source": [
    "Pessoa.objects(id='625f455401e31f0f776785f0')"
   ]
  },
  {
   "cell_type": "code",
   "execution_count": null,
   "id": "8308e070",
   "metadata": {},
   "outputs": [],
   "source": []
  }
 ],
 "metadata": {
  "kernelspec": {
   "display_name": "Python 3 (ipykernel)",
   "language": "python",
   "name": "python3"
  },
  "language_info": {
   "codemirror_mode": {
    "name": "ipython",
    "version": 3
   },
   "file_extension": ".py",
   "mimetype": "text/x-python",
   "name": "python",
   "nbconvert_exporter": "python",
   "pygments_lexer": "ipython3",
   "version": "3.9.7"
  }
 },
 "nbformat": 4,
 "nbformat_minor": 5
}
