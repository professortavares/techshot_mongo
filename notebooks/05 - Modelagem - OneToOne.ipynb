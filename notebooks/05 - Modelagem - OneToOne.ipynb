{
 "cells": [
  {
   "cell_type": "markdown",
   "id": "d65f76bd",
   "metadata": {},
   "source": [
    "# Notebook responsável por alguns aspectos de modelagem OneToOne / OneToFew Embedding (usando MongoEngine)"
   ]
  },
  {
   "cell_type": "markdown",
   "id": "d7d2da3b",
   "metadata": {},
   "source": [
    "## Bibliotecas importantes"
   ]
  },
  {
   "cell_type": "code",
   "execution_count": null,
   "id": "f0fb9fd7",
   "metadata": {},
   "outputs": [],
   "source": [
    "from mongoengine import *\n",
    "import pprint\n",
    "import numpy as np\n",
    "import pandas as pd\n",
    "import unidecode\n",
    "\n",
    "# para geração de dados fake\n",
    "from faker import Faker\n"
   ]
  },
  {
   "cell_type": "markdown",
   "id": "3a233703",
   "metadata": {},
   "source": [
    "## Classes úteis"
   ]
  },
  {
   "cell_type": "code",
   "execution_count": null,
   "id": "0b71aa64",
   "metadata": {},
   "outputs": [],
   "source": [
    "class Endereco (EmbeddedDocument):\n",
    "    logradouro = StringField(max_length=200, required=True)\n",
    "    numero = StringField(max_length=10, required=True)\n",
    "    bairro = StringField(max_length=50, required=True)\n",
    "    cidade = StringField(max_length=200, required=True)\n",
    "    uf = StringField(max_length=50, required=True)\n",
    "    cep = StringField(max_length=10, required=True)\n",
    "    \n",
    "class Pessoa (Document):\n",
    "    cpf = StringField(max_length=20, required=True)\n",
    "    primeiro_nome = StringField(max_length=200, required=True)\n",
    "    ultimo_nome = StringField(max_length=400, required=True)\n",
    "    idade = IntField(min_value=0, max_value=120, required=True)\n",
    "    data_nascimento = StringField(max_length=20, required=True)\n",
    "    email = EmailField(max_length=50)\n",
    "    telefones = ListField(StringField(max_length=50), max_length=4)\n",
    "    formacoes = ListField(StringField(max_length=50), max_length=4)\n",
    "    \n",
    "    # Referência (linking) para um objeto da classe pessoa\n",
    "    endereco = EmbeddedDocumentField(Endereco)"
   ]
  },
  {
   "cell_type": "markdown",
   "id": "4dfe91a8",
   "metadata": {},
   "source": [
    "## Funções uteis"
   ]
  },
  {
   "cell_type": "code",
   "execution_count": null,
   "id": "ea741f12",
   "metadata": {},
   "outputs": [],
   "source": [
    "def criar_endereco():\n",
    "    endereco = Endereco()\n",
    "    \n",
    "    endereco.logradouro = fake.street_name()\n",
    "    endereco.numero = fake.building_number()\n",
    "    endereco.bairro = fake.bairro()\n",
    "    endereco.cidade = fake.city()\n",
    "    endereco.uf = fake.administrative_unit()\n",
    "    endereco.cep = fake.postcode()\n",
    "\n",
    "    return endereco"
   ]
  },
  {
   "cell_type": "code",
   "execution_count": null,
   "id": "cedde46c",
   "metadata": {},
   "outputs": [],
   "source": [
    "def criar_pessoa():\n",
    "    \n",
    "    pessoa = Pessoa()\n",
    "    pessoa.primeiro_nome = fake.first_name()\n",
    "    pessoa.ultimo_nome = fake.last_name()\n",
    "    pessoa.idade = np.random.randint(18, 50)\n",
    "    pessoa.cpf = fake.cpf()\n",
    "    pessoa.data_nascimento = fake.date()\n",
    "    pessoa.email = f'{unidecode.unidecode(pessoa.primeiro_nome.lower())}.\\\n",
    "                     {unidecode.unidecode(pessoa.ultimo_nome.lower())}@{fake.free_email_domain()}'\n",
    "    \n",
    "    # criando os telefones\n",
    "    telefones = []\n",
    "    n = np.random.randint(1, 4)\n",
    "    for i in range(n):\n",
    "        telefones.append(fake.msisdn())\n",
    "    pessoa.telefones=telefones\n",
    "    \n",
    "    # criando as formações\n",
    "    formacoes = []\n",
    "    n = np.random.randint(1, 4)\n",
    "    for i in range(n):\n",
    "        formacoes.append(fake.job())\n",
    "    pessoa.formacoes=formacoes\n",
    "    \n",
    "    pessoa.endereco = criar_endereco()\n",
    "    \n",
    "    return pessoa"
   ]
  },
  {
   "cell_type": "markdown",
   "id": "648352cd",
   "metadata": {},
   "source": [
    "## Configurações"
   ]
  },
  {
   "cell_type": "code",
   "execution_count": null,
   "id": "332b9e9b",
   "metadata": {},
   "outputs": [],
   "source": [
    "pp = pprint.PrettyPrinter(compact=True)\n",
    "# gerando dados fictícios em português do Brasil\n",
    "fake = Faker(['pt_BR'])"
   ]
  },
  {
   "cell_type": "markdown",
   "id": "55a2771b",
   "metadata": {},
   "source": [
    "## Inserção de vários documentos"
   ]
  },
  {
   "cell_type": "markdown",
   "id": "9d0204f1",
   "metadata": {},
   "source": [
    "### Conectando ao MongoDB"
   ]
  },
  {
   "cell_type": "code",
   "execution_count": null,
   "id": "fc8b60e3",
   "metadata": {},
   "outputs": [],
   "source": [
    "connect('onetoone_embedding')"
   ]
  },
  {
   "cell_type": "markdown",
   "id": "7b551e88",
   "metadata": {},
   "source": [
    "### Exemplo - Criação de vários documentos compostos"
   ]
  },
  {
   "cell_type": "code",
   "execution_count": null,
   "id": "5450a862",
   "metadata": {},
   "outputs": [],
   "source": [
    "lista_pessoas = []\n",
    "\n",
    "for i in range(10):\n",
    "    lista_pessoas.append(criar_pessoa())\n",
    "    \n",
    "pp.pprint(lista_pessoas)"
   ]
  },
  {
   "cell_type": "code",
   "execution_count": null,
   "id": "7036ac60-5979-4445-a5fd-54bf39925482",
   "metadata": {},
   "outputs": [],
   "source": [
    "pp.pprint(lista_pessoas[0].pk)"
   ]
  },
  {
   "cell_type": "markdown",
   "id": "e22f2eab",
   "metadata": {},
   "source": [
    "### Inserindo os documentos no banco de dados"
   ]
  },
  {
   "cell_type": "code",
   "execution_count": null,
   "id": "2c048809",
   "metadata": {},
   "outputs": [],
   "source": [
    "# inserindo 1 documento apenas\n",
    "lista_pessoas[0].save()"
   ]
  },
  {
   "cell_type": "code",
   "execution_count": null,
   "id": "8e269e5c-3aae-4180-84c6-f0d89d8a8dd7",
   "metadata": {},
   "outputs": [],
   "source": [
    "# inserindo todos os outros documentos\n",
    "Pessoa.objects.insert(lista_pessoas[1:])"
   ]
  },
  {
   "cell_type": "markdown",
   "id": "eb1e708f",
   "metadata": {},
   "source": [
    "## Recuperando os documentos inseridos"
   ]
  },
  {
   "cell_type": "markdown",
   "id": "4d3c61ec",
   "metadata": {},
   "source": [
    "#### Recuperar todos"
   ]
  },
  {
   "cell_type": "code",
   "execution_count": null,
   "id": "36d993f5",
   "metadata": {},
   "outputs": [],
   "source": [
    "for p in Pessoa.objects:\n",
    "    pp.pprint(p.id)"
   ]
  },
  {
   "cell_type": "code",
   "execution_count": null,
   "id": "ead155d5",
   "metadata": {},
   "outputs": [],
   "source": []
  }
 ],
 "metadata": {
  "kernelspec": {
   "display_name": "Python 3 (ipykernel)",
   "language": "python",
   "name": "python3"
  },
  "language_info": {
   "codemirror_mode": {
    "name": "ipython",
    "version": 3
   },
   "file_extension": ".py",
   "mimetype": "text/x-python",
   "name": "python",
   "nbconvert_exporter": "python",
   "pygments_lexer": "ipython3",
   "version": "3.9.7"
  }
 },
 "nbformat": 4,
 "nbformat_minor": 5
}
