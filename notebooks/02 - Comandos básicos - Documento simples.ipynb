{
 "cells": [
  {
   "cell_type": "markdown",
   "id": "c86a9c61",
   "metadata": {},
   "source": [
    "# Notebook responsável por apresentar os comandos básicos para manipulação de dados no mongo\n",
    "\n",
    "## Crud com apenas 1 documento\n",
    "- Inserir 1 documento **simples**\n",
    "- Recuperar 1 documento **simples**\n",
    "- Atualizar 1 documento **simples**\n",
    "- Excluir 1 documento **simples**"
   ]
  },
  {
   "cell_type": "markdown",
   "id": "afdce785",
   "metadata": {},
   "source": [
    "## Bibliotecas importantes"
   ]
  },
  {
   "cell_type": "code",
   "execution_count": null,
   "id": "b33cbc8f",
   "metadata": {},
   "outputs": [],
   "source": [
    "from pymongo import MongoClient\n",
    "import pprint\n",
    "import numpy as np\n",
    "import pandas as pd\n",
    "\n",
    "# para geração de dados fake\n",
    "from faker import Faker\n"
   ]
  },
  {
   "cell_type": "markdown",
   "id": "3c6d2727",
   "metadata": {},
   "source": [
    "## Funções uteis"
   ]
  },
  {
   "cell_type": "code",
   "execution_count": null,
   "id": "8b2b8ad5",
   "metadata": {},
   "outputs": [],
   "source": [
    "def criar_pessoa():\n",
    "    primeiro_nome = fake.first_name()\n",
    "    ultimo_nome = fake.last_name()\n",
    "    \n",
    "    idade = np.random.randint(10, 30)\n",
    "    \n",
    "    pessoa = {\n",
    "        'cpf': fake.cpf(),\n",
    "        'nome': f'{primeiro_nome} {ultimo_nome}' ,\n",
    "        'idade': idade ,\n",
    "    }        \n",
    "    pessoa['email']= f'{primeiro_nome.lower()}.{ultimo_nome.lower()}@{fake.free_email_domain()}'\n",
    "    \n",
    "    return pessoa"
   ]
  },
  {
   "cell_type": "markdown",
   "id": "3ed80382",
   "metadata": {},
   "source": [
    "## Configurações"
   ]
  },
  {
   "cell_type": "code",
   "execution_count": null,
   "id": "166ff965",
   "metadata": {},
   "outputs": [],
   "source": [
    "pp = pprint.PrettyPrinter(compact=True)\n",
    "# gerando dados fictícios em português do Brasil\n",
    "fake = Faker(['pt_BR'])"
   ]
  },
  {
   "cell_type": "markdown",
   "id": "60760a19",
   "metadata": {},
   "source": [
    "## Inserção de 1 documento"
   ]
  },
  {
   "cell_type": "markdown",
   "id": "fad4315b",
   "metadata": {},
   "source": [
    "### Conectando ao MongoDB"
   ]
  },
  {
   "cell_type": "code",
   "execution_count": null,
   "id": "b7c5aefb",
   "metadata": {},
   "outputs": [],
   "source": [
    "client = MongoClient('localhost', 27017)\n",
    "# Se a base de dados não existir, ela é criada automagicamente :-)\n",
    "db = client['techshot_mongo01']"
   ]
  },
  {
   "cell_type": "markdown",
   "id": "e0de4e12",
   "metadata": {},
   "source": [
    "### Exemplo - Criação de um documento simples"
   ]
  },
  {
   "cell_type": "code",
   "execution_count": null,
   "id": "7d3f6433",
   "metadata": {},
   "outputs": [],
   "source": [
    "pessoa = criar_pessoa()\n",
    "pp.pprint(pessoa)"
   ]
  },
  {
   "cell_type": "code",
   "execution_count": null,
   "id": "3dc3dc9d",
   "metadata": {},
   "outputs": [],
   "source": [
    "pd.DataFrame.from_records([pessoa])"
   ]
  },
  {
   "cell_type": "markdown",
   "id": "6f62183d",
   "metadata": {},
   "source": [
    "### Inserindo o documento no banco de dados"
   ]
  },
  {
   "cell_type": "code",
   "execution_count": null,
   "id": "a243cee0",
   "metadata": {},
   "outputs": [],
   "source": [
    "# se a coleção não existir, ela é criada automagicamente :-)\n",
    "colecao_pessoa = db['pessoas']\n",
    "pessoa_id = colecao_pessoa.insert_one(pessoa).inserted_id\n",
    "pessoa_id"
   ]
  },
  {
   "cell_type": "markdown",
   "id": "2dcd5855",
   "metadata": {},
   "source": [
    "## Recuperando o documento inserido"
   ]
  },
  {
   "cell_type": "markdown",
   "id": "5d89a454",
   "metadata": {},
   "source": [
    "#### Recuperar pelo ID"
   ]
  },
  {
   "cell_type": "code",
   "execution_count": null,
   "id": "19b1e49d",
   "metadata": {},
   "outputs": [],
   "source": [
    "p = colecao_pessoa.find_one({\"_id\":pessoa_id})\n",
    "pp.pprint(p)"
   ]
  },
  {
   "cell_type": "markdown",
   "id": "0b744157",
   "metadata": {},
   "source": [
    "#### Recuperando por algum outro atributo"
   ]
  },
  {
   "cell_type": "code",
   "execution_count": null,
   "id": "9c54be5b",
   "metadata": {},
   "outputs": [],
   "source": [
    "criterio = {\n",
    "    'idade': {'$eq':pessoa['idade']}\n",
    "}\n",
    "pp.pprint(criterio)\n"
   ]
  },
  {
   "cell_type": "code",
   "execution_count": null,
   "id": "a27497b5",
   "metadata": {
    "scrolled": true
   },
   "outputs": [],
   "source": [
    "p = colecao_pessoa.find_one(criterio)\n",
    "pp.pprint(p)"
   ]
  },
  {
   "cell_type": "markdown",
   "id": "6a2756db",
   "metadata": {},
   "source": [
    "#### Recuperando por algum outro atributo"
   ]
  },
  {
   "cell_type": "code",
   "execution_count": null,
   "id": "fa38f796",
   "metadata": {},
   "outputs": [],
   "source": [
    "criterio = {\n",
    "    'nome': {'$eq':pessoa['nome']}\n",
    "}\n",
    "pp.pprint(criterio)\n"
   ]
  },
  {
   "cell_type": "code",
   "execution_count": null,
   "id": "c5fea27c",
   "metadata": {
    "scrolled": true
   },
   "outputs": [],
   "source": [
    "p = colecao_pessoa.find_one(criterio)\n",
    "pp.pprint(p)"
   ]
  },
  {
   "cell_type": "code",
   "execution_count": null,
   "id": "6903ae44",
   "metadata": {},
   "outputs": [],
   "source": [
    "criterio = {\n",
    "    'nome': {'$eq':'nome_estranho_que_não_será_criado'}\n",
    "}\n",
    "pp.pprint(criterio)"
   ]
  },
  {
   "cell_type": "code",
   "execution_count": null,
   "id": "aba598ce",
   "metadata": {},
   "outputs": [],
   "source": [
    "p = colecao_pessoa.find_one(criterio)\n",
    "p, type(p)"
   ]
  },
  {
   "cell_type": "markdown",
   "id": "dbbb6a54",
   "metadata": {},
   "source": [
    "## Atualizar o documento"
   ]
  },
  {
   "cell_type": "code",
   "execution_count": null,
   "id": "01e7d09d",
   "metadata": {},
   "outputs": [],
   "source": [
    "criterio = {\n",
    "    \"_id\":pessoa_id}\n",
    "\n",
    "novo_valor = {\n",
    "    \"$set\": { \"idade\": 50 }\n",
    "}\n",
    "pp.pprint(novo_valor)\n"
   ]
  },
  {
   "cell_type": "code",
   "execution_count": null,
   "id": "3dafa1de",
   "metadata": {},
   "outputs": [],
   "source": [
    "r = colecao_pessoa.update_one(criterio, novo_valor)\n",
    "r"
   ]
  },
  {
   "cell_type": "code",
   "execution_count": null,
   "id": "e1738f79",
   "metadata": {},
   "outputs": [],
   "source": [
    "# ref.: https://pymongo.readthedocs.io/en/stable/api/pymongo/results.html\n",
    "r.matched_count"
   ]
  },
  {
   "cell_type": "code",
   "execution_count": null,
   "id": "344b840f",
   "metadata": {},
   "outputs": [],
   "source": [
    "r.modified_count"
   ]
  },
  {
   "cell_type": "code",
   "execution_count": null,
   "id": "01f75b26",
   "metadata": {},
   "outputs": [],
   "source": [
    "r.raw_result"
   ]
  },
  {
   "cell_type": "code",
   "execution_count": null,
   "id": "21c7b763",
   "metadata": {},
   "outputs": [],
   "source": [
    "r.upserted_id"
   ]
  },
  {
   "cell_type": "code",
   "execution_count": null,
   "id": "7343bcef",
   "metadata": {},
   "outputs": [],
   "source": [
    "p = colecao_pessoa.find_one({\"_id\":pessoa_id})\n",
    "pp.pprint(p)"
   ]
  },
  {
   "cell_type": "markdown",
   "id": "e6e2f86b",
   "metadata": {},
   "source": [
    "## Atualizar o documento (que não existe)"
   ]
  },
  {
   "cell_type": "code",
   "execution_count": null,
   "id": "f8fd7d3c",
   "metadata": {},
   "outputs": [],
   "source": [
    "criterio = {\n",
    "    \"_id\":'123'}\n",
    "\n",
    "novo_valor = {\n",
    "    \"$set\": { \"idade\": 50 }\n",
    "}\n",
    "pp.pprint(novo_valor)"
   ]
  },
  {
   "cell_type": "code",
   "execution_count": null,
   "id": "9c7e769e",
   "metadata": {},
   "outputs": [],
   "source": [
    "r = colecao_pessoa.update_one(criterio, novo_valor)\n",
    "r"
   ]
  },
  {
   "cell_type": "code",
   "execution_count": null,
   "id": "307cc00e",
   "metadata": {},
   "outputs": [],
   "source": [
    "r.matched_count"
   ]
  },
  {
   "cell_type": "code",
   "execution_count": null,
   "id": "a9293ce1",
   "metadata": {},
   "outputs": [],
   "source": [
    "r.modified_count"
   ]
  },
  {
   "cell_type": "code",
   "execution_count": null,
   "id": "4d6f8fd0",
   "metadata": {},
   "outputs": [],
   "source": [
    "r.raw_result"
   ]
  },
  {
   "cell_type": "code",
   "execution_count": null,
   "id": "20cef373",
   "metadata": {},
   "outputs": [],
   "source": [
    "r = colecao_pessoa.update_one(criterio, novo_valor, upsert=True)\n",
    "r"
   ]
  },
  {
   "cell_type": "code",
   "execution_count": null,
   "id": "97018e06",
   "metadata": {},
   "outputs": [],
   "source": [
    "r.raw_result"
   ]
  },
  {
   "cell_type": "code",
   "execution_count": null,
   "id": "ba9c522f",
   "metadata": {},
   "outputs": [],
   "source": [
    "r.upserted_id"
   ]
  },
  {
   "cell_type": "code",
   "execution_count": null,
   "id": "3f22ae7a",
   "metadata": {},
   "outputs": [],
   "source": [
    "p = colecao_pessoa.find_one({\"_id\":r.upserted_id})\n",
    "pp.pprint(p)"
   ]
  },
  {
   "cell_type": "markdown",
   "id": "72c21ba3",
   "metadata": {},
   "source": [
    "## Remover o documento"
   ]
  },
  {
   "cell_type": "code",
   "execution_count": null,
   "id": "fe4cae3d",
   "metadata": {},
   "outputs": [],
   "source": [
    "criterio = {\n",
    "    \"_id\":pessoa_id}\n",
    "pp.pprint(criterio)"
   ]
  },
  {
   "cell_type": "code",
   "execution_count": null,
   "id": "c348ccd1",
   "metadata": {},
   "outputs": [],
   "source": [
    "r = colecao_pessoa.delete_one(criterio)"
   ]
  },
  {
   "cell_type": "code",
   "execution_count": null,
   "id": "8e4714f8",
   "metadata": {},
   "outputs": [],
   "source": [
    "r.raw_result"
   ]
  },
  {
   "cell_type": "code",
   "execution_count": null,
   "id": "5bae9a5a",
   "metadata": {},
   "outputs": [],
   "source": [
    "p = colecao_pessoa.find_one({\"_id\":pessoa_id})\n",
    "pp.pprint(p)"
   ]
  }
 ],
 "metadata": {
  "kernelspec": {
   "display_name": "Python 3 (ipykernel)",
   "language": "python",
   "name": "python3"
  },
  "language_info": {
   "codemirror_mode": {
    "name": "ipython",
    "version": 3
   },
   "file_extension": ".py",
   "mimetype": "text/x-python",
   "name": "python",
   "nbconvert_exporter": "python",
   "pygments_lexer": "ipython3",
   "version": "3.9.7"
  }
 },
 "nbformat": 4,
 "nbformat_minor": 5
}
