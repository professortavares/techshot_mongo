{
 "cells": [
  {
   "cell_type": "markdown",
   "id": "c86a9c61",
   "metadata": {},
   "source": [
    "# Notebook responsável por apresentar os comandos básicos para manipulação de dados no mongo\n",
    "\n",
    "## Crud com apenas 1 documento\n",
    "- Inserir 1 documento **simples**\n",
    "- Recuperar 1 documento **simples**\n",
    "- Atualizar 1 documento **simples**\n",
    "- Excluir 1 documento **simples**"
   ]
  },
  {
   "cell_type": "markdown",
   "id": "afdce785",
   "metadata": {},
   "source": [
    "## Bibliotecas importantes"
   ]
  },
  {
   "cell_type": "code",
   "execution_count": 1,
   "id": "b33cbc8f",
   "metadata": {},
   "outputs": [],
   "source": [
    "from pymongo import MongoClient\n",
    "import pprint\n",
    "import numpy as np\n",
    "import pandas as pd\n",
    "\n",
    "# para geração de dados fake\n",
    "from faker import Faker\n"
   ]
  },
  {
   "cell_type": "markdown",
   "id": "3c6d2727",
   "metadata": {},
   "source": [
    "## Funções uteis"
   ]
  },
  {
   "cell_type": "code",
   "execution_count": 2,
   "id": "8b2b8ad5",
   "metadata": {},
   "outputs": [],
   "source": [
    "def criar_pessoa():\n",
    "    primeiro_nome = fake.first_name()\n",
    "    ultimo_nome = fake.last_name()\n",
    "    \n",
    "    idade = np.random.randint(10, 30)\n",
    "    \n",
    "    pessoa = {\n",
    "        'cpf': fake.cpf(),\n",
    "        'nome': f'{primeiro_nome} {ultimo_nome}' ,\n",
    "        'idade': idade ,\n",
    "    }        \n",
    "    pessoa['email']= f'{primeiro_nome.lower()}.{ultimo_nome.lower()}@{fake.free_email_domain()}'\n",
    "    \n",
    "    return pessoa"
   ]
  },
  {
   "cell_type": "markdown",
   "id": "3ed80382",
   "metadata": {},
   "source": [
    "## Configurações"
   ]
  },
  {
   "cell_type": "code",
   "execution_count": 3,
   "id": "166ff965",
   "metadata": {},
   "outputs": [],
   "source": [
    "pp = pprint.PrettyPrinter(compact=True)\n",
    "# gerando dados fictícios em português do Brasil\n",
    "fake = Faker(['pt_BR'])"
   ]
  },
  {
   "cell_type": "markdown",
   "id": "60760a19",
   "metadata": {},
   "source": [
    "## Inserção de 1 documento"
   ]
  },
  {
   "cell_type": "markdown",
   "id": "fad4315b",
   "metadata": {},
   "source": [
    "### Conectando ao MongoDB"
   ]
  },
  {
   "cell_type": "code",
   "execution_count": 4,
   "id": "b7c5aefb",
   "metadata": {},
   "outputs": [],
   "source": [
    "client = MongoClient('localhost', 27017)\n",
    "# Se a base de dados não existir, ela é criada automagicamente :-)\n",
    "db = client['techshot_mongo01']"
   ]
  },
  {
   "cell_type": "markdown",
   "id": "e0de4e12",
   "metadata": {},
   "source": [
    "### Exemplo - Criação de um documento simples"
   ]
  },
  {
   "cell_type": "code",
   "execution_count": 5,
   "id": "7d3f6433",
   "metadata": {},
   "outputs": [
    {
     "name": "stdout",
     "output_type": "stream",
     "text": [
      "{'cpf': '630.429.875-74',\n",
      " 'email': 'maria clara.teixeira@hotmail.com',\n",
      " 'idade': 28,\n",
      " 'nome': 'Maria Clara Teixeira'}\n"
     ]
    }
   ],
   "source": [
    "pessoa = criar_pessoa()\n",
    "pp.pprint(pessoa)"
   ]
  },
  {
   "cell_type": "code",
   "execution_count": 6,
   "id": "3dc3dc9d",
   "metadata": {},
   "outputs": [
    {
     "data": {
      "text/html": [
       "<div>\n",
       "<style scoped>\n",
       "    .dataframe tbody tr th:only-of-type {\n",
       "        vertical-align: middle;\n",
       "    }\n",
       "\n",
       "    .dataframe tbody tr th {\n",
       "        vertical-align: top;\n",
       "    }\n",
       "\n",
       "    .dataframe thead th {\n",
       "        text-align: right;\n",
       "    }\n",
       "</style>\n",
       "<table border=\"1\" class=\"dataframe\">\n",
       "  <thead>\n",
       "    <tr style=\"text-align: right;\">\n",
       "      <th></th>\n",
       "      <th>cpf</th>\n",
       "      <th>nome</th>\n",
       "      <th>idade</th>\n",
       "      <th>email</th>\n",
       "    </tr>\n",
       "  </thead>\n",
       "  <tbody>\n",
       "    <tr>\n",
       "      <th>0</th>\n",
       "      <td>630.429.875-74</td>\n",
       "      <td>Maria Clara Teixeira</td>\n",
       "      <td>28</td>\n",
       "      <td>maria clara.teixeira@hotmail.com</td>\n",
       "    </tr>\n",
       "  </tbody>\n",
       "</table>\n",
       "</div>"
      ],
      "text/plain": [
       "              cpf                  nome  idade  \\\n",
       "0  630.429.875-74  Maria Clara Teixeira     28   \n",
       "\n",
       "                              email  \n",
       "0  maria clara.teixeira@hotmail.com  "
      ]
     },
     "execution_count": 6,
     "metadata": {},
     "output_type": "execute_result"
    }
   ],
   "source": [
    "pd.DataFrame.from_records([pessoa])"
   ]
  },
  {
   "cell_type": "markdown",
   "id": "6f62183d",
   "metadata": {},
   "source": [
    "### Inserindo o documento no banco de dados"
   ]
  },
  {
   "cell_type": "code",
   "execution_count": 7,
   "id": "a243cee0",
   "metadata": {},
   "outputs": [
    {
     "data": {
      "text/plain": [
       "ObjectId('625fee0298615463b5756e43')"
      ]
     },
     "execution_count": 7,
     "metadata": {},
     "output_type": "execute_result"
    }
   ],
   "source": [
    "# se a coleção não existir, ela é criada automagicamente :-)\n",
    "colecao_pessoa = db['pessoas']\n",
    "pessoa_id = colecao_pessoa.insert_one(pessoa).inserted_id\n",
    "pessoa_id"
   ]
  },
  {
   "cell_type": "markdown",
   "id": "2dcd5855",
   "metadata": {},
   "source": [
    "## Recuperando o documento inserido"
   ]
  },
  {
   "cell_type": "markdown",
   "id": "5d89a454",
   "metadata": {},
   "source": [
    "#### Recuperar pelo ID"
   ]
  },
  {
   "cell_type": "code",
   "execution_count": 8,
   "id": "19b1e49d",
   "metadata": {},
   "outputs": [
    {
     "name": "stdout",
     "output_type": "stream",
     "text": [
      "{'_id': ObjectId('625fee0298615463b5756e43'),\n",
      " 'cpf': '630.429.875-74',\n",
      " 'email': 'maria clara.teixeira@hotmail.com',\n",
      " 'idade': 28,\n",
      " 'nome': 'Maria Clara Teixeira'}\n"
     ]
    }
   ],
   "source": [
    "p = colecao_pessoa.find_one({\"_id\":pessoa_id})\n",
    "pp.pprint(p)"
   ]
  },
  {
   "cell_type": "markdown",
   "id": "0b744157",
   "metadata": {},
   "source": [
    "#### Recuperando por algum outro atributo"
   ]
  },
  {
   "cell_type": "code",
   "execution_count": 10,
   "id": "9c54be5b",
   "metadata": {},
   "outputs": [
    {
     "name": "stdout",
     "output_type": "stream",
     "text": [
      "{'idade': {'$eq': 28}}\n"
     ]
    }
   ],
   "source": [
    "criterio = {\n",
    "    'idade': {'$eq':pessoa['idade']}\n",
    "}\n",
    "pp.pprint(criterio)\n"
   ]
  },
  {
   "cell_type": "code",
   "execution_count": 11,
   "id": "a27497b5",
   "metadata": {
    "scrolled": true
   },
   "outputs": [
    {
     "name": "stdout",
     "output_type": "stream",
     "text": [
      "{'_id': ObjectId('625fee0298615463b5756e43'),\n",
      " 'cpf': '630.429.875-74',\n",
      " 'email': 'maria clara.teixeira@hotmail.com',\n",
      " 'idade': 28,\n",
      " 'nome': 'Maria Clara Teixeira'}\n"
     ]
    }
   ],
   "source": [
    "p = colecao_pessoa.find_one(criterio)\n",
    "pp.pprint(p)"
   ]
  },
  {
   "cell_type": "markdown",
   "id": "6a2756db",
   "metadata": {},
   "source": [
    "#### Recuperando por algum outro atributo"
   ]
  },
  {
   "cell_type": "code",
   "execution_count": 12,
   "id": "fa38f796",
   "metadata": {},
   "outputs": [
    {
     "name": "stdout",
     "output_type": "stream",
     "text": [
      "{'nome': {'$eq': 'Maria Clara Teixeira'}}\n"
     ]
    }
   ],
   "source": [
    "criterio = {\n",
    "    'nome': {'$eq':pessoa['nome']}\n",
    "}\n",
    "pp.pprint(criterio)\n"
   ]
  },
  {
   "cell_type": "code",
   "execution_count": 13,
   "id": "c5fea27c",
   "metadata": {
    "scrolled": true
   },
   "outputs": [
    {
     "name": "stdout",
     "output_type": "stream",
     "text": [
      "{'_id': ObjectId('625fee0298615463b5756e43'),\n",
      " 'cpf': '630.429.875-74',\n",
      " 'email': 'maria clara.teixeira@hotmail.com',\n",
      " 'idade': 28,\n",
      " 'nome': 'Maria Clara Teixeira'}\n"
     ]
    }
   ],
   "source": [
    "p = colecao_pessoa.find_one(criterio)\n",
    "pp.pprint(p)"
   ]
  },
  {
   "cell_type": "code",
   "execution_count": 14,
   "id": "6903ae44",
   "metadata": {},
   "outputs": [
    {
     "name": "stdout",
     "output_type": "stream",
     "text": [
      "{'nome': {'$eq': 'nome_estranho_que_não_será_criado'}}\n"
     ]
    }
   ],
   "source": [
    "criterio = {\n",
    "    'nome': {'$eq':'nome_estranho_que_não_será_criado'}\n",
    "}\n",
    "pp.pprint(criterio)"
   ]
  },
  {
   "cell_type": "code",
   "execution_count": 15,
   "id": "aba598ce",
   "metadata": {},
   "outputs": [
    {
     "data": {
      "text/plain": [
       "(None, NoneType)"
      ]
     },
     "execution_count": 15,
     "metadata": {},
     "output_type": "execute_result"
    }
   ],
   "source": [
    "p = colecao_pessoa.find_one(criterio)\n",
    "p, type(p)"
   ]
  },
  {
   "cell_type": "markdown",
   "id": "dbbb6a54",
   "metadata": {},
   "source": [
    "## Atualizar o documento"
   ]
  },
  {
   "cell_type": "code",
   "execution_count": 16,
   "id": "01e7d09d",
   "metadata": {},
   "outputs": [
    {
     "name": "stdout",
     "output_type": "stream",
     "text": [
      "{'$set': {'idade': 50}}\n"
     ]
    }
   ],
   "source": [
    "criterio = {\n",
    "    \"_id\":pessoa_id}\n",
    "\n",
    "novo_valor = {\n",
    "    \"$set\": { \"idade\": 50 }\n",
    "}\n",
    "pp.pprint(novo_valor)\n"
   ]
  },
  {
   "cell_type": "code",
   "execution_count": 17,
   "id": "3dafa1de",
   "metadata": {},
   "outputs": [
    {
     "data": {
      "text/plain": [
       "<pymongo.results.UpdateResult at 0x7f890c6c4eb0>"
      ]
     },
     "execution_count": 17,
     "metadata": {},
     "output_type": "execute_result"
    }
   ],
   "source": [
    "r = colecao_pessoa.update_one(criterio, novo_valor)\n",
    "r"
   ]
  },
  {
   "cell_type": "code",
   "execution_count": 18,
   "id": "e1738f79",
   "metadata": {},
   "outputs": [
    {
     "data": {
      "text/plain": [
       "1"
      ]
     },
     "execution_count": 18,
     "metadata": {},
     "output_type": "execute_result"
    }
   ],
   "source": [
    "# ref.: https://pymongo.readthedocs.io/en/stable/api/pymongo/results.html\n",
    "r.matched_count"
   ]
  },
  {
   "cell_type": "code",
   "execution_count": 19,
   "id": "344b840f",
   "metadata": {},
   "outputs": [
    {
     "data": {
      "text/plain": [
       "1"
      ]
     },
     "execution_count": 19,
     "metadata": {},
     "output_type": "execute_result"
    }
   ],
   "source": [
    "r.modified_count"
   ]
  },
  {
   "cell_type": "code",
   "execution_count": 21,
   "id": "01f75b26",
   "metadata": {},
   "outputs": [
    {
     "data": {
      "text/plain": [
       "{'n': 1, 'nModified': 1, 'ok': 1.0, 'updatedExisting': True}"
      ]
     },
     "execution_count": 21,
     "metadata": {},
     "output_type": "execute_result"
    }
   ],
   "source": [
    "r.raw_result"
   ]
  },
  {
   "cell_type": "code",
   "execution_count": 22,
   "id": "21c7b763",
   "metadata": {},
   "outputs": [],
   "source": [
    "r.upserted_id"
   ]
  },
  {
   "cell_type": "code",
   "execution_count": 24,
   "id": "7343bcef",
   "metadata": {},
   "outputs": [
    {
     "name": "stdout",
     "output_type": "stream",
     "text": [
      "{'_id': ObjectId('625fee0298615463b5756e43'),\n",
      " 'cpf': '630.429.875-74',\n",
      " 'email': 'maria clara.teixeira@hotmail.com',\n",
      " 'idade': 50,\n",
      " 'nome': 'Maria Clara Teixeira'}\n"
     ]
    }
   ],
   "source": [
    "p = colecao_pessoa.find_one({\"_id\":pessoa_id})\n",
    "pp.pprint(p)"
   ]
  },
  {
   "cell_type": "markdown",
   "id": "e6e2f86b",
   "metadata": {},
   "source": [
    "## Atualizar o documento (que não existe)"
   ]
  },
  {
   "cell_type": "code",
   "execution_count": 25,
   "id": "f8fd7d3c",
   "metadata": {},
   "outputs": [
    {
     "name": "stdout",
     "output_type": "stream",
     "text": [
      "{'$set': {'idade': 50}}\n"
     ]
    }
   ],
   "source": [
    "criterio = {\n",
    "    \"_id\":'123'}\n",
    "\n",
    "novo_valor = {\n",
    "    \"$set\": { \"idade\": 50 }\n",
    "}\n",
    "pp.pprint(novo_valor)"
   ]
  },
  {
   "cell_type": "code",
   "execution_count": 26,
   "id": "9c7e769e",
   "metadata": {},
   "outputs": [
    {
     "data": {
      "text/plain": [
       "<pymongo.results.UpdateResult at 0x7f88ce0b2640>"
      ]
     },
     "execution_count": 26,
     "metadata": {},
     "output_type": "execute_result"
    }
   ],
   "source": [
    "r = colecao_pessoa.update_one(criterio, novo_valor)\n",
    "r"
   ]
  },
  {
   "cell_type": "code",
   "execution_count": 27,
   "id": "307cc00e",
   "metadata": {},
   "outputs": [
    {
     "data": {
      "text/plain": [
       "0"
      ]
     },
     "execution_count": 27,
     "metadata": {},
     "output_type": "execute_result"
    }
   ],
   "source": [
    "r.matched_count"
   ]
  },
  {
   "cell_type": "code",
   "execution_count": 28,
   "id": "a9293ce1",
   "metadata": {},
   "outputs": [
    {
     "data": {
      "text/plain": [
       "0"
      ]
     },
     "execution_count": 28,
     "metadata": {},
     "output_type": "execute_result"
    }
   ],
   "source": [
    "r.modified_count"
   ]
  },
  {
   "cell_type": "code",
   "execution_count": 29,
   "id": "4d6f8fd0",
   "metadata": {},
   "outputs": [
    {
     "data": {
      "text/plain": [
       "{'n': 0, 'nModified': 0, 'ok': 1.0, 'updatedExisting': False}"
      ]
     },
     "execution_count": 29,
     "metadata": {},
     "output_type": "execute_result"
    }
   ],
   "source": [
    "r.raw_result"
   ]
  },
  {
   "cell_type": "code",
   "execution_count": 30,
   "id": "20cef373",
   "metadata": {},
   "outputs": [
    {
     "data": {
      "text/plain": [
       "<pymongo.results.UpdateResult at 0x7f88ce1ccd00>"
      ]
     },
     "execution_count": 30,
     "metadata": {},
     "output_type": "execute_result"
    }
   ],
   "source": [
    "r = colecao_pessoa.update_one(criterio, novo_valor, upsert=True)\n",
    "r"
   ]
  },
  {
   "cell_type": "code",
   "execution_count": 31,
   "id": "97018e06",
   "metadata": {},
   "outputs": [
    {
     "data": {
      "text/plain": [
       "{'n': 1,\n",
       " 'upserted': '123',\n",
       " 'nModified': 0,\n",
       " 'ok': 1.0,\n",
       " 'updatedExisting': False}"
      ]
     },
     "execution_count": 31,
     "metadata": {},
     "output_type": "execute_result"
    }
   ],
   "source": [
    "r.raw_result"
   ]
  },
  {
   "cell_type": "code",
   "execution_count": 32,
   "id": "ba9c522f",
   "metadata": {},
   "outputs": [
    {
     "data": {
      "text/plain": [
       "'123'"
      ]
     },
     "execution_count": 32,
     "metadata": {},
     "output_type": "execute_result"
    }
   ],
   "source": [
    "r.upserted_id"
   ]
  },
  {
   "cell_type": "code",
   "execution_count": 34,
   "id": "3f22ae7a",
   "metadata": {},
   "outputs": [
    {
     "name": "stdout",
     "output_type": "stream",
     "text": [
      "{'_id': '123', 'idade': 50}\n"
     ]
    }
   ],
   "source": [
    "p = colecao_pessoa.find_one({\"_id\":r.upserted_id})\n",
    "pp.pprint(p)"
   ]
  },
  {
   "cell_type": "markdown",
   "id": "72c21ba3",
   "metadata": {},
   "source": [
    "## Remover o documento"
   ]
  },
  {
   "cell_type": "code",
   "execution_count": 35,
   "id": "fe4cae3d",
   "metadata": {},
   "outputs": [
    {
     "name": "stdout",
     "output_type": "stream",
     "text": [
      "{'_id': ObjectId('625fee0298615463b5756e43')}\n"
     ]
    }
   ],
   "source": [
    "criterio = {\n",
    "    \"_id\":pessoa_id}\n",
    "pp.pprint(criterio)"
   ]
  },
  {
   "cell_type": "code",
   "execution_count": 36,
   "id": "c348ccd1",
   "metadata": {},
   "outputs": [],
   "source": [
    "r = colecao_pessoa.delete_one(criterio)"
   ]
  },
  {
   "cell_type": "code",
   "execution_count": 37,
   "id": "8e4714f8",
   "metadata": {},
   "outputs": [
    {
     "data": {
      "text/plain": [
       "{'n': 1, 'ok': 1.0}"
      ]
     },
     "execution_count": 37,
     "metadata": {},
     "output_type": "execute_result"
    }
   ],
   "source": [
    "r.raw_result"
   ]
  },
  {
   "cell_type": "code",
   "execution_count": 38,
   "id": "5bae9a5a",
   "metadata": {},
   "outputs": [
    {
     "name": "stdout",
     "output_type": "stream",
     "text": [
      "None\n"
     ]
    }
   ],
   "source": [
    "p = colecao_pessoa.find_one({\"_id\":pessoa_id})\n",
    "pp.pprint(p)"
   ]
  },
  {
   "cell_type": "code",
   "execution_count": null,
   "id": "3220bd83",
   "metadata": {},
   "outputs": [],
   "source": []
  }
 ],
 "metadata": {
  "kernelspec": {
   "display_name": "Python 3 (ipykernel)",
   "language": "python",
   "name": "python3"
  },
  "language_info": {
   "codemirror_mode": {
    "name": "ipython",
    "version": 3
   },
   "file_extension": ".py",
   "mimetype": "text/x-python",
   "name": "python",
   "nbconvert_exporter": "python",
   "pygments_lexer": "ipython3",
   "version": "3.9.7"
  }
 },
 "nbformat": 4,
 "nbformat_minor": 5
}
