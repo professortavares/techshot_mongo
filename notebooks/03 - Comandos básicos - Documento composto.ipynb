{
 "cells": [
  {
   "cell_type": "markdown",
   "id": "d65f76bd",
   "metadata": {},
   "source": [
    "# Notebook responsável por apresentar os comandos básicos para manipulação de dados no mongo\n",
    "\n",
    "## Crud com apenas 1 documento\n",
    "- Inserir 1 documento **composto**\n",
    "- Recuperar 1 documento **composto**\n",
    "- Atualizar 1 documento **composto**\n",
    "- Excluir 1 documento **composto**"
   ]
  },
  {
   "cell_type": "markdown",
   "id": "d7d2da3b",
   "metadata": {},
   "source": [
    "## Bibliotecas importantes"
   ]
  },
  {
   "cell_type": "code",
   "execution_count": null,
   "id": "f0fb9fd7",
   "metadata": {},
   "outputs": [],
   "source": [
    "from pymongo import MongoClient\n",
    "import pprint\n",
    "import numpy as np\n",
    "import pandas as pd\n",
    "\n",
    "# para geração de dados fake\n",
    "from faker import Faker\n"
   ]
  },
  {
   "cell_type": "markdown",
   "id": "4dfe91a8",
   "metadata": {},
   "source": [
    "## Funções uteis"
   ]
  },
  {
   "cell_type": "code",
   "execution_count": null,
   "id": "810a5839",
   "metadata": {},
   "outputs": [],
   "source": [
    "def criar_endereco():\n",
    "    return {\n",
    "        'logradouro':fake.street_name(),\n",
    "        'numero':fake.building_number(),\n",
    "        'bairro':fake.bairro(),\n",
    "        'cidade':fake.city(),\n",
    "        'uf':fake.administrative_unit(),\n",
    "        'cep':fake.postcode(),\n",
    "    }"
   ]
  },
  {
   "cell_type": "code",
   "execution_count": null,
   "id": "cedde46c",
   "metadata": {},
   "outputs": [],
   "source": [
    "def criar_pessoa():\n",
    "    primeiro_nome = fake.first_name()\n",
    "    ultimo_nome = fake.last_name()\n",
    "    \n",
    "    idade = np.random.randint(18, 50)\n",
    "    \n",
    "    pessoa = {\n",
    "        'cpf': fake.cpf(),\n",
    "        'nome': f'{primeiro_nome} {ultimo_nome}' ,\n",
    "        'idade': idade ,\n",
    "        'data_nascimento':fake.date()\n",
    "    }        \n",
    "    pessoa['email']= f'{primeiro_nome.lower()}.{ultimo_nome.lower()}@{fake.free_email_domain()}'\n",
    "    \n",
    "    pessoa['endereco'] = criar_endereco()\n",
    "\n",
    "    pessoa['telefones'] = []\n",
    "    n = np.random.randint(1, 4)\n",
    "    for i in range(n):\n",
    "        pessoa['telefones'].append(fake.msisdn())\n",
    "\n",
    "    pessoa['formacoes'] = []\n",
    "    n = np.random.randint(1, 4)\n",
    "    for i in range(n):\n",
    "        pessoa['formacoes'].append(fake.job())\n",
    "        \n",
    "        \n",
    "    return pessoa"
   ]
  },
  {
   "cell_type": "markdown",
   "id": "648352cd",
   "metadata": {},
   "source": [
    "## Configurações"
   ]
  },
  {
   "cell_type": "code",
   "execution_count": null,
   "id": "332b9e9b",
   "metadata": {},
   "outputs": [],
   "source": [
    "pp = pprint.PrettyPrinter(compact=True)\n",
    "# gerando dados fictícios em português do Brasil\n",
    "fake = Faker(['pt_BR'])"
   ]
  },
  {
   "cell_type": "markdown",
   "id": "55a2771b",
   "metadata": {},
   "source": [
    "## Inserção de 1 documento"
   ]
  },
  {
   "cell_type": "markdown",
   "id": "9d0204f1",
   "metadata": {},
   "source": [
    "### Conectando ao MongoDB"
   ]
  },
  {
   "cell_type": "code",
   "execution_count": null,
   "id": "fc8b60e3",
   "metadata": {},
   "outputs": [],
   "source": [
    "client = MongoClient('localhost', 27017)\n",
    "# Se a base de dados não existir, ela é criada automagicamente :-)\n",
    "db = client['techshot_mongo02']"
   ]
  },
  {
   "cell_type": "markdown",
   "id": "7b551e88",
   "metadata": {},
   "source": [
    "### Exemplo - Criação de um documento composto"
   ]
  },
  {
   "cell_type": "code",
   "execution_count": null,
   "id": "5450a862",
   "metadata": {},
   "outputs": [],
   "source": [
    "pessoa = criar_pessoa()\n",
    "pp.pprint(pessoa)"
   ]
  },
  {
   "cell_type": "code",
   "execution_count": null,
   "id": "9d4a2f6a",
   "metadata": {},
   "outputs": [],
   "source": [
    "df = pd.DataFrame.from_records([pessoa])\n",
    "df"
   ]
  },
  {
   "cell_type": "code",
   "execution_count": null,
   "id": "865bfbf0",
   "metadata": {},
   "outputs": [],
   "source": [
    "df.info()"
   ]
  },
  {
   "cell_type": "code",
   "execution_count": null,
   "id": "7438b5b9",
   "metadata": {},
   "outputs": [],
   "source": [
    "df.loc[0, 'data_nascimento']"
   ]
  },
  {
   "cell_type": "code",
   "execution_count": null,
   "id": "7596fcd1",
   "metadata": {},
   "outputs": [],
   "source": [
    "df.loc[0, 'endereco']"
   ]
  },
  {
   "cell_type": "code",
   "execution_count": null,
   "id": "478357f8",
   "metadata": {},
   "outputs": [],
   "source": [
    "type(df.loc[0, 'endereco'])"
   ]
  },
  {
   "cell_type": "code",
   "execution_count": null,
   "id": "f3672fee",
   "metadata": {},
   "outputs": [],
   "source": [
    "df.loc[0, 'telefones']"
   ]
  },
  {
   "cell_type": "code",
   "execution_count": null,
   "id": "bfcd31ad",
   "metadata": {},
   "outputs": [],
   "source": [
    "type(df.loc[0, 'telefones'])"
   ]
  },
  {
   "cell_type": "code",
   "execution_count": null,
   "id": "e79cd481",
   "metadata": {},
   "outputs": [],
   "source": [
    "df.loc[0, 'formacoes']"
   ]
  },
  {
   "cell_type": "code",
   "execution_count": null,
   "id": "84c8bea8",
   "metadata": {},
   "outputs": [],
   "source": [
    "type(df.loc[0, 'formacoes'])"
   ]
  },
  {
   "cell_type": "markdown",
   "id": "e22f2eab",
   "metadata": {},
   "source": [
    "### Inserindo o documento no banco de dados"
   ]
  },
  {
   "cell_type": "code",
   "execution_count": null,
   "id": "2c048809",
   "metadata": {
    "scrolled": false
   },
   "outputs": [],
   "source": [
    "# se a coleção não existir, ela é criada automagicamente :-)\n",
    "colecao_pessoa = db['pessoas']\n",
    "pessoa_id = colecao_pessoa.insert_one(pessoa).inserted_id\n",
    "pessoa_id"
   ]
  },
  {
   "cell_type": "markdown",
   "id": "eb1e708f",
   "metadata": {},
   "source": [
    "## Recuperando o documento inserido"
   ]
  },
  {
   "cell_type": "markdown",
   "id": "4d3c61ec",
   "metadata": {},
   "source": [
    "#### Recuperar pelo ID"
   ]
  },
  {
   "cell_type": "code",
   "execution_count": null,
   "id": "36d993f5",
   "metadata": {},
   "outputs": [],
   "source": [
    "p = colecao_pessoa.find_one({\"_id\":pessoa_id})\n",
    "pp.pprint(p)"
   ]
  },
  {
   "cell_type": "markdown",
   "id": "e47a74b9",
   "metadata": {},
   "source": [
    "#### Recuperando por algum outro atributo"
   ]
  },
  {
   "cell_type": "code",
   "execution_count": null,
   "id": "0bd44fe0",
   "metadata": {},
   "outputs": [],
   "source": [
    "criterio = {\n",
    "    'idade': {'$eq':pessoa['idade']}\n",
    "}\n",
    "pp.pprint(criterio)\n"
   ]
  },
  {
   "cell_type": "code",
   "execution_count": null,
   "id": "d10cf3c6",
   "metadata": {
    "scrolled": true
   },
   "outputs": [],
   "source": [
    "p = colecao_pessoa.find_one(criterio)\n",
    "pp.pprint(p)"
   ]
  },
  {
   "cell_type": "markdown",
   "id": "c451d823",
   "metadata": {},
   "source": [
    "#### Recuperando por algum outro atributo"
   ]
  },
  {
   "cell_type": "code",
   "execution_count": null,
   "id": "2ddcedb6",
   "metadata": {},
   "outputs": [],
   "source": [
    "criterio = {\n",
    "    'nome': {'$eq':pessoa['nome']}\n",
    "}\n",
    "pp.pprint(criterio)\n"
   ]
  },
  {
   "cell_type": "code",
   "execution_count": null,
   "id": "eaf2d1d2",
   "metadata": {
    "scrolled": true
   },
   "outputs": [],
   "source": [
    "p = colecao_pessoa.find_one(criterio)\n",
    "pp.pprint(p)"
   ]
  },
  {
   "cell_type": "code",
   "execution_count": null,
   "id": "727bef7d",
   "metadata": {},
   "outputs": [],
   "source": [
    "criterio = {\n",
    "    'nome': {'$eq':'nome_estranho_que_não_será_criado'}\n",
    "}\n",
    "pp.pprint(criterio)"
   ]
  },
  {
   "cell_type": "code",
   "execution_count": null,
   "id": "ce3ea41a",
   "metadata": {},
   "outputs": [],
   "source": [
    "p = colecao_pessoa.find_one(criterio)\n",
    "p, type(p)"
   ]
  },
  {
   "cell_type": "markdown",
   "id": "9d6caedd",
   "metadata": {},
   "source": [
    "## Atualizar o documento"
   ]
  },
  {
   "cell_type": "code",
   "execution_count": null,
   "id": "23ddd3e8",
   "metadata": {},
   "outputs": [],
   "source": [
    "criterio = {\n",
    "    \"_id\":pessoa_id}\n",
    "\n",
    "novo_valor = {\n",
    "    \"$set\": { \"idade\": 50 }\n",
    "}\n",
    "pp.pprint(novo_valor)\n"
   ]
  },
  {
   "cell_type": "code",
   "execution_count": null,
   "id": "d02f65eb",
   "metadata": {},
   "outputs": [],
   "source": [
    "r = colecao_pessoa.update_one(criterio, novo_valor)\n",
    "r"
   ]
  },
  {
   "cell_type": "code",
   "execution_count": null,
   "id": "c64144e5",
   "metadata": {},
   "outputs": [],
   "source": [
    "# ref.: https://pymongo.readthedocs.io/en/stable/api/pymongo/results.html\n",
    "r.matched_count"
   ]
  },
  {
   "cell_type": "code",
   "execution_count": null,
   "id": "e565605f",
   "metadata": {},
   "outputs": [],
   "source": [
    "r.modified_count"
   ]
  },
  {
   "cell_type": "code",
   "execution_count": null,
   "id": "90fc8264",
   "metadata": {},
   "outputs": [],
   "source": [
    "r.raw_result"
   ]
  },
  {
   "cell_type": "code",
   "execution_count": null,
   "id": "af4ac478",
   "metadata": {},
   "outputs": [],
   "source": [
    "r.upserted_id"
   ]
  },
  {
   "cell_type": "code",
   "execution_count": null,
   "id": "b74145a5",
   "metadata": {},
   "outputs": [],
   "source": [
    "p = colecao_pessoa.find_one({\"_id\":pessoa_id})\n",
    "pp.pprint(p)"
   ]
  },
  {
   "cell_type": "markdown",
   "id": "eca99733",
   "metadata": {},
   "source": [
    "## Atualizar o documento (que não existe)"
   ]
  },
  {
   "cell_type": "code",
   "execution_count": null,
   "id": "ffbbb31f",
   "metadata": {},
   "outputs": [],
   "source": [
    "criterio = {\n",
    "    \"_id\":'123'}\n",
    "\n",
    "novo_valor = {\n",
    "    \"$set\": { \"idade\": 50 }\n",
    "}\n",
    "pp.pprint(novo_valor)"
   ]
  },
  {
   "cell_type": "code",
   "execution_count": null,
   "id": "8765801d",
   "metadata": {},
   "outputs": [],
   "source": [
    "r = colecao_pessoa.update_one(criterio, novo_valor)\n",
    "r"
   ]
  },
  {
   "cell_type": "code",
   "execution_count": null,
   "id": "58dbe64a",
   "metadata": {},
   "outputs": [],
   "source": [
    "r.matched_count"
   ]
  },
  {
   "cell_type": "code",
   "execution_count": null,
   "id": "7394bd26",
   "metadata": {},
   "outputs": [],
   "source": [
    "r.modified_count"
   ]
  },
  {
   "cell_type": "code",
   "execution_count": null,
   "id": "fe369e78",
   "metadata": {},
   "outputs": [],
   "source": [
    "r.raw_result"
   ]
  },
  {
   "cell_type": "code",
   "execution_count": null,
   "id": "2ae7b961",
   "metadata": {},
   "outputs": [],
   "source": [
    "r = colecao_pessoa.update_one(criterio, novo_valor, upsert=True)\n",
    "r"
   ]
  },
  {
   "cell_type": "code",
   "execution_count": null,
   "id": "bc81131e",
   "metadata": {},
   "outputs": [],
   "source": [
    "r.raw_result"
   ]
  },
  {
   "cell_type": "code",
   "execution_count": null,
   "id": "a6741b0e",
   "metadata": {},
   "outputs": [],
   "source": [
    "r.upserted_id"
   ]
  },
  {
   "cell_type": "code",
   "execution_count": null,
   "id": "9db623c7",
   "metadata": {},
   "outputs": [],
   "source": [
    "p = colecao_pessoa.find_one({\"_id\":r.upserted_id})\n",
    "pp.pprint(p)"
   ]
  },
  {
   "cell_type": "markdown",
   "id": "a6f90c5d",
   "metadata": {},
   "source": [
    "## Remover o documento"
   ]
  },
  {
   "cell_type": "code",
   "execution_count": null,
   "id": "c0d991ca",
   "metadata": {},
   "outputs": [],
   "source": [
    "criterio = {\n",
    "    \"_id\":pessoa_id}\n",
    "pp.pprint(criterio)"
   ]
  },
  {
   "cell_type": "code",
   "execution_count": null,
   "id": "3392e777",
   "metadata": {},
   "outputs": [],
   "source": [
    "r = colecao_pessoa.delete_one(criterio)"
   ]
  },
  {
   "cell_type": "code",
   "execution_count": null,
   "id": "af40a559",
   "metadata": {},
   "outputs": [],
   "source": [
    "r.raw_result"
   ]
  },
  {
   "cell_type": "code",
   "execution_count": null,
   "id": "9314832b",
   "metadata": {},
   "outputs": [],
   "source": [
    "p = colecao_pessoa.find_one({\"_id\":pessoa_id})\n",
    "pp.pprint(p)"
   ]
  },
  {
   "cell_type": "code",
   "execution_count": null,
   "id": "b505af9d",
   "metadata": {},
   "outputs": [],
   "source": []
  }
 ],
 "metadata": {
  "kernelspec": {
   "display_name": "Python 3 (ipykernel)",
   "language": "python",
   "name": "python3"
  },
  "language_info": {
   "codemirror_mode": {
    "name": "ipython",
    "version": 3
   },
   "file_extension": ".py",
   "mimetype": "text/x-python",
   "name": "python",
   "nbconvert_exporter": "python",
   "pygments_lexer": "ipython3",
   "version": "3.9.7"
  }
 },
 "nbformat": 4,
 "nbformat_minor": 5
}
