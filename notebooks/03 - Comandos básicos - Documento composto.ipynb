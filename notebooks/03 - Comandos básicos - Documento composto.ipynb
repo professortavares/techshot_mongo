{
 "cells": [
  {
   "cell_type": "markdown",
   "id": "d65f76bd",
   "metadata": {},
   "source": [
    "# Notebook responsável por apresentar os comandos básicos para manipulação de dados no mongo\n",
    "\n",
    "## Crud com apenas 1 documento\n",
    "- Inserir 1 documento **composto**\n",
    "- Recuperar 1 documento **composto**\n",
    "- Atualizar 1 documento **composto**\n",
    "- Excluir 1 documento **composto**"
   ]
  },
  {
   "cell_type": "markdown",
   "id": "d7d2da3b",
   "metadata": {},
   "source": [
    "## Bibliotecas importantes"
   ]
  },
  {
   "cell_type": "code",
   "execution_count": 1,
   "id": "f0fb9fd7",
   "metadata": {},
   "outputs": [],
   "source": [
    "from pymongo import MongoClient\n",
    "import pprint\n",
    "import numpy as np\n",
    "import pandas as pd\n",
    "\n",
    "# para geração de dados fake\n",
    "from faker import Faker\n"
   ]
  },
  {
   "cell_type": "markdown",
   "id": "4dfe91a8",
   "metadata": {},
   "source": [
    "## Funções uteis"
   ]
  },
  {
   "cell_type": "code",
   "execution_count": 2,
   "id": "810a5839",
   "metadata": {},
   "outputs": [],
   "source": [
    "def criar_endereco():\n",
    "    return {\n",
    "        'logradouro':fake.street_name(),\n",
    "        'numero':fake.building_number(),\n",
    "        'bairro':fake.bairro(),\n",
    "        'cidade':fake.city(),\n",
    "        'uf':fake.administrative_unit(),\n",
    "        'cep':fake.postcode(),\n",
    "    }"
   ]
  },
  {
   "cell_type": "code",
   "execution_count": 3,
   "id": "cedde46c",
   "metadata": {},
   "outputs": [],
   "source": [
    "def criar_pessoa():\n",
    "    primeiro_nome = fake.first_name()\n",
    "    ultimo_nome = fake.last_name()\n",
    "    \n",
    "    idade = np.random.randint(18, 50)\n",
    "    \n",
    "    pessoa = {\n",
    "        'cpf': fake.cpf(),\n",
    "        'nome': f'{primeiro_nome} {ultimo_nome}' ,\n",
    "        'idade': idade ,\n",
    "        'data_nascimento':fake.date()\n",
    "    }        \n",
    "    pessoa['email']= f'{primeiro_nome.lower()}.{ultimo_nome.lower()}@{fake.free_email_domain()}'\n",
    "    \n",
    "    pessoa['endereco'] = criar_endereco()\n",
    "\n",
    "    pessoa['telefones'] = []\n",
    "    n = np.random.randint(1, 4)\n",
    "    for i in range(n):\n",
    "        pessoa['telefones'].append(fake.msisdn())\n",
    "\n",
    "    pessoa['formacoes'] = []\n",
    "    n = np.random.randint(1, 4)\n",
    "    for i in range(n):\n",
    "        pessoa['formacoes'].append(fake.job())\n",
    "        \n",
    "        \n",
    "    return pessoa"
   ]
  },
  {
   "cell_type": "markdown",
   "id": "648352cd",
   "metadata": {},
   "source": [
    "## Configurações"
   ]
  },
  {
   "cell_type": "code",
   "execution_count": 4,
   "id": "332b9e9b",
   "metadata": {},
   "outputs": [],
   "source": [
    "pp = pprint.PrettyPrinter(compact=True)\n",
    "# gerando dados fictícios em português do Brasil\n",
    "fake = Faker(['pt_BR'])"
   ]
  },
  {
   "cell_type": "markdown",
   "id": "55a2771b",
   "metadata": {},
   "source": [
    "## Inserção de 1 documento"
   ]
  },
  {
   "cell_type": "markdown",
   "id": "9d0204f1",
   "metadata": {},
   "source": [
    "### Conectando ao MongoDB"
   ]
  },
  {
   "cell_type": "code",
   "execution_count": 5,
   "id": "fc8b60e3",
   "metadata": {},
   "outputs": [],
   "source": [
    "client = MongoClient('localhost', 27017)\n",
    "# Se a base de dados não existir, ela é criada automagicamente :-)\n",
    "db = client['techshot_mongo02']"
   ]
  },
  {
   "cell_type": "markdown",
   "id": "7b551e88",
   "metadata": {},
   "source": [
    "### Exemplo - Criação de um documento composto"
   ]
  },
  {
   "cell_type": "code",
   "execution_count": 6,
   "id": "5450a862",
   "metadata": {},
   "outputs": [
    {
     "name": "stdout",
     "output_type": "stream",
     "text": [
      "{'cpf': '643.092.578-10',\n",
      " 'data_nascimento': '1990-12-08',\n",
      " 'email': 'luiz felipe.cavalcanti@ig.com.br',\n",
      " 'endereco': {'bairro': 'Campo Alegre',\n",
      "              'cep': '66284-325',\n",
      "              'cidade': 'Pires',\n",
      "              'logradouro': 'Morro Valentina Silva',\n",
      "              'numero': '337',\n",
      "              'uf': 'Maranhão'},\n",
      " 'formacoes': ['Assistente administrativo'],\n",
      " 'idade': 35,\n",
      " 'nome': 'Luiz Felipe Cavalcanti',\n",
      " 'telefones': ['5521980850243']}\n"
     ]
    }
   ],
   "source": [
    "pessoa = criar_pessoa()\n",
    "pp.pprint(pessoa)"
   ]
  },
  {
   "cell_type": "code",
   "execution_count": 7,
   "id": "9d4a2f6a",
   "metadata": {},
   "outputs": [
    {
     "data": {
      "text/html": [
       "<div>\n",
       "<style scoped>\n",
       "    .dataframe tbody tr th:only-of-type {\n",
       "        vertical-align: middle;\n",
       "    }\n",
       "\n",
       "    .dataframe tbody tr th {\n",
       "        vertical-align: top;\n",
       "    }\n",
       "\n",
       "    .dataframe thead th {\n",
       "        text-align: right;\n",
       "    }\n",
       "</style>\n",
       "<table border=\"1\" class=\"dataframe\">\n",
       "  <thead>\n",
       "    <tr style=\"text-align: right;\">\n",
       "      <th></th>\n",
       "      <th>cpf</th>\n",
       "      <th>nome</th>\n",
       "      <th>idade</th>\n",
       "      <th>data_nascimento</th>\n",
       "      <th>email</th>\n",
       "      <th>endereco</th>\n",
       "      <th>telefones</th>\n",
       "      <th>formacoes</th>\n",
       "    </tr>\n",
       "  </thead>\n",
       "  <tbody>\n",
       "    <tr>\n",
       "      <th>0</th>\n",
       "      <td>643.092.578-10</td>\n",
       "      <td>Luiz Felipe Cavalcanti</td>\n",
       "      <td>35</td>\n",
       "      <td>1990-12-08</td>\n",
       "      <td>luiz felipe.cavalcanti@ig.com.br</td>\n",
       "      <td>{'logradouro': 'Morro Valentina Silva', 'numer...</td>\n",
       "      <td>[5521980850243]</td>\n",
       "      <td>[Assistente administrativo]</td>\n",
       "    </tr>\n",
       "  </tbody>\n",
       "</table>\n",
       "</div>"
      ],
      "text/plain": [
       "              cpf                    nome  idade data_nascimento  \\\n",
       "0  643.092.578-10  Luiz Felipe Cavalcanti     35      1990-12-08   \n",
       "\n",
       "                              email  \\\n",
       "0  luiz felipe.cavalcanti@ig.com.br   \n",
       "\n",
       "                                            endereco        telefones  \\\n",
       "0  {'logradouro': 'Morro Valentina Silva', 'numer...  [5521980850243]   \n",
       "\n",
       "                     formacoes  \n",
       "0  [Assistente administrativo]  "
      ]
     },
     "execution_count": 7,
     "metadata": {},
     "output_type": "execute_result"
    }
   ],
   "source": [
    "df = pd.DataFrame.from_records([pessoa])\n",
    "df"
   ]
  },
  {
   "cell_type": "code",
   "execution_count": 8,
   "id": "865bfbf0",
   "metadata": {},
   "outputs": [
    {
     "name": "stdout",
     "output_type": "stream",
     "text": [
      "<class 'pandas.core.frame.DataFrame'>\n",
      "RangeIndex: 1 entries, 0 to 0\n",
      "Data columns (total 8 columns):\n",
      " #   Column           Non-Null Count  Dtype \n",
      "---  ------           --------------  ----- \n",
      " 0   cpf              1 non-null      object\n",
      " 1   nome             1 non-null      object\n",
      " 2   idade            1 non-null      int64 \n",
      " 3   data_nascimento  1 non-null      object\n",
      " 4   email            1 non-null      object\n",
      " 5   endereco         1 non-null      object\n",
      " 6   telefones        1 non-null      object\n",
      " 7   formacoes        1 non-null      object\n",
      "dtypes: int64(1), object(7)\n",
      "memory usage: 192.0+ bytes\n"
     ]
    }
   ],
   "source": [
    "df.info()"
   ]
  },
  {
   "cell_type": "code",
   "execution_count": 9,
   "id": "7438b5b9",
   "metadata": {},
   "outputs": [
    {
     "data": {
      "text/plain": [
       "'1990-12-08'"
      ]
     },
     "execution_count": 9,
     "metadata": {},
     "output_type": "execute_result"
    }
   ],
   "source": [
    "df.loc[0, 'data_nascimento']"
   ]
  },
  {
   "cell_type": "code",
   "execution_count": 10,
   "id": "7596fcd1",
   "metadata": {},
   "outputs": [
    {
     "data": {
      "text/plain": [
       "{'logradouro': 'Morro Valentina Silva',\n",
       " 'numero': '337',\n",
       " 'bairro': 'Campo Alegre',\n",
       " 'cidade': 'Pires',\n",
       " 'uf': 'Maranhão',\n",
       " 'cep': '66284-325'}"
      ]
     },
     "execution_count": 10,
     "metadata": {},
     "output_type": "execute_result"
    }
   ],
   "source": [
    "df.loc[0, 'endereco']"
   ]
  },
  {
   "cell_type": "code",
   "execution_count": 11,
   "id": "478357f8",
   "metadata": {},
   "outputs": [
    {
     "data": {
      "text/plain": [
       "dict"
      ]
     },
     "execution_count": 11,
     "metadata": {},
     "output_type": "execute_result"
    }
   ],
   "source": [
    "type(df.loc[0, 'endereco'])"
   ]
  },
  {
   "cell_type": "code",
   "execution_count": 12,
   "id": "f3672fee",
   "metadata": {},
   "outputs": [
    {
     "data": {
      "text/plain": [
       "['5521980850243']"
      ]
     },
     "execution_count": 12,
     "metadata": {},
     "output_type": "execute_result"
    }
   ],
   "source": [
    "df.loc[0, 'telefones']"
   ]
  },
  {
   "cell_type": "code",
   "execution_count": 13,
   "id": "bfcd31ad",
   "metadata": {},
   "outputs": [
    {
     "data": {
      "text/plain": [
       "list"
      ]
     },
     "execution_count": 13,
     "metadata": {},
     "output_type": "execute_result"
    }
   ],
   "source": [
    "type(df.loc[0, 'telefones'])"
   ]
  },
  {
   "cell_type": "code",
   "execution_count": 14,
   "id": "e79cd481",
   "metadata": {},
   "outputs": [
    {
     "data": {
      "text/plain": [
       "['Assistente administrativo']"
      ]
     },
     "execution_count": 14,
     "metadata": {},
     "output_type": "execute_result"
    }
   ],
   "source": [
    "df.loc[0, 'formacoes']"
   ]
  },
  {
   "cell_type": "code",
   "execution_count": 15,
   "id": "84c8bea8",
   "metadata": {},
   "outputs": [
    {
     "data": {
      "text/plain": [
       "list"
      ]
     },
     "execution_count": 15,
     "metadata": {},
     "output_type": "execute_result"
    }
   ],
   "source": [
    "type(df.loc[0, 'formacoes'])"
   ]
  },
  {
   "cell_type": "markdown",
   "id": "e22f2eab",
   "metadata": {},
   "source": [
    "### Inserindo o documento no banco de dados"
   ]
  },
  {
   "cell_type": "code",
   "execution_count": 16,
   "id": "2c048809",
   "metadata": {
    "scrolled": false
   },
   "outputs": [
    {
     "data": {
      "text/plain": [
       "ObjectId('625ff2ad7457a0d80f095993')"
      ]
     },
     "execution_count": 16,
     "metadata": {},
     "output_type": "execute_result"
    }
   ],
   "source": [
    "# se a coleção não existir, ela é criada automagicamente :-)\n",
    "colecao_pessoa = db['pessoas']\n",
    "pessoa_id = colecao_pessoa.insert_one(pessoa).inserted_id\n",
    "pessoa_id"
   ]
  },
  {
   "cell_type": "markdown",
   "id": "eb1e708f",
   "metadata": {},
   "source": [
    "## Recuperando o documento inserido"
   ]
  },
  {
   "cell_type": "markdown",
   "id": "4d3c61ec",
   "metadata": {},
   "source": [
    "#### Recuperar pelo ID"
   ]
  },
  {
   "cell_type": "code",
   "execution_count": 17,
   "id": "36d993f5",
   "metadata": {},
   "outputs": [
    {
     "name": "stdout",
     "output_type": "stream",
     "text": [
      "{'_id': ObjectId('625ff2ad7457a0d80f095993'),\n",
      " 'cpf': '643.092.578-10',\n",
      " 'data_nascimento': '1990-12-08',\n",
      " 'email': 'luiz felipe.cavalcanti@ig.com.br',\n",
      " 'endereco': {'bairro': 'Campo Alegre',\n",
      "              'cep': '66284-325',\n",
      "              'cidade': 'Pires',\n",
      "              'logradouro': 'Morro Valentina Silva',\n",
      "              'numero': '337',\n",
      "              'uf': 'Maranhão'},\n",
      " 'formacoes': ['Assistente administrativo'],\n",
      " 'idade': 35,\n",
      " 'nome': 'Luiz Felipe Cavalcanti',\n",
      " 'telefones': ['5521980850243']}\n"
     ]
    }
   ],
   "source": [
    "p = colecao_pessoa.find_one({\"_id\":pessoa_id})\n",
    "pp.pprint(p)"
   ]
  },
  {
   "cell_type": "markdown",
   "id": "e47a74b9",
   "metadata": {},
   "source": [
    "#### Recuperando por algum outro atributo"
   ]
  },
  {
   "cell_type": "code",
   "execution_count": 18,
   "id": "0bd44fe0",
   "metadata": {},
   "outputs": [
    {
     "name": "stdout",
     "output_type": "stream",
     "text": [
      "{'idade': {'$eq': 35}}\n"
     ]
    }
   ],
   "source": [
    "criterio = {\n",
    "    'idade': {'$eq':pessoa['idade']}\n",
    "}\n",
    "pp.pprint(criterio)\n"
   ]
  },
  {
   "cell_type": "code",
   "execution_count": 19,
   "id": "d10cf3c6",
   "metadata": {
    "scrolled": true
   },
   "outputs": [
    {
     "name": "stdout",
     "output_type": "stream",
     "text": [
      "{'_id': ObjectId('625ff24dacbe4697b5d4ac92'),\n",
      " 'cpf': '705.419.326-16',\n",
      " 'data_nascimento': '2003-12-28',\n",
      " 'email': 'mirella.castro@uol.com.br',\n",
      " 'endereco': {'bairro': 'Minas Brasil',\n",
      "              'cep': '64842-749',\n",
      "              'cidade': 'Azevedo da Mata',\n",
      "              'logradouro': 'Travessa de Oliveira',\n",
      "              'numero': '92',\n",
      "              'uf': 'Sergipe'},\n",
      " 'formacoes': ['Perito criminal', 'Técnico em segurança do trabalho'],\n",
      " 'idade': 35,\n",
      " 'nome': 'Mirella Castro',\n",
      " 'telefones': ['5521929669846']}\n"
     ]
    }
   ],
   "source": [
    "p = colecao_pessoa.find_one(criterio)\n",
    "pp.pprint(p)"
   ]
  },
  {
   "cell_type": "markdown",
   "id": "c451d823",
   "metadata": {},
   "source": [
    "#### Recuperando por algum outro atributo"
   ]
  },
  {
   "cell_type": "code",
   "execution_count": 20,
   "id": "2ddcedb6",
   "metadata": {},
   "outputs": [
    {
     "name": "stdout",
     "output_type": "stream",
     "text": [
      "{'nome': {'$eq': 'Luiz Felipe Cavalcanti'}}\n"
     ]
    }
   ],
   "source": [
    "criterio = {\n",
    "    'nome': {'$eq':pessoa['nome']}\n",
    "}\n",
    "pp.pprint(criterio)\n"
   ]
  },
  {
   "cell_type": "code",
   "execution_count": 21,
   "id": "eaf2d1d2",
   "metadata": {
    "scrolled": true
   },
   "outputs": [
    {
     "name": "stdout",
     "output_type": "stream",
     "text": [
      "{'_id': ObjectId('625ff2ad7457a0d80f095993'),\n",
      " 'cpf': '643.092.578-10',\n",
      " 'data_nascimento': '1990-12-08',\n",
      " 'email': 'luiz felipe.cavalcanti@ig.com.br',\n",
      " 'endereco': {'bairro': 'Campo Alegre',\n",
      "              'cep': '66284-325',\n",
      "              'cidade': 'Pires',\n",
      "              'logradouro': 'Morro Valentina Silva',\n",
      "              'numero': '337',\n",
      "              'uf': 'Maranhão'},\n",
      " 'formacoes': ['Assistente administrativo'],\n",
      " 'idade': 35,\n",
      " 'nome': 'Luiz Felipe Cavalcanti',\n",
      " 'telefones': ['5521980850243']}\n"
     ]
    }
   ],
   "source": [
    "p = colecao_pessoa.find_one(criterio)\n",
    "pp.pprint(p)"
   ]
  },
  {
   "cell_type": "code",
   "execution_count": 22,
   "id": "727bef7d",
   "metadata": {},
   "outputs": [
    {
     "name": "stdout",
     "output_type": "stream",
     "text": [
      "{'nome': {'$eq': 'nome_estranho_que_não_será_criado'}}\n"
     ]
    }
   ],
   "source": [
    "criterio = {\n",
    "    'nome': {'$eq':'nome_estranho_que_não_será_criado'}\n",
    "}\n",
    "pp.pprint(criterio)"
   ]
  },
  {
   "cell_type": "code",
   "execution_count": 23,
   "id": "ce3ea41a",
   "metadata": {},
   "outputs": [
    {
     "data": {
      "text/plain": [
       "(None, NoneType)"
      ]
     },
     "execution_count": 23,
     "metadata": {},
     "output_type": "execute_result"
    }
   ],
   "source": [
    "p = colecao_pessoa.find_one(criterio)\n",
    "p, type(p)"
   ]
  },
  {
   "cell_type": "markdown",
   "id": "9d6caedd",
   "metadata": {},
   "source": [
    "## Atualizar o documento"
   ]
  },
  {
   "cell_type": "code",
   "execution_count": 24,
   "id": "23ddd3e8",
   "metadata": {},
   "outputs": [
    {
     "name": "stdout",
     "output_type": "stream",
     "text": [
      "{'$set': {'idade': 50}}\n"
     ]
    }
   ],
   "source": [
    "criterio = {\n",
    "    \"_id\":pessoa_id}\n",
    "\n",
    "novo_valor = {\n",
    "    \"$set\": { \"idade\": 50 }\n",
    "}\n",
    "pp.pprint(novo_valor)\n"
   ]
  },
  {
   "cell_type": "code",
   "execution_count": 25,
   "id": "d02f65eb",
   "metadata": {},
   "outputs": [
    {
     "data": {
      "text/plain": [
       "<pymongo.results.UpdateResult at 0x7f731aad4070>"
      ]
     },
     "execution_count": 25,
     "metadata": {},
     "output_type": "execute_result"
    }
   ],
   "source": [
    "r = colecao_pessoa.update_one(criterio, novo_valor)\n",
    "r"
   ]
  },
  {
   "cell_type": "code",
   "execution_count": 26,
   "id": "c64144e5",
   "metadata": {},
   "outputs": [
    {
     "data": {
      "text/plain": [
       "1"
      ]
     },
     "execution_count": 26,
     "metadata": {},
     "output_type": "execute_result"
    }
   ],
   "source": [
    "# ref.: https://pymongo.readthedocs.io/en/stable/api/pymongo/results.html\n",
    "r.matched_count"
   ]
  },
  {
   "cell_type": "code",
   "execution_count": 27,
   "id": "e565605f",
   "metadata": {},
   "outputs": [
    {
     "data": {
      "text/plain": [
       "1"
      ]
     },
     "execution_count": 27,
     "metadata": {},
     "output_type": "execute_result"
    }
   ],
   "source": [
    "r.modified_count"
   ]
  },
  {
   "cell_type": "code",
   "execution_count": 28,
   "id": "90fc8264",
   "metadata": {},
   "outputs": [
    {
     "data": {
      "text/plain": [
       "{'n': 1, 'nModified': 1, 'ok': 1.0, 'updatedExisting': True}"
      ]
     },
     "execution_count": 28,
     "metadata": {},
     "output_type": "execute_result"
    }
   ],
   "source": [
    "r.raw_result"
   ]
  },
  {
   "cell_type": "code",
   "execution_count": 29,
   "id": "af4ac478",
   "metadata": {},
   "outputs": [],
   "source": [
    "r.upserted_id"
   ]
  },
  {
   "cell_type": "code",
   "execution_count": 30,
   "id": "b74145a5",
   "metadata": {},
   "outputs": [
    {
     "name": "stdout",
     "output_type": "stream",
     "text": [
      "{'_id': ObjectId('625ff2ad7457a0d80f095993'),\n",
      " 'cpf': '643.092.578-10',\n",
      " 'data_nascimento': '1990-12-08',\n",
      " 'email': 'luiz felipe.cavalcanti@ig.com.br',\n",
      " 'endereco': {'bairro': 'Campo Alegre',\n",
      "              'cep': '66284-325',\n",
      "              'cidade': 'Pires',\n",
      "              'logradouro': 'Morro Valentina Silva',\n",
      "              'numero': '337',\n",
      "              'uf': 'Maranhão'},\n",
      " 'formacoes': ['Assistente administrativo'],\n",
      " 'idade': 50,\n",
      " 'nome': 'Luiz Felipe Cavalcanti',\n",
      " 'telefones': ['5521980850243']}\n"
     ]
    }
   ],
   "source": [
    "p = colecao_pessoa.find_one({\"_id\":pessoa_id})\n",
    "pp.pprint(p)"
   ]
  },
  {
   "cell_type": "markdown",
   "id": "eca99733",
   "metadata": {},
   "source": [
    "## Atualizar o documento (que não existe)"
   ]
  },
  {
   "cell_type": "code",
   "execution_count": 31,
   "id": "ffbbb31f",
   "metadata": {},
   "outputs": [
    {
     "name": "stdout",
     "output_type": "stream",
     "text": [
      "{'$set': {'idade': 50}}\n"
     ]
    }
   ],
   "source": [
    "criterio = {\n",
    "    \"_id\":'123'}\n",
    "\n",
    "novo_valor = {\n",
    "    \"$set\": { \"idade\": 50 }\n",
    "}\n",
    "pp.pprint(novo_valor)"
   ]
  },
  {
   "cell_type": "code",
   "execution_count": 32,
   "id": "8765801d",
   "metadata": {},
   "outputs": [
    {
     "data": {
      "text/plain": [
       "<pymongo.results.UpdateResult at 0x7f731c37a9a0>"
      ]
     },
     "execution_count": 32,
     "metadata": {},
     "output_type": "execute_result"
    }
   ],
   "source": [
    "r = colecao_pessoa.update_one(criterio, novo_valor)\n",
    "r"
   ]
  },
  {
   "cell_type": "code",
   "execution_count": 33,
   "id": "58dbe64a",
   "metadata": {},
   "outputs": [
    {
     "data": {
      "text/plain": [
       "1"
      ]
     },
     "execution_count": 33,
     "metadata": {},
     "output_type": "execute_result"
    }
   ],
   "source": [
    "r.matched_count"
   ]
  },
  {
   "cell_type": "code",
   "execution_count": 34,
   "id": "7394bd26",
   "metadata": {},
   "outputs": [
    {
     "data": {
      "text/plain": [
       "0"
      ]
     },
     "execution_count": 34,
     "metadata": {},
     "output_type": "execute_result"
    }
   ],
   "source": [
    "r.modified_count"
   ]
  },
  {
   "cell_type": "code",
   "execution_count": 35,
   "id": "fe369e78",
   "metadata": {},
   "outputs": [
    {
     "data": {
      "text/plain": [
       "{'n': 1, 'nModified': 0, 'ok': 1.0, 'updatedExisting': True}"
      ]
     },
     "execution_count": 35,
     "metadata": {},
     "output_type": "execute_result"
    }
   ],
   "source": [
    "r.raw_result"
   ]
  },
  {
   "cell_type": "code",
   "execution_count": 36,
   "id": "2ae7b961",
   "metadata": {},
   "outputs": [
    {
     "data": {
      "text/plain": [
       "<pymongo.results.UpdateResult at 0x7f731aad4550>"
      ]
     },
     "execution_count": 36,
     "metadata": {},
     "output_type": "execute_result"
    }
   ],
   "source": [
    "r = colecao_pessoa.update_one(criterio, novo_valor, upsert=True)\n",
    "r"
   ]
  },
  {
   "cell_type": "code",
   "execution_count": 37,
   "id": "bc81131e",
   "metadata": {},
   "outputs": [
    {
     "data": {
      "text/plain": [
       "{'n': 1, 'nModified': 0, 'ok': 1.0, 'updatedExisting': True}"
      ]
     },
     "execution_count": 37,
     "metadata": {},
     "output_type": "execute_result"
    }
   ],
   "source": [
    "r.raw_result"
   ]
  },
  {
   "cell_type": "code",
   "execution_count": 38,
   "id": "a6741b0e",
   "metadata": {},
   "outputs": [],
   "source": [
    "r.upserted_id"
   ]
  },
  {
   "cell_type": "code",
   "execution_count": 39,
   "id": "9db623c7",
   "metadata": {},
   "outputs": [
    {
     "name": "stdout",
     "output_type": "stream",
     "text": [
      "None\n"
     ]
    }
   ],
   "source": [
    "p = colecao_pessoa.find_one({\"_id\":r.upserted_id})\n",
    "pp.pprint(p)"
   ]
  },
  {
   "cell_type": "markdown",
   "id": "a6f90c5d",
   "metadata": {},
   "source": [
    "## Remover o documento"
   ]
  },
  {
   "cell_type": "code",
   "execution_count": 40,
   "id": "c0d991ca",
   "metadata": {},
   "outputs": [
    {
     "name": "stdout",
     "output_type": "stream",
     "text": [
      "{'_id': ObjectId('625ff2ad7457a0d80f095993')}\n"
     ]
    }
   ],
   "source": [
    "criterio = {\n",
    "    \"_id\":pessoa_id}\n",
    "pp.pprint(criterio)"
   ]
  },
  {
   "cell_type": "code",
   "execution_count": 41,
   "id": "3392e777",
   "metadata": {},
   "outputs": [],
   "source": [
    "r = colecao_pessoa.delete_one(criterio)"
   ]
  },
  {
   "cell_type": "code",
   "execution_count": 42,
   "id": "af40a559",
   "metadata": {},
   "outputs": [
    {
     "data": {
      "text/plain": [
       "{'n': 1, 'ok': 1.0}"
      ]
     },
     "execution_count": 42,
     "metadata": {},
     "output_type": "execute_result"
    }
   ],
   "source": [
    "r.raw_result"
   ]
  },
  {
   "cell_type": "code",
   "execution_count": 43,
   "id": "9314832b",
   "metadata": {},
   "outputs": [
    {
     "name": "stdout",
     "output_type": "stream",
     "text": [
      "None\n"
     ]
    }
   ],
   "source": [
    "p = colecao_pessoa.find_one({\"_id\":pessoa_id})\n",
    "pp.pprint(p)"
   ]
  },
  {
   "cell_type": "code",
   "execution_count": null,
   "id": "b505af9d",
   "metadata": {},
   "outputs": [],
   "source": []
  }
 ],
 "metadata": {
  "kernelspec": {
   "display_name": "Python 3 (ipykernel)",
   "language": "python",
   "name": "python3"
  },
  "language_info": {
   "codemirror_mode": {
    "name": "ipython",
    "version": 3
   },
   "file_extension": ".py",
   "mimetype": "text/x-python",
   "name": "python",
   "nbconvert_exporter": "python",
   "pygments_lexer": "ipython3",
   "version": "3.9.7"
  }
 },
 "nbformat": 4,
 "nbformat_minor": 5
}
