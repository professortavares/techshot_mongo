{
 "cells": [
  {
   "cell_type": "markdown",
   "id": "5695ac8c",
   "metadata": {},
   "source": [
    "# Notebook resposável por apresentar os componentes básicos do aggregate no mongo\n",
    "\n",
    "ref.: https://www.practical-mongodb-aggregations.com/front-cover.html"
   ]
  },
  {
   "cell_type": "code",
   "execution_count": 1,
   "id": "c12846c1",
   "metadata": {},
   "outputs": [],
   "source": [
    "from pymongo import MongoClient\n",
    "from bson.son import SON\n",
    "import pprint\n",
    "import numpy as np\n",
    "import pandas as pd\n",
    "\n",
    "# para geração de dados fake\n",
    "from faker import Faker\n",
    "from pandasql import sqldf"
   ]
  },
  {
   "cell_type": "markdown",
   "id": "a9f1b699",
   "metadata": {},
   "source": [
    "## povoador"
   ]
  },
  {
   "cell_type": "code",
   "execution_count": 2,
   "id": "b02962b2",
   "metadata": {},
   "outputs": [],
   "source": [
    "def criar_pessoa():\n",
    "    primeiro_nome = fake.first_name()\n",
    "    ultimo_nome = fake.last_name()\n",
    "    \n",
    "    idade = np.random.randint(10, 30)\n",
    "    \n",
    "    pessoa = {\n",
    "        'cpf': fake.cpf(),\n",
    "        'nome': f'{primeiro_nome} {ultimo_nome}' ,\n",
    "        'idade': idade ,\n",
    "    }\n",
    "    \n",
    "    primeiro_nome = primeiro_nome.replace(\" \", \"\")\n",
    "    ultimo_nome = ultimo_nome.replace(\" \", \"\")\n",
    "    \n",
    "    pessoa['email']= f'{primeiro_nome.lower()}.{ultimo_nome.lower()}@{fake.free_email_domain()}'\n",
    "    \n",
    "    return pessoa"
   ]
  },
  {
   "cell_type": "markdown",
   "id": "25578de6",
   "metadata": {},
   "source": [
    "## Configurações"
   ]
  },
  {
   "cell_type": "code",
   "execution_count": 3,
   "id": "3c7b7270",
   "metadata": {},
   "outputs": [],
   "source": [
    "pp = pprint.PrettyPrinter(compact=True)\n",
    "# gerando dados fictícios em português do Brasil\n",
    "fake = Faker(['pt_BR'])"
   ]
  },
  {
   "cell_type": "code",
   "execution_count": 4,
   "id": "0eb4111f",
   "metadata": {},
   "outputs": [],
   "source": [
    "client = MongoClient('localhost', 27017)\n",
    "# Se a base de dados não existir, ela é criada automagicamente :-)\n",
    "db = client['techshot_aggregate_basico']"
   ]
  },
  {
   "cell_type": "code",
   "execution_count": 5,
   "id": "5e0b10c6",
   "metadata": {},
   "outputs": [
    {
     "name": "stdout",
     "output_type": "stream",
     "text": [
      "[{'cpf': '479.861.320-78',\n",
      "  'email': 'theo.silveira@uol.com.br',\n",
      "  'idade': 18,\n",
      "  'nome': 'Theo Silveira'},\n",
      " {'cpf': '315.840.269-60',\n",
      "  'email': 'mariana.sales@ig.com.br',\n",
      "  'idade': 18,\n",
      "  'nome': 'Mariana Sales'},\n",
      " {'cpf': '468.750.132-07',\n",
      "  'email': 'rebeca.castro@bol.com.br',\n",
      "  'idade': 11,\n",
      "  'nome': 'Rebeca Castro'},\n",
      " {'cpf': '073.642.159-99',\n",
      "  'email': 'davi.damata@ig.com.br',\n",
      "  'idade': 27,\n",
      "  'nome': 'Davi da Mata'},\n",
      " {'cpf': '589.241.307-14',\n",
      "  'email': 'cecília.lopes@bol.com.br',\n",
      "  'idade': 18,\n",
      "  'nome': 'Cecília Lopes'},\n",
      " {'cpf': '862.579.034-83',\n",
      "  'email': 'raquel.martins@gmail.com',\n",
      "  'idade': 15,\n",
      "  'nome': 'Raquel Martins'},\n",
      " {'cpf': '584.137.926-73',\n",
      "  'email': 'isabelly.lopes@ig.com.br',\n",
      "  'idade': 24,\n",
      "  'nome': 'Isabelly Lopes'},\n",
      " {'cpf': '097.561.432-07',\n",
      "  'email': 'joão.campos@uol.com.br',\n",
      "  'idade': 20,\n",
      "  'nome': 'João Campos'},\n",
      " {'cpf': '986.407.215-30',\n",
      "  'email': 'guilherme.dacunha@ig.com.br',\n",
      "  'idade': 10,\n",
      "  'nome': 'Guilherme da Cunha'},\n",
      " {'cpf': '591.670.823-86',\n",
      "  'email': 'marialuiza.araújo@gmail.com',\n",
      "  'idade': 10,\n",
      "  'nome': 'Maria Luiza Araújo'},\n",
      " {'cpf': '761.859.032-02',\n",
      "  'email': 'joãomiguel.campos@bol.com.br',\n",
      "  'idade': 16,\n",
      "  'nome': 'João Miguel Campos'},\n",
      " {'cpf': '762.943.108-22',\n",
      "  'email': 'enzogabriel.cavalcanti@bol.com.br',\n",
      "  'idade': 23,\n",
      "  'nome': 'Enzo Gabriel Cavalcanti'},\n",
      " {'cpf': '561.429.803-70',\n",
      "  'email': 'igor.sales@hotmail.com',\n",
      "  'idade': 21,\n",
      "  'nome': 'Igor Sales'},\n",
      " {'cpf': '308.591.647-48',\n",
      "  'email': 'carolina.ribeiro@ig.com.br',\n",
      "  'idade': 13,\n",
      "  'nome': 'Carolina Ribeiro'},\n",
      " {'cpf': '093.514.628-89',\n",
      "  'email': 'juan.oliveira@ig.com.br',\n",
      "  'idade': 11,\n",
      "  'nome': 'Juan Oliveira'},\n",
      " {'cpf': '871.563.092-77',\n",
      "  'email': 'vitorgabriel.campos@yahoo.com.br',\n",
      "  'idade': 23,\n",
      "  'nome': 'Vitor Gabriel Campos'},\n",
      " {'cpf': '243.175.896-64',\n",
      "  'email': 'mariaeduarda.rodrigues@uol.com.br',\n",
      "  'idade': 20,\n",
      "  'nome': 'Maria Eduarda Rodrigues'},\n",
      " {'cpf': '568.902.743-00',\n",
      "  'email': 'enzogabriel.ramos@uol.com.br',\n",
      "  'idade': 12,\n",
      "  'nome': 'Enzo Gabriel Ramos'},\n",
      " {'cpf': '609.512.374-70',\n",
      "  'email': 'augusto.fogaça@ig.com.br',\n",
      "  'idade': 12,\n",
      "  'nome': 'Augusto Fogaça'},\n",
      " {'cpf': '956.487.321-55',\n",
      "  'email': 'analaura.costa@bol.com.br',\n",
      "  'idade': 24,\n",
      "  'nome': 'Ana Laura Costa'},\n",
      " {'cpf': '169.237.548-28',\n",
      "  'email': 'joãovitor.dias@yahoo.com.br',\n",
      "  'idade': 27,\n",
      "  'nome': 'João Vitor Dias'},\n",
      " {'cpf': '385.276.940-00',\n",
      "  'email': 'luizgustavo.cardoso@ig.com.br',\n",
      "  'idade': 24,\n",
      "  'nome': 'Luiz Gustavo Cardoso'},\n",
      " {'cpf': '231.649.750-07',\n",
      "  'email': 'arthur.dias@ig.com.br',\n",
      "  'idade': 12,\n",
      "  'nome': 'Arthur Dias'},\n",
      " {'cpf': '751.692.384-28',\n",
      "  'email': 'diogo.porto@yahoo.com.br',\n",
      "  'idade': 14,\n",
      "  'nome': 'Diogo Porto'},\n",
      " {'cpf': '819.364.275-91',\n",
      "  'email': 'pedrolucas.fernandes@gmail.com',\n",
      "  'idade': 28,\n",
      "  'nome': 'Pedro Lucas Fernandes'},\n",
      " {'cpf': '139.746.058-00',\n",
      "  'email': 'lorenzo.silveira@ig.com.br',\n",
      "  'idade': 12,\n",
      "  'nome': 'Lorenzo Silveira'},\n",
      " {'cpf': '980.732.641-96',\n",
      "  'email': 'laura.novaes@yahoo.com.br',\n",
      "  'idade': 16,\n",
      "  'nome': 'Laura Novaes'},\n",
      " {'cpf': '658.940.172-11',\n",
      "  'email': 'anacarolina.silva@yahoo.com.br',\n",
      "  'idade': 17,\n",
      "  'nome': 'Ana Carolina Silva'},\n",
      " {'cpf': '087.431.296-50',\n",
      "  'email': 'sophie.moraes@yahoo.com.br',\n",
      "  'idade': 21,\n",
      "  'nome': 'Sophie Moraes'},\n",
      " {'cpf': '930.648.257-47',\n",
      "  'email': 'miguel.dacosta@ig.com.br',\n",
      "  'idade': 26,\n",
      "  'nome': 'Miguel da Costa'}]\n"
     ]
    }
   ],
   "source": [
    "lista_pessoas = []\n",
    "\n",
    "for i in range(30):\n",
    "    lista_pessoas.append(criar_pessoa())\n",
    "    \n",
    "pp.pprint(lista_pessoas)"
   ]
  },
  {
   "cell_type": "code",
   "execution_count": 6,
   "id": "35252898",
   "metadata": {},
   "outputs": [
    {
     "data": {
      "text/html": [
       "<div>\n",
       "<style scoped>\n",
       "    .dataframe tbody tr th:only-of-type {\n",
       "        vertical-align: middle;\n",
       "    }\n",
       "\n",
       "    .dataframe tbody tr th {\n",
       "        vertical-align: top;\n",
       "    }\n",
       "\n",
       "    .dataframe thead th {\n",
       "        text-align: right;\n",
       "    }\n",
       "</style>\n",
       "<table border=\"1\" class=\"dataframe\">\n",
       "  <thead>\n",
       "    <tr style=\"text-align: right;\">\n",
       "      <th></th>\n",
       "      <th>cpf</th>\n",
       "      <th>nome</th>\n",
       "      <th>idade</th>\n",
       "      <th>email</th>\n",
       "    </tr>\n",
       "  </thead>\n",
       "  <tbody>\n",
       "    <tr>\n",
       "      <th>0</th>\n",
       "      <td>479.861.320-78</td>\n",
       "      <td>Theo Silveira</td>\n",
       "      <td>18</td>\n",
       "      <td>theo.silveira@uol.com.br</td>\n",
       "    </tr>\n",
       "    <tr>\n",
       "      <th>1</th>\n",
       "      <td>315.840.269-60</td>\n",
       "      <td>Mariana Sales</td>\n",
       "      <td>18</td>\n",
       "      <td>mariana.sales@ig.com.br</td>\n",
       "    </tr>\n",
       "    <tr>\n",
       "      <th>2</th>\n",
       "      <td>468.750.132-07</td>\n",
       "      <td>Rebeca Castro</td>\n",
       "      <td>11</td>\n",
       "      <td>rebeca.castro@bol.com.br</td>\n",
       "    </tr>\n",
       "    <tr>\n",
       "      <th>3</th>\n",
       "      <td>073.642.159-99</td>\n",
       "      <td>Davi da Mata</td>\n",
       "      <td>27</td>\n",
       "      <td>davi.damata@ig.com.br</td>\n",
       "    </tr>\n",
       "    <tr>\n",
       "      <th>4</th>\n",
       "      <td>589.241.307-14</td>\n",
       "      <td>Cecília Lopes</td>\n",
       "      <td>18</td>\n",
       "      <td>cecília.lopes@bol.com.br</td>\n",
       "    </tr>\n",
       "    <tr>\n",
       "      <th>5</th>\n",
       "      <td>862.579.034-83</td>\n",
       "      <td>Raquel Martins</td>\n",
       "      <td>15</td>\n",
       "      <td>raquel.martins@gmail.com</td>\n",
       "    </tr>\n",
       "    <tr>\n",
       "      <th>6</th>\n",
       "      <td>584.137.926-73</td>\n",
       "      <td>Isabelly Lopes</td>\n",
       "      <td>24</td>\n",
       "      <td>isabelly.lopes@ig.com.br</td>\n",
       "    </tr>\n",
       "    <tr>\n",
       "      <th>7</th>\n",
       "      <td>097.561.432-07</td>\n",
       "      <td>João Campos</td>\n",
       "      <td>20</td>\n",
       "      <td>joão.campos@uol.com.br</td>\n",
       "    </tr>\n",
       "    <tr>\n",
       "      <th>8</th>\n",
       "      <td>986.407.215-30</td>\n",
       "      <td>Guilherme da Cunha</td>\n",
       "      <td>10</td>\n",
       "      <td>guilherme.dacunha@ig.com.br</td>\n",
       "    </tr>\n",
       "    <tr>\n",
       "      <th>9</th>\n",
       "      <td>591.670.823-86</td>\n",
       "      <td>Maria Luiza Araújo</td>\n",
       "      <td>10</td>\n",
       "      <td>marialuiza.araújo@gmail.com</td>\n",
       "    </tr>\n",
       "    <tr>\n",
       "      <th>10</th>\n",
       "      <td>761.859.032-02</td>\n",
       "      <td>João Miguel Campos</td>\n",
       "      <td>16</td>\n",
       "      <td>joãomiguel.campos@bol.com.br</td>\n",
       "    </tr>\n",
       "    <tr>\n",
       "      <th>11</th>\n",
       "      <td>762.943.108-22</td>\n",
       "      <td>Enzo Gabriel Cavalcanti</td>\n",
       "      <td>23</td>\n",
       "      <td>enzogabriel.cavalcanti@bol.com.br</td>\n",
       "    </tr>\n",
       "    <tr>\n",
       "      <th>12</th>\n",
       "      <td>561.429.803-70</td>\n",
       "      <td>Igor Sales</td>\n",
       "      <td>21</td>\n",
       "      <td>igor.sales@hotmail.com</td>\n",
       "    </tr>\n",
       "    <tr>\n",
       "      <th>13</th>\n",
       "      <td>308.591.647-48</td>\n",
       "      <td>Carolina Ribeiro</td>\n",
       "      <td>13</td>\n",
       "      <td>carolina.ribeiro@ig.com.br</td>\n",
       "    </tr>\n",
       "    <tr>\n",
       "      <th>14</th>\n",
       "      <td>093.514.628-89</td>\n",
       "      <td>Juan Oliveira</td>\n",
       "      <td>11</td>\n",
       "      <td>juan.oliveira@ig.com.br</td>\n",
       "    </tr>\n",
       "    <tr>\n",
       "      <th>15</th>\n",
       "      <td>871.563.092-77</td>\n",
       "      <td>Vitor Gabriel Campos</td>\n",
       "      <td>23</td>\n",
       "      <td>vitorgabriel.campos@yahoo.com.br</td>\n",
       "    </tr>\n",
       "    <tr>\n",
       "      <th>16</th>\n",
       "      <td>243.175.896-64</td>\n",
       "      <td>Maria Eduarda Rodrigues</td>\n",
       "      <td>20</td>\n",
       "      <td>mariaeduarda.rodrigues@uol.com.br</td>\n",
       "    </tr>\n",
       "    <tr>\n",
       "      <th>17</th>\n",
       "      <td>568.902.743-00</td>\n",
       "      <td>Enzo Gabriel Ramos</td>\n",
       "      <td>12</td>\n",
       "      <td>enzogabriel.ramos@uol.com.br</td>\n",
       "    </tr>\n",
       "    <tr>\n",
       "      <th>18</th>\n",
       "      <td>609.512.374-70</td>\n",
       "      <td>Augusto Fogaça</td>\n",
       "      <td>12</td>\n",
       "      <td>augusto.fogaça@ig.com.br</td>\n",
       "    </tr>\n",
       "    <tr>\n",
       "      <th>19</th>\n",
       "      <td>956.487.321-55</td>\n",
       "      <td>Ana Laura Costa</td>\n",
       "      <td>24</td>\n",
       "      <td>analaura.costa@bol.com.br</td>\n",
       "    </tr>\n",
       "    <tr>\n",
       "      <th>20</th>\n",
       "      <td>169.237.548-28</td>\n",
       "      <td>João Vitor Dias</td>\n",
       "      <td>27</td>\n",
       "      <td>joãovitor.dias@yahoo.com.br</td>\n",
       "    </tr>\n",
       "    <tr>\n",
       "      <th>21</th>\n",
       "      <td>385.276.940-00</td>\n",
       "      <td>Luiz Gustavo Cardoso</td>\n",
       "      <td>24</td>\n",
       "      <td>luizgustavo.cardoso@ig.com.br</td>\n",
       "    </tr>\n",
       "    <tr>\n",
       "      <th>22</th>\n",
       "      <td>231.649.750-07</td>\n",
       "      <td>Arthur Dias</td>\n",
       "      <td>12</td>\n",
       "      <td>arthur.dias@ig.com.br</td>\n",
       "    </tr>\n",
       "    <tr>\n",
       "      <th>23</th>\n",
       "      <td>751.692.384-28</td>\n",
       "      <td>Diogo Porto</td>\n",
       "      <td>14</td>\n",
       "      <td>diogo.porto@yahoo.com.br</td>\n",
       "    </tr>\n",
       "    <tr>\n",
       "      <th>24</th>\n",
       "      <td>819.364.275-91</td>\n",
       "      <td>Pedro Lucas Fernandes</td>\n",
       "      <td>28</td>\n",
       "      <td>pedrolucas.fernandes@gmail.com</td>\n",
       "    </tr>\n",
       "    <tr>\n",
       "      <th>25</th>\n",
       "      <td>139.746.058-00</td>\n",
       "      <td>Lorenzo Silveira</td>\n",
       "      <td>12</td>\n",
       "      <td>lorenzo.silveira@ig.com.br</td>\n",
       "    </tr>\n",
       "    <tr>\n",
       "      <th>26</th>\n",
       "      <td>980.732.641-96</td>\n",
       "      <td>Laura Novaes</td>\n",
       "      <td>16</td>\n",
       "      <td>laura.novaes@yahoo.com.br</td>\n",
       "    </tr>\n",
       "    <tr>\n",
       "      <th>27</th>\n",
       "      <td>658.940.172-11</td>\n",
       "      <td>Ana Carolina Silva</td>\n",
       "      <td>17</td>\n",
       "      <td>anacarolina.silva@yahoo.com.br</td>\n",
       "    </tr>\n",
       "    <tr>\n",
       "      <th>28</th>\n",
       "      <td>087.431.296-50</td>\n",
       "      <td>Sophie Moraes</td>\n",
       "      <td>21</td>\n",
       "      <td>sophie.moraes@yahoo.com.br</td>\n",
       "    </tr>\n",
       "    <tr>\n",
       "      <th>29</th>\n",
       "      <td>930.648.257-47</td>\n",
       "      <td>Miguel da Costa</td>\n",
       "      <td>26</td>\n",
       "      <td>miguel.dacosta@ig.com.br</td>\n",
       "    </tr>\n",
       "  </tbody>\n",
       "</table>\n",
       "</div>"
      ],
      "text/plain": [
       "               cpf                     nome  idade  \\\n",
       "0   479.861.320-78            Theo Silveira     18   \n",
       "1   315.840.269-60            Mariana Sales     18   \n",
       "2   468.750.132-07            Rebeca Castro     11   \n",
       "3   073.642.159-99             Davi da Mata     27   \n",
       "4   589.241.307-14            Cecília Lopes     18   \n",
       "5   862.579.034-83           Raquel Martins     15   \n",
       "6   584.137.926-73           Isabelly Lopes     24   \n",
       "7   097.561.432-07              João Campos     20   \n",
       "8   986.407.215-30       Guilherme da Cunha     10   \n",
       "9   591.670.823-86       Maria Luiza Araújo     10   \n",
       "10  761.859.032-02       João Miguel Campos     16   \n",
       "11  762.943.108-22  Enzo Gabriel Cavalcanti     23   \n",
       "12  561.429.803-70               Igor Sales     21   \n",
       "13  308.591.647-48         Carolina Ribeiro     13   \n",
       "14  093.514.628-89            Juan Oliveira     11   \n",
       "15  871.563.092-77     Vitor Gabriel Campos     23   \n",
       "16  243.175.896-64  Maria Eduarda Rodrigues     20   \n",
       "17  568.902.743-00       Enzo Gabriel Ramos     12   \n",
       "18  609.512.374-70           Augusto Fogaça     12   \n",
       "19  956.487.321-55          Ana Laura Costa     24   \n",
       "20  169.237.548-28          João Vitor Dias     27   \n",
       "21  385.276.940-00     Luiz Gustavo Cardoso     24   \n",
       "22  231.649.750-07              Arthur Dias     12   \n",
       "23  751.692.384-28              Diogo Porto     14   \n",
       "24  819.364.275-91    Pedro Lucas Fernandes     28   \n",
       "25  139.746.058-00         Lorenzo Silveira     12   \n",
       "26  980.732.641-96             Laura Novaes     16   \n",
       "27  658.940.172-11       Ana Carolina Silva     17   \n",
       "28  087.431.296-50            Sophie Moraes     21   \n",
       "29  930.648.257-47          Miguel da Costa     26   \n",
       "\n",
       "                                email  \n",
       "0            theo.silveira@uol.com.br  \n",
       "1             mariana.sales@ig.com.br  \n",
       "2            rebeca.castro@bol.com.br  \n",
       "3               davi.damata@ig.com.br  \n",
       "4            cecília.lopes@bol.com.br  \n",
       "5            raquel.martins@gmail.com  \n",
       "6            isabelly.lopes@ig.com.br  \n",
       "7              joão.campos@uol.com.br  \n",
       "8         guilherme.dacunha@ig.com.br  \n",
       "9         marialuiza.araújo@gmail.com  \n",
       "10       joãomiguel.campos@bol.com.br  \n",
       "11  enzogabriel.cavalcanti@bol.com.br  \n",
       "12             igor.sales@hotmail.com  \n",
       "13         carolina.ribeiro@ig.com.br  \n",
       "14            juan.oliveira@ig.com.br  \n",
       "15   vitorgabriel.campos@yahoo.com.br  \n",
       "16  mariaeduarda.rodrigues@uol.com.br  \n",
       "17       enzogabriel.ramos@uol.com.br  \n",
       "18           augusto.fogaça@ig.com.br  \n",
       "19          analaura.costa@bol.com.br  \n",
       "20        joãovitor.dias@yahoo.com.br  \n",
       "21      luizgustavo.cardoso@ig.com.br  \n",
       "22              arthur.dias@ig.com.br  \n",
       "23           diogo.porto@yahoo.com.br  \n",
       "24     pedrolucas.fernandes@gmail.com  \n",
       "25         lorenzo.silveira@ig.com.br  \n",
       "26          laura.novaes@yahoo.com.br  \n",
       "27     anacarolina.silva@yahoo.com.br  \n",
       "28         sophie.moraes@yahoo.com.br  \n",
       "29           miguel.dacosta@ig.com.br  "
      ]
     },
     "execution_count": 6,
     "metadata": {},
     "output_type": "execute_result"
    }
   ],
   "source": [
    "df = pd.DataFrame.from_records(lista_pessoas)\n",
    "df"
   ]
  },
  {
   "cell_type": "code",
   "execution_count": 7,
   "id": "e3879de5",
   "metadata": {},
   "outputs": [
    {
     "data": {
      "text/plain": [
       "[ObjectId('62eec44504b27d5e6012c7b5'),\n",
       " ObjectId('62eec44504b27d5e6012c7b6'),\n",
       " ObjectId('62eec44504b27d5e6012c7b7'),\n",
       " ObjectId('62eec44504b27d5e6012c7b8'),\n",
       " ObjectId('62eec44504b27d5e6012c7b9'),\n",
       " ObjectId('62eec44504b27d5e6012c7ba'),\n",
       " ObjectId('62eec44504b27d5e6012c7bb'),\n",
       " ObjectId('62eec44504b27d5e6012c7bc'),\n",
       " ObjectId('62eec44504b27d5e6012c7bd'),\n",
       " ObjectId('62eec44504b27d5e6012c7be'),\n",
       " ObjectId('62eec44504b27d5e6012c7bf'),\n",
       " ObjectId('62eec44504b27d5e6012c7c0'),\n",
       " ObjectId('62eec44504b27d5e6012c7c1'),\n",
       " ObjectId('62eec44504b27d5e6012c7c2'),\n",
       " ObjectId('62eec44504b27d5e6012c7c3'),\n",
       " ObjectId('62eec44504b27d5e6012c7c4'),\n",
       " ObjectId('62eec44504b27d5e6012c7c5'),\n",
       " ObjectId('62eec44504b27d5e6012c7c6'),\n",
       " ObjectId('62eec44504b27d5e6012c7c7'),\n",
       " ObjectId('62eec44504b27d5e6012c7c8'),\n",
       " ObjectId('62eec44504b27d5e6012c7c9'),\n",
       " ObjectId('62eec44504b27d5e6012c7ca'),\n",
       " ObjectId('62eec44504b27d5e6012c7cb'),\n",
       " ObjectId('62eec44504b27d5e6012c7cc'),\n",
       " ObjectId('62eec44504b27d5e6012c7cd'),\n",
       " ObjectId('62eec44504b27d5e6012c7ce'),\n",
       " ObjectId('62eec44504b27d5e6012c7cf'),\n",
       " ObjectId('62eec44504b27d5e6012c7d0'),\n",
       " ObjectId('62eec44504b27d5e6012c7d1'),\n",
       " ObjectId('62eec44504b27d5e6012c7d2')]"
      ]
     },
     "execution_count": 7,
     "metadata": {},
     "output_type": "execute_result"
    }
   ],
   "source": [
    "# se a coleção não existir, ela é criada automagicamente :-)\n",
    "colecao_pessoa = db['pessoas']\n",
    "pessoa_ids = colecao_pessoa.insert_many(lista_pessoas).inserted_ids\n",
    "pessoa_ids"
   ]
  },
  {
   "cell_type": "markdown",
   "id": "783c2b81",
   "metadata": {},
   "source": [
    "### Pesquisa comum\n",
    "\n",
    "Encontrar as pessoas que tenham mais de 18 anos"
   ]
  },
  {
   "cell_type": "code",
   "execution_count": 8,
   "id": "8eadda03",
   "metadata": {},
   "outputs": [
    {
     "name": "stdout",
     "output_type": "stream",
     "text": [
      "{'idade': {'$gt': 18}}\n"
     ]
    }
   ],
   "source": [
    "criterio = {\n",
    "    'idade': {'$gt':18}\n",
    "}\n",
    "pp.pprint(criterio)"
   ]
  },
  {
   "cell_type": "code",
   "execution_count": 9,
   "id": "c856047e",
   "metadata": {},
   "outputs": [
    {
     "name": "stdout",
     "output_type": "stream",
     "text": [
      "{'_id': ObjectId('62eec44504b27d5e6012c7b8'),\n",
      " 'cpf': '073.642.159-99',\n",
      " 'email': 'davi.damata@ig.com.br',\n",
      " 'idade': 27,\n",
      " 'nome': 'Davi da Mata'}\n"
     ]
    }
   ],
   "source": [
    "p = colecao_pessoa.find_one(criterio)\n",
    "pp.pprint(p)"
   ]
  },
  {
   "cell_type": "code",
   "execution_count": 10,
   "id": "a937cf16",
   "metadata": {
    "scrolled": false
   },
   "outputs": [
    {
     "name": "stdout",
     "output_type": "stream",
     "text": [
      "{'_id': ObjectId('62eec44504b27d5e6012c7b8'),\n",
      " 'cpf': '073.642.159-99',\n",
      " 'email': 'davi.damata@ig.com.br',\n",
      " 'idade': 27,\n",
      " 'nome': 'Davi da Mata'}\n",
      "{'_id': ObjectId('62eec44504b27d5e6012c7bb'),\n",
      " 'cpf': '584.137.926-73',\n",
      " 'email': 'isabelly.lopes@ig.com.br',\n",
      " 'idade': 24,\n",
      " 'nome': 'Isabelly Lopes'}\n",
      "{'_id': ObjectId('62eec44504b27d5e6012c7bc'),\n",
      " 'cpf': '097.561.432-07',\n",
      " 'email': 'joão.campos@uol.com.br',\n",
      " 'idade': 20,\n",
      " 'nome': 'João Campos'}\n",
      "{'_id': ObjectId('62eec44504b27d5e6012c7c0'),\n",
      " 'cpf': '762.943.108-22',\n",
      " 'email': 'enzogabriel.cavalcanti@bol.com.br',\n",
      " 'idade': 23,\n",
      " 'nome': 'Enzo Gabriel Cavalcanti'}\n",
      "{'_id': ObjectId('62eec44504b27d5e6012c7c1'),\n",
      " 'cpf': '561.429.803-70',\n",
      " 'email': 'igor.sales@hotmail.com',\n",
      " 'idade': 21,\n",
      " 'nome': 'Igor Sales'}\n",
      "{'_id': ObjectId('62eec44504b27d5e6012c7c4'),\n",
      " 'cpf': '871.563.092-77',\n",
      " 'email': 'vitorgabriel.campos@yahoo.com.br',\n",
      " 'idade': 23,\n",
      " 'nome': 'Vitor Gabriel Campos'}\n",
      "{'_id': ObjectId('62eec44504b27d5e6012c7c5'),\n",
      " 'cpf': '243.175.896-64',\n",
      " 'email': 'mariaeduarda.rodrigues@uol.com.br',\n",
      " 'idade': 20,\n",
      " 'nome': 'Maria Eduarda Rodrigues'}\n",
      "{'_id': ObjectId('62eec44504b27d5e6012c7c8'),\n",
      " 'cpf': '956.487.321-55',\n",
      " 'email': 'analaura.costa@bol.com.br',\n",
      " 'idade': 24,\n",
      " 'nome': 'Ana Laura Costa'}\n",
      "{'_id': ObjectId('62eec44504b27d5e6012c7c9'),\n",
      " 'cpf': '169.237.548-28',\n",
      " 'email': 'joãovitor.dias@yahoo.com.br',\n",
      " 'idade': 27,\n",
      " 'nome': 'João Vitor Dias'}\n",
      "{'_id': ObjectId('62eec44504b27d5e6012c7ca'),\n",
      " 'cpf': '385.276.940-00',\n",
      " 'email': 'luizgustavo.cardoso@ig.com.br',\n",
      " 'idade': 24,\n",
      " 'nome': 'Luiz Gustavo Cardoso'}\n",
      "{'_id': ObjectId('62eec44504b27d5e6012c7cd'),\n",
      " 'cpf': '819.364.275-91',\n",
      " 'email': 'pedrolucas.fernandes@gmail.com',\n",
      " 'idade': 28,\n",
      " 'nome': 'Pedro Lucas Fernandes'}\n",
      "{'_id': ObjectId('62eec44504b27d5e6012c7d1'),\n",
      " 'cpf': '087.431.296-50',\n",
      " 'email': 'sophie.moraes@yahoo.com.br',\n",
      " 'idade': 21,\n",
      " 'nome': 'Sophie Moraes'}\n",
      "{'_id': ObjectId('62eec44504b27d5e6012c7d2'),\n",
      " 'cpf': '930.648.257-47',\n",
      " 'email': 'miguel.dacosta@ig.com.br',\n",
      " 'idade': 26,\n",
      " 'nome': 'Miguel da Costa'}\n"
     ]
    }
   ],
   "source": [
    "for p in colecao_pessoa.find(criterio):\n",
    "    pp.pprint(p)"
   ]
  },
  {
   "cell_type": "markdown",
   "id": "ffd2bf2d",
   "metadata": {},
   "source": [
    "## Mesma consulta utilizando aggregate\n",
    "\n",
    "### Construção do pipeline"
   ]
  },
  {
   "cell_type": "code",
   "execution_count": 11,
   "id": "d720f454",
   "metadata": {},
   "outputs": [
    {
     "name": "stdout",
     "output_type": "stream",
     "text": [
      "\n",
      "SELECT *\n",
      "FROM df\n",
      "WHERE idade > 18\n",
      "\n"
     ]
    }
   ],
   "source": [
    "sql = \"\"\"\n",
    "SELECT *\n",
    "FROM df\n",
    "WHERE idade > 18\n",
    "\"\"\"\n",
    "\n",
    "print(sql)"
   ]
  },
  {
   "cell_type": "code",
   "execution_count": 12,
   "id": "ee257285",
   "metadata": {},
   "outputs": [
    {
     "data": {
      "text/html": [
       "<div>\n",
       "<style scoped>\n",
       "    .dataframe tbody tr th:only-of-type {\n",
       "        vertical-align: middle;\n",
       "    }\n",
       "\n",
       "    .dataframe tbody tr th {\n",
       "        vertical-align: top;\n",
       "    }\n",
       "\n",
       "    .dataframe thead th {\n",
       "        text-align: right;\n",
       "    }\n",
       "</style>\n",
       "<table border=\"1\" class=\"dataframe\">\n",
       "  <thead>\n",
       "    <tr style=\"text-align: right;\">\n",
       "      <th></th>\n",
       "      <th>cpf</th>\n",
       "      <th>nome</th>\n",
       "      <th>idade</th>\n",
       "      <th>email</th>\n",
       "    </tr>\n",
       "  </thead>\n",
       "  <tbody>\n",
       "    <tr>\n",
       "      <th>0</th>\n",
       "      <td>073.642.159-99</td>\n",
       "      <td>Davi da Mata</td>\n",
       "      <td>27</td>\n",
       "      <td>davi.damata@ig.com.br</td>\n",
       "    </tr>\n",
       "    <tr>\n",
       "      <th>1</th>\n",
       "      <td>584.137.926-73</td>\n",
       "      <td>Isabelly Lopes</td>\n",
       "      <td>24</td>\n",
       "      <td>isabelly.lopes@ig.com.br</td>\n",
       "    </tr>\n",
       "    <tr>\n",
       "      <th>2</th>\n",
       "      <td>097.561.432-07</td>\n",
       "      <td>João Campos</td>\n",
       "      <td>20</td>\n",
       "      <td>joão.campos@uol.com.br</td>\n",
       "    </tr>\n",
       "    <tr>\n",
       "      <th>3</th>\n",
       "      <td>762.943.108-22</td>\n",
       "      <td>Enzo Gabriel Cavalcanti</td>\n",
       "      <td>23</td>\n",
       "      <td>enzogabriel.cavalcanti@bol.com.br</td>\n",
       "    </tr>\n",
       "    <tr>\n",
       "      <th>4</th>\n",
       "      <td>561.429.803-70</td>\n",
       "      <td>Igor Sales</td>\n",
       "      <td>21</td>\n",
       "      <td>igor.sales@hotmail.com</td>\n",
       "    </tr>\n",
       "    <tr>\n",
       "      <th>5</th>\n",
       "      <td>871.563.092-77</td>\n",
       "      <td>Vitor Gabriel Campos</td>\n",
       "      <td>23</td>\n",
       "      <td>vitorgabriel.campos@yahoo.com.br</td>\n",
       "    </tr>\n",
       "    <tr>\n",
       "      <th>6</th>\n",
       "      <td>243.175.896-64</td>\n",
       "      <td>Maria Eduarda Rodrigues</td>\n",
       "      <td>20</td>\n",
       "      <td>mariaeduarda.rodrigues@uol.com.br</td>\n",
       "    </tr>\n",
       "    <tr>\n",
       "      <th>7</th>\n",
       "      <td>956.487.321-55</td>\n",
       "      <td>Ana Laura Costa</td>\n",
       "      <td>24</td>\n",
       "      <td>analaura.costa@bol.com.br</td>\n",
       "    </tr>\n",
       "    <tr>\n",
       "      <th>8</th>\n",
       "      <td>169.237.548-28</td>\n",
       "      <td>João Vitor Dias</td>\n",
       "      <td>27</td>\n",
       "      <td>joãovitor.dias@yahoo.com.br</td>\n",
       "    </tr>\n",
       "    <tr>\n",
       "      <th>9</th>\n",
       "      <td>385.276.940-00</td>\n",
       "      <td>Luiz Gustavo Cardoso</td>\n",
       "      <td>24</td>\n",
       "      <td>luizgustavo.cardoso@ig.com.br</td>\n",
       "    </tr>\n",
       "    <tr>\n",
       "      <th>10</th>\n",
       "      <td>819.364.275-91</td>\n",
       "      <td>Pedro Lucas Fernandes</td>\n",
       "      <td>28</td>\n",
       "      <td>pedrolucas.fernandes@gmail.com</td>\n",
       "    </tr>\n",
       "    <tr>\n",
       "      <th>11</th>\n",
       "      <td>087.431.296-50</td>\n",
       "      <td>Sophie Moraes</td>\n",
       "      <td>21</td>\n",
       "      <td>sophie.moraes@yahoo.com.br</td>\n",
       "    </tr>\n",
       "    <tr>\n",
       "      <th>12</th>\n",
       "      <td>930.648.257-47</td>\n",
       "      <td>Miguel da Costa</td>\n",
       "      <td>26</td>\n",
       "      <td>miguel.dacosta@ig.com.br</td>\n",
       "    </tr>\n",
       "  </tbody>\n",
       "</table>\n",
       "</div>"
      ],
      "text/plain": [
       "               cpf                     nome  idade  \\\n",
       "0   073.642.159-99             Davi da Mata     27   \n",
       "1   584.137.926-73           Isabelly Lopes     24   \n",
       "2   097.561.432-07              João Campos     20   \n",
       "3   762.943.108-22  Enzo Gabriel Cavalcanti     23   \n",
       "4   561.429.803-70               Igor Sales     21   \n",
       "5   871.563.092-77     Vitor Gabriel Campos     23   \n",
       "6   243.175.896-64  Maria Eduarda Rodrigues     20   \n",
       "7   956.487.321-55          Ana Laura Costa     24   \n",
       "8   169.237.548-28          João Vitor Dias     27   \n",
       "9   385.276.940-00     Luiz Gustavo Cardoso     24   \n",
       "10  819.364.275-91    Pedro Lucas Fernandes     28   \n",
       "11  087.431.296-50            Sophie Moraes     21   \n",
       "12  930.648.257-47          Miguel da Costa     26   \n",
       "\n",
       "                                email  \n",
       "0               davi.damata@ig.com.br  \n",
       "1            isabelly.lopes@ig.com.br  \n",
       "2              joão.campos@uol.com.br  \n",
       "3   enzogabriel.cavalcanti@bol.com.br  \n",
       "4              igor.sales@hotmail.com  \n",
       "5    vitorgabriel.campos@yahoo.com.br  \n",
       "6   mariaeduarda.rodrigues@uol.com.br  \n",
       "7           analaura.costa@bol.com.br  \n",
       "8         joãovitor.dias@yahoo.com.br  \n",
       "9       luizgustavo.cardoso@ig.com.br  \n",
       "10     pedrolucas.fernandes@gmail.com  \n",
       "11         sophie.moraes@yahoo.com.br  \n",
       "12           miguel.dacosta@ig.com.br  "
      ]
     },
     "execution_count": 12,
     "metadata": {},
     "output_type": "execute_result"
    }
   ],
   "source": [
    "sqldf(sql, globals())"
   ]
  },
  {
   "cell_type": "code",
   "execution_count": 13,
   "id": "1b1ddcb3",
   "metadata": {},
   "outputs": [
    {
     "data": {
      "text/plain": [
       "[{'$match': {'idade': {'$gt': 18}}}]"
      ]
     },
     "execution_count": 13,
     "metadata": {},
     "output_type": "execute_result"
    }
   ],
   "source": [
    "pipeline = [\n",
    "    # apenas acima de 18 anos\n",
    "    {\"$match\": {'idade': {'$gt': 18}}},\n",
    "]\n",
    "\n",
    "pipeline"
   ]
  },
  {
   "cell_type": "code",
   "execution_count": 14,
   "id": "8ae339ff",
   "metadata": {},
   "outputs": [
    {
     "name": "stdout",
     "output_type": "stream",
     "text": [
      "[{'_id': ObjectId('62eec44504b27d5e6012c7b8'),\n",
      "  'cpf': '073.642.159-99',\n",
      "  'email': 'davi.damata@ig.com.br',\n",
      "  'idade': 27,\n",
      "  'nome': 'Davi da Mata'},\n",
      " {'_id': ObjectId('62eec44504b27d5e6012c7bb'),\n",
      "  'cpf': '584.137.926-73',\n",
      "  'email': 'isabelly.lopes@ig.com.br',\n",
      "  'idade': 24,\n",
      "  'nome': 'Isabelly Lopes'},\n",
      " {'_id': ObjectId('62eec44504b27d5e6012c7bc'),\n",
      "  'cpf': '097.561.432-07',\n",
      "  'email': 'joão.campos@uol.com.br',\n",
      "  'idade': 20,\n",
      "  'nome': 'João Campos'},\n",
      " {'_id': ObjectId('62eec44504b27d5e6012c7c0'),\n",
      "  'cpf': '762.943.108-22',\n",
      "  'email': 'enzogabriel.cavalcanti@bol.com.br',\n",
      "  'idade': 23,\n",
      "  'nome': 'Enzo Gabriel Cavalcanti'},\n",
      " {'_id': ObjectId('62eec44504b27d5e6012c7c1'),\n",
      "  'cpf': '561.429.803-70',\n",
      "  'email': 'igor.sales@hotmail.com',\n",
      "  'idade': 21,\n",
      "  'nome': 'Igor Sales'},\n",
      " {'_id': ObjectId('62eec44504b27d5e6012c7c4'),\n",
      "  'cpf': '871.563.092-77',\n",
      "  'email': 'vitorgabriel.campos@yahoo.com.br',\n",
      "  'idade': 23,\n",
      "  'nome': 'Vitor Gabriel Campos'},\n",
      " {'_id': ObjectId('62eec44504b27d5e6012c7c5'),\n",
      "  'cpf': '243.175.896-64',\n",
      "  'email': 'mariaeduarda.rodrigues@uol.com.br',\n",
      "  'idade': 20,\n",
      "  'nome': 'Maria Eduarda Rodrigues'},\n",
      " {'_id': ObjectId('62eec44504b27d5e6012c7c8'),\n",
      "  'cpf': '956.487.321-55',\n",
      "  'email': 'analaura.costa@bol.com.br',\n",
      "  'idade': 24,\n",
      "  'nome': 'Ana Laura Costa'},\n",
      " {'_id': ObjectId('62eec44504b27d5e6012c7c9'),\n",
      "  'cpf': '169.237.548-28',\n",
      "  'email': 'joãovitor.dias@yahoo.com.br',\n",
      "  'idade': 27,\n",
      "  'nome': 'João Vitor Dias'},\n",
      " {'_id': ObjectId('62eec44504b27d5e6012c7ca'),\n",
      "  'cpf': '385.276.940-00',\n",
      "  'email': 'luizgustavo.cardoso@ig.com.br',\n",
      "  'idade': 24,\n",
      "  'nome': 'Luiz Gustavo Cardoso'},\n",
      " {'_id': ObjectId('62eec44504b27d5e6012c7cd'),\n",
      "  'cpf': '819.364.275-91',\n",
      "  'email': 'pedrolucas.fernandes@gmail.com',\n",
      "  'idade': 28,\n",
      "  'nome': 'Pedro Lucas Fernandes'},\n",
      " {'_id': ObjectId('62eec44504b27d5e6012c7d1'),\n",
      "  'cpf': '087.431.296-50',\n",
      "  'email': 'sophie.moraes@yahoo.com.br',\n",
      "  'idade': 21,\n",
      "  'nome': 'Sophie Moraes'},\n",
      " {'_id': ObjectId('62eec44504b27d5e6012c7d2'),\n",
      "  'cpf': '930.648.257-47',\n",
      "  'email': 'miguel.dacosta@ig.com.br',\n",
      "  'idade': 26,\n",
      "  'nome': 'Miguel da Costa'}]\n"
     ]
    }
   ],
   "source": [
    "pp.pprint(list(colecao_pessoa.aggregate(pipeline)))"
   ]
  },
  {
   "cell_type": "markdown",
   "id": "7b722258",
   "metadata": {},
   "source": [
    "### Consulta: quero exibir apenas o nome e a idade (independente da idade)"
   ]
  },
  {
   "cell_type": "code",
   "execution_count": 15,
   "id": "2598bb02",
   "metadata": {},
   "outputs": [
    {
     "name": "stdout",
     "output_type": "stream",
     "text": [
      "\n",
      "SELECT nome, idade\n",
      "FROM df\n",
      "\n"
     ]
    }
   ],
   "source": [
    "sql = \"\"\"\n",
    "SELECT nome, idade\n",
    "FROM df\n",
    "\"\"\"\n",
    "\n",
    "print(sql)"
   ]
  },
  {
   "cell_type": "code",
   "execution_count": 16,
   "id": "d093dc90",
   "metadata": {},
   "outputs": [
    {
     "data": {
      "text/html": [
       "<div>\n",
       "<style scoped>\n",
       "    .dataframe tbody tr th:only-of-type {\n",
       "        vertical-align: middle;\n",
       "    }\n",
       "\n",
       "    .dataframe tbody tr th {\n",
       "        vertical-align: top;\n",
       "    }\n",
       "\n",
       "    .dataframe thead th {\n",
       "        text-align: right;\n",
       "    }\n",
       "</style>\n",
       "<table border=\"1\" class=\"dataframe\">\n",
       "  <thead>\n",
       "    <tr style=\"text-align: right;\">\n",
       "      <th></th>\n",
       "      <th>nome</th>\n",
       "      <th>idade</th>\n",
       "    </tr>\n",
       "  </thead>\n",
       "  <tbody>\n",
       "    <tr>\n",
       "      <th>0</th>\n",
       "      <td>Theo Silveira</td>\n",
       "      <td>18</td>\n",
       "    </tr>\n",
       "    <tr>\n",
       "      <th>1</th>\n",
       "      <td>Mariana Sales</td>\n",
       "      <td>18</td>\n",
       "    </tr>\n",
       "    <tr>\n",
       "      <th>2</th>\n",
       "      <td>Rebeca Castro</td>\n",
       "      <td>11</td>\n",
       "    </tr>\n",
       "    <tr>\n",
       "      <th>3</th>\n",
       "      <td>Davi da Mata</td>\n",
       "      <td>27</td>\n",
       "    </tr>\n",
       "    <tr>\n",
       "      <th>4</th>\n",
       "      <td>Cecília Lopes</td>\n",
       "      <td>18</td>\n",
       "    </tr>\n",
       "    <tr>\n",
       "      <th>5</th>\n",
       "      <td>Raquel Martins</td>\n",
       "      <td>15</td>\n",
       "    </tr>\n",
       "    <tr>\n",
       "      <th>6</th>\n",
       "      <td>Isabelly Lopes</td>\n",
       "      <td>24</td>\n",
       "    </tr>\n",
       "    <tr>\n",
       "      <th>7</th>\n",
       "      <td>João Campos</td>\n",
       "      <td>20</td>\n",
       "    </tr>\n",
       "    <tr>\n",
       "      <th>8</th>\n",
       "      <td>Guilherme da Cunha</td>\n",
       "      <td>10</td>\n",
       "    </tr>\n",
       "    <tr>\n",
       "      <th>9</th>\n",
       "      <td>Maria Luiza Araújo</td>\n",
       "      <td>10</td>\n",
       "    </tr>\n",
       "    <tr>\n",
       "      <th>10</th>\n",
       "      <td>João Miguel Campos</td>\n",
       "      <td>16</td>\n",
       "    </tr>\n",
       "    <tr>\n",
       "      <th>11</th>\n",
       "      <td>Enzo Gabriel Cavalcanti</td>\n",
       "      <td>23</td>\n",
       "    </tr>\n",
       "    <tr>\n",
       "      <th>12</th>\n",
       "      <td>Igor Sales</td>\n",
       "      <td>21</td>\n",
       "    </tr>\n",
       "    <tr>\n",
       "      <th>13</th>\n",
       "      <td>Carolina Ribeiro</td>\n",
       "      <td>13</td>\n",
       "    </tr>\n",
       "    <tr>\n",
       "      <th>14</th>\n",
       "      <td>Juan Oliveira</td>\n",
       "      <td>11</td>\n",
       "    </tr>\n",
       "    <tr>\n",
       "      <th>15</th>\n",
       "      <td>Vitor Gabriel Campos</td>\n",
       "      <td>23</td>\n",
       "    </tr>\n",
       "    <tr>\n",
       "      <th>16</th>\n",
       "      <td>Maria Eduarda Rodrigues</td>\n",
       "      <td>20</td>\n",
       "    </tr>\n",
       "    <tr>\n",
       "      <th>17</th>\n",
       "      <td>Enzo Gabriel Ramos</td>\n",
       "      <td>12</td>\n",
       "    </tr>\n",
       "    <tr>\n",
       "      <th>18</th>\n",
       "      <td>Augusto Fogaça</td>\n",
       "      <td>12</td>\n",
       "    </tr>\n",
       "    <tr>\n",
       "      <th>19</th>\n",
       "      <td>Ana Laura Costa</td>\n",
       "      <td>24</td>\n",
       "    </tr>\n",
       "    <tr>\n",
       "      <th>20</th>\n",
       "      <td>João Vitor Dias</td>\n",
       "      <td>27</td>\n",
       "    </tr>\n",
       "    <tr>\n",
       "      <th>21</th>\n",
       "      <td>Luiz Gustavo Cardoso</td>\n",
       "      <td>24</td>\n",
       "    </tr>\n",
       "    <tr>\n",
       "      <th>22</th>\n",
       "      <td>Arthur Dias</td>\n",
       "      <td>12</td>\n",
       "    </tr>\n",
       "    <tr>\n",
       "      <th>23</th>\n",
       "      <td>Diogo Porto</td>\n",
       "      <td>14</td>\n",
       "    </tr>\n",
       "    <tr>\n",
       "      <th>24</th>\n",
       "      <td>Pedro Lucas Fernandes</td>\n",
       "      <td>28</td>\n",
       "    </tr>\n",
       "    <tr>\n",
       "      <th>25</th>\n",
       "      <td>Lorenzo Silveira</td>\n",
       "      <td>12</td>\n",
       "    </tr>\n",
       "    <tr>\n",
       "      <th>26</th>\n",
       "      <td>Laura Novaes</td>\n",
       "      <td>16</td>\n",
       "    </tr>\n",
       "    <tr>\n",
       "      <th>27</th>\n",
       "      <td>Ana Carolina Silva</td>\n",
       "      <td>17</td>\n",
       "    </tr>\n",
       "    <tr>\n",
       "      <th>28</th>\n",
       "      <td>Sophie Moraes</td>\n",
       "      <td>21</td>\n",
       "    </tr>\n",
       "    <tr>\n",
       "      <th>29</th>\n",
       "      <td>Miguel da Costa</td>\n",
       "      <td>26</td>\n",
       "    </tr>\n",
       "  </tbody>\n",
       "</table>\n",
       "</div>"
      ],
      "text/plain": [
       "                       nome  idade\n",
       "0             Theo Silveira     18\n",
       "1             Mariana Sales     18\n",
       "2             Rebeca Castro     11\n",
       "3              Davi da Mata     27\n",
       "4             Cecília Lopes     18\n",
       "5            Raquel Martins     15\n",
       "6            Isabelly Lopes     24\n",
       "7               João Campos     20\n",
       "8        Guilherme da Cunha     10\n",
       "9        Maria Luiza Araújo     10\n",
       "10       João Miguel Campos     16\n",
       "11  Enzo Gabriel Cavalcanti     23\n",
       "12               Igor Sales     21\n",
       "13         Carolina Ribeiro     13\n",
       "14            Juan Oliveira     11\n",
       "15     Vitor Gabriel Campos     23\n",
       "16  Maria Eduarda Rodrigues     20\n",
       "17       Enzo Gabriel Ramos     12\n",
       "18           Augusto Fogaça     12\n",
       "19          Ana Laura Costa     24\n",
       "20          João Vitor Dias     27\n",
       "21     Luiz Gustavo Cardoso     24\n",
       "22              Arthur Dias     12\n",
       "23              Diogo Porto     14\n",
       "24    Pedro Lucas Fernandes     28\n",
       "25         Lorenzo Silveira     12\n",
       "26             Laura Novaes     16\n",
       "27       Ana Carolina Silva     17\n",
       "28            Sophie Moraes     21\n",
       "29          Miguel da Costa     26"
      ]
     },
     "execution_count": 16,
     "metadata": {},
     "output_type": "execute_result"
    }
   ],
   "source": [
    "sqldf(sql, globals())"
   ]
  },
  {
   "cell_type": "code",
   "execution_count": 17,
   "id": "ebb8cb5f",
   "metadata": {},
   "outputs": [
    {
     "data": {
      "text/plain": [
       "[{'$project': {'nome': 1, 'idade': 1, '_id': 0}}]"
      ]
     },
     "execution_count": 17,
     "metadata": {},
     "output_type": "execute_result"
    }
   ],
   "source": [
    "pipeline = [\n",
    "    # apenas os campos de interesse\n",
    "    { \"$project\": { \n",
    "              \"nome\":1,\n",
    "              \"idade\":1,\n",
    "              \"_id\":0}\n",
    "    },\n",
    "]\n",
    "\n",
    "pipeline"
   ]
  },
  {
   "cell_type": "code",
   "execution_count": 18,
   "id": "4f1b56a5",
   "metadata": {},
   "outputs": [
    {
     "name": "stdout",
     "output_type": "stream",
     "text": [
      "[{'idade': 18, 'nome': 'Theo Silveira'}, {'idade': 18, 'nome': 'Mariana Sales'},\n",
      " {'idade': 11, 'nome': 'Rebeca Castro'}, {'idade': 27, 'nome': 'Davi da Mata'},\n",
      " {'idade': 18, 'nome': 'Cecília Lopes'},\n",
      " {'idade': 15, 'nome': 'Raquel Martins'},\n",
      " {'idade': 24, 'nome': 'Isabelly Lopes'}, {'idade': 20, 'nome': 'João Campos'},\n",
      " {'idade': 10, 'nome': 'Guilherme da Cunha'},\n",
      " {'idade': 10, 'nome': 'Maria Luiza Araújo'},\n",
      " {'idade': 16, 'nome': 'João Miguel Campos'},\n",
      " {'idade': 23, 'nome': 'Enzo Gabriel Cavalcanti'},\n",
      " {'idade': 21, 'nome': 'Igor Sales'}, {'idade': 13, 'nome': 'Carolina Ribeiro'},\n",
      " {'idade': 11, 'nome': 'Juan Oliveira'},\n",
      " {'idade': 23, 'nome': 'Vitor Gabriel Campos'},\n",
      " {'idade': 20, 'nome': 'Maria Eduarda Rodrigues'},\n",
      " {'idade': 12, 'nome': 'Enzo Gabriel Ramos'},\n",
      " {'idade': 12, 'nome': 'Augusto Fogaça'},\n",
      " {'idade': 24, 'nome': 'Ana Laura Costa'},\n",
      " {'idade': 27, 'nome': 'João Vitor Dias'},\n",
      " {'idade': 24, 'nome': 'Luiz Gustavo Cardoso'},\n",
      " {'idade': 12, 'nome': 'Arthur Dias'}, {'idade': 14, 'nome': 'Diogo Porto'},\n",
      " {'idade': 28, 'nome': 'Pedro Lucas Fernandes'},\n",
      " {'idade': 12, 'nome': 'Lorenzo Silveira'},\n",
      " {'idade': 16, 'nome': 'Laura Novaes'},\n",
      " {'idade': 17, 'nome': 'Ana Carolina Silva'},\n",
      " {'idade': 21, 'nome': 'Sophie Moraes'},\n",
      " {'idade': 26, 'nome': 'Miguel da Costa'}]\n"
     ]
    }
   ],
   "source": [
    "pp.pprint(list(colecao_pessoa.aggregate(pipeline)))"
   ]
  },
  {
   "cell_type": "markdown",
   "id": "388d2315",
   "metadata": {},
   "source": [
    "### Consulta: quero exibir apenas o nome e a idade (apenas de quem possui acima de 18 anos)"
   ]
  },
  {
   "cell_type": "code",
   "execution_count": 19,
   "id": "f7e622d4",
   "metadata": {},
   "outputs": [
    {
     "name": "stdout",
     "output_type": "stream",
     "text": [
      "\n",
      "SELECT nome, idade\n",
      "FROM df\n",
      "WHERE idade > 18\n",
      "\n"
     ]
    }
   ],
   "source": [
    "sql = \"\"\"\n",
    "SELECT nome, idade\n",
    "FROM df\n",
    "WHERE idade > 18\n",
    "\"\"\"\n",
    "\n",
    "print(sql)"
   ]
  },
  {
   "cell_type": "code",
   "execution_count": 20,
   "id": "b0651d1e",
   "metadata": {},
   "outputs": [
    {
     "data": {
      "text/html": [
       "<div>\n",
       "<style scoped>\n",
       "    .dataframe tbody tr th:only-of-type {\n",
       "        vertical-align: middle;\n",
       "    }\n",
       "\n",
       "    .dataframe tbody tr th {\n",
       "        vertical-align: top;\n",
       "    }\n",
       "\n",
       "    .dataframe thead th {\n",
       "        text-align: right;\n",
       "    }\n",
       "</style>\n",
       "<table border=\"1\" class=\"dataframe\">\n",
       "  <thead>\n",
       "    <tr style=\"text-align: right;\">\n",
       "      <th></th>\n",
       "      <th>nome</th>\n",
       "      <th>idade</th>\n",
       "    </tr>\n",
       "  </thead>\n",
       "  <tbody>\n",
       "    <tr>\n",
       "      <th>0</th>\n",
       "      <td>Davi da Mata</td>\n",
       "      <td>27</td>\n",
       "    </tr>\n",
       "    <tr>\n",
       "      <th>1</th>\n",
       "      <td>Isabelly Lopes</td>\n",
       "      <td>24</td>\n",
       "    </tr>\n",
       "    <tr>\n",
       "      <th>2</th>\n",
       "      <td>João Campos</td>\n",
       "      <td>20</td>\n",
       "    </tr>\n",
       "    <tr>\n",
       "      <th>3</th>\n",
       "      <td>Enzo Gabriel Cavalcanti</td>\n",
       "      <td>23</td>\n",
       "    </tr>\n",
       "    <tr>\n",
       "      <th>4</th>\n",
       "      <td>Igor Sales</td>\n",
       "      <td>21</td>\n",
       "    </tr>\n",
       "    <tr>\n",
       "      <th>5</th>\n",
       "      <td>Vitor Gabriel Campos</td>\n",
       "      <td>23</td>\n",
       "    </tr>\n",
       "    <tr>\n",
       "      <th>6</th>\n",
       "      <td>Maria Eduarda Rodrigues</td>\n",
       "      <td>20</td>\n",
       "    </tr>\n",
       "    <tr>\n",
       "      <th>7</th>\n",
       "      <td>Ana Laura Costa</td>\n",
       "      <td>24</td>\n",
       "    </tr>\n",
       "    <tr>\n",
       "      <th>8</th>\n",
       "      <td>João Vitor Dias</td>\n",
       "      <td>27</td>\n",
       "    </tr>\n",
       "    <tr>\n",
       "      <th>9</th>\n",
       "      <td>Luiz Gustavo Cardoso</td>\n",
       "      <td>24</td>\n",
       "    </tr>\n",
       "    <tr>\n",
       "      <th>10</th>\n",
       "      <td>Pedro Lucas Fernandes</td>\n",
       "      <td>28</td>\n",
       "    </tr>\n",
       "    <tr>\n",
       "      <th>11</th>\n",
       "      <td>Sophie Moraes</td>\n",
       "      <td>21</td>\n",
       "    </tr>\n",
       "    <tr>\n",
       "      <th>12</th>\n",
       "      <td>Miguel da Costa</td>\n",
       "      <td>26</td>\n",
       "    </tr>\n",
       "  </tbody>\n",
       "</table>\n",
       "</div>"
      ],
      "text/plain": [
       "                       nome  idade\n",
       "0              Davi da Mata     27\n",
       "1            Isabelly Lopes     24\n",
       "2               João Campos     20\n",
       "3   Enzo Gabriel Cavalcanti     23\n",
       "4                Igor Sales     21\n",
       "5      Vitor Gabriel Campos     23\n",
       "6   Maria Eduarda Rodrigues     20\n",
       "7           Ana Laura Costa     24\n",
       "8           João Vitor Dias     27\n",
       "9      Luiz Gustavo Cardoso     24\n",
       "10    Pedro Lucas Fernandes     28\n",
       "11            Sophie Moraes     21\n",
       "12          Miguel da Costa     26"
      ]
     },
     "execution_count": 20,
     "metadata": {},
     "output_type": "execute_result"
    }
   ],
   "source": [
    "sqldf(sql, globals())"
   ]
  },
  {
   "cell_type": "code",
   "execution_count": 21,
   "id": "ec863fad",
   "metadata": {},
   "outputs": [
    {
     "data": {
      "text/plain": [
       "[{'$match': {'idade': {'$gt': 18}}},\n",
       " {'$project': {'nome': 1, 'idade': 1, '_id': 0}}]"
      ]
     },
     "execution_count": 21,
     "metadata": {},
     "output_type": "execute_result"
    }
   ],
   "source": [
    "pipeline = [\n",
    "    # apenas acima de 18 anos\n",
    "    {\"$match\": {'idade': {'$gt': 18}}},\n",
    "    # apenas os campos de interesse\n",
    "    { \"$project\": { \n",
    "              \"nome\":1,\n",
    "              \"idade\":1,\n",
    "              \"_id\":0}\n",
    "    },    \n",
    "]\n",
    "\n",
    "pipeline"
   ]
  },
  {
   "cell_type": "code",
   "execution_count": 22,
   "id": "d4cf02cb",
   "metadata": {},
   "outputs": [
    {
     "name": "stdout",
     "output_type": "stream",
     "text": [
      "[{'idade': 27, 'nome': 'Davi da Mata'}, {'idade': 24, 'nome': 'Isabelly Lopes'},\n",
      " {'idade': 20, 'nome': 'João Campos'},\n",
      " {'idade': 23, 'nome': 'Enzo Gabriel Cavalcanti'},\n",
      " {'idade': 21, 'nome': 'Igor Sales'},\n",
      " {'idade': 23, 'nome': 'Vitor Gabriel Campos'},\n",
      " {'idade': 20, 'nome': 'Maria Eduarda Rodrigues'},\n",
      " {'idade': 24, 'nome': 'Ana Laura Costa'},\n",
      " {'idade': 27, 'nome': 'João Vitor Dias'},\n",
      " {'idade': 24, 'nome': 'Luiz Gustavo Cardoso'},\n",
      " {'idade': 28, 'nome': 'Pedro Lucas Fernandes'},\n",
      " {'idade': 21, 'nome': 'Sophie Moraes'},\n",
      " {'idade': 26, 'nome': 'Miguel da Costa'}]\n"
     ]
    }
   ],
   "source": [
    "pp.pprint(list(colecao_pessoa.aggregate(pipeline)))"
   ]
  },
  {
   "cell_type": "code",
   "execution_count": 23,
   "id": "55274713",
   "metadata": {},
   "outputs": [
    {
     "data": {
      "text/plain": [
       "[{'$project': {'nome': 1, 'idade': 1, '_id': 0}},\n",
       " {'$match': {'idade': {'$gt': 18}}}]"
      ]
     },
     "execution_count": 23,
     "metadata": {},
     "output_type": "execute_result"
    }
   ],
   "source": [
    "# neste caso a ordem dos operadores não altera o resultado\n",
    "pipeline = [\n",
    "    # apenas os campos de interesse\n",
    "    { \"$project\": { \n",
    "              \"nome\":1,\n",
    "              \"idade\":1,\n",
    "              \"_id\":0}\n",
    "    },    \n",
    "    # apenas aqueles acima de 18 anos\n",
    "    {\"$match\": {'idade': {'$gt': 18}}},\n",
    "]\n",
    "\n",
    "pipeline"
   ]
  },
  {
   "cell_type": "code",
   "execution_count": 24,
   "id": "edb77bbe",
   "metadata": {},
   "outputs": [
    {
     "name": "stdout",
     "output_type": "stream",
     "text": [
      "[{'idade': 27, 'nome': 'Davi da Mata'}, {'idade': 24, 'nome': 'Isabelly Lopes'},\n",
      " {'idade': 20, 'nome': 'João Campos'},\n",
      " {'idade': 23, 'nome': 'Enzo Gabriel Cavalcanti'},\n",
      " {'idade': 21, 'nome': 'Igor Sales'},\n",
      " {'idade': 23, 'nome': 'Vitor Gabriel Campos'},\n",
      " {'idade': 20, 'nome': 'Maria Eduarda Rodrigues'},\n",
      " {'idade': 24, 'nome': 'Ana Laura Costa'},\n",
      " {'idade': 27, 'nome': 'João Vitor Dias'},\n",
      " {'idade': 24, 'nome': 'Luiz Gustavo Cardoso'},\n",
      " {'idade': 28, 'nome': 'Pedro Lucas Fernandes'},\n",
      " {'idade': 21, 'nome': 'Sophie Moraes'},\n",
      " {'idade': 26, 'nome': 'Miguel da Costa'}]\n"
     ]
    }
   ],
   "source": [
    "pp.pprint(list(colecao_pessoa.aggregate(pipeline)))"
   ]
  },
  {
   "cell_type": "markdown",
   "id": "4afe48ab",
   "metadata": {},
   "source": [
    "### Consulta: \n",
    "- quero exibir apenas o nome e a idade \n",
    "- apenas de quem possui acima de 18 anos\n",
    "- ordenado por idade"
   ]
  },
  {
   "cell_type": "code",
   "execution_count": 25,
   "id": "e71990bf",
   "metadata": {},
   "outputs": [
    {
     "name": "stdout",
     "output_type": "stream",
     "text": [
      "\n",
      "SELECT nome, idade\n",
      "FROM df\n",
      "WHERE idade > 18\n",
      "ORDER BY idade\n",
      "\n"
     ]
    }
   ],
   "source": [
    "sql = \"\"\"\n",
    "SELECT nome, idade\n",
    "FROM df\n",
    "WHERE idade > 18\n",
    "ORDER BY idade\n",
    "\"\"\"\n",
    "\n",
    "print(sql)"
   ]
  },
  {
   "cell_type": "code",
   "execution_count": 26,
   "id": "3b70cb1a",
   "metadata": {},
   "outputs": [
    {
     "data": {
      "text/html": [
       "<div>\n",
       "<style scoped>\n",
       "    .dataframe tbody tr th:only-of-type {\n",
       "        vertical-align: middle;\n",
       "    }\n",
       "\n",
       "    .dataframe tbody tr th {\n",
       "        vertical-align: top;\n",
       "    }\n",
       "\n",
       "    .dataframe thead th {\n",
       "        text-align: right;\n",
       "    }\n",
       "</style>\n",
       "<table border=\"1\" class=\"dataframe\">\n",
       "  <thead>\n",
       "    <tr style=\"text-align: right;\">\n",
       "      <th></th>\n",
       "      <th>nome</th>\n",
       "      <th>idade</th>\n",
       "    </tr>\n",
       "  </thead>\n",
       "  <tbody>\n",
       "    <tr>\n",
       "      <th>0</th>\n",
       "      <td>João Campos</td>\n",
       "      <td>20</td>\n",
       "    </tr>\n",
       "    <tr>\n",
       "      <th>1</th>\n",
       "      <td>Maria Eduarda Rodrigues</td>\n",
       "      <td>20</td>\n",
       "    </tr>\n",
       "    <tr>\n",
       "      <th>2</th>\n",
       "      <td>Igor Sales</td>\n",
       "      <td>21</td>\n",
       "    </tr>\n",
       "    <tr>\n",
       "      <th>3</th>\n",
       "      <td>Sophie Moraes</td>\n",
       "      <td>21</td>\n",
       "    </tr>\n",
       "    <tr>\n",
       "      <th>4</th>\n",
       "      <td>Enzo Gabriel Cavalcanti</td>\n",
       "      <td>23</td>\n",
       "    </tr>\n",
       "    <tr>\n",
       "      <th>5</th>\n",
       "      <td>Vitor Gabriel Campos</td>\n",
       "      <td>23</td>\n",
       "    </tr>\n",
       "    <tr>\n",
       "      <th>6</th>\n",
       "      <td>Isabelly Lopes</td>\n",
       "      <td>24</td>\n",
       "    </tr>\n",
       "    <tr>\n",
       "      <th>7</th>\n",
       "      <td>Ana Laura Costa</td>\n",
       "      <td>24</td>\n",
       "    </tr>\n",
       "    <tr>\n",
       "      <th>8</th>\n",
       "      <td>Luiz Gustavo Cardoso</td>\n",
       "      <td>24</td>\n",
       "    </tr>\n",
       "    <tr>\n",
       "      <th>9</th>\n",
       "      <td>Miguel da Costa</td>\n",
       "      <td>26</td>\n",
       "    </tr>\n",
       "    <tr>\n",
       "      <th>10</th>\n",
       "      <td>Davi da Mata</td>\n",
       "      <td>27</td>\n",
       "    </tr>\n",
       "    <tr>\n",
       "      <th>11</th>\n",
       "      <td>João Vitor Dias</td>\n",
       "      <td>27</td>\n",
       "    </tr>\n",
       "    <tr>\n",
       "      <th>12</th>\n",
       "      <td>Pedro Lucas Fernandes</td>\n",
       "      <td>28</td>\n",
       "    </tr>\n",
       "  </tbody>\n",
       "</table>\n",
       "</div>"
      ],
      "text/plain": [
       "                       nome  idade\n",
       "0               João Campos     20\n",
       "1   Maria Eduarda Rodrigues     20\n",
       "2                Igor Sales     21\n",
       "3             Sophie Moraes     21\n",
       "4   Enzo Gabriel Cavalcanti     23\n",
       "5      Vitor Gabriel Campos     23\n",
       "6            Isabelly Lopes     24\n",
       "7           Ana Laura Costa     24\n",
       "8      Luiz Gustavo Cardoso     24\n",
       "9           Miguel da Costa     26\n",
       "10             Davi da Mata     27\n",
       "11          João Vitor Dias     27\n",
       "12    Pedro Lucas Fernandes     28"
      ]
     },
     "execution_count": 26,
     "metadata": {},
     "output_type": "execute_result"
    }
   ],
   "source": [
    "sqldf(sql, globals())"
   ]
  },
  {
   "cell_type": "code",
   "execution_count": 27,
   "id": "03eecbf2",
   "metadata": {},
   "outputs": [
    {
     "data": {
      "text/plain": [
       "[{'$match': {'idade': {'$gt': 18}}},\n",
       " {'$project': {'nome': 1, 'idade': 1, '_id': 0}},\n",
       " {'$sort': {'idade': 1}}]"
      ]
     },
     "execution_count": 27,
     "metadata": {},
     "output_type": "execute_result"
    }
   ],
   "source": [
    "pipeline = [\n",
    "    # idade maior que 18\n",
    "    {\"$match\": {'idade': {'$gt': 18}}},\n",
    "    # apenas os campos de interesse\n",
    "    { \"$project\": { \n",
    "              \"nome\":1,\n",
    "              \"idade\":1,\n",
    "              \"_id\":0}\n",
    "    },\n",
    "    # ordenando por idade\n",
    "    # aqui uso SON pq python não mantem a ordem\n",
    "     {'$sort': {'idade':1}},\n",
    "    \n",
    "]\n",
    "\n",
    "pipeline"
   ]
  },
  {
   "cell_type": "code",
   "execution_count": 28,
   "id": "7ade8c42",
   "metadata": {},
   "outputs": [
    {
     "name": "stdout",
     "output_type": "stream",
     "text": [
      "[{'idade': 20, 'nome': 'João Campos'},\n",
      " {'idade': 20, 'nome': 'Maria Eduarda Rodrigues'},\n",
      " {'idade': 21, 'nome': 'Igor Sales'}, {'idade': 21, 'nome': 'Sophie Moraes'},\n",
      " {'idade': 23, 'nome': 'Enzo Gabriel Cavalcanti'},\n",
      " {'idade': 23, 'nome': 'Vitor Gabriel Campos'},\n",
      " {'idade': 24, 'nome': 'Isabelly Lopes'},\n",
      " {'idade': 24, 'nome': 'Ana Laura Costa'},\n",
      " {'idade': 24, 'nome': 'Luiz Gustavo Cardoso'},\n",
      " {'idade': 26, 'nome': 'Miguel da Costa'},\n",
      " {'idade': 27, 'nome': 'Davi da Mata'},\n",
      " {'idade': 27, 'nome': 'João Vitor Dias'},\n",
      " {'idade': 28, 'nome': 'Pedro Lucas Fernandes'}]\n"
     ]
    }
   ],
   "source": [
    "pp.pprint(list(colecao_pessoa.aggregate(pipeline)))"
   ]
  },
  {
   "cell_type": "markdown",
   "id": "230c9500",
   "metadata": {},
   "source": [
    "### Consulta: \n",
    "- quero exibir apenas o nome e a idade \n",
    "- apenas de quem possui acima de 18 anos\n",
    "- ordenado primeiro por idade, segundo por nome"
   ]
  },
  {
   "cell_type": "code",
   "execution_count": 29,
   "id": "60a9023c",
   "metadata": {},
   "outputs": [
    {
     "name": "stdout",
     "output_type": "stream",
     "text": [
      "\n",
      "SELECT nome, idade\n",
      "FROM df\n",
      "WHERE idade > 18\n",
      "ORDER BY idade, nome\n",
      "\n"
     ]
    }
   ],
   "source": [
    "sql = \"\"\"\n",
    "SELECT nome, idade\n",
    "FROM df\n",
    "WHERE idade > 18\n",
    "ORDER BY idade, nome\n",
    "\"\"\"\n",
    "\n",
    "print(sql)"
   ]
  },
  {
   "cell_type": "code",
   "execution_count": 30,
   "id": "b7362c5a",
   "metadata": {},
   "outputs": [
    {
     "data": {
      "text/html": [
       "<div>\n",
       "<style scoped>\n",
       "    .dataframe tbody tr th:only-of-type {\n",
       "        vertical-align: middle;\n",
       "    }\n",
       "\n",
       "    .dataframe tbody tr th {\n",
       "        vertical-align: top;\n",
       "    }\n",
       "\n",
       "    .dataframe thead th {\n",
       "        text-align: right;\n",
       "    }\n",
       "</style>\n",
       "<table border=\"1\" class=\"dataframe\">\n",
       "  <thead>\n",
       "    <tr style=\"text-align: right;\">\n",
       "      <th></th>\n",
       "      <th>nome</th>\n",
       "      <th>idade</th>\n",
       "    </tr>\n",
       "  </thead>\n",
       "  <tbody>\n",
       "    <tr>\n",
       "      <th>0</th>\n",
       "      <td>João Campos</td>\n",
       "      <td>20</td>\n",
       "    </tr>\n",
       "    <tr>\n",
       "      <th>1</th>\n",
       "      <td>Maria Eduarda Rodrigues</td>\n",
       "      <td>20</td>\n",
       "    </tr>\n",
       "    <tr>\n",
       "      <th>2</th>\n",
       "      <td>Igor Sales</td>\n",
       "      <td>21</td>\n",
       "    </tr>\n",
       "    <tr>\n",
       "      <th>3</th>\n",
       "      <td>Sophie Moraes</td>\n",
       "      <td>21</td>\n",
       "    </tr>\n",
       "    <tr>\n",
       "      <th>4</th>\n",
       "      <td>Enzo Gabriel Cavalcanti</td>\n",
       "      <td>23</td>\n",
       "    </tr>\n",
       "    <tr>\n",
       "      <th>5</th>\n",
       "      <td>Vitor Gabriel Campos</td>\n",
       "      <td>23</td>\n",
       "    </tr>\n",
       "    <tr>\n",
       "      <th>6</th>\n",
       "      <td>Ana Laura Costa</td>\n",
       "      <td>24</td>\n",
       "    </tr>\n",
       "    <tr>\n",
       "      <th>7</th>\n",
       "      <td>Isabelly Lopes</td>\n",
       "      <td>24</td>\n",
       "    </tr>\n",
       "    <tr>\n",
       "      <th>8</th>\n",
       "      <td>Luiz Gustavo Cardoso</td>\n",
       "      <td>24</td>\n",
       "    </tr>\n",
       "    <tr>\n",
       "      <th>9</th>\n",
       "      <td>Miguel da Costa</td>\n",
       "      <td>26</td>\n",
       "    </tr>\n",
       "    <tr>\n",
       "      <th>10</th>\n",
       "      <td>Davi da Mata</td>\n",
       "      <td>27</td>\n",
       "    </tr>\n",
       "    <tr>\n",
       "      <th>11</th>\n",
       "      <td>João Vitor Dias</td>\n",
       "      <td>27</td>\n",
       "    </tr>\n",
       "    <tr>\n",
       "      <th>12</th>\n",
       "      <td>Pedro Lucas Fernandes</td>\n",
       "      <td>28</td>\n",
       "    </tr>\n",
       "  </tbody>\n",
       "</table>\n",
       "</div>"
      ],
      "text/plain": [
       "                       nome  idade\n",
       "0               João Campos     20\n",
       "1   Maria Eduarda Rodrigues     20\n",
       "2                Igor Sales     21\n",
       "3             Sophie Moraes     21\n",
       "4   Enzo Gabriel Cavalcanti     23\n",
       "5      Vitor Gabriel Campos     23\n",
       "6           Ana Laura Costa     24\n",
       "7            Isabelly Lopes     24\n",
       "8      Luiz Gustavo Cardoso     24\n",
       "9           Miguel da Costa     26\n",
       "10             Davi da Mata     27\n",
       "11          João Vitor Dias     27\n",
       "12    Pedro Lucas Fernandes     28"
      ]
     },
     "execution_count": 30,
     "metadata": {},
     "output_type": "execute_result"
    }
   ],
   "source": [
    "sqldf(sql, globals())"
   ]
  },
  {
   "cell_type": "code",
   "execution_count": 31,
   "id": "eb349d38",
   "metadata": {},
   "outputs": [
    {
     "data": {
      "text/html": [
       "<div>\n",
       "<style scoped>\n",
       "    .dataframe tbody tr th:only-of-type {\n",
       "        vertical-align: middle;\n",
       "    }\n",
       "\n",
       "    .dataframe tbody tr th {\n",
       "        vertical-align: top;\n",
       "    }\n",
       "\n",
       "    .dataframe thead th {\n",
       "        text-align: right;\n",
       "    }\n",
       "</style>\n",
       "<table border=\"1\" class=\"dataframe\">\n",
       "  <thead>\n",
       "    <tr style=\"text-align: right;\">\n",
       "      <th></th>\n",
       "      <th>nome</th>\n",
       "      <th>idade</th>\n",
       "    </tr>\n",
       "  </thead>\n",
       "  <tbody>\n",
       "    <tr>\n",
       "      <th>7</th>\n",
       "      <td>João Campos</td>\n",
       "      <td>20</td>\n",
       "    </tr>\n",
       "    <tr>\n",
       "      <th>16</th>\n",
       "      <td>Maria Eduarda Rodrigues</td>\n",
       "      <td>20</td>\n",
       "    </tr>\n",
       "    <tr>\n",
       "      <th>12</th>\n",
       "      <td>Igor Sales</td>\n",
       "      <td>21</td>\n",
       "    </tr>\n",
       "    <tr>\n",
       "      <th>28</th>\n",
       "      <td>Sophie Moraes</td>\n",
       "      <td>21</td>\n",
       "    </tr>\n",
       "    <tr>\n",
       "      <th>11</th>\n",
       "      <td>Enzo Gabriel Cavalcanti</td>\n",
       "      <td>23</td>\n",
       "    </tr>\n",
       "    <tr>\n",
       "      <th>15</th>\n",
       "      <td>Vitor Gabriel Campos</td>\n",
       "      <td>23</td>\n",
       "    </tr>\n",
       "    <tr>\n",
       "      <th>6</th>\n",
       "      <td>Isabelly Lopes</td>\n",
       "      <td>24</td>\n",
       "    </tr>\n",
       "    <tr>\n",
       "      <th>19</th>\n",
       "      <td>Ana Laura Costa</td>\n",
       "      <td>24</td>\n",
       "    </tr>\n",
       "    <tr>\n",
       "      <th>21</th>\n",
       "      <td>Luiz Gustavo Cardoso</td>\n",
       "      <td>24</td>\n",
       "    </tr>\n",
       "    <tr>\n",
       "      <th>29</th>\n",
       "      <td>Miguel da Costa</td>\n",
       "      <td>26</td>\n",
       "    </tr>\n",
       "    <tr>\n",
       "      <th>3</th>\n",
       "      <td>Davi da Mata</td>\n",
       "      <td>27</td>\n",
       "    </tr>\n",
       "    <tr>\n",
       "      <th>20</th>\n",
       "      <td>João Vitor Dias</td>\n",
       "      <td>27</td>\n",
       "    </tr>\n",
       "    <tr>\n",
       "      <th>24</th>\n",
       "      <td>Pedro Lucas Fernandes</td>\n",
       "      <td>28</td>\n",
       "    </tr>\n",
       "  </tbody>\n",
       "</table>\n",
       "</div>"
      ],
      "text/plain": [
       "                       nome  idade\n",
       "7               João Campos     20\n",
       "16  Maria Eduarda Rodrigues     20\n",
       "12               Igor Sales     21\n",
       "28            Sophie Moraes     21\n",
       "11  Enzo Gabriel Cavalcanti     23\n",
       "15     Vitor Gabriel Campos     23\n",
       "6            Isabelly Lopes     24\n",
       "19          Ana Laura Costa     24\n",
       "21     Luiz Gustavo Cardoso     24\n",
       "29          Miguel da Costa     26\n",
       "3              Davi da Mata     27\n",
       "20          João Vitor Dias     27\n",
       "24    Pedro Lucas Fernandes     28"
      ]
     },
     "execution_count": 31,
     "metadata": {},
     "output_type": "execute_result"
    }
   ],
   "source": [
    "df[df['idade'] > 18][['nome', 'idade']].sort_values(['idade'])"
   ]
  },
  {
   "cell_type": "code",
   "execution_count": 32,
   "id": "33a49851",
   "metadata": {},
   "outputs": [
    {
     "data": {
      "text/plain": [
       "[{'$match': {'idade': {'$gt': 18}}},\n",
       " {'$project': {'nome': 1, 'idade': 1, '_id': 0}},\n",
       " {'$sort': {'idade': 1, 'nome': 1}}]"
      ]
     },
     "execution_count": 32,
     "metadata": {},
     "output_type": "execute_result"
    }
   ],
   "source": [
    "pipeline = [\n",
    "    # idade maior que 18\n",
    "    {\"$match\": {'idade': {'$gt': 18}}},\n",
    "    # apenas os campos de interesse\n",
    "    { \"$project\": { \n",
    "              \"nome\":1,\n",
    "              \"idade\":1,\n",
    "              \"_id\":0}\n",
    "    },\n",
    "    # ordenando por idade\n",
    "    # aqui uso SON pq python não mantem a ordem\n",
    "     {'$sort': {'idade':1, 'nome':1}},\n",
    "    \n",
    "]\n",
    "\n",
    "pipeline"
   ]
  },
  {
   "cell_type": "code",
   "execution_count": 33,
   "id": "81ed1433",
   "metadata": {},
   "outputs": [
    {
     "name": "stdout",
     "output_type": "stream",
     "text": [
      "[{'idade': 20, 'nome': 'João Campos'},\n",
      " {'idade': 20, 'nome': 'Maria Eduarda Rodrigues'},\n",
      " {'idade': 21, 'nome': 'Igor Sales'}, {'idade': 21, 'nome': 'Sophie Moraes'},\n",
      " {'idade': 23, 'nome': 'Enzo Gabriel Cavalcanti'},\n",
      " {'idade': 23, 'nome': 'Vitor Gabriel Campos'},\n",
      " {'idade': 24, 'nome': 'Ana Laura Costa'},\n",
      " {'idade': 24, 'nome': 'Isabelly Lopes'},\n",
      " {'idade': 24, 'nome': 'Luiz Gustavo Cardoso'},\n",
      " {'idade': 26, 'nome': 'Miguel da Costa'},\n",
      " {'idade': 27, 'nome': 'Davi da Mata'},\n",
      " {'idade': 27, 'nome': 'João Vitor Dias'},\n",
      " {'idade': 28, 'nome': 'Pedro Lucas Fernandes'}]\n"
     ]
    }
   ],
   "source": [
    "pp.pprint(list(colecao_pessoa.aggregate(pipeline)))"
   ]
  },
  {
   "cell_type": "markdown",
   "id": "52e4caa6",
   "metadata": {},
   "source": [
    "### Consulta: \n",
    "- quero exibir apenas o nome e a idade \n",
    "- apenas de quem possui acima de 18 anos\n",
    "- ordenado primeiro por idade (descrescente), segundo por nome"
   ]
  },
  {
   "cell_type": "code",
   "execution_count": 34,
   "id": "4871a559",
   "metadata": {},
   "outputs": [
    {
     "name": "stdout",
     "output_type": "stream",
     "text": [
      "\n",
      "SELECT nome, idade\n",
      "FROM df\n",
      "WHERE idade > 18\n",
      "ORDER BY idade desc, nome\n",
      "\n"
     ]
    }
   ],
   "source": [
    "sql = \"\"\"\n",
    "SELECT nome, idade\n",
    "FROM df\n",
    "WHERE idade > 18\n",
    "ORDER BY idade desc, nome\n",
    "\"\"\"\n",
    "\n",
    "print(sql)"
   ]
  },
  {
   "cell_type": "code",
   "execution_count": 35,
   "id": "daad9937",
   "metadata": {},
   "outputs": [
    {
     "data": {
      "text/html": [
       "<div>\n",
       "<style scoped>\n",
       "    .dataframe tbody tr th:only-of-type {\n",
       "        vertical-align: middle;\n",
       "    }\n",
       "\n",
       "    .dataframe tbody tr th {\n",
       "        vertical-align: top;\n",
       "    }\n",
       "\n",
       "    .dataframe thead th {\n",
       "        text-align: right;\n",
       "    }\n",
       "</style>\n",
       "<table border=\"1\" class=\"dataframe\">\n",
       "  <thead>\n",
       "    <tr style=\"text-align: right;\">\n",
       "      <th></th>\n",
       "      <th>nome</th>\n",
       "      <th>idade</th>\n",
       "    </tr>\n",
       "  </thead>\n",
       "  <tbody>\n",
       "    <tr>\n",
       "      <th>0</th>\n",
       "      <td>Pedro Lucas Fernandes</td>\n",
       "      <td>28</td>\n",
       "    </tr>\n",
       "    <tr>\n",
       "      <th>1</th>\n",
       "      <td>Davi da Mata</td>\n",
       "      <td>27</td>\n",
       "    </tr>\n",
       "    <tr>\n",
       "      <th>2</th>\n",
       "      <td>João Vitor Dias</td>\n",
       "      <td>27</td>\n",
       "    </tr>\n",
       "    <tr>\n",
       "      <th>3</th>\n",
       "      <td>Miguel da Costa</td>\n",
       "      <td>26</td>\n",
       "    </tr>\n",
       "    <tr>\n",
       "      <th>4</th>\n",
       "      <td>Ana Laura Costa</td>\n",
       "      <td>24</td>\n",
       "    </tr>\n",
       "    <tr>\n",
       "      <th>5</th>\n",
       "      <td>Isabelly Lopes</td>\n",
       "      <td>24</td>\n",
       "    </tr>\n",
       "    <tr>\n",
       "      <th>6</th>\n",
       "      <td>Luiz Gustavo Cardoso</td>\n",
       "      <td>24</td>\n",
       "    </tr>\n",
       "    <tr>\n",
       "      <th>7</th>\n",
       "      <td>Enzo Gabriel Cavalcanti</td>\n",
       "      <td>23</td>\n",
       "    </tr>\n",
       "    <tr>\n",
       "      <th>8</th>\n",
       "      <td>Vitor Gabriel Campos</td>\n",
       "      <td>23</td>\n",
       "    </tr>\n",
       "    <tr>\n",
       "      <th>9</th>\n",
       "      <td>Igor Sales</td>\n",
       "      <td>21</td>\n",
       "    </tr>\n",
       "    <tr>\n",
       "      <th>10</th>\n",
       "      <td>Sophie Moraes</td>\n",
       "      <td>21</td>\n",
       "    </tr>\n",
       "    <tr>\n",
       "      <th>11</th>\n",
       "      <td>João Campos</td>\n",
       "      <td>20</td>\n",
       "    </tr>\n",
       "    <tr>\n",
       "      <th>12</th>\n",
       "      <td>Maria Eduarda Rodrigues</td>\n",
       "      <td>20</td>\n",
       "    </tr>\n",
       "  </tbody>\n",
       "</table>\n",
       "</div>"
      ],
      "text/plain": [
       "                       nome  idade\n",
       "0     Pedro Lucas Fernandes     28\n",
       "1              Davi da Mata     27\n",
       "2           João Vitor Dias     27\n",
       "3           Miguel da Costa     26\n",
       "4           Ana Laura Costa     24\n",
       "5            Isabelly Lopes     24\n",
       "6      Luiz Gustavo Cardoso     24\n",
       "7   Enzo Gabriel Cavalcanti     23\n",
       "8      Vitor Gabriel Campos     23\n",
       "9                Igor Sales     21\n",
       "10            Sophie Moraes     21\n",
       "11              João Campos     20\n",
       "12  Maria Eduarda Rodrigues     20"
      ]
     },
     "execution_count": 35,
     "metadata": {},
     "output_type": "execute_result"
    }
   ],
   "source": [
    "sqldf(sql, globals())"
   ]
  },
  {
   "cell_type": "code",
   "execution_count": 36,
   "id": "c0e3cc66",
   "metadata": {},
   "outputs": [
    {
     "data": {
      "text/plain": [
       "[{'$match': {'idade': {'$gt': 18}}},\n",
       " {'$project': {'nome': 1, 'idade': 1, '_id': 0}},\n",
       " {'$sort': {'idade': -1, 'nome': 1}}]"
      ]
     },
     "execution_count": 36,
     "metadata": {},
     "output_type": "execute_result"
    }
   ],
   "source": [
    "pipeline = [\n",
    "    # idade maior que 18\n",
    "    {\"$match\": {'idade': {'$gt': 18}}},\n",
    "    # apenas os campos de interesse\n",
    "    { \"$project\": { \n",
    "              \"nome\":1,\n",
    "              \"idade\":1,\n",
    "              \"_id\":0}\n",
    "    },\n",
    "    # ordenando por idade\n",
    "     {'$sort': {'idade':-1, 'nome':1}},\n",
    "    \n",
    "]\n",
    "\n",
    "pipeline"
   ]
  },
  {
   "cell_type": "code",
   "execution_count": 37,
   "id": "fb97093c",
   "metadata": {},
   "outputs": [
    {
     "name": "stdout",
     "output_type": "stream",
     "text": [
      "[{'idade': 28, 'nome': 'Pedro Lucas Fernandes'},\n",
      " {'idade': 27, 'nome': 'Davi da Mata'},\n",
      " {'idade': 27, 'nome': 'João Vitor Dias'},\n",
      " {'idade': 26, 'nome': 'Miguel da Costa'},\n",
      " {'idade': 24, 'nome': 'Ana Laura Costa'},\n",
      " {'idade': 24, 'nome': 'Isabelly Lopes'},\n",
      " {'idade': 24, 'nome': 'Luiz Gustavo Cardoso'},\n",
      " {'idade': 23, 'nome': 'Enzo Gabriel Cavalcanti'},\n",
      " {'idade': 23, 'nome': 'Vitor Gabriel Campos'},\n",
      " {'idade': 21, 'nome': 'Igor Sales'}, {'idade': 21, 'nome': 'Sophie Moraes'},\n",
      " {'idade': 20, 'nome': 'João Campos'},\n",
      " {'idade': 20, 'nome': 'Maria Eduarda Rodrigues'}]\n"
     ]
    }
   ],
   "source": [
    "pp.pprint(list(colecao_pessoa.aggregate(pipeline)))"
   ]
  },
  {
   "cell_type": "markdown",
   "id": "57814880",
   "metadata": {},
   "source": [
    "### Consulta: \n",
    "- quero exibir apenas o nome e a idade \n",
    "- apenas de quem possui acima de 18 anos\n",
    "- ordenado primeiro por idade (descrescente), segundo por nome\n",
    "- limitando o resultado aos 5 primeiro"
   ]
  },
  {
   "cell_type": "code",
   "execution_count": 38,
   "id": "3a45da2f",
   "metadata": {},
   "outputs": [
    {
     "name": "stdout",
     "output_type": "stream",
     "text": [
      "\n",
      "SELECT nome, idade\n",
      "FROM df\n",
      "WHERE idade > 18\n",
      "ORDER BY idade desc, nome\n",
      "LIMIT 5\n",
      "\n"
     ]
    }
   ],
   "source": [
    "sql = \"\"\"\n",
    "SELECT nome, idade\n",
    "FROM df\n",
    "WHERE idade > 18\n",
    "ORDER BY idade desc, nome\n",
    "LIMIT 5\n",
    "\"\"\"\n",
    "\n",
    "print(sql)"
   ]
  },
  {
   "cell_type": "code",
   "execution_count": 39,
   "id": "6e6dcf03",
   "metadata": {},
   "outputs": [
    {
     "data": {
      "text/html": [
       "<div>\n",
       "<style scoped>\n",
       "    .dataframe tbody tr th:only-of-type {\n",
       "        vertical-align: middle;\n",
       "    }\n",
       "\n",
       "    .dataframe tbody tr th {\n",
       "        vertical-align: top;\n",
       "    }\n",
       "\n",
       "    .dataframe thead th {\n",
       "        text-align: right;\n",
       "    }\n",
       "</style>\n",
       "<table border=\"1\" class=\"dataframe\">\n",
       "  <thead>\n",
       "    <tr style=\"text-align: right;\">\n",
       "      <th></th>\n",
       "      <th>nome</th>\n",
       "      <th>idade</th>\n",
       "    </tr>\n",
       "  </thead>\n",
       "  <tbody>\n",
       "    <tr>\n",
       "      <th>0</th>\n",
       "      <td>Pedro Lucas Fernandes</td>\n",
       "      <td>28</td>\n",
       "    </tr>\n",
       "    <tr>\n",
       "      <th>1</th>\n",
       "      <td>Davi da Mata</td>\n",
       "      <td>27</td>\n",
       "    </tr>\n",
       "    <tr>\n",
       "      <th>2</th>\n",
       "      <td>João Vitor Dias</td>\n",
       "      <td>27</td>\n",
       "    </tr>\n",
       "    <tr>\n",
       "      <th>3</th>\n",
       "      <td>Miguel da Costa</td>\n",
       "      <td>26</td>\n",
       "    </tr>\n",
       "    <tr>\n",
       "      <th>4</th>\n",
       "      <td>Ana Laura Costa</td>\n",
       "      <td>24</td>\n",
       "    </tr>\n",
       "  </tbody>\n",
       "</table>\n",
       "</div>"
      ],
      "text/plain": [
       "                    nome  idade\n",
       "0  Pedro Lucas Fernandes     28\n",
       "1           Davi da Mata     27\n",
       "2        João Vitor Dias     27\n",
       "3        Miguel da Costa     26\n",
       "4        Ana Laura Costa     24"
      ]
     },
     "execution_count": 39,
     "metadata": {},
     "output_type": "execute_result"
    }
   ],
   "source": [
    "sqldf(sql, globals())"
   ]
  },
  {
   "cell_type": "code",
   "execution_count": 40,
   "id": "4b307190",
   "metadata": {},
   "outputs": [
    {
     "data": {
      "text/plain": [
       "[{'$match': {'idade': {'$gt': 18}}},\n",
       " {'$project': {'nome': 1, 'idade': 1, '_id': 0}},\n",
       " {'$sort': {'idade': -1, 'nome': 1}},\n",
       " {'$limit': 5}]"
      ]
     },
     "execution_count": 40,
     "metadata": {},
     "output_type": "execute_result"
    }
   ],
   "source": [
    "pipeline = [\n",
    "    # idade maior que 18\n",
    "    {\"$match\": {'idade': {'$gt': 18}}},\n",
    "    # apenas os campos de interesse\n",
    "    { \"$project\": { \n",
    "              \"nome\":1,\n",
    "              \"idade\":1,\n",
    "              \"_id\":0}\n",
    "    },\n",
    "    # ordenando por idade\n",
    "     {'$sort': {'idade':-1, 'nome':1}},\n",
    "    # apenas os 5 primeiros resultados\n",
    "    {'$limit':5}\n",
    "]\n",
    "\n",
    "pipeline"
   ]
  },
  {
   "cell_type": "code",
   "execution_count": 41,
   "id": "e45c4760",
   "metadata": {},
   "outputs": [
    {
     "name": "stdout",
     "output_type": "stream",
     "text": [
      "[{'idade': 28, 'nome': 'Pedro Lucas Fernandes'},\n",
      " {'idade': 27, 'nome': 'Davi da Mata'},\n",
      " {'idade': 27, 'nome': 'João Vitor Dias'},\n",
      " {'idade': 26, 'nome': 'Miguel da Costa'},\n",
      " {'idade': 24, 'nome': 'Ana Laura Costa'}]\n"
     ]
    }
   ],
   "source": [
    "pp.pprint(list(colecao_pessoa.aggregate(pipeline)))"
   ]
  },
  {
   "cell_type": "markdown",
   "id": "fbfa4663",
   "metadata": {},
   "source": [
    "## Funções de agregação (realizam algum cálculo sobre os documentos)\n",
    "\n",
    "## ATENÇÃO: NESTE CASO A ORDEM DO PIPELINE IMPORTA!!!"
   ]
  },
  {
   "cell_type": "markdown",
   "id": "808f71ab",
   "metadata": {},
   "source": [
    "### Consulta: \n",
    "- número de pessoas existentes na base\n"
   ]
  },
  {
   "cell_type": "code",
   "execution_count": 42,
   "id": "50d62d08",
   "metadata": {},
   "outputs": [
    {
     "name": "stdout",
     "output_type": "stream",
     "text": [
      "\n",
      "SELECT count(*)\n",
      "FROM df\n",
      "\n"
     ]
    }
   ],
   "source": [
    "sql = \"\"\"\n",
    "SELECT count(*)\n",
    "FROM df\n",
    "\"\"\"\n",
    "\n",
    "print(sql)"
   ]
  },
  {
   "cell_type": "code",
   "execution_count": 43,
   "id": "028f1832",
   "metadata": {},
   "outputs": [
    {
     "data": {
      "text/html": [
       "<div>\n",
       "<style scoped>\n",
       "    .dataframe tbody tr th:only-of-type {\n",
       "        vertical-align: middle;\n",
       "    }\n",
       "\n",
       "    .dataframe tbody tr th {\n",
       "        vertical-align: top;\n",
       "    }\n",
       "\n",
       "    .dataframe thead th {\n",
       "        text-align: right;\n",
       "    }\n",
       "</style>\n",
       "<table border=\"1\" class=\"dataframe\">\n",
       "  <thead>\n",
       "    <tr style=\"text-align: right;\">\n",
       "      <th></th>\n",
       "      <th>count(*)</th>\n",
       "    </tr>\n",
       "  </thead>\n",
       "  <tbody>\n",
       "    <tr>\n",
       "      <th>0</th>\n",
       "      <td>30</td>\n",
       "    </tr>\n",
       "  </tbody>\n",
       "</table>\n",
       "</div>"
      ],
      "text/plain": [
       "   count(*)\n",
       "0        30"
      ]
     },
     "execution_count": 43,
     "metadata": {},
     "output_type": "execute_result"
    }
   ],
   "source": [
    "sqldf(sql, globals())"
   ]
  },
  {
   "cell_type": "code",
   "execution_count": 44,
   "id": "23fcb216",
   "metadata": {},
   "outputs": [
    {
     "data": {
      "text/plain": [
       "[{'$group': {'_id': None, 'count': {'$sum': 1}}}]"
      ]
     },
     "execution_count": 44,
     "metadata": {},
     "output_type": "execute_result"
    }
   ],
   "source": [
    "pipeline = [\n",
    "    # agrupa para contar\n",
    "    {\n",
    "        '$group': {\n",
    "            '_id': None,\n",
    "            'count': { '$sum': 1 }\n",
    "        }\n",
    "    }]\n",
    "\n",
    "pipeline"
   ]
  },
  {
   "cell_type": "code",
   "execution_count": 45,
   "id": "d0634518",
   "metadata": {
    "scrolled": true
   },
   "outputs": [
    {
     "name": "stdout",
     "output_type": "stream",
     "text": [
      "[{'_id': None, 'count': 30}]\n"
     ]
    }
   ],
   "source": [
    "pp.pprint(list(colecao_pessoa.aggregate(pipeline)))"
   ]
  },
  {
   "cell_type": "markdown",
   "id": "11019bb1",
   "metadata": {},
   "source": [
    "### Consulta: \n",
    "- número de pessoas existentes na base acima de 18 anos\n"
   ]
  },
  {
   "cell_type": "code",
   "execution_count": 46,
   "id": "2a02b5eb",
   "metadata": {},
   "outputs": [
    {
     "name": "stdout",
     "output_type": "stream",
     "text": [
      "\n",
      "SELECT count(*) as c\n",
      "FROM df\n",
      "WHERE idade > 18\n",
      "\n"
     ]
    }
   ],
   "source": [
    "sql = \"\"\"\n",
    "SELECT count(*) as c\n",
    "FROM df\n",
    "WHERE idade > 18\n",
    "\"\"\"\n",
    "\n",
    "print(sql)"
   ]
  },
  {
   "cell_type": "code",
   "execution_count": 47,
   "id": "c4cc1ecd",
   "metadata": {},
   "outputs": [
    {
     "data": {
      "text/html": [
       "<div>\n",
       "<style scoped>\n",
       "    .dataframe tbody tr th:only-of-type {\n",
       "        vertical-align: middle;\n",
       "    }\n",
       "\n",
       "    .dataframe tbody tr th {\n",
       "        vertical-align: top;\n",
       "    }\n",
       "\n",
       "    .dataframe thead th {\n",
       "        text-align: right;\n",
       "    }\n",
       "</style>\n",
       "<table border=\"1\" class=\"dataframe\">\n",
       "  <thead>\n",
       "    <tr style=\"text-align: right;\">\n",
       "      <th></th>\n",
       "      <th>c</th>\n",
       "    </tr>\n",
       "  </thead>\n",
       "  <tbody>\n",
       "    <tr>\n",
       "      <th>0</th>\n",
       "      <td>13</td>\n",
       "    </tr>\n",
       "  </tbody>\n",
       "</table>\n",
       "</div>"
      ],
      "text/plain": [
       "    c\n",
       "0  13"
      ]
     },
     "execution_count": 47,
     "metadata": {},
     "output_type": "execute_result"
    }
   ],
   "source": [
    "sqldf(sql, globals())"
   ]
  },
  {
   "cell_type": "code",
   "execution_count": 48,
   "id": "7bcb92e2",
   "metadata": {},
   "outputs": [
    {
     "data": {
      "text/plain": [
       "[{'$match': {'idade': {'$gt': 18}}},\n",
       " {'$group': {'_id': None, 'c': {'$sum': 1}}}]"
      ]
     },
     "execution_count": 48,
     "metadata": {},
     "output_type": "execute_result"
    }
   ],
   "source": [
    "\n",
    "pipeline = [\n",
    "    # idade maior que 18\n",
    "    {\"$match\": {'idade': {'$gt': 18}}},\n",
    "\n",
    "    # agrupa para contar\n",
    "    {\n",
    "        '$group': {\n",
    "            '_id': None,\n",
    "            'c': { '$sum': 1 }\n",
    "        }\n",
    "    }]\n",
    "\n",
    "pipeline"
   ]
  },
  {
   "cell_type": "code",
   "execution_count": 49,
   "id": "4f4f5a3e",
   "metadata": {
    "scrolled": true
   },
   "outputs": [
    {
     "name": "stdout",
     "output_type": "stream",
     "text": [
      "[{'_id': None, 'c': 13}]\n"
     ]
    }
   ],
   "source": [
    "pp.pprint(list(colecao_pessoa.aggregate(pipeline)))"
   ]
  },
  {
   "cell_type": "markdown",
   "id": "4d9f2558",
   "metadata": {},
   "source": [
    "### Consulta: \n",
    "- somar a idade de todos participantes da base\n"
   ]
  },
  {
   "cell_type": "code",
   "execution_count": 50,
   "id": "b3f22513",
   "metadata": {},
   "outputs": [
    {
     "name": "stdout",
     "output_type": "stream",
     "text": [
      "\n",
      "SELECT sum(idade) as total\n",
      "FROM df\n",
      "\n"
     ]
    }
   ],
   "source": [
    "sql = \"\"\"\n",
    "SELECT sum(idade) as total\n",
    "FROM df\n",
    "\"\"\"\n",
    "\n",
    "print(sql)"
   ]
  },
  {
   "cell_type": "code",
   "execution_count": 51,
   "id": "464103d3",
   "metadata": {},
   "outputs": [
    {
     "data": {
      "text/html": [
       "<div>\n",
       "<style scoped>\n",
       "    .dataframe tbody tr th:only-of-type {\n",
       "        vertical-align: middle;\n",
       "    }\n",
       "\n",
       "    .dataframe tbody tr th {\n",
       "        vertical-align: top;\n",
       "    }\n",
       "\n",
       "    .dataframe thead th {\n",
       "        text-align: right;\n",
       "    }\n",
       "</style>\n",
       "<table border=\"1\" class=\"dataframe\">\n",
       "  <thead>\n",
       "    <tr style=\"text-align: right;\">\n",
       "      <th></th>\n",
       "      <th>total</th>\n",
       "    </tr>\n",
       "  </thead>\n",
       "  <tbody>\n",
       "    <tr>\n",
       "      <th>0</th>\n",
       "      <td>543</td>\n",
       "    </tr>\n",
       "  </tbody>\n",
       "</table>\n",
       "</div>"
      ],
      "text/plain": [
       "   total\n",
       "0    543"
      ]
     },
     "execution_count": 51,
     "metadata": {},
     "output_type": "execute_result"
    }
   ],
   "source": [
    "sqldf(sql, globals())"
   ]
  },
  {
   "cell_type": "code",
   "execution_count": 52,
   "id": "5023271a",
   "metadata": {},
   "outputs": [
    {
     "data": {
      "text/plain": [
       "[{'$group': {'_id': None, 'total': {'$sum': '$idade'}}}]"
      ]
     },
     "execution_count": 52,
     "metadata": {},
     "output_type": "execute_result"
    }
   ],
   "source": [
    "pipeline = [\n",
    "    # agrupa para contar\n",
    "    {\n",
    "        '$group': {\n",
    "            '_id': None,\n",
    "            'total': { '$sum': '$idade' }\n",
    "        }\n",
    "    }]\n",
    "\n",
    "pipeline"
   ]
  },
  {
   "cell_type": "code",
   "execution_count": 53,
   "id": "d7f75545",
   "metadata": {
    "scrolled": true
   },
   "outputs": [
    {
     "name": "stdout",
     "output_type": "stream",
     "text": [
      "[{'_id': None, 'total': 543}]\n"
     ]
    }
   ],
   "source": [
    "pp.pprint(list(colecao_pessoa.aggregate(pipeline)))"
   ]
  },
  {
   "cell_type": "markdown",
   "id": "d866886b",
   "metadata": {},
   "source": [
    "### Consulta: \n",
    "- para todos os participantes da base:\n",
    "- somar a idade\n",
    "- maior idade\n",
    "- menor idade\n",
    "- média de idades\n"
   ]
  },
  {
   "cell_type": "code",
   "execution_count": 54,
   "id": "769e8d9c",
   "metadata": {},
   "outputs": [
    {
     "name": "stdout",
     "output_type": "stream",
     "text": [
      "\n",
      "SELECT sum(idade) as total,\n",
      "max(idade) ma,\n",
      "min(idade) mi,\n",
      "avg(idade) me\n",
      "FROM df\n",
      "\n"
     ]
    }
   ],
   "source": [
    "sql = \"\"\"\n",
    "SELECT sum(idade) as total,\n",
    "max(idade) ma,\n",
    "min(idade) mi,\n",
    "avg(idade) me\n",
    "FROM df\n",
    "\"\"\"\n",
    "\n",
    "print(sql)"
   ]
  },
  {
   "cell_type": "code",
   "execution_count": 55,
   "id": "2bcb442d",
   "metadata": {},
   "outputs": [
    {
     "data": {
      "text/html": [
       "<div>\n",
       "<style scoped>\n",
       "    .dataframe tbody tr th:only-of-type {\n",
       "        vertical-align: middle;\n",
       "    }\n",
       "\n",
       "    .dataframe tbody tr th {\n",
       "        vertical-align: top;\n",
       "    }\n",
       "\n",
       "    .dataframe thead th {\n",
       "        text-align: right;\n",
       "    }\n",
       "</style>\n",
       "<table border=\"1\" class=\"dataframe\">\n",
       "  <thead>\n",
       "    <tr style=\"text-align: right;\">\n",
       "      <th></th>\n",
       "      <th>total</th>\n",
       "      <th>ma</th>\n",
       "      <th>mi</th>\n",
       "      <th>me</th>\n",
       "    </tr>\n",
       "  </thead>\n",
       "  <tbody>\n",
       "    <tr>\n",
       "      <th>0</th>\n",
       "      <td>543</td>\n",
       "      <td>28</td>\n",
       "      <td>10</td>\n",
       "      <td>18.1</td>\n",
       "    </tr>\n",
       "  </tbody>\n",
       "</table>\n",
       "</div>"
      ],
      "text/plain": [
       "   total  ma  mi    me\n",
       "0    543  28  10  18.1"
      ]
     },
     "execution_count": 55,
     "metadata": {},
     "output_type": "execute_result"
    }
   ],
   "source": [
    "sqldf(sql, globals())"
   ]
  },
  {
   "cell_type": "code",
   "execution_count": 56,
   "id": "8cb20f19",
   "metadata": {},
   "outputs": [
    {
     "data": {
      "text/plain": [
       "[{'$group': {'_id': None,\n",
       "   'total': {'$sum': '$idade'},\n",
       "   'ma': {'$max': '$idade'},\n",
       "   'mi': {'$min': '$idade'},\n",
       "   'me': {'$avg': '$idade'}}}]"
      ]
     },
     "execution_count": 56,
     "metadata": {},
     "output_type": "execute_result"
    }
   ],
   "source": [
    "pipeline = [\n",
    "    # agrupa para realizar os cálculos\n",
    "    {\n",
    "        '$group': {\n",
    "            '_id': None,\n",
    "            'total': { '$sum': '$idade' },\n",
    "            'ma': { '$max': '$idade' },\n",
    "            'mi': { '$min': '$idade' },\n",
    "            'me': { '$avg': '$idade' },\n",
    "        }\n",
    "    }]\n",
    "\n",
    "pipeline"
   ]
  },
  {
   "cell_type": "code",
   "execution_count": 57,
   "id": "4905c5ca",
   "metadata": {
    "scrolled": true
   },
   "outputs": [
    {
     "name": "stdout",
     "output_type": "stream",
     "text": [
      "[{'_id': None, 'ma': 28, 'me': 18.1, 'mi': 10, 'total': 543}]\n"
     ]
    }
   ],
   "source": [
    "pp.pprint(list(colecao_pessoa.aggregate(pipeline)))"
   ]
  },
  {
   "cell_type": "markdown",
   "id": "17641cdb",
   "metadata": {},
   "source": [
    "### Consulta: \n",
    "- somar a idade de todos participantes da base (apenas daqueles que possuem acima de 18 anos)\n"
   ]
  },
  {
   "cell_type": "code",
   "execution_count": 58,
   "id": "67bf0eab",
   "metadata": {},
   "outputs": [
    {
     "name": "stdout",
     "output_type": "stream",
     "text": [
      "\n",
      "SELECT sum(idade) as total\n",
      "FROM df\n",
      "WHERE idade > 18\n",
      "\n"
     ]
    }
   ],
   "source": [
    "sql = \"\"\"\n",
    "SELECT sum(idade) as total\n",
    "FROM df\n",
    "WHERE idade > 18\n",
    "\"\"\"\n",
    "\n",
    "print(sql)"
   ]
  },
  {
   "cell_type": "code",
   "execution_count": 59,
   "id": "406836e8",
   "metadata": {},
   "outputs": [
    {
     "data": {
      "text/html": [
       "<div>\n",
       "<style scoped>\n",
       "    .dataframe tbody tr th:only-of-type {\n",
       "        vertical-align: middle;\n",
       "    }\n",
       "\n",
       "    .dataframe tbody tr th {\n",
       "        vertical-align: top;\n",
       "    }\n",
       "\n",
       "    .dataframe thead th {\n",
       "        text-align: right;\n",
       "    }\n",
       "</style>\n",
       "<table border=\"1\" class=\"dataframe\">\n",
       "  <thead>\n",
       "    <tr style=\"text-align: right;\">\n",
       "      <th></th>\n",
       "      <th>total</th>\n",
       "    </tr>\n",
       "  </thead>\n",
       "  <tbody>\n",
       "    <tr>\n",
       "      <th>0</th>\n",
       "      <td>308</td>\n",
       "    </tr>\n",
       "  </tbody>\n",
       "</table>\n",
       "</div>"
      ],
      "text/plain": [
       "   total\n",
       "0    308"
      ]
     },
     "execution_count": 59,
     "metadata": {},
     "output_type": "execute_result"
    }
   ],
   "source": [
    "sqldf(sql, globals())"
   ]
  },
  {
   "cell_type": "code",
   "execution_count": 60,
   "id": "6c842ecd",
   "metadata": {},
   "outputs": [
    {
     "data": {
      "text/plain": [
       "[{'$match': {'idade': {'$gt': 18}}},\n",
       " {'$group': {'_id': None, 'total': {'$sum': '$idade'}}}]"
      ]
     },
     "execution_count": 60,
     "metadata": {},
     "output_type": "execute_result"
    }
   ],
   "source": [
    "pipeline = [\n",
    "    # idade maior que 18\n",
    "    {\"$match\": {'idade': {'$gt': 18}}},\n",
    "\n",
    "    # agrupa para contar\n",
    "    {\n",
    "        '$group': {\n",
    "            '_id': None,\n",
    "            'total': { '$sum': '$idade' }\n",
    "        }\n",
    "    }]\n",
    "\n",
    "pipeline"
   ]
  },
  {
   "cell_type": "code",
   "execution_count": 61,
   "id": "4d66e28e",
   "metadata": {
    "scrolled": true
   },
   "outputs": [
    {
     "name": "stdout",
     "output_type": "stream",
     "text": [
      "[{'_id': None, 'total': 308}]\n"
     ]
    }
   ],
   "source": [
    "pp.pprint(list(colecao_pessoa.aggregate(pipeline)))"
   ]
  },
  {
   "cell_type": "markdown",
   "id": "95886f96",
   "metadata": {},
   "source": [
    "### Consulta: \n",
    "- contar quantas pessoas existem por idade\n"
   ]
  },
  {
   "cell_type": "code",
   "execution_count": 62,
   "id": "59bd0eef",
   "metadata": {},
   "outputs": [
    {
     "name": "stdout",
     "output_type": "stream",
     "text": [
      "\n",
      "SELECT idade, count(*) as c\n",
      "FROM df\n",
      "GROUP BY idade\n",
      "\n"
     ]
    }
   ],
   "source": [
    "sql = \"\"\"\n",
    "SELECT idade, count(*) as c\n",
    "FROM df\n",
    "GROUP BY idade\n",
    "\"\"\"\n",
    "\n",
    "print(sql)"
   ]
  },
  {
   "cell_type": "code",
   "execution_count": 63,
   "id": "0fb69c95",
   "metadata": {},
   "outputs": [
    {
     "data": {
      "text/html": [
       "<div>\n",
       "<style scoped>\n",
       "    .dataframe tbody tr th:only-of-type {\n",
       "        vertical-align: middle;\n",
       "    }\n",
       "\n",
       "    .dataframe tbody tr th {\n",
       "        vertical-align: top;\n",
       "    }\n",
       "\n",
       "    .dataframe thead th {\n",
       "        text-align: right;\n",
       "    }\n",
       "</style>\n",
       "<table border=\"1\" class=\"dataframe\">\n",
       "  <thead>\n",
       "    <tr style=\"text-align: right;\">\n",
       "      <th></th>\n",
       "      <th>idade</th>\n",
       "      <th>c</th>\n",
       "    </tr>\n",
       "  </thead>\n",
       "  <tbody>\n",
       "    <tr>\n",
       "      <th>0</th>\n",
       "      <td>10</td>\n",
       "      <td>2</td>\n",
       "    </tr>\n",
       "    <tr>\n",
       "      <th>1</th>\n",
       "      <td>11</td>\n",
       "      <td>2</td>\n",
       "    </tr>\n",
       "    <tr>\n",
       "      <th>2</th>\n",
       "      <td>12</td>\n",
       "      <td>4</td>\n",
       "    </tr>\n",
       "    <tr>\n",
       "      <th>3</th>\n",
       "      <td>13</td>\n",
       "      <td>1</td>\n",
       "    </tr>\n",
       "    <tr>\n",
       "      <th>4</th>\n",
       "      <td>14</td>\n",
       "      <td>1</td>\n",
       "    </tr>\n",
       "    <tr>\n",
       "      <th>5</th>\n",
       "      <td>15</td>\n",
       "      <td>1</td>\n",
       "    </tr>\n",
       "    <tr>\n",
       "      <th>6</th>\n",
       "      <td>16</td>\n",
       "      <td>2</td>\n",
       "    </tr>\n",
       "    <tr>\n",
       "      <th>7</th>\n",
       "      <td>17</td>\n",
       "      <td>1</td>\n",
       "    </tr>\n",
       "    <tr>\n",
       "      <th>8</th>\n",
       "      <td>18</td>\n",
       "      <td>3</td>\n",
       "    </tr>\n",
       "    <tr>\n",
       "      <th>9</th>\n",
       "      <td>20</td>\n",
       "      <td>2</td>\n",
       "    </tr>\n",
       "    <tr>\n",
       "      <th>10</th>\n",
       "      <td>21</td>\n",
       "      <td>2</td>\n",
       "    </tr>\n",
       "    <tr>\n",
       "      <th>11</th>\n",
       "      <td>23</td>\n",
       "      <td>2</td>\n",
       "    </tr>\n",
       "    <tr>\n",
       "      <th>12</th>\n",
       "      <td>24</td>\n",
       "      <td>3</td>\n",
       "    </tr>\n",
       "    <tr>\n",
       "      <th>13</th>\n",
       "      <td>26</td>\n",
       "      <td>1</td>\n",
       "    </tr>\n",
       "    <tr>\n",
       "      <th>14</th>\n",
       "      <td>27</td>\n",
       "      <td>2</td>\n",
       "    </tr>\n",
       "    <tr>\n",
       "      <th>15</th>\n",
       "      <td>28</td>\n",
       "      <td>1</td>\n",
       "    </tr>\n",
       "  </tbody>\n",
       "</table>\n",
       "</div>"
      ],
      "text/plain": [
       "    idade  c\n",
       "0      10  2\n",
       "1      11  2\n",
       "2      12  4\n",
       "3      13  1\n",
       "4      14  1\n",
       "5      15  1\n",
       "6      16  2\n",
       "7      17  1\n",
       "8      18  3\n",
       "9      20  2\n",
       "10     21  2\n",
       "11     23  2\n",
       "12     24  3\n",
       "13     26  1\n",
       "14     27  2\n",
       "15     28  1"
      ]
     },
     "execution_count": 63,
     "metadata": {},
     "output_type": "execute_result"
    }
   ],
   "source": [
    "sqldf(sql, globals())"
   ]
  },
  {
   "cell_type": "code",
   "execution_count": 64,
   "id": "40252e6a",
   "metadata": {},
   "outputs": [
    {
     "data": {
      "text/plain": [
       "[{'$group': {'_id': '$idade', 'c': {'$sum': 1}}}]"
      ]
     },
     "execution_count": 64,
     "metadata": {},
     "output_type": "execute_result"
    }
   ],
   "source": [
    "pipeline = [\n",
    "    # agrupa para contar\n",
    "    {\n",
    "        '$group': {\n",
    "            '_id': \"$idade\",\n",
    "            'c': { '$sum': 1 }\n",
    "        }\n",
    "    }]\n",
    "\n",
    "pipeline"
   ]
  },
  {
   "cell_type": "code",
   "execution_count": 65,
   "id": "34183497",
   "metadata": {
    "scrolled": false
   },
   "outputs": [
    {
     "name": "stdout",
     "output_type": "stream",
     "text": [
      "[{'_id': 10, 'c': 2}, {'_id': 13, 'c': 1}, {'_id': 26, 'c': 1},\n",
      " {'_id': 17, 'c': 1}, {'_id': 15, 'c': 1}, {'_id': 14, 'c': 1},\n",
      " {'_id': 24, 'c': 3}, {'_id': 23, 'c': 2}, {'_id': 28, 'c': 1},\n",
      " {'_id': 20, 'c': 2}, {'_id': 16, 'c': 2}, {'_id': 18, 'c': 3},\n",
      " {'_id': 27, 'c': 2}, {'_id': 21, 'c': 2}, {'_id': 12, 'c': 4},\n",
      " {'_id': 11, 'c': 2}]\n"
     ]
    }
   ],
   "source": [
    "pp.pprint(list(colecao_pessoa.aggregate(pipeline)))"
   ]
  },
  {
   "cell_type": "markdown",
   "id": "49762860",
   "metadata": {},
   "source": [
    "### Consulta: \n",
    "- contar quantas pessoas existem por idade, apenas aquelas pessoas com idade repetida\n"
   ]
  },
  {
   "cell_type": "code",
   "execution_count": 66,
   "id": "dad7a94f",
   "metadata": {},
   "outputs": [
    {
     "name": "stdout",
     "output_type": "stream",
     "text": [
      "\n",
      "SELECT idade, count(*) as c\n",
      "FROM df\n",
      "GROUP BY idade\n",
      "HAVING c>1\n",
      "\n"
     ]
    }
   ],
   "source": [
    "sql = \"\"\"\n",
    "SELECT idade, count(*) as c\n",
    "FROM df\n",
    "GROUP BY idade\n",
    "HAVING c>1\n",
    "\"\"\"\n",
    "\n",
    "print(sql)"
   ]
  },
  {
   "cell_type": "code",
   "execution_count": 67,
   "id": "fd61042e",
   "metadata": {},
   "outputs": [
    {
     "data": {
      "text/html": [
       "<div>\n",
       "<style scoped>\n",
       "    .dataframe tbody tr th:only-of-type {\n",
       "        vertical-align: middle;\n",
       "    }\n",
       "\n",
       "    .dataframe tbody tr th {\n",
       "        vertical-align: top;\n",
       "    }\n",
       "\n",
       "    .dataframe thead th {\n",
       "        text-align: right;\n",
       "    }\n",
       "</style>\n",
       "<table border=\"1\" class=\"dataframe\">\n",
       "  <thead>\n",
       "    <tr style=\"text-align: right;\">\n",
       "      <th></th>\n",
       "      <th>idade</th>\n",
       "      <th>c</th>\n",
       "    </tr>\n",
       "  </thead>\n",
       "  <tbody>\n",
       "    <tr>\n",
       "      <th>0</th>\n",
       "      <td>10</td>\n",
       "      <td>2</td>\n",
       "    </tr>\n",
       "    <tr>\n",
       "      <th>1</th>\n",
       "      <td>11</td>\n",
       "      <td>2</td>\n",
       "    </tr>\n",
       "    <tr>\n",
       "      <th>2</th>\n",
       "      <td>12</td>\n",
       "      <td>4</td>\n",
       "    </tr>\n",
       "    <tr>\n",
       "      <th>3</th>\n",
       "      <td>16</td>\n",
       "      <td>2</td>\n",
       "    </tr>\n",
       "    <tr>\n",
       "      <th>4</th>\n",
       "      <td>18</td>\n",
       "      <td>3</td>\n",
       "    </tr>\n",
       "    <tr>\n",
       "      <th>5</th>\n",
       "      <td>20</td>\n",
       "      <td>2</td>\n",
       "    </tr>\n",
       "    <tr>\n",
       "      <th>6</th>\n",
       "      <td>21</td>\n",
       "      <td>2</td>\n",
       "    </tr>\n",
       "    <tr>\n",
       "      <th>7</th>\n",
       "      <td>23</td>\n",
       "      <td>2</td>\n",
       "    </tr>\n",
       "    <tr>\n",
       "      <th>8</th>\n",
       "      <td>24</td>\n",
       "      <td>3</td>\n",
       "    </tr>\n",
       "    <tr>\n",
       "      <th>9</th>\n",
       "      <td>27</td>\n",
       "      <td>2</td>\n",
       "    </tr>\n",
       "  </tbody>\n",
       "</table>\n",
       "</div>"
      ],
      "text/plain": [
       "   idade  c\n",
       "0     10  2\n",
       "1     11  2\n",
       "2     12  4\n",
       "3     16  2\n",
       "4     18  3\n",
       "5     20  2\n",
       "6     21  2\n",
       "7     23  2\n",
       "8     24  3\n",
       "9     27  2"
      ]
     },
     "execution_count": 67,
     "metadata": {},
     "output_type": "execute_result"
    }
   ],
   "source": [
    "sqldf(sql, globals())"
   ]
  },
  {
   "cell_type": "code",
   "execution_count": 68,
   "id": "78e7d7f4",
   "metadata": {},
   "outputs": [
    {
     "data": {
      "text/plain": [
       "[{'$group': {'_id': '$idade', 'c': {'$sum': 1}}},\n",
       " {'$match': {'c': {'$gt': 1}}}]"
      ]
     },
     "execution_count": 68,
     "metadata": {},
     "output_type": "execute_result"
    }
   ],
   "source": [
    "pipeline = [\n",
    "    # agrupa para contar\n",
    "    {\n",
    "        '$group': {\n",
    "            '_id': \"$idade\",\n",
    "            'c': { '$sum': 1 }\n",
    "        }\n",
    "    },\n",
    "    # recupera apenas aqueles cuja contagem seja > 1\n",
    "    { '$match': { 'c': { '$gt': 1 } } }\n",
    "]\n",
    "\n",
    "pipeline"
   ]
  },
  {
   "cell_type": "code",
   "execution_count": 69,
   "id": "da532a49",
   "metadata": {
    "scrolled": false
   },
   "outputs": [
    {
     "name": "stdout",
     "output_type": "stream",
     "text": [
      "[{'_id': 16, 'c': 2}, {'_id': 24, 'c': 3}, {'_id': 23, 'c': 2},\n",
      " {'_id': 20, 'c': 2}, {'_id': 18, 'c': 3}, {'_id': 21, 'c': 2},\n",
      " {'_id': 27, 'c': 2}, {'_id': 12, 'c': 4}, {'_id': 10, 'c': 2},\n",
      " {'_id': 11, 'c': 2}]\n"
     ]
    }
   ],
   "source": [
    "pp.pprint(list(colecao_pessoa.aggregate(pipeline)))"
   ]
  },
  {
   "cell_type": "markdown",
   "id": "2e743490",
   "metadata": {},
   "source": [
    "Para mais operadores de funções agregadas: https://www.mongodb.com/docs/manual/reference/operator/aggregation/"
   ]
  }
 ],
 "metadata": {
  "kernelspec": {
   "display_name": "Python 3 (ipykernel)",
   "language": "python",
   "name": "python3"
  },
  "language_info": {
   "codemirror_mode": {
    "name": "ipython",
    "version": 3
   },
   "file_extension": ".py",
   "mimetype": "text/x-python",
   "name": "python",
   "nbconvert_exporter": "python",
   "pygments_lexer": "ipython3",
   "version": "3.9.7"
  }
 },
 "nbformat": 4,
 "nbformat_minor": 5
}
