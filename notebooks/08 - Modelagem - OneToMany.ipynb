{
 "cells": [
  {
   "cell_type": "markdown",
   "id": "d65f76bd",
   "metadata": {},
   "source": [
    "# Notebook responsável por alguns aspectos de modelagem OneToOne / OneToFew Linking (usando MongoEngine)"
   ]
  },
  {
   "cell_type": "markdown",
   "id": "d7d2da3b",
   "metadata": {},
   "source": [
    "## Bibliotecas importantes"
   ]
  },
  {
   "cell_type": "code",
   "execution_count": 1,
   "id": "f0fb9fd7",
   "metadata": {},
   "outputs": [],
   "source": [
    "from mongoengine import *\n",
    "import pprint\n",
    "import numpy as np\n",
    "import pandas as pd\n",
    "import unidecode\n",
    "\n",
    "# para geração de dados fake\n",
    "from faker import Faker\n"
   ]
  },
  {
   "cell_type": "markdown",
   "id": "3a233703",
   "metadata": {},
   "source": [
    "## Classes úteis"
   ]
  },
  {
   "cell_type": "code",
   "execution_count": 2,
   "id": "0b71aa64",
   "metadata": {},
   "outputs": [],
   "source": [
    "class Endereco (Document):\n",
    "    logradouro = StringField(max_length=200, required=True)\n",
    "    numero = StringField(max_length=10, required=True)\n",
    "    bairro = StringField(max_length=50, required=True)\n",
    "    cidade = StringField(max_length=200, required=True)\n",
    "    uf = StringField(max_length=50, required=True)\n",
    "    cep = StringField(max_length=10, required=True)\n",
    "    \n",
    "    def __str__(self):\n",
    "        return f\"{self.pk}, {self.logradouro}, {self.numero}\"\n",
    "    \n",
    "    \n",
    "class Pessoa (Document):\n",
    "    cpf = StringField(max_length=20, required=True)\n",
    "    primeiro_nome = StringField(max_length=200, required=True)\n",
    "    ultimo_nome = StringField(max_length=400, required=True)\n",
    "    idade = IntField(min_value=0, max_value=120, required=True)\n",
    "    data_nascimento = StringField(max_length=20, required=True)\n",
    "    email = EmailField(max_length=50)\n",
    "    telefones = ListField(StringField(max_length=50), max_length=4)\n",
    "    formacoes = ListField(StringField(max_length=50), max_length=4)\n",
    "    \n",
    "    # Referência (linking) para um objeto da classe pessoa\n",
    "    # ref.:https://mongoengine-odm.readthedocs.io/apireference.html#documents\n",
    "    #endereco = ReferenceField(Endereco, reverse_delete_rule=DENY)\n",
    "    enderecos = ListField(ReferenceField(Endereco, reverse_delete_rule=DENY))\n",
    "    \n",
    "    def __str__(self):\n",
    "        return f\"{self.pk}, {self.cpf}, {self.primeiro_nome}, Endereço: {self.enderecos}\"\n"
   ]
  },
  {
   "cell_type": "markdown",
   "id": "4dfe91a8",
   "metadata": {},
   "source": [
    "## Funções uteis"
   ]
  },
  {
   "cell_type": "code",
   "execution_count": 3,
   "id": "ea741f12",
   "metadata": {},
   "outputs": [],
   "source": [
    "def criar_endereco():\n",
    "    \n",
    "    logradouro = fake.street_name()\n",
    "    numero = fake.building_number()\n",
    "    bairro = fake.bairro()\n",
    "    cidade = fake.city()\n",
    "    uf = fake.administrative_unit()\n",
    "    cep = fake.postcode()\n",
    "\n",
    "    endereco = Endereco(logradouro=logradouro, numero=numero, bairro=bairro, cidade=cidade, uf=uf, cep=cep)\n",
    "    return endereco"
   ]
  },
  {
   "cell_type": "code",
   "execution_count": 4,
   "id": "cedde46c",
   "metadata": {},
   "outputs": [],
   "source": [
    "def criar_pessoa():\n",
    "    \n",
    "    cpf = fake.cpf()\n",
    "    primeiro_nome = fake.first_name()\n",
    "    ultimo_nome = fake.last_name()\n",
    "    idade = np.random.randint(18, 50)\n",
    "    data_nascimento = fake.date()\n",
    "    email = f'{cpf}@{fake.free_email_domain()}'\n",
    "    \n",
    "    # criando os telefones\n",
    "    telefones = []\n",
    "    n = np.random.randint(1, 4)\n",
    "    for i in range(n):\n",
    "        telefones.append(fake.msisdn())\n",
    "    \n",
    "    # criando as formações\n",
    "    formacoes = []\n",
    "    n = np.random.randint(1, 4)\n",
    "    for i in range(n):\n",
    "        formacoes.append(fake.job())\n",
    "    \n",
    "    enderecos = []\n",
    "    n = np.random.randint(1, 4)\n",
    "    for i in range(n):\n",
    "        enderecos.append(criar_endereco())\n",
    "\n",
    "    \n",
    "    pessoa = Pessoa(cpf=cpf, primeiro_nome=primeiro_nome, \n",
    "                    ultimo_nome=ultimo_nome, idade=idade, \n",
    "                    data_nascimento=data_nascimento, \n",
    "                    email=email, telefones=telefones, \n",
    "                    formacoes=formacoes, enderecos=enderecos)\n",
    "    return pessoa"
   ]
  },
  {
   "cell_type": "markdown",
   "id": "648352cd",
   "metadata": {},
   "source": [
    "## Configurações"
   ]
  },
  {
   "cell_type": "code",
   "execution_count": 5,
   "id": "332b9e9b",
   "metadata": {},
   "outputs": [],
   "source": [
    "pp = pprint.PrettyPrinter(compact=True)\n",
    "# gerando dados fictícios em português do Brasil\n",
    "fake = Faker(['pt_BR'])"
   ]
  },
  {
   "cell_type": "markdown",
   "id": "55a2771b",
   "metadata": {},
   "source": [
    "## Inserção de vários documentos"
   ]
  },
  {
   "cell_type": "markdown",
   "id": "9d0204f1",
   "metadata": {},
   "source": [
    "### Conectando ao MongoDB"
   ]
  },
  {
   "cell_type": "code",
   "execution_count": 6,
   "id": "fc8b60e3",
   "metadata": {},
   "outputs": [
    {
     "data": {
      "text/plain": [
       "MongoClient(host=['localhost:27017'], document_class=dict, tz_aware=False, connect=True, read_preference=Primary(), uuidrepresentation=3)"
      ]
     },
     "execution_count": 6,
     "metadata": {},
     "output_type": "execute_result"
    }
   ],
   "source": [
    "connect('onetomany_linking')"
   ]
  },
  {
   "cell_type": "markdown",
   "id": "7b551e88",
   "metadata": {},
   "source": [
    "### Exemplo - Criação de vários documentos compostos"
   ]
  },
  {
   "cell_type": "code",
   "execution_count": 7,
   "id": "5450a862",
   "metadata": {},
   "outputs": [
    {
     "name": "stdout",
     "output_type": "stream",
     "text": [
      "[<Pessoa: None, 618.259.073-40, Lara, Endereço: [<Endereco: None, Sítio Emanuelly Gonçalves, 6>, <Endereco: None, Recanto de Teixeira, 729>]>,\n",
      " <Pessoa: None, 271.864.039-13, Isabella, Endereço: [<Endereco: None, Chácara de Costela, 93>, <Endereco: None, Fazenda Fernando Rocha, 551>, <Endereco: None, Recanto de da Rocha, 28>]>,\n",
      " <Pessoa: None, 792.158.634-19, Bruna, Endereço: [<Endereco: None, Jardim Moura, 2>]>,\n",
      " <Pessoa: None, 912.750.436-07, Kamilly, Endereço: [<Endereco: None, Praia de Jesus, 714>]>,\n",
      " <Pessoa: None, 740.352.619-80, Brenda, Endereço: [<Endereco: None, Conjunto Stephany Ferreira, 8>, <Endereco: None, Avenida de Cardoso, 54>]>,\n",
      " <Pessoa: None, 784.953.602-92, Maysa, Endereço: [<Endereco: None, Fazenda de Correia, 55>, <Endereco: None, Condomínio Bruno Pinto, 712>, <Endereco: None, Via Fernanda Rodrigues, 39>]>,\n",
      " <Pessoa: None, 970.485.316-57, Milena, Endereço: [<Endereco: None, Área Renan Nunes, 74>]>,\n",
      " <Pessoa: None, 780.921.563-95, Luiz Felipe, Endereço: [<Endereco: None, Rua de Ferreira, 35>]>,\n",
      " <Pessoa: None, 396.058.714-75, Clara, Endereço: [<Endereco: None, Sítio de Mendes, 47>, <Endereco: None, Pátio Costa, 36>]>,\n",
      " <Pessoa: None, 983.521.064-06, Julia, Endereço: [<Endereco: None, Distrito de Nascimento, 62>, <Endereco: None, Viaduto Catarina Rodrigues, 56>]>]\n"
     ]
    }
   ],
   "source": [
    "lista_pessoas = []\n",
    "\n",
    "for i in range(10):\n",
    "    lista_pessoas.append(criar_pessoa())\n",
    "    \n",
    "pp.pprint(lista_pessoas)"
   ]
  },
  {
   "cell_type": "code",
   "execution_count": 8,
   "id": "7036ac60-5979-4445-a5fd-54bf39925482",
   "metadata": {},
   "outputs": [
    {
     "name": "stdout",
     "output_type": "stream",
     "text": [
      "None\n"
     ]
    }
   ],
   "source": [
    "pp.pprint(lista_pessoas[0].pk)"
   ]
  },
  {
   "cell_type": "markdown",
   "id": "e22f2eab",
   "metadata": {},
   "source": [
    "### Inserindo os documentos no banco de dados"
   ]
  },
  {
   "cell_type": "code",
   "execution_count": 9,
   "id": "2c048809",
   "metadata": {},
   "outputs": [
    {
     "data": {
      "text/plain": [
       "<Pessoa: 625ff9298ed61a282c640b7f, 618.259.073-40, Lara, Endereço: [<Endereco: 625ff9298ed61a282c640b7d, Sítio Emanuelly Gonçalves, 6>, <Endereco: 625ff9298ed61a282c640b7e, Recanto de Teixeira, 729>]>"
      ]
     },
     "execution_count": 9,
     "metadata": {},
     "output_type": "execute_result"
    }
   ],
   "source": [
    "# inserindo 1 documento apenas\n",
    "for e in lista_pessoas[0].enderecos:\n",
    "    e.save()\n",
    "lista_pessoas[0].save()"
   ]
  },
  {
   "cell_type": "code",
   "execution_count": 10,
   "id": "b2cce9fd",
   "metadata": {},
   "outputs": [
    {
     "name": "stdout",
     "output_type": "stream",
     "text": [
      "ObjectId('625ff9298ed61a282c640b7f')\n"
     ]
    }
   ],
   "source": [
    "pp.pprint(lista_pessoas[0].pk)"
   ]
  },
  {
   "cell_type": "code",
   "execution_count": 11,
   "id": "926c6d54",
   "metadata": {},
   "outputs": [
    {
     "name": "stdout",
     "output_type": "stream",
     "text": [
      "[<Endereco: 625ff9298ed61a282c640b7d, Sítio Emanuelly Gonçalves, 6>,\n",
      " <Endereco: 625ff9298ed61a282c640b7e, Recanto de Teixeira, 729>]\n"
     ]
    }
   ],
   "source": [
    "pp.pprint(lista_pessoas[0].enderecos)"
   ]
  },
  {
   "cell_type": "code",
   "execution_count": 12,
   "id": "8e269e5c-3aae-4180-84c6-f0d89d8a8dd7",
   "metadata": {},
   "outputs": [],
   "source": [
    "# inserindo todos os outros documentos\n",
    "for p in lista_pessoas[1:]:\n",
    "    for e in p.enderecos:\n",
    "        e.save()\n",
    "    p.save()"
   ]
  },
  {
   "cell_type": "markdown",
   "id": "eb1e708f",
   "metadata": {},
   "source": [
    "## Recuperando os documentos inseridos"
   ]
  },
  {
   "cell_type": "markdown",
   "id": "4d3c61ec",
   "metadata": {},
   "source": [
    "#### Recuperar todos"
   ]
  },
  {
   "cell_type": "code",
   "execution_count": 13,
   "id": "36d993f5",
   "metadata": {},
   "outputs": [
    {
     "name": "stdout",
     "output_type": "stream",
     "text": [
      "ObjectId('625ff9298ed61a282c640b7f')\n",
      "ObjectId('625ff9298ed61a282c640b83')\n",
      "ObjectId('625ff9298ed61a282c640b85')\n",
      "ObjectId('625ff9298ed61a282c640b87')\n",
      "ObjectId('625ff9298ed61a282c640b8a')\n",
      "ObjectId('625ff9298ed61a282c640b8e')\n",
      "ObjectId('625ff9298ed61a282c640b90')\n",
      "ObjectId('625ff9298ed61a282c640b92')\n",
      "ObjectId('625ff9298ed61a282c640b95')\n",
      "ObjectId('625ff9298ed61a282c640b98')\n"
     ]
    }
   ],
   "source": [
    "for p in Pessoa.objects:\n",
    "    pp.pprint(p.id)"
   ]
  },
  {
   "cell_type": "code",
   "execution_count": 14,
   "id": "ead155d5",
   "metadata": {},
   "outputs": [
    {
     "name": "stdout",
     "output_type": "stream",
     "text": [
      "<Pessoa: 625ff9298ed61a282c640b7f, 618.259.073-40, Lara, Endereço: [<Endereco: 625ff9298ed61a282c640b7d, Sítio Emanuelly Gonçalves, 6>, <Endereco: 625ff9298ed61a282c640b7e, Recanto de Teixeira, 729>]>\n"
     ]
    }
   ],
   "source": [
    "pessoa = Pessoa.objects.first()\n",
    "pp.pprint(pessoa)"
   ]
  },
  {
   "cell_type": "code",
   "execution_count": 15,
   "id": "0eb9c593",
   "metadata": {},
   "outputs": [
    {
     "name": "stdout",
     "output_type": "stream",
     "text": [
      "ObjectId('625ff9298ed61a282c640b7d')\n"
     ]
    }
   ],
   "source": [
    "pp.pprint(pessoa.enderecos[0].pk)"
   ]
  },
  {
   "cell_type": "code",
   "execution_count": 16,
   "id": "99ba5229",
   "metadata": {},
   "outputs": [
    {
     "ename": "AttributeError",
     "evalue": "'NoneType' object has no attribute 'delete'",
     "output_type": "error",
     "traceback": [
      "\u001b[0;31m---------------------------------------------------------------------------\u001b[0m",
      "\u001b[0;31mAttributeError\u001b[0m                            Traceback (most recent call last)",
      "Input \u001b[0;32mIn [16]\u001b[0m, in \u001b[0;36m<cell line: 2>\u001b[0;34m()\u001b[0m\n\u001b[1;32m      1\u001b[0m endereco \u001b[38;5;241m=\u001b[39m Endereco\u001b[38;5;241m.\u001b[39mobjects(\u001b[38;5;28mid\u001b[39m\u001b[38;5;241m=\u001b[39m\u001b[38;5;124m'\u001b[39m\u001b[38;5;124m625f5015cc40c07d0d148253\u001b[39m\u001b[38;5;124m'\u001b[39m)\u001b[38;5;241m.\u001b[39mfirst()\n\u001b[0;32m----> 2\u001b[0m \u001b[43mendereco\u001b[49m\u001b[38;5;241;43m.\u001b[39;49m\u001b[43mdelete\u001b[49m()\n",
      "\u001b[0;31mAttributeError\u001b[0m: 'NoneType' object has no attribute 'delete'"
     ]
    }
   ],
   "source": [
    "endereco = Endereco.objects(id='625f5015cc40c07d0d148253').first()\n",
    "endereco.delete()"
   ]
  },
  {
   "cell_type": "code",
   "execution_count": null,
   "id": "87cee784",
   "metadata": {},
   "outputs": [],
   "source": [
    "Pessoa.objects(id='625f48b63a1f265e4af5816b')"
   ]
  }
 ],
 "metadata": {
  "kernelspec": {
   "display_name": "Python 3 (ipykernel)",
   "language": "python",
   "name": "python3"
  },
  "language_info": {
   "codemirror_mode": {
    "name": "ipython",
    "version": 3
   },
   "file_extension": ".py",
   "mimetype": "text/x-python",
   "name": "python",
   "nbconvert_exporter": "python",
   "pygments_lexer": "ipython3",
   "version": "3.9.7"
  }
 },
 "nbformat": 4,
 "nbformat_minor": 5
}
