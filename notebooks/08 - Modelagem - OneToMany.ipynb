{
 "cells": [
  {
   "cell_type": "markdown",
   "id": "d65f76bd",
   "metadata": {},
   "source": [
    "# Notebook responsável por alguns aspectos de modelagem OneToOne / OneToFew Linking (usando MongoEngine)"
   ]
  },
  {
   "cell_type": "markdown",
   "id": "d7d2da3b",
   "metadata": {},
   "source": [
    "## Bibliotecas importantes"
   ]
  },
  {
   "cell_type": "code",
   "execution_count": 1,
   "id": "f0fb9fd7",
   "metadata": {},
   "outputs": [],
   "source": [
    "from mongoengine import *\n",
    "import pprint\n",
    "import numpy as np\n",
    "import pandas as pd\n",
    "import unidecode\n",
    "\n",
    "# para geração de dados fake\n",
    "from faker import Faker\n"
   ]
  },
  {
   "cell_type": "markdown",
   "id": "3a233703",
   "metadata": {},
   "source": [
    "## Classes úteis"
   ]
  },
  {
   "cell_type": "code",
   "execution_count": 8,
   "id": "0b71aa64",
   "metadata": {},
   "outputs": [],
   "source": [
    "class Endereco (Document):\n",
    "    logradouro = StringField(max_length=200, required=True)\n",
    "    numero = StringField(max_length=10, required=True)\n",
    "    bairro = StringField(max_length=50, required=True)\n",
    "    cidade = StringField(max_length=200, required=True)\n",
    "    uf = StringField(max_length=50, required=True)\n",
    "    cep = StringField(max_length=10, required=True)\n",
    "    \n",
    "    def __str__(self):\n",
    "        return f\"{self.pk}, {self.logradouro}, {self.numero}\"\n",
    "    \n",
    "    \n",
    "class Pessoa (Document):\n",
    "    cpf = StringField(max_length=20, required=True)\n",
    "    primeiro_nome = StringField(max_length=200, required=True)\n",
    "    ultimo_nome = StringField(max_length=400, required=True)\n",
    "    idade = IntField(min_value=0, max_value=120, required=True)\n",
    "    data_nascimento = StringField(max_length=20, required=True)\n",
    "    email = EmailField(max_length=50)\n",
    "    telefones = ListField(StringField(max_length=50), max_length=4)\n",
    "    formacoes = ListField(StringField(max_length=50), max_length=4)\n",
    "    \n",
    "    # Referência (linking) para um objeto da classe pessoa\n",
    "    # ref.:https://mongoengine-odm.readthedocs.io/apireference.html#documents\n",
    "    #endereco = ReferenceField(Endereco, reverse_delete_rule=DENY)\n",
    "    enderecos = ListField(ReferenceField(Endereco, reverse_delete_rule=DENY))\n",
    "    \n",
    "    def __str__(self):\n",
    "        return f\"{self.pk}, {self.cpf}, {self.primeiro_nome}, Endereço: {self.enderecos}\"\n"
   ]
  },
  {
   "cell_type": "markdown",
   "id": "4dfe91a8",
   "metadata": {},
   "source": [
    "## Funções uteis"
   ]
  },
  {
   "cell_type": "code",
   "execution_count": 9,
   "id": "ea741f12",
   "metadata": {},
   "outputs": [],
   "source": [
    "def criar_endereco():\n",
    "    \n",
    "    logradouro = fake.street_name()\n",
    "    numero = fake.building_number()\n",
    "    bairro = fake.bairro()\n",
    "    cidade = fake.city()\n",
    "    uf = fake.administrative_unit()\n",
    "    cep = fake.postcode()\n",
    "\n",
    "    endereco = Endereco(logradouro=logradouro, numero=numero, bairro=bairro, cidade=cidade, uf=uf, cep=cep)\n",
    "    return endereco"
   ]
  },
  {
   "cell_type": "code",
   "execution_count": 10,
   "id": "cedde46c",
   "metadata": {},
   "outputs": [],
   "source": [
    "def criar_pessoa():\n",
    "    \n",
    "    cpf = fake.cpf()\n",
    "    primeiro_nome = fake.first_name()\n",
    "    ultimo_nome = fake.last_name()\n",
    "    idade = np.random.randint(18, 50)\n",
    "    data_nascimento = fake.date()\n",
    "    email = f'{cpf}@{fake.free_email_domain()}'\n",
    "    \n",
    "    # criando os telefones\n",
    "    telefones = []\n",
    "    n = np.random.randint(1, 4)\n",
    "    for i in range(n):\n",
    "        telefones.append(fake.msisdn())\n",
    "    \n",
    "    # criando as formações\n",
    "    formacoes = []\n",
    "    n = np.random.randint(1, 4)\n",
    "    for i in range(n):\n",
    "        formacoes.append(fake.job())\n",
    "    \n",
    "    enderecos = []\n",
    "    n = np.random.randint(1, 4)\n",
    "    for i in range(n):\n",
    "        enderecos.append(criar_endereco())\n",
    "\n",
    "    \n",
    "    pessoa = Pessoa(cpf=cpf, primeiro_nome=primeiro_nome, \n",
    "                    ultimo_nome=ultimo_nome, idade=idade, \n",
    "                    data_nascimento=data_nascimento, \n",
    "                    email=email, telefones=telefones, \n",
    "                    formacoes=formacoes, enderecos=enderecos)\n",
    "    return pessoa"
   ]
  },
  {
   "cell_type": "markdown",
   "id": "648352cd",
   "metadata": {},
   "source": [
    "## Configurações"
   ]
  },
  {
   "cell_type": "code",
   "execution_count": 11,
   "id": "332b9e9b",
   "metadata": {},
   "outputs": [],
   "source": [
    "pp = pprint.PrettyPrinter(compact=True)\n",
    "# gerando dados fictícios em português do Brasil\n",
    "fake = Faker(['pt_BR'])"
   ]
  },
  {
   "cell_type": "markdown",
   "id": "55a2771b",
   "metadata": {},
   "source": [
    "## Inserção de vários documentos"
   ]
  },
  {
   "cell_type": "markdown",
   "id": "9d0204f1",
   "metadata": {},
   "source": [
    "### Conectando ao MongoDB"
   ]
  },
  {
   "cell_type": "code",
   "execution_count": 12,
   "id": "fc8b60e3",
   "metadata": {},
   "outputs": [
    {
     "data": {
      "text/plain": [
       "MongoClient(host=['localhost:27017'], document_class=dict, tz_aware=False, connect=True, read_preference=Primary(), uuidrepresentation=3)"
      ]
     },
     "execution_count": 12,
     "metadata": {},
     "output_type": "execute_result"
    }
   ],
   "source": [
    "connect('onetomany_linking')"
   ]
  },
  {
   "cell_type": "markdown",
   "id": "7b551e88",
   "metadata": {},
   "source": [
    "### Exemplo - Criação de vários documentos compostos"
   ]
  },
  {
   "cell_type": "code",
   "execution_count": 13,
   "id": "5450a862",
   "metadata": {},
   "outputs": [
    {
     "name": "stdout",
     "output_type": "stream",
     "text": [
      "[<Pessoa: None, 483.967.520-10, Olivia, Endereço: [<Endereco: Morro Nascimento, 821>, <Endereco: Pátio de Duarte, 180>]>,\n",
      " <Pessoa: None, 670.381.295-03, Davi, Endereço: [<Endereco: Trevo Sarah Ramos, 83>, <Endereco: Setor de Santos, 6>]>,\n",
      " <Pessoa: None, 870.139.625-03, Valentina, Endereço: [<Endereco: Residencial Giovanna Lopes, 43>]>,\n",
      " <Pessoa: None, 045.381.627-44, Julia, Endereço: [<Endereco: Sítio Sofia Ferreira, 69>]>,\n",
      " <Pessoa: None, 027.349.861-40, Luiza, Endereço: [<Endereco: Ladeira Maria Sophia Araújo, 59>, <Endereco: Favela Souza, 90>]>,\n",
      " <Pessoa: None, 863.195.270-21, Melissa, Endereço: [<Endereco: Estação da Mata, 98>, <Endereco: Sítio Castro, 6>, <Endereco: Morro de Campos, 66>]>,\n",
      " <Pessoa: None, 281.530.974-23, Júlia, Endereço: [<Endereco: Vale de Correia, 74>, <Endereco: Favela de Porto, 8>, <Endereco: Vila Benício Aragão, 57>]>,\n",
      " <Pessoa: None, 045.213.789-60, Sofia, Endereço: [<Endereco: Residencial Eduardo Santos, 612>, <Endereco: Lago da Cunha, 80>]>,\n",
      " <Pessoa: None, 924.380.517-79, Diego, Endereço: [<Endereco: Rua Breno Ribeiro, 5>, <Endereco: Parque Duarte, 87>, <Endereco: Residencial Levi Nunes, 80>]>,\n",
      " <Pessoa: None, 289.463.071-96, Lavínia, Endereço: [<Endereco: Recanto da Costa, 76>, <Endereco: Núcleo de Oliveira, 2>]>]\n"
     ]
    }
   ],
   "source": [
    "lista_pessoas = []\n",
    "\n",
    "for i in range(10):\n",
    "    lista_pessoas.append(criar_pessoa())\n",
    "    \n",
    "pp.pprint(lista_pessoas)"
   ]
  },
  {
   "cell_type": "code",
   "execution_count": 14,
   "id": "7036ac60-5979-4445-a5fd-54bf39925482",
   "metadata": {},
   "outputs": [
    {
     "name": "stdout",
     "output_type": "stream",
     "text": [
      "None\n"
     ]
    }
   ],
   "source": [
    "pp.pprint(lista_pessoas[0].pk)"
   ]
  },
  {
   "cell_type": "markdown",
   "id": "e22f2eab",
   "metadata": {},
   "source": [
    "### Inserindo os documentos no banco de dados"
   ]
  },
  {
   "cell_type": "code",
   "execution_count": 18,
   "id": "2c048809",
   "metadata": {},
   "outputs": [
    {
     "data": {
      "text/plain": [
       "<Pessoa: 625f5015cc40c07d0d148255, 483.967.520-10, Olivia, Endereço: [<Endereco: Morro Nascimento, 821>, <Endereco: Pátio de Duarte, 180>]>"
      ]
     },
     "execution_count": 18,
     "metadata": {},
     "output_type": "execute_result"
    }
   ],
   "source": [
    "# inserindo 1 documento apenas\n",
    "for e in lista_pessoas[0].enderecos:\n",
    "    e.save()\n",
    "lista_pessoas[0].save()"
   ]
  },
  {
   "cell_type": "code",
   "execution_count": 19,
   "id": "b2cce9fd",
   "metadata": {},
   "outputs": [
    {
     "name": "stdout",
     "output_type": "stream",
     "text": [
      "ObjectId('625f5015cc40c07d0d148255')\n"
     ]
    }
   ],
   "source": [
    "pp.pprint(lista_pessoas[0].pk)"
   ]
  },
  {
   "cell_type": "code",
   "execution_count": 22,
   "id": "926c6d54",
   "metadata": {},
   "outputs": [
    {
     "name": "stdout",
     "output_type": "stream",
     "text": [
      "[<Endereco: Morro Nascimento, 821>, <Endereco: Pátio de Duarte, 180>]\n"
     ]
    }
   ],
   "source": [
    "pp.pprint(lista_pessoas[0].enderecos)"
   ]
  },
  {
   "cell_type": "code",
   "execution_count": 23,
   "id": "8e269e5c-3aae-4180-84c6-f0d89d8a8dd7",
   "metadata": {},
   "outputs": [],
   "source": [
    "# inserindo todos os outros documentos\n",
    "for p in lista_pessoas[1:]:\n",
    "    for e in p.enderecos:\n",
    "        e.save()\n",
    "    p.save()"
   ]
  },
  {
   "cell_type": "markdown",
   "id": "eb1e708f",
   "metadata": {},
   "source": [
    "## Recuperando os documentos inseridos"
   ]
  },
  {
   "cell_type": "markdown",
   "id": "4d3c61ec",
   "metadata": {},
   "source": [
    "#### Recuperar todos"
   ]
  },
  {
   "cell_type": "code",
   "execution_count": 24,
   "id": "36d993f5",
   "metadata": {},
   "outputs": [
    {
     "name": "stdout",
     "output_type": "stream",
     "text": [
      "ObjectId('625f5015cc40c07d0d148255')\n",
      "ObjectId('625f5050cc40c07d0d148258')\n",
      "ObjectId('625f5050cc40c07d0d14825a')\n",
      "ObjectId('625f5050cc40c07d0d14825c')\n",
      "ObjectId('625f5050cc40c07d0d14825f')\n",
      "ObjectId('625f5050cc40c07d0d148263')\n",
      "ObjectId('625f5050cc40c07d0d148267')\n",
      "ObjectId('625f5050cc40c07d0d14826a')\n",
      "ObjectId('625f5050cc40c07d0d14826e')\n",
      "ObjectId('625f5050cc40c07d0d148271')\n"
     ]
    }
   ],
   "source": [
    "for p in Pessoa.objects:\n",
    "    pp.pprint(p.id)"
   ]
  },
  {
   "cell_type": "code",
   "execution_count": 25,
   "id": "ead155d5",
   "metadata": {},
   "outputs": [
    {
     "name": "stdout",
     "output_type": "stream",
     "text": [
      "<Pessoa: 625f5015cc40c07d0d148255, 483.967.520-10, Olivia, Endereço: [<Endereco: Morro Nascimento, 821>, <Endereco: Pátio de Duarte, 180>]>\n"
     ]
    }
   ],
   "source": [
    "pessoa = Pessoa.objects.first()\n",
    "pp.pprint(pessoa)"
   ]
  },
  {
   "cell_type": "code",
   "execution_count": 27,
   "id": "0eb9c593",
   "metadata": {},
   "outputs": [
    {
     "name": "stdout",
     "output_type": "stream",
     "text": [
      "ObjectId('625f5015cc40c07d0d148253')\n"
     ]
    }
   ],
   "source": [
    "pp.pprint(pessoa.enderecos[0].pk)"
   ]
  },
  {
   "cell_type": "code",
   "execution_count": 28,
   "id": "99ba5229",
   "metadata": {},
   "outputs": [
    {
     "ename": "OperationError",
     "evalue": "Could not delete document (Pessoa.enderecos refers to it)",
     "output_type": "error",
     "traceback": [
      "\u001b[0;31m---------------------------------------------------------------------------\u001b[0m",
      "\u001b[0;31mOperationError\u001b[0m                            Traceback (most recent call last)",
      "Input \u001b[0;32mIn [28]\u001b[0m, in \u001b[0;36m<cell line: 2>\u001b[0;34m()\u001b[0m\n\u001b[1;32m      1\u001b[0m endereco \u001b[38;5;241m=\u001b[39m Endereco\u001b[38;5;241m.\u001b[39mobjects(\u001b[38;5;28mid\u001b[39m\u001b[38;5;241m=\u001b[39m\u001b[38;5;124m'\u001b[39m\u001b[38;5;124m625f5015cc40c07d0d148253\u001b[39m\u001b[38;5;124m'\u001b[39m)\u001b[38;5;241m.\u001b[39mfirst()\n\u001b[0;32m----> 2\u001b[0m \u001b[43mendereco\u001b[49m\u001b[38;5;241;43m.\u001b[39;49m\u001b[43mdelete\u001b[49m\u001b[43m(\u001b[49m\u001b[43m)\u001b[49m\n",
      "File \u001b[0;32m~/Documentos/GitHub/techshot_mongo/techshot_mongo/lib/python3.9/site-packages/mongoengine/document.py:653\u001b[0m, in \u001b[0;36mDocument.delete\u001b[0;34m(self, signal_kwargs, **write_concern)\u001b[0m\n\u001b[1;32m    650\u001b[0m         \u001b[38;5;28mgetattr\u001b[39m(\u001b[38;5;28mself\u001b[39m, name)\u001b[38;5;241m.\u001b[39mdelete()\n\u001b[1;32m    652\u001b[0m \u001b[38;5;28;01mtry\u001b[39;00m:\n\u001b[0;32m--> 653\u001b[0m     \u001b[38;5;28;43mself\u001b[39;49m\u001b[38;5;241;43m.\u001b[39;49m\u001b[43m_qs\u001b[49m\u001b[38;5;241;43m.\u001b[39;49m\u001b[43mfilter\u001b[49m\u001b[43m(\u001b[49m\u001b[38;5;241;43m*\u001b[39;49m\u001b[38;5;241;43m*\u001b[39;49m\u001b[38;5;28;43mself\u001b[39;49m\u001b[38;5;241;43m.\u001b[39;49m\u001b[43m_object_key\u001b[49m\u001b[43m)\u001b[49m\u001b[38;5;241;43m.\u001b[39;49m\u001b[43mdelete\u001b[49m\u001b[43m(\u001b[49m\n\u001b[1;32m    654\u001b[0m \u001b[43m        \u001b[49m\u001b[43mwrite_concern\u001b[49m\u001b[38;5;241;43m=\u001b[39;49m\u001b[43mwrite_concern\u001b[49m\u001b[43m,\u001b[49m\u001b[43m \u001b[49m\u001b[43m_from_doc_delete\u001b[49m\u001b[38;5;241;43m=\u001b[39;49m\u001b[38;5;28;43;01mTrue\u001b[39;49;00m\n\u001b[1;32m    655\u001b[0m \u001b[43m    \u001b[49m\u001b[43m)\u001b[49m\n\u001b[1;32m    656\u001b[0m \u001b[38;5;28;01mexcept\u001b[39;00m pymongo\u001b[38;5;241m.\u001b[39merrors\u001b[38;5;241m.\u001b[39mOperationFailure \u001b[38;5;28;01mas\u001b[39;00m err:\n\u001b[1;32m    657\u001b[0m     message \u001b[38;5;241m=\u001b[39m \u001b[38;5;124m\"\u001b[39m\u001b[38;5;124mCould not delete document (\u001b[39m\u001b[38;5;132;01m%s\u001b[39;00m\u001b[38;5;124m)\u001b[39m\u001b[38;5;124m\"\u001b[39m \u001b[38;5;241m%\u001b[39m err\u001b[38;5;241m.\u001b[39margs\n",
      "File \u001b[0;32m~/Documentos/GitHub/techshot_mongo/techshot_mongo/lib/python3.9/site-packages/mongoengine/queryset/base.py:483\u001b[0m, in \u001b[0;36mBaseQuerySet.delete\u001b[0;34m(self, write_concern, _from_doc_delete, cascade_refs)\u001b[0m\n\u001b[1;32m    481\u001b[0m         refs \u001b[38;5;241m=\u001b[39m document_cls\u001b[38;5;241m.\u001b[39mobjects(\u001b[38;5;241m*\u001b[39m\u001b[38;5;241m*\u001b[39m{field_name \u001b[38;5;241m+\u001b[39m \u001b[38;5;124m\"\u001b[39m\u001b[38;5;124m__in\u001b[39m\u001b[38;5;124m\"\u001b[39m: \u001b[38;5;28mself\u001b[39m})\n\u001b[1;32m    482\u001b[0m         \u001b[38;5;28;01mif\u001b[39;00m refs\u001b[38;5;241m.\u001b[39mlimit(\u001b[38;5;241m1\u001b[39m)\u001b[38;5;241m.\u001b[39mcount() \u001b[38;5;241m>\u001b[39m \u001b[38;5;241m0\u001b[39m:\n\u001b[0;32m--> 483\u001b[0m             \u001b[38;5;28;01mraise\u001b[39;00m OperationError(\n\u001b[1;32m    484\u001b[0m                 \u001b[38;5;124m\"\u001b[39m\u001b[38;5;124mCould not delete document (\u001b[39m\u001b[38;5;132;01m%s\u001b[39;00m\u001b[38;5;124m.\u001b[39m\u001b[38;5;132;01m%s\u001b[39;00m\u001b[38;5;124m refers to it)\u001b[39m\u001b[38;5;124m\"\u001b[39m\n\u001b[1;32m    485\u001b[0m                 \u001b[38;5;241m%\u001b[39m (document_cls\u001b[38;5;241m.\u001b[39m\u001b[38;5;18m__name__\u001b[39m, field_name)\n\u001b[1;32m    486\u001b[0m             )\n\u001b[1;32m    488\u001b[0m \u001b[38;5;66;03m# Check all the other rules\u001b[39;00m\n\u001b[1;32m    489\u001b[0m \u001b[38;5;28;01mfor\u001b[39;00m rule_entry, rule \u001b[38;5;129;01min\u001b[39;00m delete_rules:\n",
      "\u001b[0;31mOperationError\u001b[0m: Could not delete document (Pessoa.enderecos refers to it)"
     ]
    }
   ],
   "source": [
    "endereco = Endereco.objects(id='625f5015cc40c07d0d148253').first()\n",
    "endereco.delete()"
   ]
  },
  {
   "cell_type": "code",
   "execution_count": null,
   "id": "87cee784",
   "metadata": {},
   "outputs": [],
   "source": [
    "Pessoa.objects(id='625f48b63a1f265e4af5816b')"
   ]
  }
 ],
 "metadata": {
  "kernelspec": {
   "display_name": "Python 3 (ipykernel)",
   "language": "python",
   "name": "python3"
  },
  "language_info": {
   "codemirror_mode": {
    "name": "ipython",
    "version": 3
   },
   "file_extension": ".py",
   "mimetype": "text/x-python",
   "name": "python",
   "nbconvert_exporter": "python",
   "pygments_lexer": "ipython3",
   "version": "3.9.7"
  }
 },
 "nbformat": 4,
 "nbformat_minor": 5
}
