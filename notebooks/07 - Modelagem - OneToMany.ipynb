{
 "cells": [
  {
   "cell_type": "markdown",
   "id": "d65f76bd",
   "metadata": {},
   "source": [
    "# Notebook responsável por alguns aspectos de modelagem OneToOne / OneToFew Embedding (usando MongoEngine)"
   ]
  },
  {
   "cell_type": "markdown",
   "id": "d7d2da3b",
   "metadata": {},
   "source": [
    "## Bibliotecas importantes"
   ]
  },
  {
   "cell_type": "code",
   "execution_count": 1,
   "id": "f0fb9fd7",
   "metadata": {},
   "outputs": [],
   "source": [
    "from mongoengine import *\n",
    "import pprint\n",
    "import numpy as np\n",
    "import pandas as pd\n",
    "import unidecode\n",
    "\n",
    "# para geração de dados fake\n",
    "from faker import Faker\n"
   ]
  },
  {
   "cell_type": "markdown",
   "id": "3a233703",
   "metadata": {},
   "source": [
    "## Classes úteis"
   ]
  },
  {
   "cell_type": "code",
   "execution_count": 2,
   "id": "0b71aa64",
   "metadata": {},
   "outputs": [],
   "source": [
    "class Endereco (EmbeddedDocument):\n",
    "    logradouro = StringField(max_length=200, required=True)\n",
    "    numero = StringField(max_length=10, required=True)\n",
    "    bairro = StringField(max_length=50, required=True)\n",
    "    cidade = StringField(max_length=200, required=True)\n",
    "    uf = StringField(max_length=50, required=True)\n",
    "    cep = StringField(max_length=10, required=True)\n",
    "    \n",
    "    def __str__(self):\n",
    "        return f\"{self.logradouro}, {self.numero}\"\n",
    "    \n",
    "    \n",
    "class Pessoa (Document):\n",
    "    cpf = StringField(max_length=20, required=True)\n",
    "    primeiro_nome = StringField(max_length=200, required=True)\n",
    "    ultimo_nome = StringField(max_length=400, required=True)\n",
    "    idade = IntField(min_value=0, max_value=120, required=True)\n",
    "    data_nascimento = StringField(max_length=20, required=True)\n",
    "    email = EmailField(max_length=50)\n",
    "    telefones = ListField(StringField(max_length=50), max_length=4)\n",
    "    formacoes = ListField(StringField(max_length=50), max_length=4)\n",
    "    \n",
    "    # Referência (linking) para um objeto da classe pessoa\n",
    "    enderecos = ListField(EmbeddedDocumentField(Endereco))\n",
    "    \n",
    "    def __str__(self):\n",
    "        return f\"{self.pk}, {self.cpf}, {self.primeiro_nome}, Endereço: {self.enderecos}\"\n"
   ]
  },
  {
   "cell_type": "markdown",
   "id": "4dfe91a8",
   "metadata": {},
   "source": [
    "## Funções uteis"
   ]
  },
  {
   "cell_type": "code",
   "execution_count": 3,
   "id": "ea741f12",
   "metadata": {},
   "outputs": [],
   "source": [
    "def criar_endereco():\n",
    "    \n",
    "    logradouro = fake.street_name()\n",
    "    numero = fake.building_number()\n",
    "    bairro = fake.bairro()\n",
    "    cidade = fake.city()\n",
    "    uf = fake.administrative_unit()\n",
    "    cep = fake.postcode()\n",
    "\n",
    "    endereco = Endereco(logradouro=logradouro, numero=numero, bairro=bairro, cidade=cidade, uf=uf, cep=cep)\n",
    "    return endereco"
   ]
  },
  {
   "cell_type": "code",
   "execution_count": 4,
   "id": "cedde46c",
   "metadata": {},
   "outputs": [],
   "source": [
    "def criar_pessoa():\n",
    "    \n",
    "    cpf = fake.cpf()\n",
    "    primeiro_nome = fake.first_name()\n",
    "    ultimo_nome = fake.last_name()\n",
    "    idade = np.random.randint(18, 50)\n",
    "    data_nascimento = fake.date()\n",
    "    email = f'{cpf}@{fake.free_email_domain()}'\n",
    "    \n",
    "    # criando os telefones\n",
    "    telefones = []\n",
    "    n = np.random.randint(1, 4)\n",
    "    for i in range(n):\n",
    "        telefones.append(fake.msisdn())\n",
    "    \n",
    "    # criando as formações\n",
    "    formacoes = []\n",
    "    n = np.random.randint(1, 4)\n",
    "    for i in range(n):\n",
    "        formacoes.append(fake.job())\n",
    "    \n",
    "    enderecos = []\n",
    "    n = np.random.randint(1, 4)\n",
    "    for i in range(n):\n",
    "        enderecos.append(criar_endereco())\n",
    "    \n",
    "    \n",
    "    pessoa = Pessoa(cpf=cpf, primeiro_nome=primeiro_nome, \n",
    "                    ultimo_nome=ultimo_nome, idade=idade, \n",
    "                    data_nascimento=data_nascimento, \n",
    "                    email=email, telefones=telefones, \n",
    "                    formacoes=formacoes, enderecos=enderecos)\n",
    "    return pessoa"
   ]
  },
  {
   "cell_type": "markdown",
   "id": "648352cd",
   "metadata": {},
   "source": [
    "## Configurações"
   ]
  },
  {
   "cell_type": "code",
   "execution_count": 5,
   "id": "332b9e9b",
   "metadata": {},
   "outputs": [],
   "source": [
    "pp = pprint.PrettyPrinter(compact=True)\n",
    "# gerando dados fictícios em português do Brasil\n",
    "fake = Faker(['pt_BR'])"
   ]
  },
  {
   "cell_type": "markdown",
   "id": "55a2771b",
   "metadata": {},
   "source": [
    "## Inserção de vários documentos"
   ]
  },
  {
   "cell_type": "markdown",
   "id": "9d0204f1",
   "metadata": {},
   "source": [
    "### Conectando ao MongoDB"
   ]
  },
  {
   "cell_type": "code",
   "execution_count": 6,
   "id": "fc8b60e3",
   "metadata": {},
   "outputs": [
    {
     "data": {
      "text/plain": [
       "MongoClient(host=['localhost:27017'], document_class=dict, tz_aware=False, connect=True, read_preference=Primary(), uuidrepresentation=3)"
      ]
     },
     "execution_count": 6,
     "metadata": {},
     "output_type": "execute_result"
    }
   ],
   "source": [
    "connect('onetomany_embedding')"
   ]
  },
  {
   "cell_type": "markdown",
   "id": "7b551e88",
   "metadata": {},
   "source": [
    "### Exemplo - Criação de vários documentos compostos"
   ]
  },
  {
   "cell_type": "code",
   "execution_count": 7,
   "id": "5450a862",
   "metadata": {},
   "outputs": [
    {
     "name": "stdout",
     "output_type": "stream",
     "text": [
      "[<Pessoa: None, 527.946.803-74, Rafael, Endereço: [<Endereco: Lago das Neves, 21>, <Endereco: Condomínio Ana Clara da Cunha, 11>]>,\n",
      " <Pessoa: None, 290.814.356-98, Yuri, Endereço: [<Endereco: Vale Moraes, 721>, <Endereco: Via de Dias, 114>, <Endereco: Largo Lima, 27>]>,\n",
      " <Pessoa: None, 056.273.149-07, Maria Sophia, Endereço: [<Endereco: Vereda Azevedo, 875>, <Endereco: Vereda de Viana, 82>]>,\n",
      " <Pessoa: None, 840.657.129-20, Lucas, Endereço: [<Endereco: Feira Marina Barbosa, 65>, <Endereco: Estrada Rebeca Castro, 102>]>,\n",
      " <Pessoa: None, 715.038.429-32, Paulo, Endereço: [<Endereco: Viaduto Benício Ferreira, 1>, <Endereco: Rodovia de Farias, 6>]>,\n",
      " <Pessoa: None, 361.479.250-16, Yuri, Endereço: [<Endereco: Estação de Pires, 13>]>,\n",
      " <Pessoa: None, 381.067.294-78, Arthur, Endereço: [<Endereco: Pátio das Neves, 25>, <Endereco: Ladeira de Moreira, 70>, <Endereco: Chácara de Ramos, 9>]>,\n",
      " <Pessoa: None, 847.523.106-35, Antônio, Endereço: [<Endereco: Residencial Fernando Novaes, 69>, <Endereco: Aeroporto de Lopes, 65>, <Endereco: Aeroporto de Farias, 44>]>,\n",
      " <Pessoa: None, 148.392.067-40, Benjamin, Endereço: [<Endereco: Vale Souza, 111>, <Endereco: Vereda de Ferreira, 61>, <Endereco: Quadra de Ribeiro, 83>]>,\n",
      " <Pessoa: None, 437.098.521-88, Ryan, Endereço: [<Endereco: Conjunto João Miguel Lopes, 5>, <Endereco: Lago Emilly Barros, 2>]>]\n"
     ]
    }
   ],
   "source": [
    "lista_pessoas = []\n",
    "\n",
    "for i in range(10):\n",
    "    lista_pessoas.append(criar_pessoa())\n",
    "    \n",
    "pp.pprint(lista_pessoas)"
   ]
  },
  {
   "cell_type": "code",
   "execution_count": 8,
   "id": "7036ac60-5979-4445-a5fd-54bf39925482",
   "metadata": {},
   "outputs": [
    {
     "name": "stdout",
     "output_type": "stream",
     "text": [
      "None\n"
     ]
    }
   ],
   "source": [
    "pp.pprint(lista_pessoas[0].pk)"
   ]
  },
  {
   "cell_type": "markdown",
   "id": "e22f2eab",
   "metadata": {},
   "source": [
    "### Inserindo os documentos no banco de dados"
   ]
  },
  {
   "cell_type": "code",
   "execution_count": 9,
   "id": "2c048809",
   "metadata": {},
   "outputs": [
    {
     "data": {
      "text/plain": [
       "<Pessoa: 625ff866b7682e563753489e, 527.946.803-74, Rafael, Endereço: [<Endereco: Lago das Neves, 21>, <Endereco: Condomínio Ana Clara da Cunha, 11>]>"
      ]
     },
     "execution_count": 9,
     "metadata": {},
     "output_type": "execute_result"
    }
   ],
   "source": [
    "# inserindo 1 documento apenas\n",
    "lista_pessoas[0].save()"
   ]
  },
  {
   "cell_type": "code",
   "execution_count": 10,
   "id": "b2cce9fd",
   "metadata": {},
   "outputs": [
    {
     "name": "stdout",
     "output_type": "stream",
     "text": [
      "ObjectId('625ff866b7682e563753489e')\n"
     ]
    }
   ],
   "source": [
    "pp.pprint(lista_pessoas[0].pk)"
   ]
  },
  {
   "cell_type": "code",
   "execution_count": 11,
   "id": "8e269e5c-3aae-4180-84c6-f0d89d8a8dd7",
   "metadata": {},
   "outputs": [
    {
     "data": {
      "text/plain": [
       "[<Pessoa: 625ff866b7682e563753489f, 290.814.356-98, Yuri, Endereço: [<Endereco: Vale Moraes, 721>, <Endereco: Via de Dias, 114>, <Endereco: Largo Lima, 27>]>,\n",
       " <Pessoa: 625ff866b7682e56375348a0, 056.273.149-07, Maria Sophia, Endereço: [<Endereco: Vereda Azevedo, 875>, <Endereco: Vereda de Viana, 82>]>,\n",
       " <Pessoa: 625ff866b7682e56375348a1, 840.657.129-20, Lucas, Endereço: [<Endereco: Feira Marina Barbosa, 65>, <Endereco: Estrada Rebeca Castro, 102>]>,\n",
       " <Pessoa: 625ff866b7682e56375348a2, 715.038.429-32, Paulo, Endereço: [<Endereco: Viaduto Benício Ferreira, 1>, <Endereco: Rodovia de Farias, 6>]>,\n",
       " <Pessoa: 625ff866b7682e56375348a3, 361.479.250-16, Yuri, Endereço: [<Endereco: Estação de Pires, 13>]>,\n",
       " <Pessoa: 625ff866b7682e56375348a4, 381.067.294-78, Arthur, Endereço: [<Endereco: Pátio das Neves, 25>, <Endereco: Ladeira de Moreira, 70>, <Endereco: Chácara de Ramos, 9>]>,\n",
       " <Pessoa: 625ff866b7682e56375348a5, 847.523.106-35, Antônio, Endereço: [<Endereco: Residencial Fernando Novaes, 69>, <Endereco: Aeroporto de Lopes, 65>, <Endereco: Aeroporto de Farias, 44>]>,\n",
       " <Pessoa: 625ff866b7682e56375348a6, 148.392.067-40, Benjamin, Endereço: [<Endereco: Vale Souza, 111>, <Endereco: Vereda de Ferreira, 61>, <Endereco: Quadra de Ribeiro, 83>]>,\n",
       " <Pessoa: 625ff866b7682e56375348a7, 437.098.521-88, Ryan, Endereço: [<Endereco: Conjunto João Miguel Lopes, 5>, <Endereco: Lago Emilly Barros, 2>]>]"
      ]
     },
     "execution_count": 11,
     "metadata": {},
     "output_type": "execute_result"
    }
   ],
   "source": [
    "# inserindo todos os outros documentos\n",
    "Pessoa.objects.insert(lista_pessoas[1:])"
   ]
  },
  {
   "cell_type": "markdown",
   "id": "eb1e708f",
   "metadata": {},
   "source": [
    "## Recuperando os documentos inseridos"
   ]
  },
  {
   "cell_type": "markdown",
   "id": "4d3c61ec",
   "metadata": {},
   "source": [
    "#### Recuperar todos"
   ]
  },
  {
   "cell_type": "code",
   "execution_count": 12,
   "id": "36d993f5",
   "metadata": {},
   "outputs": [
    {
     "name": "stdout",
     "output_type": "stream",
     "text": [
      "ObjectId('625ff866b7682e563753489e')\n",
      "ObjectId('625ff866b7682e563753489f')\n",
      "ObjectId('625ff866b7682e56375348a0')\n",
      "ObjectId('625ff866b7682e56375348a1')\n",
      "ObjectId('625ff866b7682e56375348a2')\n",
      "ObjectId('625ff866b7682e56375348a3')\n",
      "ObjectId('625ff866b7682e56375348a4')\n",
      "ObjectId('625ff866b7682e56375348a5')\n",
      "ObjectId('625ff866b7682e56375348a6')\n",
      "ObjectId('625ff866b7682e56375348a7')\n"
     ]
    }
   ],
   "source": [
    "for p in Pessoa.objects:\n",
    "    pp.pprint(p.id)"
   ]
  },
  {
   "cell_type": "code",
   "execution_count": 13,
   "id": "ead155d5",
   "metadata": {},
   "outputs": [
    {
     "name": "stdout",
     "output_type": "stream",
     "text": [
      "<Pessoa: 625ff866b7682e563753489e, 527.946.803-74, Rafael, Endereço: [<Endereco: Lago das Neves, 21>, <Endereco: Condomínio Ana Clara da Cunha, 11>]>\n"
     ]
    }
   ],
   "source": [
    "pessoa = Pessoa.objects.first()\n",
    "pp.pprint(pessoa)"
   ]
  },
  {
   "cell_type": "code",
   "execution_count": 14,
   "id": "7987ce5a",
   "metadata": {},
   "outputs": [],
   "source": [
    "pessoa.delete()"
   ]
  },
  {
   "cell_type": "code",
   "execution_count": 15,
   "id": "87cee784",
   "metadata": {},
   "outputs": [
    {
     "data": {
      "text/plain": [
       "[]"
      ]
     },
     "execution_count": 15,
     "metadata": {},
     "output_type": "execute_result"
    }
   ],
   "source": [
    "Pessoa.objects(id='625f4e6f1182b6d0d7a2dcb7')"
   ]
  }
 ],
 "metadata": {
  "kernelspec": {
   "display_name": "Python 3 (ipykernel)",
   "language": "python",
   "name": "python3"
  },
  "language_info": {
   "codemirror_mode": {
    "name": "ipython",
    "version": 3
   },
   "file_extension": ".py",
   "mimetype": "text/x-python",
   "name": "python",
   "nbconvert_exporter": "python",
   "pygments_lexer": "ipython3",
   "version": "3.9.7"
  }
 },
 "nbformat": 4,
 "nbformat_minor": 5
}
