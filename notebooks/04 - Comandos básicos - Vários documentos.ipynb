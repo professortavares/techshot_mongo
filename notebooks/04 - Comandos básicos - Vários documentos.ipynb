{
 "cells": [
  {
   "cell_type": "markdown",
   "id": "d65f76bd",
   "metadata": {},
   "source": [
    "# Notebook responsável por apresentar os comandos básicos para manipulação de dados no mongo\n",
    "\n",
    "## Crud com apenas vários documentos:\n",
    "- Inserir vários documentos **compostos**\n",
    "- Recuperar vários documentos **compostos**\n",
    "- Atualizar vários documentos **compostos**\n",
    "- Excluir vários documentos **compostos**"
   ]
  },
  {
   "cell_type": "markdown",
   "id": "d7d2da3b",
   "metadata": {},
   "source": [
    "## Bibliotecas importantes"
   ]
  },
  {
   "cell_type": "code",
   "execution_count": 1,
   "id": "f0fb9fd7",
   "metadata": {},
   "outputs": [],
   "source": [
    "from pymongo import MongoClient\n",
    "import pprint\n",
    "import numpy as np\n",
    "import pandas as pd\n",
    "\n",
    "# para geração de dados fake\n",
    "from faker import Faker\n"
   ]
  },
  {
   "cell_type": "markdown",
   "id": "4dfe91a8",
   "metadata": {},
   "source": [
    "## Funções uteis"
   ]
  },
  {
   "cell_type": "code",
   "execution_count": 2,
   "id": "ea741f12",
   "metadata": {},
   "outputs": [],
   "source": [
    "def criar_endereco():\n",
    "    return {\n",
    "        'logradouro':fake.street_name(),\n",
    "        'numero':fake.building_number(),\n",
    "        'bairro':fake.bairro(),\n",
    "        'cidade':fake.city(),\n",
    "        'uf':fake.administrative_unit(),\n",
    "        'cep':fake.postcode(),\n",
    "    }"
   ]
  },
  {
   "cell_type": "code",
   "execution_count": 3,
   "id": "cedde46c",
   "metadata": {},
   "outputs": [],
   "source": [
    "def criar_pessoa():\n",
    "    primeiro_nome = fake.first_name()\n",
    "    ultimo_nome = fake.last_name()\n",
    "    \n",
    "    idade = np.random.randint(18, 50)\n",
    "    \n",
    "    pessoa = {\n",
    "        'cpf': fake.cpf(),\n",
    "        'nome': f'{primeiro_nome} {ultimo_nome}' ,\n",
    "        'idade': idade ,\n",
    "        'data_nascimento':fake.date()\n",
    "    }        \n",
    "    pessoa['email']= f'{primeiro_nome.lower()}.{ultimo_nome.lower()}@{fake.free_email_domain()}'\n",
    "    \n",
    "    pessoa['endereco'] = criar_endereco()\n",
    "\n",
    "    pessoa['telefones'] = []\n",
    "    n = np.random.randint(1, 4)\n",
    "    for i in range(n):\n",
    "        pessoa['telefones'].append(fake.msisdn())\n",
    "\n",
    "    pessoa['formacoes'] = []\n",
    "    n = np.random.randint(1, 4)\n",
    "    for i in range(n):\n",
    "        pessoa['formacoes'].append(fake.job())\n",
    "        \n",
    "        \n",
    "    return pessoa"
   ]
  },
  {
   "cell_type": "markdown",
   "id": "648352cd",
   "metadata": {},
   "source": [
    "## Configurações"
   ]
  },
  {
   "cell_type": "code",
   "execution_count": 4,
   "id": "332b9e9b",
   "metadata": {},
   "outputs": [],
   "source": [
    "pp = pprint.PrettyPrinter(compact=True)\n",
    "# gerando dados fictícios em português do Brasil\n",
    "fake = Faker(['pt_BR'])"
   ]
  },
  {
   "cell_type": "markdown",
   "id": "55a2771b",
   "metadata": {},
   "source": [
    "## Inserção de vários documentos"
   ]
  },
  {
   "cell_type": "markdown",
   "id": "9d0204f1",
   "metadata": {},
   "source": [
    "### Conectando ao MongoDB"
   ]
  },
  {
   "cell_type": "code",
   "execution_count": 5,
   "id": "fc8b60e3",
   "metadata": {},
   "outputs": [],
   "source": [
    "client = MongoClient('localhost', 27017)\n",
    "# Se a base de dados não existir, ela é criada automagicamente :-)\n",
    "db = client['techshot_mongo03']"
   ]
  },
  {
   "cell_type": "markdown",
   "id": "7b551e88",
   "metadata": {},
   "source": [
    "### Exemplo - Criação de vários documentos compostos"
   ]
  },
  {
   "cell_type": "code",
   "execution_count": 6,
   "id": "5450a862",
   "metadata": {
    "scrolled": false
   },
   "outputs": [
    {
     "name": "stdout",
     "output_type": "stream",
     "text": [
      "[{'cpf': '176.024.395-70',\n",
      "  'data_nascimento': '1986-08-13',\n",
      "  'email': 'joão lucas.sales@hotmail.com',\n",
      "  'endereco': {'bairro': 'Vista Do Sol',\n",
      "               'cep': '21577-854',\n",
      "               'cidade': 'Silva da Praia',\n",
      "               'logradouro': 'Parque de Fogaça',\n",
      "               'numero': '21',\n",
      "               'uf': 'Goiás'},\n",
      "  'formacoes': ['Técnico em arquivo', 'Taxidermista/Embalsamador'],\n",
      "  'idade': 49,\n",
      "  'nome': 'João Lucas Sales',\n",
      "  'telefones': ['5511901835782', '5584949013961']},\n",
      " {'cpf': '513.684.920-70',\n",
      "  'data_nascimento': '1983-04-21',\n",
      "  'email': 'luiz felipe.da luz@hotmail.com',\n",
      "  'endereco': {'bairro': 'Olaria',\n",
      "               'cep': '05285152',\n",
      "               'cidade': 'Correia',\n",
      "               'logradouro': 'Esplanada da Cunha',\n",
      "               'numero': '55',\n",
      "               'uf': 'Ceará'},\n",
      "  'formacoes': ['Tenista', 'Tecelão', 'Skatista'],\n",
      "  'idade': 20,\n",
      "  'nome': 'Luiz Felipe da Luz',\n",
      "  'telefones': ['5584913991479', '5561942130070', '5581906927755']},\n",
      " {'cpf': '013.654.792-34',\n",
      "  'data_nascimento': '1984-07-05',\n",
      "  'email': 'alícia.da costa@uol.com.br',\n",
      "  'endereco': {'bairro': 'Rio Branco',\n",
      "               'cep': '02457860',\n",
      "               'cidade': 'Castro',\n",
      "               'logradouro': 'Estação de da Cunha',\n",
      "               'numero': '93',\n",
      "               'uf': 'Acre'},\n",
      "  'formacoes': ['Naturólogo'],\n",
      "  'idade': 23,\n",
      "  'nome': 'Alícia da Costa',\n",
      "  'telefones': ['5561973881287', '5571933652592']},\n",
      " {'cpf': '745.698.013-66',\n",
      "  'data_nascimento': '1971-12-22',\n",
      "  'email': 'luna.campos@bol.com.br',\n",
      "  'endereco': {'bairro': 'Vila Ouro Minas',\n",
      "               'cep': '63826-319',\n",
      "               'cidade': 'Nascimento',\n",
      "               'logradouro': 'Quadra da Cunha',\n",
      "               'numero': '240',\n",
      "               'uf': 'Alagoas'},\n",
      "  'formacoes': ['Jogador de bocha'],\n",
      "  'idade': 28,\n",
      "  'nome': 'Luna Campos',\n",
      "  'telefones': ['5561905585601', '5531987621713', '5521946282774']},\n",
      " {'cpf': '876.149.305-84',\n",
      "  'data_nascimento': '2011-06-17',\n",
      "  'email': 'ana julia.da rosa@gmail.com',\n",
      "  'endereco': {'bairro': 'Vila Do Pombal',\n",
      "               'cep': '15655-579',\n",
      "               'cidade': 'da Luz de da Mota',\n",
      "               'logradouro': 'Pátio Vitor Gabriel Souza',\n",
      "               'numero': '11',\n",
      "               'uf': 'São Paulo'},\n",
      "  'formacoes': ['Topógrafo', 'Juiz de direito'],\n",
      "  'idade': 33,\n",
      "  'nome': 'Ana Julia da Rosa',\n",
      "  'telefones': ['5521912780502', '5511939662775']},\n",
      " {'cpf': '617.425.890-49',\n",
      "  'data_nascimento': '1995-06-20',\n",
      "  'email': 'ana vitória.nascimento@gmail.com',\n",
      "  'endereco': {'bairro': 'Paquetá',\n",
      "               'cep': '89209-204',\n",
      "               'cidade': 'Rocha',\n",
      "               'logradouro': 'Aeroporto Rebeca Mendes',\n",
      "               'numero': '3',\n",
      "               'uf': 'Acre'},\n",
      "  'formacoes': ['Lapidário', 'Governador'],\n",
      "  'idade': 26,\n",
      "  'nome': 'Ana Vitória Nascimento',\n",
      "  'telefones': ['5581977249321', '5561944518055', '5521997967469']},\n",
      " {'cpf': '209.647.831-69',\n",
      "  'data_nascimento': '1976-10-11',\n",
      "  'email': 'ana.fogaça@uol.com.br',\n",
      "  'endereco': {'bairro': 'Vila Primeiro De Maio',\n",
      "               'cep': '16129129',\n",
      "               'cidade': 'Santos Grande',\n",
      "               'logradouro': 'Passarela Luiz Miguel Santos',\n",
      "               'numero': '69',\n",
      "               'uf': 'Bahia'},\n",
      "  'formacoes': ['Contábil', 'Caminhoneiro', 'Cartunista'],\n",
      "  'idade': 46,\n",
      "  'nome': 'Ana Fogaça',\n",
      "  'telefones': ['5571929989472']},\n",
      " {'cpf': '271.439.605-43',\n",
      "  'data_nascimento': '1976-06-27',\n",
      "  'email': 'julia.gomes@gmail.com',\n",
      "  'endereco': {'bairro': 'Casa Branca',\n",
      "               'cep': '98432-534',\n",
      "               'cidade': 'Aragão do Sul',\n",
      "               'logradouro': 'Estrada Brenda Martins',\n",
      "               'numero': '63',\n",
      "               'uf': 'Amapá'},\n",
      "  'formacoes': ['Lavador'],\n",
      "  'idade': 33,\n",
      "  'nome': 'Julia Gomes',\n",
      "  'telefones': ['5561976414830', '5561965344078', '5521957083988']},\n",
      " {'cpf': '814.230.756-17',\n",
      "  'data_nascimento': '1986-09-16',\n",
      "  'email': 'valentina.ramos@gmail.com',\n",
      "  'endereco': {'bairro': 'Jatobá',\n",
      "               'cep': '76661-325',\n",
      "               'cidade': 'Santos do Sul',\n",
      "               'logradouro': 'Lagoa Evelyn Melo',\n",
      "               'numero': '11',\n",
      "               'uf': 'Amapá'},\n",
      "  'formacoes': ['Profissional de relações internacionais'],\n",
      "  'idade': 34,\n",
      "  'nome': 'Valentina Ramos',\n",
      "  'telefones': ['5531919214441']},\n",
      " {'cpf': '406.178.953-84',\n",
      "  'data_nascimento': '1994-12-08',\n",
      "  'email': 'nicolas.lima@uol.com.br',\n",
      "  'endereco': {'bairro': 'Grotinha',\n",
      "               'cep': '82105-351',\n",
      "               'cidade': 'Lopes',\n",
      "               'logradouro': 'Área Caroline Fogaça',\n",
      "               'numero': '38',\n",
      "               'uf': 'Roraima'},\n",
      "  'formacoes': ['Paramédico', 'Ginasta rítmica', 'Lutador de kung fu'],\n",
      "  'idade': 21,\n",
      "  'nome': 'Nicolas Lima',\n",
      "  'telefones': ['5581924469851', '5511941385811']}]\n"
     ]
    }
   ],
   "source": [
    "lista_pessoas = []\n",
    "\n",
    "for i in range(10):\n",
    "    lista_pessoas.append(criar_pessoa())\n",
    "    \n",
    "pp.pprint(lista_pessoas)"
   ]
  },
  {
   "cell_type": "code",
   "execution_count": 7,
   "id": "9d4a2f6a",
   "metadata": {},
   "outputs": [
    {
     "data": {
      "text/html": [
       "<div>\n",
       "<style scoped>\n",
       "    .dataframe tbody tr th:only-of-type {\n",
       "        vertical-align: middle;\n",
       "    }\n",
       "\n",
       "    .dataframe tbody tr th {\n",
       "        vertical-align: top;\n",
       "    }\n",
       "\n",
       "    .dataframe thead th {\n",
       "        text-align: right;\n",
       "    }\n",
       "</style>\n",
       "<table border=\"1\" class=\"dataframe\">\n",
       "  <thead>\n",
       "    <tr style=\"text-align: right;\">\n",
       "      <th></th>\n",
       "      <th>cpf</th>\n",
       "      <th>nome</th>\n",
       "      <th>idade</th>\n",
       "      <th>data_nascimento</th>\n",
       "      <th>email</th>\n",
       "      <th>endereco</th>\n",
       "      <th>telefones</th>\n",
       "      <th>formacoes</th>\n",
       "    </tr>\n",
       "  </thead>\n",
       "  <tbody>\n",
       "    <tr>\n",
       "      <th>0</th>\n",
       "      <td>176.024.395-70</td>\n",
       "      <td>João Lucas Sales</td>\n",
       "      <td>49</td>\n",
       "      <td>1986-08-13</td>\n",
       "      <td>joão lucas.sales@hotmail.com</td>\n",
       "      <td>{'logradouro': 'Parque de Fogaça', 'numero': '...</td>\n",
       "      <td>[5511901835782, 5584949013961]</td>\n",
       "      <td>[Técnico em arquivo, Taxidermista/Embalsamador]</td>\n",
       "    </tr>\n",
       "    <tr>\n",
       "      <th>1</th>\n",
       "      <td>513.684.920-70</td>\n",
       "      <td>Luiz Felipe da Luz</td>\n",
       "      <td>20</td>\n",
       "      <td>1983-04-21</td>\n",
       "      <td>luiz felipe.da luz@hotmail.com</td>\n",
       "      <td>{'logradouro': 'Esplanada da Cunha', 'numero':...</td>\n",
       "      <td>[5584913991479, 5561942130070, 5581906927755]</td>\n",
       "      <td>[Tenista, Tecelão, Skatista]</td>\n",
       "    </tr>\n",
       "    <tr>\n",
       "      <th>2</th>\n",
       "      <td>013.654.792-34</td>\n",
       "      <td>Alícia da Costa</td>\n",
       "      <td>23</td>\n",
       "      <td>1984-07-05</td>\n",
       "      <td>alícia.da costa@uol.com.br</td>\n",
       "      <td>{'logradouro': 'Estação de da Cunha', 'numero'...</td>\n",
       "      <td>[5561973881287, 5571933652592]</td>\n",
       "      <td>[Naturólogo]</td>\n",
       "    </tr>\n",
       "    <tr>\n",
       "      <th>3</th>\n",
       "      <td>745.698.013-66</td>\n",
       "      <td>Luna Campos</td>\n",
       "      <td>28</td>\n",
       "      <td>1971-12-22</td>\n",
       "      <td>luna.campos@bol.com.br</td>\n",
       "      <td>{'logradouro': 'Quadra da Cunha', 'numero': '2...</td>\n",
       "      <td>[5561905585601, 5531987621713, 5521946282774]</td>\n",
       "      <td>[Jogador de bocha]</td>\n",
       "    </tr>\n",
       "    <tr>\n",
       "      <th>4</th>\n",
       "      <td>876.149.305-84</td>\n",
       "      <td>Ana Julia da Rosa</td>\n",
       "      <td>33</td>\n",
       "      <td>2011-06-17</td>\n",
       "      <td>ana julia.da rosa@gmail.com</td>\n",
       "      <td>{'logradouro': 'Pátio Vitor Gabriel Souza', 'n...</td>\n",
       "      <td>[5521912780502, 5511939662775]</td>\n",
       "      <td>[Topógrafo, Juiz de direito]</td>\n",
       "    </tr>\n",
       "    <tr>\n",
       "      <th>5</th>\n",
       "      <td>617.425.890-49</td>\n",
       "      <td>Ana Vitória Nascimento</td>\n",
       "      <td>26</td>\n",
       "      <td>1995-06-20</td>\n",
       "      <td>ana vitória.nascimento@gmail.com</td>\n",
       "      <td>{'logradouro': 'Aeroporto Rebeca Mendes', 'num...</td>\n",
       "      <td>[5581977249321, 5561944518055, 5521997967469]</td>\n",
       "      <td>[Lapidário, Governador]</td>\n",
       "    </tr>\n",
       "    <tr>\n",
       "      <th>6</th>\n",
       "      <td>209.647.831-69</td>\n",
       "      <td>Ana Fogaça</td>\n",
       "      <td>46</td>\n",
       "      <td>1976-10-11</td>\n",
       "      <td>ana.fogaça@uol.com.br</td>\n",
       "      <td>{'logradouro': 'Passarela Luiz Miguel Santos',...</td>\n",
       "      <td>[5571929989472]</td>\n",
       "      <td>[Contábil, Caminhoneiro, Cartunista]</td>\n",
       "    </tr>\n",
       "    <tr>\n",
       "      <th>7</th>\n",
       "      <td>271.439.605-43</td>\n",
       "      <td>Julia Gomes</td>\n",
       "      <td>33</td>\n",
       "      <td>1976-06-27</td>\n",
       "      <td>julia.gomes@gmail.com</td>\n",
       "      <td>{'logradouro': 'Estrada Brenda Martins', 'nume...</td>\n",
       "      <td>[5561976414830, 5561965344078, 5521957083988]</td>\n",
       "      <td>[Lavador]</td>\n",
       "    </tr>\n",
       "    <tr>\n",
       "      <th>8</th>\n",
       "      <td>814.230.756-17</td>\n",
       "      <td>Valentina Ramos</td>\n",
       "      <td>34</td>\n",
       "      <td>1986-09-16</td>\n",
       "      <td>valentina.ramos@gmail.com</td>\n",
       "      <td>{'logradouro': 'Lagoa Evelyn Melo', 'numero': ...</td>\n",
       "      <td>[5531919214441]</td>\n",
       "      <td>[Profissional de relações internacionais]</td>\n",
       "    </tr>\n",
       "    <tr>\n",
       "      <th>9</th>\n",
       "      <td>406.178.953-84</td>\n",
       "      <td>Nicolas Lima</td>\n",
       "      <td>21</td>\n",
       "      <td>1994-12-08</td>\n",
       "      <td>nicolas.lima@uol.com.br</td>\n",
       "      <td>{'logradouro': 'Área Caroline Fogaça', 'numero...</td>\n",
       "      <td>[5581924469851, 5511941385811]</td>\n",
       "      <td>[Paramédico, Ginasta rítmica, Lutador de kung fu]</td>\n",
       "    </tr>\n",
       "  </tbody>\n",
       "</table>\n",
       "</div>"
      ],
      "text/plain": [
       "              cpf                    nome  idade data_nascimento  \\\n",
       "0  176.024.395-70        João Lucas Sales     49      1986-08-13   \n",
       "1  513.684.920-70      Luiz Felipe da Luz     20      1983-04-21   \n",
       "2  013.654.792-34         Alícia da Costa     23      1984-07-05   \n",
       "3  745.698.013-66             Luna Campos     28      1971-12-22   \n",
       "4  876.149.305-84       Ana Julia da Rosa     33      2011-06-17   \n",
       "5  617.425.890-49  Ana Vitória Nascimento     26      1995-06-20   \n",
       "6  209.647.831-69              Ana Fogaça     46      1976-10-11   \n",
       "7  271.439.605-43             Julia Gomes     33      1976-06-27   \n",
       "8  814.230.756-17         Valentina Ramos     34      1986-09-16   \n",
       "9  406.178.953-84            Nicolas Lima     21      1994-12-08   \n",
       "\n",
       "                              email  \\\n",
       "0      joão lucas.sales@hotmail.com   \n",
       "1    luiz felipe.da luz@hotmail.com   \n",
       "2        alícia.da costa@uol.com.br   \n",
       "3            luna.campos@bol.com.br   \n",
       "4       ana julia.da rosa@gmail.com   \n",
       "5  ana vitória.nascimento@gmail.com   \n",
       "6             ana.fogaça@uol.com.br   \n",
       "7             julia.gomes@gmail.com   \n",
       "8         valentina.ramos@gmail.com   \n",
       "9           nicolas.lima@uol.com.br   \n",
       "\n",
       "                                            endereco  \\\n",
       "0  {'logradouro': 'Parque de Fogaça', 'numero': '...   \n",
       "1  {'logradouro': 'Esplanada da Cunha', 'numero':...   \n",
       "2  {'logradouro': 'Estação de da Cunha', 'numero'...   \n",
       "3  {'logradouro': 'Quadra da Cunha', 'numero': '2...   \n",
       "4  {'logradouro': 'Pátio Vitor Gabriel Souza', 'n...   \n",
       "5  {'logradouro': 'Aeroporto Rebeca Mendes', 'num...   \n",
       "6  {'logradouro': 'Passarela Luiz Miguel Santos',...   \n",
       "7  {'logradouro': 'Estrada Brenda Martins', 'nume...   \n",
       "8  {'logradouro': 'Lagoa Evelyn Melo', 'numero': ...   \n",
       "9  {'logradouro': 'Área Caroline Fogaça', 'numero...   \n",
       "\n",
       "                                       telefones  \\\n",
       "0                 [5511901835782, 5584949013961]   \n",
       "1  [5584913991479, 5561942130070, 5581906927755]   \n",
       "2                 [5561973881287, 5571933652592]   \n",
       "3  [5561905585601, 5531987621713, 5521946282774]   \n",
       "4                 [5521912780502, 5511939662775]   \n",
       "5  [5581977249321, 5561944518055, 5521997967469]   \n",
       "6                                [5571929989472]   \n",
       "7  [5561976414830, 5561965344078, 5521957083988]   \n",
       "8                                [5531919214441]   \n",
       "9                 [5581924469851, 5511941385811]   \n",
       "\n",
       "                                           formacoes  \n",
       "0    [Técnico em arquivo, Taxidermista/Embalsamador]  \n",
       "1                       [Tenista, Tecelão, Skatista]  \n",
       "2                                       [Naturólogo]  \n",
       "3                                 [Jogador de bocha]  \n",
       "4                       [Topógrafo, Juiz de direito]  \n",
       "5                            [Lapidário, Governador]  \n",
       "6               [Contábil, Caminhoneiro, Cartunista]  \n",
       "7                                          [Lavador]  \n",
       "8          [Profissional de relações internacionais]  \n",
       "9  [Paramédico, Ginasta rítmica, Lutador de kung fu]  "
      ]
     },
     "execution_count": 7,
     "metadata": {},
     "output_type": "execute_result"
    }
   ],
   "source": [
    "df = pd.DataFrame.from_records(lista_pessoas)\n",
    "df"
   ]
  },
  {
   "cell_type": "code",
   "execution_count": 8,
   "id": "852b76e7",
   "metadata": {},
   "outputs": [
    {
     "name": "stdout",
     "output_type": "stream",
     "text": [
      "<class 'pandas.core.frame.DataFrame'>\n",
      "RangeIndex: 10 entries, 0 to 9\n",
      "Data columns (total 8 columns):\n",
      " #   Column           Non-Null Count  Dtype \n",
      "---  ------           --------------  ----- \n",
      " 0   cpf              10 non-null     object\n",
      " 1   nome             10 non-null     object\n",
      " 2   idade            10 non-null     int64 \n",
      " 3   data_nascimento  10 non-null     object\n",
      " 4   email            10 non-null     object\n",
      " 5   endereco         10 non-null     object\n",
      " 6   telefones        10 non-null     object\n",
      " 7   formacoes        10 non-null     object\n",
      "dtypes: int64(1), object(7)\n",
      "memory usage: 768.0+ bytes\n"
     ]
    }
   ],
   "source": [
    "df.info()"
   ]
  },
  {
   "cell_type": "markdown",
   "id": "e22f2eab",
   "metadata": {},
   "source": [
    "### Inserindo os documentos no banco de dados"
   ]
  },
  {
   "cell_type": "code",
   "execution_count": 9,
   "id": "2c048809",
   "metadata": {
    "scrolled": false
   },
   "outputs": [
    {
     "data": {
      "text/plain": [
       "[ObjectId('6259cfe444b8840f46114bac'),\n",
       " ObjectId('6259cfe444b8840f46114bad'),\n",
       " ObjectId('6259cfe444b8840f46114bae'),\n",
       " ObjectId('6259cfe444b8840f46114baf'),\n",
       " ObjectId('6259cfe444b8840f46114bb0'),\n",
       " ObjectId('6259cfe444b8840f46114bb1'),\n",
       " ObjectId('6259cfe444b8840f46114bb2'),\n",
       " ObjectId('6259cfe444b8840f46114bb3'),\n",
       " ObjectId('6259cfe444b8840f46114bb4'),\n",
       " ObjectId('6259cfe444b8840f46114bb5')]"
      ]
     },
     "execution_count": 9,
     "metadata": {},
     "output_type": "execute_result"
    }
   ],
   "source": [
    "# se a coleção não existir, ela é criada automagicamente :-)\n",
    "colecao_pessoa = db['pessoas']\n",
    "pessoa_ids = colecao_pessoa.insert_many(lista_pessoas).inserted_ids\n",
    "pessoa_ids"
   ]
  },
  {
   "cell_type": "markdown",
   "id": "eb1e708f",
   "metadata": {},
   "source": [
    "## Recuperando os documentos inseridos"
   ]
  },
  {
   "cell_type": "markdown",
   "id": "4d3c61ec",
   "metadata": {},
   "source": [
    "#### Recuperar todos"
   ]
  },
  {
   "cell_type": "code",
   "execution_count": 12,
   "id": "36d993f5",
   "metadata": {
    "scrolled": false
   },
   "outputs": [
    {
     "name": "stdout",
     "output_type": "stream",
     "text": [
      "{'_id': ObjectId('6259cfe444b8840f46114bac'),\n",
      " 'cpf': '176.024.395-70',\n",
      " 'data_nascimento': '1986-08-13',\n",
      " 'email': 'joão lucas.sales@hotmail.com',\n",
      " 'endereco': {'bairro': 'Vista Do Sol',\n",
      "              'cep': '21577-854',\n",
      "              'cidade': 'Silva da Praia',\n",
      "              'logradouro': 'Parque de Fogaça',\n",
      "              'numero': '21',\n",
      "              'uf': 'Goiás'},\n",
      " 'formacoes': ['Técnico em arquivo', 'Taxidermista/Embalsamador'],\n",
      " 'idade': 49,\n",
      " 'nome': 'João Lucas Sales',\n",
      " 'telefones': ['5511901835782', '5584949013961']}\n",
      "{'_id': ObjectId('6259cfe444b8840f46114bad'),\n",
      " 'cpf': '513.684.920-70',\n",
      " 'data_nascimento': '1983-04-21',\n",
      " 'email': 'luiz felipe.da luz@hotmail.com',\n",
      " 'endereco': {'bairro': 'Olaria',\n",
      "              'cep': '05285152',\n",
      "              'cidade': 'Correia',\n",
      "              'logradouro': 'Esplanada da Cunha',\n",
      "              'numero': '55',\n",
      "              'uf': 'Ceará'},\n",
      " 'formacoes': ['Tenista', 'Tecelão', 'Skatista'],\n",
      " 'idade': 20,\n",
      " 'nome': 'Luiz Felipe da Luz',\n",
      " 'telefones': ['5584913991479', '5561942130070', '5581906927755']}\n",
      "{'_id': ObjectId('6259cfe444b8840f46114bae'),\n",
      " 'cpf': '013.654.792-34',\n",
      " 'data_nascimento': '1984-07-05',\n",
      " 'email': 'alícia.da costa@uol.com.br',\n",
      " 'endereco': {'bairro': 'Rio Branco',\n",
      "              'cep': '02457860',\n",
      "              'cidade': 'Castro',\n",
      "              'logradouro': 'Estação de da Cunha',\n",
      "              'numero': '93',\n",
      "              'uf': 'Acre'},\n",
      " 'formacoes': ['Naturólogo'],\n",
      " 'idade': 23,\n",
      " 'nome': 'Alícia da Costa',\n",
      " 'telefones': ['5561973881287', '5571933652592']}\n",
      "{'_id': ObjectId('6259cfe444b8840f46114baf'),\n",
      " 'cpf': '745.698.013-66',\n",
      " 'data_nascimento': '1971-12-22',\n",
      " 'email': 'luna.campos@bol.com.br',\n",
      " 'endereco': {'bairro': 'Vila Ouro Minas',\n",
      "              'cep': '63826-319',\n",
      "              'cidade': 'Nascimento',\n",
      "              'logradouro': 'Quadra da Cunha',\n",
      "              'numero': '240',\n",
      "              'uf': 'Alagoas'},\n",
      " 'formacoes': ['Jogador de bocha'],\n",
      " 'idade': 28,\n",
      " 'nome': 'Luna Campos',\n",
      " 'telefones': ['5561905585601', '5531987621713', '5521946282774']}\n",
      "{'_id': ObjectId('6259cfe444b8840f46114bb0'),\n",
      " 'cpf': '876.149.305-84',\n",
      " 'data_nascimento': '2011-06-17',\n",
      " 'email': 'ana julia.da rosa@gmail.com',\n",
      " 'endereco': {'bairro': 'Vila Do Pombal',\n",
      "              'cep': '15655-579',\n",
      "              'cidade': 'da Luz de da Mota',\n",
      "              'logradouro': 'Pátio Vitor Gabriel Souza',\n",
      "              'numero': '11',\n",
      "              'uf': 'São Paulo'},\n",
      " 'formacoes': ['Topógrafo', 'Juiz de direito'],\n",
      " 'idade': 33,\n",
      " 'nome': 'Ana Julia da Rosa',\n",
      " 'telefones': ['5521912780502', '5511939662775']}\n",
      "{'_id': ObjectId('6259cfe444b8840f46114bb1'),\n",
      " 'cpf': '617.425.890-49',\n",
      " 'data_nascimento': '1995-06-20',\n",
      " 'email': 'ana vitória.nascimento@gmail.com',\n",
      " 'endereco': {'bairro': 'Paquetá',\n",
      "              'cep': '89209-204',\n",
      "              'cidade': 'Rocha',\n",
      "              'logradouro': 'Aeroporto Rebeca Mendes',\n",
      "              'numero': '3',\n",
      "              'uf': 'Acre'},\n",
      " 'formacoes': ['Lapidário', 'Governador'],\n",
      " 'idade': 26,\n",
      " 'nome': 'Ana Vitória Nascimento',\n",
      " 'telefones': ['5581977249321', '5561944518055', '5521997967469']}\n",
      "{'_id': ObjectId('6259cfe444b8840f46114bb2'),\n",
      " 'cpf': '209.647.831-69',\n",
      " 'data_nascimento': '1976-10-11',\n",
      " 'email': 'ana.fogaça@uol.com.br',\n",
      " 'endereco': {'bairro': 'Vila Primeiro De Maio',\n",
      "              'cep': '16129129',\n",
      "              'cidade': 'Santos Grande',\n",
      "              'logradouro': 'Passarela Luiz Miguel Santos',\n",
      "              'numero': '69',\n",
      "              'uf': 'Bahia'},\n",
      " 'formacoes': ['Contábil', 'Caminhoneiro', 'Cartunista'],\n",
      " 'idade': 46,\n",
      " 'nome': 'Ana Fogaça',\n",
      " 'telefones': ['5571929989472']}\n",
      "{'_id': ObjectId('6259cfe444b8840f46114bb3'),\n",
      " 'cpf': '271.439.605-43',\n",
      " 'data_nascimento': '1976-06-27',\n",
      " 'email': 'julia.gomes@gmail.com',\n",
      " 'endereco': {'bairro': 'Casa Branca',\n",
      "              'cep': '98432-534',\n",
      "              'cidade': 'Aragão do Sul',\n",
      "              'logradouro': 'Estrada Brenda Martins',\n",
      "              'numero': '63',\n",
      "              'uf': 'Amapá'},\n",
      " 'formacoes': ['Lavador'],\n",
      " 'idade': 33,\n",
      " 'nome': 'Julia Gomes',\n",
      " 'telefones': ['5561976414830', '5561965344078', '5521957083988']}\n",
      "{'_id': ObjectId('6259cfe444b8840f46114bb4'),\n",
      " 'cpf': '814.230.756-17',\n",
      " 'data_nascimento': '1986-09-16',\n",
      " 'email': 'valentina.ramos@gmail.com',\n",
      " 'endereco': {'bairro': 'Jatobá',\n",
      "              'cep': '76661-325',\n",
      "              'cidade': 'Santos do Sul',\n",
      "              'logradouro': 'Lagoa Evelyn Melo',\n",
      "              'numero': '11',\n",
      "              'uf': 'Amapá'},\n",
      " 'formacoes': ['Profissional de relações internacionais'],\n",
      " 'idade': 34,\n",
      " 'nome': 'Valentina Ramos',\n",
      " 'telefones': ['5531919214441']}\n",
      "{'_id': ObjectId('6259cfe444b8840f46114bb5'),\n",
      " 'cpf': '406.178.953-84',\n",
      " 'data_nascimento': '1994-12-08',\n",
      " 'email': 'nicolas.lima@uol.com.br',\n",
      " 'endereco': {'bairro': 'Grotinha',\n",
      "              'cep': '82105-351',\n",
      "              'cidade': 'Lopes',\n",
      "              'logradouro': 'Área Caroline Fogaça',\n",
      "              'numero': '38',\n",
      "              'uf': 'Roraima'},\n",
      " 'formacoes': ['Paramédico', 'Ginasta rítmica', 'Lutador de kung fu'],\n",
      " 'idade': 21,\n",
      " 'nome': 'Nicolas Lima',\n",
      " 'telefones': ['5581924469851', '5511941385811']}\n"
     ]
    }
   ],
   "source": [
    "for p in colecao_pessoa.find({}):\n",
    "    pp.pprint(p)"
   ]
  },
  {
   "cell_type": "code",
   "execution_count": 13,
   "id": "cde5276a",
   "metadata": {},
   "outputs": [
    {
     "data": {
      "text/plain": [
       "pymongo.cursor.Cursor"
      ]
     },
     "execution_count": 13,
     "metadata": {},
     "output_type": "execute_result"
    }
   ],
   "source": [
    "type(colecao_pessoa.find({}))"
   ]
  },
  {
   "cell_type": "code",
   "execution_count": 14,
   "id": "7dca4171",
   "metadata": {},
   "outputs": [
    {
     "data": {
      "text/plain": [
       "{'explainVersion': '1',\n",
       " 'queryPlanner': {'namespace': 'techshot_mongo03.pessoas',\n",
       "  'indexFilterSet': False,\n",
       "  'parsedQuery': {},\n",
       "  'maxIndexedOrSolutionsReached': False,\n",
       "  'maxIndexedAndSolutionsReached': False,\n",
       "  'maxScansToExplodeReached': False,\n",
       "  'winningPlan': {'stage': 'COLLSCAN', 'direction': 'forward'},\n",
       "  'rejectedPlans': []},\n",
       " 'executionStats': {'executionSuccess': True,\n",
       "  'nReturned': 10,\n",
       "  'executionTimeMillis': 2,\n",
       "  'totalKeysExamined': 0,\n",
       "  'totalDocsExamined': 10,\n",
       "  'executionStages': {'stage': 'COLLSCAN',\n",
       "   'nReturned': 10,\n",
       "   'executionTimeMillisEstimate': 0,\n",
       "   'works': 12,\n",
       "   'advanced': 10,\n",
       "   'needTime': 1,\n",
       "   'needYield': 0,\n",
       "   'saveState': 0,\n",
       "   'restoreState': 0,\n",
       "   'isEOF': 1,\n",
       "   'direction': 'forward',\n",
       "   'docsExamined': 10},\n",
       "  'allPlansExecution': []},\n",
       " 'command': {'find': 'pessoas', 'filter': {}, '$db': 'techshot_mongo03'},\n",
       " 'serverInfo': {'host': '82358baa65b1',\n",
       "  'port': 27017,\n",
       "  'version': '5.0.7',\n",
       "  'gitVersion': 'b977129dc70eed766cbee7e412d901ee213acbda'},\n",
       " 'serverParameters': {'internalQueryFacetBufferSizeBytes': 104857600,\n",
       "  'internalQueryFacetMaxOutputDocSizeBytes': 104857600,\n",
       "  'internalLookupStageIntermediateDocumentMaxSizeBytes': 104857600,\n",
       "  'internalDocumentSourceGroupMaxMemoryBytes': 104857600,\n",
       "  'internalQueryMaxBlockingSortMemoryUsageBytes': 104857600,\n",
       "  'internalQueryProhibitBlockingMergeOnMongoS': 0,\n",
       "  'internalQueryMaxAddToSetBytes': 104857600,\n",
       "  'internalDocumentSourceSetWindowFieldsMaxMemoryBytes': 104857600},\n",
       " 'ok': 1.0}"
      ]
     },
     "execution_count": 14,
     "metadata": {},
     "output_type": "execute_result"
    }
   ],
   "source": [
    "colecao_pessoa.find({}).explain()"
   ]
  },
  {
   "cell_type": "markdown",
   "id": "e47a74b9",
   "metadata": {},
   "source": [
    "#### Recuperando por algum outro atributo"
   ]
  },
  {
   "cell_type": "code",
   "execution_count": 17,
   "id": "9be800f8",
   "metadata": {},
   "outputs": [
    {
     "data": {
      "text/plain": [
       "31.3"
      ]
     },
     "execution_count": 17,
     "metadata": {},
     "output_type": "execute_result"
    }
   ],
   "source": [
    "df['idade'].mean()"
   ]
  },
  {
   "cell_type": "code",
   "execution_count": 18,
   "id": "0bd44fe0",
   "metadata": {},
   "outputs": [
    {
     "name": "stdout",
     "output_type": "stream",
     "text": [
      "{'idade': {'$gt': 31.3}}\n"
     ]
    }
   ],
   "source": [
    "\n",
    "criterio = {\n",
    "    'idade': {'$gt':df['idade'].mean()}\n",
    "}\n",
    "pp.pprint(criterio)\n"
   ]
  },
  {
   "cell_type": "code",
   "execution_count": 19,
   "id": "d10cf3c6",
   "metadata": {
    "scrolled": true
   },
   "outputs": [
    {
     "name": "stdout",
     "output_type": "stream",
     "text": [
      "{'_id': ObjectId('6259cfe444b8840f46114bac'),\n",
      " 'cpf': '176.024.395-70',\n",
      " 'data_nascimento': '1986-08-13',\n",
      " 'email': 'joão lucas.sales@hotmail.com',\n",
      " 'endereco': {'bairro': 'Vista Do Sol',\n",
      "              'cep': '21577-854',\n",
      "              'cidade': 'Silva da Praia',\n",
      "              'logradouro': 'Parque de Fogaça',\n",
      "              'numero': '21',\n",
      "              'uf': 'Goiás'},\n",
      " 'formacoes': ['Técnico em arquivo', 'Taxidermista/Embalsamador'],\n",
      " 'idade': 49,\n",
      " 'nome': 'João Lucas Sales',\n",
      " 'telefones': ['5511901835782', '5584949013961']}\n"
     ]
    }
   ],
   "source": [
    "p = colecao_pessoa.find_one(criterio)\n",
    "pp.pprint(p)"
   ]
  },
  {
   "cell_type": "code",
   "execution_count": 20,
   "id": "15d728e8",
   "metadata": {},
   "outputs": [
    {
     "name": "stdout",
     "output_type": "stream",
     "text": [
      "{'_id': ObjectId('6259cfe444b8840f46114bac'),\n",
      " 'cpf': '176.024.395-70',\n",
      " 'data_nascimento': '1986-08-13',\n",
      " 'email': 'joão lucas.sales@hotmail.com',\n",
      " 'endereco': {'bairro': 'Vista Do Sol',\n",
      "              'cep': '21577-854',\n",
      "              'cidade': 'Silva da Praia',\n",
      "              'logradouro': 'Parque de Fogaça',\n",
      "              'numero': '21',\n",
      "              'uf': 'Goiás'},\n",
      " 'formacoes': ['Técnico em arquivo', 'Taxidermista/Embalsamador'],\n",
      " 'idade': 49,\n",
      " 'nome': 'João Lucas Sales',\n",
      " 'telefones': ['5511901835782', '5584949013961']}\n",
      "{'_id': ObjectId('6259cfe444b8840f46114bb0'),\n",
      " 'cpf': '876.149.305-84',\n",
      " 'data_nascimento': '2011-06-17',\n",
      " 'email': 'ana julia.da rosa@gmail.com',\n",
      " 'endereco': {'bairro': 'Vila Do Pombal',\n",
      "              'cep': '15655-579',\n",
      "              'cidade': 'da Luz de da Mota',\n",
      "              'logradouro': 'Pátio Vitor Gabriel Souza',\n",
      "              'numero': '11',\n",
      "              'uf': 'São Paulo'},\n",
      " 'formacoes': ['Topógrafo', 'Juiz de direito'],\n",
      " 'idade': 33,\n",
      " 'nome': 'Ana Julia da Rosa',\n",
      " 'telefones': ['5521912780502', '5511939662775']}\n",
      "{'_id': ObjectId('6259cfe444b8840f46114bb2'),\n",
      " 'cpf': '209.647.831-69',\n",
      " 'data_nascimento': '1976-10-11',\n",
      " 'email': 'ana.fogaça@uol.com.br',\n",
      " 'endereco': {'bairro': 'Vila Primeiro De Maio',\n",
      "              'cep': '16129129',\n",
      "              'cidade': 'Santos Grande',\n",
      "              'logradouro': 'Passarela Luiz Miguel Santos',\n",
      "              'numero': '69',\n",
      "              'uf': 'Bahia'},\n",
      " 'formacoes': ['Contábil', 'Caminhoneiro', 'Cartunista'],\n",
      " 'idade': 46,\n",
      " 'nome': 'Ana Fogaça',\n",
      " 'telefones': ['5571929989472']}\n",
      "{'_id': ObjectId('6259cfe444b8840f46114bb3'),\n",
      " 'cpf': '271.439.605-43',\n",
      " 'data_nascimento': '1976-06-27',\n",
      " 'email': 'julia.gomes@gmail.com',\n",
      " 'endereco': {'bairro': 'Casa Branca',\n",
      "              'cep': '98432-534',\n",
      "              'cidade': 'Aragão do Sul',\n",
      "              'logradouro': 'Estrada Brenda Martins',\n",
      "              'numero': '63',\n",
      "              'uf': 'Amapá'},\n",
      " 'formacoes': ['Lavador'],\n",
      " 'idade': 33,\n",
      " 'nome': 'Julia Gomes',\n",
      " 'telefones': ['5561976414830', '5561965344078', '5521957083988']}\n",
      "{'_id': ObjectId('6259cfe444b8840f46114bb4'),\n",
      " 'cpf': '814.230.756-17',\n",
      " 'data_nascimento': '1986-09-16',\n",
      " 'email': 'valentina.ramos@gmail.com',\n",
      " 'endereco': {'bairro': 'Jatobá',\n",
      "              'cep': '76661-325',\n",
      "              'cidade': 'Santos do Sul',\n",
      "              'logradouro': 'Lagoa Evelyn Melo',\n",
      "              'numero': '11',\n",
      "              'uf': 'Amapá'},\n",
      " 'formacoes': ['Profissional de relações internacionais'],\n",
      " 'idade': 34,\n",
      " 'nome': 'Valentina Ramos',\n",
      " 'telefones': ['5531919214441']}\n"
     ]
    }
   ],
   "source": [
    "for p in colecao_pessoa.find(criterio):\n",
    "    pp.pprint(p)"
   ]
  },
  {
   "cell_type": "markdown",
   "id": "c451d823",
   "metadata": {},
   "source": [
    "#### Recuperando por algum outro atributo"
   ]
  },
  {
   "cell_type": "code",
   "execution_count": 23,
   "id": "fea8c3c1",
   "metadata": {},
   "outputs": [
    {
     "data": {
      "text/plain": [
       "'Rocha'"
      ]
     },
     "execution_count": 23,
     "metadata": {},
     "output_type": "execute_result"
    }
   ],
   "source": [
    "df.loc[5, 'endereco']['cidade']"
   ]
  },
  {
   "cell_type": "code",
   "execution_count": 24,
   "id": "2ddcedb6",
   "metadata": {},
   "outputs": [
    {
     "name": "stdout",
     "output_type": "stream",
     "text": [
      "{'endereco.cidade': {'$eq': 'Rocha'}}\n"
     ]
    }
   ],
   "source": [
    "criterio = {\n",
    "    'endereco.cidade': {'$eq':df.loc[5, 'endereco']['cidade']}\n",
    "}\n",
    "pp.pprint(criterio)\n"
   ]
  },
  {
   "cell_type": "code",
   "execution_count": 26,
   "id": "eaf2d1d2",
   "metadata": {
    "scrolled": true
   },
   "outputs": [
    {
     "name": "stdout",
     "output_type": "stream",
     "text": [
      "{'_id': ObjectId('6259cfe444b8840f46114bb1'),\n",
      " 'cpf': '617.425.890-49',\n",
      " 'data_nascimento': '1995-06-20',\n",
      " 'email': 'ana vitória.nascimento@gmail.com',\n",
      " 'endereco': {'bairro': 'Paquetá',\n",
      "              'cep': '89209-204',\n",
      "              'cidade': 'Rocha',\n",
      "              'logradouro': 'Aeroporto Rebeca Mendes',\n",
      "              'numero': '3',\n",
      "              'uf': 'Acre'},\n",
      " 'formacoes': ['Lapidário', 'Governador'],\n",
      " 'idade': 26,\n",
      " 'nome': 'Ana Vitória Nascimento',\n",
      " 'telefones': ['5581977249321', '5561944518055', '5521997967469']}\n"
     ]
    }
   ],
   "source": [
    "for p in colecao_pessoa.find(criterio):\n",
    "    pp.pprint(p)"
   ]
  },
  {
   "cell_type": "markdown",
   "id": "9d6caedd",
   "metadata": {},
   "source": [
    "## Atualizar o documento"
   ]
  },
  {
   "cell_type": "code",
   "execution_count": 30,
   "id": "27cb237d",
   "metadata": {},
   "outputs": [
    {
     "data": {
      "text/plain": [
       "'745.698.013-66'"
      ]
     },
     "execution_count": 30,
     "metadata": {},
     "output_type": "execute_result"
    }
   ],
   "source": [
    "df.loc[3, 'cpf']"
   ]
  },
  {
   "cell_type": "code",
   "execution_count": 31,
   "id": "23ddd3e8",
   "metadata": {},
   "outputs": [
    {
     "name": "stdout",
     "output_type": "stream",
     "text": [
      "{'$set': {'endereco.bairro': 'Pampulha'}}\n"
     ]
    }
   ],
   "source": [
    "criterio = {\n",
    "    \"cpf\":df.loc[3, 'cpf']}\n",
    "\n",
    "novo_valor = {\n",
    "    \"$set\": { \"endereco.bairro\": \"Pampulha\" }\n",
    "}\n",
    "pp.pprint(novo_valor)\n"
   ]
  },
  {
   "cell_type": "code",
   "execution_count": 32,
   "id": "d02f65eb",
   "metadata": {},
   "outputs": [
    {
     "data": {
      "text/plain": [
       "<pymongo.results.UpdateResult at 0x7f110346ac40>"
      ]
     },
     "execution_count": 32,
     "metadata": {},
     "output_type": "execute_result"
    }
   ],
   "source": [
    "r = colecao_pessoa.update_many(criterio, novo_valor)\n",
    "r"
   ]
  },
  {
   "cell_type": "code",
   "execution_count": 33,
   "id": "c64144e5",
   "metadata": {},
   "outputs": [
    {
     "data": {
      "text/plain": [
       "1"
      ]
     },
     "execution_count": 33,
     "metadata": {},
     "output_type": "execute_result"
    }
   ],
   "source": [
    "# ref.: https://pymongo.readthedocs.io/en/stable/api/pymongo/results.html\n",
    "r.matched_count"
   ]
  },
  {
   "cell_type": "code",
   "execution_count": 34,
   "id": "e565605f",
   "metadata": {},
   "outputs": [
    {
     "data": {
      "text/plain": [
       "1"
      ]
     },
     "execution_count": 34,
     "metadata": {},
     "output_type": "execute_result"
    }
   ],
   "source": [
    "r.modified_count"
   ]
  },
  {
   "cell_type": "code",
   "execution_count": 35,
   "id": "90fc8264",
   "metadata": {},
   "outputs": [
    {
     "data": {
      "text/plain": [
       "{'n': 1, 'nModified': 1, 'ok': 1.0, 'updatedExisting': True}"
      ]
     },
     "execution_count": 35,
     "metadata": {},
     "output_type": "execute_result"
    }
   ],
   "source": [
    "r.raw_result"
   ]
  },
  {
   "cell_type": "code",
   "execution_count": 36,
   "id": "af4ac478",
   "metadata": {},
   "outputs": [],
   "source": [
    "r.upserted_id"
   ]
  },
  {
   "cell_type": "code",
   "execution_count": 37,
   "id": "b74145a5",
   "metadata": {},
   "outputs": [
    {
     "name": "stdout",
     "output_type": "stream",
     "text": [
      "{'_id': ObjectId('6259cfe444b8840f46114baf'),\n",
      " 'cpf': '745.698.013-66',\n",
      " 'data_nascimento': '1971-12-22',\n",
      " 'email': 'luna.campos@bol.com.br',\n",
      " 'endereco': {'bairro': 'Pampulha',\n",
      "              'cep': '63826-319',\n",
      "              'cidade': 'Nascimento',\n",
      "              'logradouro': 'Quadra da Cunha',\n",
      "              'numero': '240',\n",
      "              'uf': 'Alagoas'},\n",
      " 'formacoes': ['Jogador de bocha'],\n",
      " 'idade': 28,\n",
      " 'nome': 'Luna Campos',\n",
      " 'telefones': ['5561905585601', '5531987621713', '5521946282774']}\n"
     ]
    }
   ],
   "source": [
    "p = colecao_pessoa.find_one(criterio)\n",
    "pp.pprint(p)"
   ]
  },
  {
   "cell_type": "markdown",
   "id": "a6f90c5d",
   "metadata": {},
   "source": [
    "## Remover o documento"
   ]
  },
  {
   "cell_type": "code",
   "execution_count": null,
   "id": "c0d991ca",
   "metadata": {},
   "outputs": [],
   "source": [
    "criterio = {\n",
    "    \"_id\":pessoa_id}\n",
    "pp.pprint(criterio)"
   ]
  },
  {
   "cell_type": "code",
   "execution_count": null,
   "id": "3392e777",
   "metadata": {},
   "outputs": [],
   "source": [
    "r = colecao_pessoa.delete_one(criterio)"
   ]
  },
  {
   "cell_type": "code",
   "execution_count": null,
   "id": "af40a559",
   "metadata": {},
   "outputs": [],
   "source": [
    "r.raw_result"
   ]
  },
  {
   "cell_type": "code",
   "execution_count": null,
   "id": "9314832b",
   "metadata": {},
   "outputs": [],
   "source": [
    "p = colecao_pessoa.find_one({\"_id\":pessoa_id})\n",
    "pp.pprint(p)"
   ]
  },
  {
   "cell_type": "code",
   "execution_count": null,
   "id": "ead155d5",
   "metadata": {},
   "outputs": [],
   "source": []
  }
 ],
 "metadata": {
  "kernelspec": {
   "display_name": "Python 3 (ipykernel)",
   "language": "python",
   "name": "python3"
  },
  "language_info": {
   "codemirror_mode": {
    "name": "ipython",
    "version": 3
   },
   "file_extension": ".py",
   "mimetype": "text/x-python",
   "name": "python",
   "nbconvert_exporter": "python",
   "pygments_lexer": "ipython3",
   "version": "3.9.7"
  }
 },
 "nbformat": 4,
 "nbformat_minor": 5
}
