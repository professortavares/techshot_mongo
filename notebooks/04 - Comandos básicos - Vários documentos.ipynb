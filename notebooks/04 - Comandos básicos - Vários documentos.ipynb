{
 "cells": [
  {
   "cell_type": "markdown",
   "id": "d65f76bd",
   "metadata": {},
   "source": [
    "# Notebook responsável por apresentar os comandos básicos para manipulação de dados no mongo\n",
    "\n",
    "## Crud com apenas vários documentos:\n",
    "- Inserir vários documentos **compostos**\n",
    "- Recuperar vários documentos **compostos**\n",
    "- Atualizar vários documentos **compostos**\n",
    "- Excluir vários documentos **compostos**"
   ]
  },
  {
   "cell_type": "markdown",
   "id": "d7d2da3b",
   "metadata": {},
   "source": [
    "## Bibliotecas importantes"
   ]
  },
  {
   "cell_type": "code",
   "execution_count": 1,
   "id": "f0fb9fd7",
   "metadata": {},
   "outputs": [],
   "source": [
    "from pymongo import MongoClient\n",
    "import pprint\n",
    "import numpy as np\n",
    "import pandas as pd\n",
    "\n",
    "# para geração de dados fake\n",
    "from faker import Faker\n"
   ]
  },
  {
   "cell_type": "markdown",
   "id": "4dfe91a8",
   "metadata": {},
   "source": [
    "## Funções uteis"
   ]
  },
  {
   "cell_type": "code",
   "execution_count": 2,
   "id": "ea741f12",
   "metadata": {},
   "outputs": [],
   "source": [
    "def criar_endereco():\n",
    "    return {\n",
    "        'logradouro':fake.street_name(),\n",
    "        'numero':fake.building_number(),\n",
    "        'bairro':fake.bairro(),\n",
    "        'cidade':fake.city(),\n",
    "        'uf':fake.administrative_unit(),\n",
    "        'cep':fake.postcode(),\n",
    "    }"
   ]
  },
  {
   "cell_type": "code",
   "execution_count": 3,
   "id": "cedde46c",
   "metadata": {},
   "outputs": [],
   "source": [
    "def criar_pessoa():\n",
    "    primeiro_nome = fake.first_name()\n",
    "    ultimo_nome = fake.last_name()\n",
    "    \n",
    "    idade = np.random.randint(18, 50)\n",
    "    \n",
    "    pessoa = {\n",
    "        'cpf': fake.cpf(),\n",
    "        'nome': f'{primeiro_nome} {ultimo_nome}' ,\n",
    "        'idade': idade ,\n",
    "        'data_nascimento':fake.date()\n",
    "    }        \n",
    "    pessoa['email']= f'{primeiro_nome.lower()}.{ultimo_nome.lower()}@{fake.free_email_domain()}'\n",
    "    \n",
    "    pessoa['endereco'] = criar_endereco()\n",
    "\n",
    "    pessoa['telefones'] = []\n",
    "    n = np.random.randint(1, 4)\n",
    "    for i in range(n):\n",
    "        pessoa['telefones'].append(fake.msisdn())\n",
    "\n",
    "    pessoa['formacoes'] = []\n",
    "    n = np.random.randint(1, 4)\n",
    "    for i in range(n):\n",
    "        pessoa['formacoes'].append(fake.job())\n",
    "        \n",
    "        \n",
    "    return pessoa"
   ]
  },
  {
   "cell_type": "markdown",
   "id": "648352cd",
   "metadata": {},
   "source": [
    "## Configurações"
   ]
  },
  {
   "cell_type": "code",
   "execution_count": 4,
   "id": "332b9e9b",
   "metadata": {},
   "outputs": [],
   "source": [
    "pp = pprint.PrettyPrinter(compact=True)\n",
    "# gerando dados fictícios em português do Brasil\n",
    "fake = Faker(['pt_BR'])"
   ]
  },
  {
   "cell_type": "markdown",
   "id": "55a2771b",
   "metadata": {},
   "source": [
    "## Inserção de vários documentos"
   ]
  },
  {
   "cell_type": "markdown",
   "id": "9d0204f1",
   "metadata": {},
   "source": [
    "### Conectando ao MongoDB"
   ]
  },
  {
   "cell_type": "code",
   "execution_count": 5,
   "id": "fc8b60e3",
   "metadata": {},
   "outputs": [],
   "source": [
    "client = MongoClient('localhost', 27017)\n",
    "# Se a base de dados não existir, ela é criada automagicamente :-)\n",
    "db = client['techshot_mongo03']"
   ]
  },
  {
   "cell_type": "markdown",
   "id": "7b551e88",
   "metadata": {},
   "source": [
    "### Exemplo - Criação de vários documentos compostos"
   ]
  },
  {
   "cell_type": "code",
   "execution_count": 6,
   "id": "5450a862",
   "metadata": {
    "scrolled": false
   },
   "outputs": [
    {
     "name": "stdout",
     "output_type": "stream",
     "text": [
      "[{'cpf': '807.542.369-00',\n",
      "  'data_nascimento': '1983-03-28',\n",
      "  'email': 'laura.melo@uol.com.br',\n",
      "  'endereco': {'bairro': 'Serrano',\n",
      "               'cep': '18245389',\n",
      "               'cidade': 'da Paz de da Paz',\n",
      "               'logradouro': 'Chácara de Moura',\n",
      "               'numero': '1',\n",
      "               'uf': 'Espírito Santo'},\n",
      "  'formacoes': ['Gestor ambiental', 'Recreador'],\n",
      "  'idade': 43,\n",
      "  'nome': 'Laura Melo',\n",
      "  'telefones': ['5571948844742', '5531989518820', '5551955298910']},\n",
      " {'cpf': '740.125.368-26',\n",
      "  'data_nascimento': '2018-03-30',\n",
      "  'email': 'vitor.da cunha@bol.com.br',\n",
      "  'endereco': {'bairro': 'Santa Lúcia',\n",
      "               'cep': '51702-390',\n",
      "               'cidade': 'Freitas',\n",
      "               'logradouro': 'Praia Thales Fernandes',\n",
      "               'numero': '615',\n",
      "               'uf': 'Maranhão'},\n",
      "  'formacoes': ['Tecnólogo em negócios imobiliários', 'Bartender'],\n",
      "  'idade': 19,\n",
      "  'nome': 'Vitor da Cunha',\n",
      "  'telefones': ['5551996396954']},\n",
      " {'cpf': '567.042.138-80',\n",
      "  'data_nascimento': '1996-12-22',\n",
      "  'email': 'pedro miguel.carvalho@gmail.com',\n",
      "  'endereco': {'bairro': 'Santa Amelia',\n",
      "               'cep': '07689825',\n",
      "               'cidade': 'Ferreira da Praia',\n",
      "               'logradouro': 'Feira Lucca Nogueira',\n",
      "               'numero': '53',\n",
      "               'uf': 'Paraná'},\n",
      "  'formacoes': ['Intérprete de Bíblias', 'Cartógrafo'],\n",
      "  'idade': 45,\n",
      "  'nome': 'Pedro Miguel Carvalho',\n",
      "  'telefones': ['5571989617889', '5541928387648', '5584917515712']},\n",
      " {'cpf': '694.128.573-73',\n",
      "  'data_nascimento': '1998-01-08',\n",
      "  'email': 'andré.carvalho@yahoo.com.br',\n",
      "  'endereco': {'bairro': 'Horto',\n",
      "               'cep': '26703-049',\n",
      "               'cidade': 'Lima do Norte',\n",
      "               'logradouro': 'Estação de da Luz',\n",
      "               'numero': '29',\n",
      "               'uf': 'Mato Grosso'},\n",
      "  'formacoes': ['Continuista', 'Lancheiro', 'Cabo'],\n",
      "  'idade': 33,\n",
      "  'nome': 'André Carvalho',\n",
      "  'telefones': ['5541922886192']},\n",
      " {'cpf': '092.768.543-47',\n",
      "  'data_nascimento': '2011-04-13',\n",
      "  'email': 'joana.monteiro@gmail.com',\n",
      "  'endereco': {'bairro': 'Urca',\n",
      "               'cep': '39708-050',\n",
      "               'cidade': 'Vieira',\n",
      "               'logradouro': 'Estação de Moreira',\n",
      "               'numero': '9',\n",
      "               'uf': 'Sergipe'},\n",
      "  'formacoes': ['Guincheiro'],\n",
      "  'idade': 30,\n",
      "  'nome': 'Joana Monteiro',\n",
      "  'telefones': ['5511996405150', '5521902959179']},\n",
      " {'cpf': '590.746.123-34',\n",
      "  'data_nascimento': '2020-03-20',\n",
      "  'email': 'luiz henrique.rocha@uol.com.br',\n",
      "  'endereco': {'bairro': 'São Gabriel',\n",
      "               'cep': '42353274',\n",
      "               'cidade': 'Dias',\n",
      "               'logradouro': 'Recanto de Araújo',\n",
      "               'numero': '37',\n",
      "               'uf': 'Maranhão'},\n",
      "  'formacoes': ['Sushiman'],\n",
      "  'idade': 37,\n",
      "  'nome': 'Luiz Henrique Rocha',\n",
      "  'telefones': ['5531980340936', '5571920739634']},\n",
      " {'cpf': '217.508.469-85',\n",
      "  'data_nascimento': '1987-08-09',\n",
      "  'email': 'natália.peixoto@yahoo.com.br',\n",
      "  'endereco': {'bairro': 'Pantanal',\n",
      "               'cep': '17756588',\n",
      "               'cidade': 'Cavalcanti da Prata',\n",
      "               'logradouro': 'Loteamento Ana Júlia Duarte',\n",
      "               'numero': '334',\n",
      "               'uf': 'Pará'},\n",
      "  'formacoes': ['Tecnólogo em recursos pesqueiros', 'Instrumentador cirúrgico',\n",
      "                'Bibliotecário'],\n",
      "  'idade': 29,\n",
      "  'nome': 'Natália Peixoto',\n",
      "  'telefones': ['5521991861139', '5541962001534', '5541947065342']},\n",
      " {'cpf': '830.629.714-87',\n",
      "  'data_nascimento': '2007-09-08',\n",
      "  'email': 'gustavo.farias@yahoo.com.br',\n",
      "  'endereco': {'bairro': 'Vila Bandeirantes',\n",
      "               'cep': '98892721',\n",
      "               'cidade': 'Moraes',\n",
      "               'logradouro': 'Lagoa Barros',\n",
      "               'numero': '4',\n",
      "               'uf': 'Rio Grande do Sul'},\n",
      "  'formacoes': ['Designer gráfico'],\n",
      "  'idade': 41,\n",
      "  'nome': 'Gustavo Farias',\n",
      "  'telefones': ['5521924430341', '5541957584099', '5541982813435']},\n",
      " {'cpf': '528.903.716-03',\n",
      "  'data_nascimento': '2001-05-31',\n",
      "  'email': 'maitê.jesus@gmail.com',\n",
      "  'endereco': {'bairro': 'Cinquentenário',\n",
      "               'cep': '85295-893',\n",
      "               'cidade': 'Fernandes do Oeste',\n",
      "               'logradouro': 'Via Azevedo',\n",
      "               'numero': '4',\n",
      "               'uf': 'Alagoas'},\n",
      "  'formacoes': ['Designer de produto ou desenhista industrial', 'Velejador'],\n",
      "  'idade': 34,\n",
      "  'nome': 'Maitê Jesus',\n",
      "  'telefones': ['5581986329539', '5541983093629', '5541968292541']},\n",
      " {'cpf': '321.568.490-05',\n",
      "  'data_nascimento': '1978-03-01',\n",
      "  'email': 'sarah.farias@hotmail.com',\n",
      "  'endereco': {'bairro': 'Pousada Santo Antonio',\n",
      "               'cep': '69806487',\n",
      "               'cidade': 'Carvalho da Praia',\n",
      "               'logradouro': 'Condomínio de da Luz',\n",
      "               'numero': '3',\n",
      "               'uf': 'Roraima'},\n",
      "  'formacoes': ['Armador', 'Corretor da bolsa de valores'],\n",
      "  'idade': 31,\n",
      "  'nome': 'Sarah Farias',\n",
      "  'telefones': ['5551956405386']}]\n"
     ]
    }
   ],
   "source": [
    "lista_pessoas = []\n",
    "\n",
    "for i in range(10):\n",
    "    lista_pessoas.append(criar_pessoa())\n",
    "    \n",
    "pp.pprint(lista_pessoas)"
   ]
  },
  {
   "cell_type": "code",
   "execution_count": 7,
   "id": "9d4a2f6a",
   "metadata": {},
   "outputs": [
    {
     "data": {
      "text/html": [
       "<div>\n",
       "<style scoped>\n",
       "    .dataframe tbody tr th:only-of-type {\n",
       "        vertical-align: middle;\n",
       "    }\n",
       "\n",
       "    .dataframe tbody tr th {\n",
       "        vertical-align: top;\n",
       "    }\n",
       "\n",
       "    .dataframe thead th {\n",
       "        text-align: right;\n",
       "    }\n",
       "</style>\n",
       "<table border=\"1\" class=\"dataframe\">\n",
       "  <thead>\n",
       "    <tr style=\"text-align: right;\">\n",
       "      <th></th>\n",
       "      <th>cpf</th>\n",
       "      <th>nome</th>\n",
       "      <th>idade</th>\n",
       "      <th>data_nascimento</th>\n",
       "      <th>email</th>\n",
       "      <th>endereco</th>\n",
       "      <th>telefones</th>\n",
       "      <th>formacoes</th>\n",
       "    </tr>\n",
       "  </thead>\n",
       "  <tbody>\n",
       "    <tr>\n",
       "      <th>0</th>\n",
       "      <td>807.542.369-00</td>\n",
       "      <td>Laura Melo</td>\n",
       "      <td>43</td>\n",
       "      <td>1983-03-28</td>\n",
       "      <td>laura.melo@uol.com.br</td>\n",
       "      <td>{'logradouro': 'Chácara de Moura', 'numero': '...</td>\n",
       "      <td>[5571948844742, 5531989518820, 5551955298910]</td>\n",
       "      <td>[Gestor ambiental, Recreador]</td>\n",
       "    </tr>\n",
       "    <tr>\n",
       "      <th>1</th>\n",
       "      <td>740.125.368-26</td>\n",
       "      <td>Vitor da Cunha</td>\n",
       "      <td>19</td>\n",
       "      <td>2018-03-30</td>\n",
       "      <td>vitor.da cunha@bol.com.br</td>\n",
       "      <td>{'logradouro': 'Praia Thales Fernandes', 'nume...</td>\n",
       "      <td>[5551996396954]</td>\n",
       "      <td>[Tecnólogo em negócios imobiliários, Bartender]</td>\n",
       "    </tr>\n",
       "    <tr>\n",
       "      <th>2</th>\n",
       "      <td>567.042.138-80</td>\n",
       "      <td>Pedro Miguel Carvalho</td>\n",
       "      <td>45</td>\n",
       "      <td>1996-12-22</td>\n",
       "      <td>pedro miguel.carvalho@gmail.com</td>\n",
       "      <td>{'logradouro': 'Feira Lucca Nogueira', 'numero...</td>\n",
       "      <td>[5571989617889, 5541928387648, 5584917515712]</td>\n",
       "      <td>[Intérprete de Bíblias, Cartógrafo]</td>\n",
       "    </tr>\n",
       "    <tr>\n",
       "      <th>3</th>\n",
       "      <td>694.128.573-73</td>\n",
       "      <td>André Carvalho</td>\n",
       "      <td>33</td>\n",
       "      <td>1998-01-08</td>\n",
       "      <td>andré.carvalho@yahoo.com.br</td>\n",
       "      <td>{'logradouro': 'Estação de da Luz', 'numero': ...</td>\n",
       "      <td>[5541922886192]</td>\n",
       "      <td>[Continuista, Lancheiro, Cabo]</td>\n",
       "    </tr>\n",
       "    <tr>\n",
       "      <th>4</th>\n",
       "      <td>092.768.543-47</td>\n",
       "      <td>Joana Monteiro</td>\n",
       "      <td>30</td>\n",
       "      <td>2011-04-13</td>\n",
       "      <td>joana.monteiro@gmail.com</td>\n",
       "      <td>{'logradouro': 'Estação de Moreira', 'numero':...</td>\n",
       "      <td>[5511996405150, 5521902959179]</td>\n",
       "      <td>[Guincheiro]</td>\n",
       "    </tr>\n",
       "    <tr>\n",
       "      <th>5</th>\n",
       "      <td>590.746.123-34</td>\n",
       "      <td>Luiz Henrique Rocha</td>\n",
       "      <td>37</td>\n",
       "      <td>2020-03-20</td>\n",
       "      <td>luiz henrique.rocha@uol.com.br</td>\n",
       "      <td>{'logradouro': 'Recanto de Araújo', 'numero': ...</td>\n",
       "      <td>[5531980340936, 5571920739634]</td>\n",
       "      <td>[Sushiman]</td>\n",
       "    </tr>\n",
       "    <tr>\n",
       "      <th>6</th>\n",
       "      <td>217.508.469-85</td>\n",
       "      <td>Natália Peixoto</td>\n",
       "      <td>29</td>\n",
       "      <td>1987-08-09</td>\n",
       "      <td>natália.peixoto@yahoo.com.br</td>\n",
       "      <td>{'logradouro': 'Loteamento Ana Júlia Duarte', ...</td>\n",
       "      <td>[5521991861139, 5541962001534, 5541947065342]</td>\n",
       "      <td>[Tecnólogo em recursos pesqueiros, Instrumenta...</td>\n",
       "    </tr>\n",
       "    <tr>\n",
       "      <th>7</th>\n",
       "      <td>830.629.714-87</td>\n",
       "      <td>Gustavo Farias</td>\n",
       "      <td>41</td>\n",
       "      <td>2007-09-08</td>\n",
       "      <td>gustavo.farias@yahoo.com.br</td>\n",
       "      <td>{'logradouro': 'Lagoa Barros', 'numero': '4', ...</td>\n",
       "      <td>[5521924430341, 5541957584099, 5541982813435]</td>\n",
       "      <td>[Designer gráfico]</td>\n",
       "    </tr>\n",
       "    <tr>\n",
       "      <th>8</th>\n",
       "      <td>528.903.716-03</td>\n",
       "      <td>Maitê Jesus</td>\n",
       "      <td>34</td>\n",
       "      <td>2001-05-31</td>\n",
       "      <td>maitê.jesus@gmail.com</td>\n",
       "      <td>{'logradouro': 'Via Azevedo', 'numero': '4', '...</td>\n",
       "      <td>[5581986329539, 5541983093629, 5541968292541]</td>\n",
       "      <td>[Designer de produto ou desenhista industrial,...</td>\n",
       "    </tr>\n",
       "    <tr>\n",
       "      <th>9</th>\n",
       "      <td>321.568.490-05</td>\n",
       "      <td>Sarah Farias</td>\n",
       "      <td>31</td>\n",
       "      <td>1978-03-01</td>\n",
       "      <td>sarah.farias@hotmail.com</td>\n",
       "      <td>{'logradouro': 'Condomínio de da Luz', 'numero...</td>\n",
       "      <td>[5551956405386]</td>\n",
       "      <td>[Armador, Corretor da bolsa de valores]</td>\n",
       "    </tr>\n",
       "  </tbody>\n",
       "</table>\n",
       "</div>"
      ],
      "text/plain": [
       "              cpf                   nome  idade data_nascimento  \\\n",
       "0  807.542.369-00             Laura Melo     43      1983-03-28   \n",
       "1  740.125.368-26         Vitor da Cunha     19      2018-03-30   \n",
       "2  567.042.138-80  Pedro Miguel Carvalho     45      1996-12-22   \n",
       "3  694.128.573-73         André Carvalho     33      1998-01-08   \n",
       "4  092.768.543-47         Joana Monteiro     30      2011-04-13   \n",
       "5  590.746.123-34    Luiz Henrique Rocha     37      2020-03-20   \n",
       "6  217.508.469-85        Natália Peixoto     29      1987-08-09   \n",
       "7  830.629.714-87         Gustavo Farias     41      2007-09-08   \n",
       "8  528.903.716-03            Maitê Jesus     34      2001-05-31   \n",
       "9  321.568.490-05           Sarah Farias     31      1978-03-01   \n",
       "\n",
       "                             email  \\\n",
       "0            laura.melo@uol.com.br   \n",
       "1        vitor.da cunha@bol.com.br   \n",
       "2  pedro miguel.carvalho@gmail.com   \n",
       "3      andré.carvalho@yahoo.com.br   \n",
       "4         joana.monteiro@gmail.com   \n",
       "5   luiz henrique.rocha@uol.com.br   \n",
       "6     natália.peixoto@yahoo.com.br   \n",
       "7      gustavo.farias@yahoo.com.br   \n",
       "8            maitê.jesus@gmail.com   \n",
       "9         sarah.farias@hotmail.com   \n",
       "\n",
       "                                            endereco  \\\n",
       "0  {'logradouro': 'Chácara de Moura', 'numero': '...   \n",
       "1  {'logradouro': 'Praia Thales Fernandes', 'nume...   \n",
       "2  {'logradouro': 'Feira Lucca Nogueira', 'numero...   \n",
       "3  {'logradouro': 'Estação de da Luz', 'numero': ...   \n",
       "4  {'logradouro': 'Estação de Moreira', 'numero':...   \n",
       "5  {'logradouro': 'Recanto de Araújo', 'numero': ...   \n",
       "6  {'logradouro': 'Loteamento Ana Júlia Duarte', ...   \n",
       "7  {'logradouro': 'Lagoa Barros', 'numero': '4', ...   \n",
       "8  {'logradouro': 'Via Azevedo', 'numero': '4', '...   \n",
       "9  {'logradouro': 'Condomínio de da Luz', 'numero...   \n",
       "\n",
       "                                       telefones  \\\n",
       "0  [5571948844742, 5531989518820, 5551955298910]   \n",
       "1                                [5551996396954]   \n",
       "2  [5571989617889, 5541928387648, 5584917515712]   \n",
       "3                                [5541922886192]   \n",
       "4                 [5511996405150, 5521902959179]   \n",
       "5                 [5531980340936, 5571920739634]   \n",
       "6  [5521991861139, 5541962001534, 5541947065342]   \n",
       "7  [5521924430341, 5541957584099, 5541982813435]   \n",
       "8  [5581986329539, 5541983093629, 5541968292541]   \n",
       "9                                [5551956405386]   \n",
       "\n",
       "                                           formacoes  \n",
       "0                      [Gestor ambiental, Recreador]  \n",
       "1    [Tecnólogo em negócios imobiliários, Bartender]  \n",
       "2                [Intérprete de Bíblias, Cartógrafo]  \n",
       "3                     [Continuista, Lancheiro, Cabo]  \n",
       "4                                       [Guincheiro]  \n",
       "5                                         [Sushiman]  \n",
       "6  [Tecnólogo em recursos pesqueiros, Instrumenta...  \n",
       "7                                 [Designer gráfico]  \n",
       "8  [Designer de produto ou desenhista industrial,...  \n",
       "9            [Armador, Corretor da bolsa de valores]  "
      ]
     },
     "execution_count": 7,
     "metadata": {},
     "output_type": "execute_result"
    }
   ],
   "source": [
    "df = pd.DataFrame.from_records(lista_pessoas)\n",
    "df"
   ]
  },
  {
   "cell_type": "code",
   "execution_count": 8,
   "id": "852b76e7",
   "metadata": {},
   "outputs": [
    {
     "name": "stdout",
     "output_type": "stream",
     "text": [
      "<class 'pandas.core.frame.DataFrame'>\n",
      "RangeIndex: 10 entries, 0 to 9\n",
      "Data columns (total 8 columns):\n",
      " #   Column           Non-Null Count  Dtype \n",
      "---  ------           --------------  ----- \n",
      " 0   cpf              10 non-null     object\n",
      " 1   nome             10 non-null     object\n",
      " 2   idade            10 non-null     int64 \n",
      " 3   data_nascimento  10 non-null     object\n",
      " 4   email            10 non-null     object\n",
      " 5   endereco         10 non-null     object\n",
      " 6   telefones        10 non-null     object\n",
      " 7   formacoes        10 non-null     object\n",
      "dtypes: int64(1), object(7)\n",
      "memory usage: 768.0+ bytes\n"
     ]
    }
   ],
   "source": [
    "df.info()"
   ]
  },
  {
   "cell_type": "markdown",
   "id": "e22f2eab",
   "metadata": {},
   "source": [
    "### Inserindo os documentos no banco de dados"
   ]
  },
  {
   "cell_type": "code",
   "execution_count": 9,
   "id": "2c048809",
   "metadata": {
    "scrolled": false
   },
   "outputs": [
    {
     "data": {
      "text/plain": [
       "[ObjectId('625ff31dbf0e1464748a84bb'),\n",
       " ObjectId('625ff31dbf0e1464748a84bc'),\n",
       " ObjectId('625ff31dbf0e1464748a84bd'),\n",
       " ObjectId('625ff31dbf0e1464748a84be'),\n",
       " ObjectId('625ff31dbf0e1464748a84bf'),\n",
       " ObjectId('625ff31dbf0e1464748a84c0'),\n",
       " ObjectId('625ff31dbf0e1464748a84c1'),\n",
       " ObjectId('625ff31dbf0e1464748a84c2'),\n",
       " ObjectId('625ff31dbf0e1464748a84c3'),\n",
       " ObjectId('625ff31dbf0e1464748a84c4')]"
      ]
     },
     "execution_count": 9,
     "metadata": {},
     "output_type": "execute_result"
    }
   ],
   "source": [
    "# se a coleção não existir, ela é criada automagicamente :-)\n",
    "colecao_pessoa = db['pessoas']\n",
    "pessoa_ids = colecao_pessoa.insert_many(lista_pessoas).inserted_ids\n",
    "pessoa_ids"
   ]
  },
  {
   "cell_type": "markdown",
   "id": "eb1e708f",
   "metadata": {},
   "source": [
    "## Recuperando os documentos inseridos"
   ]
  },
  {
   "cell_type": "markdown",
   "id": "4d3c61ec",
   "metadata": {},
   "source": [
    "#### Recuperar todos"
   ]
  },
  {
   "cell_type": "code",
   "execution_count": 10,
   "id": "36d993f5",
   "metadata": {
    "scrolled": false
   },
   "outputs": [
    {
     "name": "stdout",
     "output_type": "stream",
     "text": [
      "{'_id': ObjectId('625ff31dbf0e1464748a84bb'),\n",
      " 'cpf': '807.542.369-00',\n",
      " 'data_nascimento': '1983-03-28',\n",
      " 'email': 'laura.melo@uol.com.br',\n",
      " 'endereco': {'bairro': 'Serrano',\n",
      "              'cep': '18245389',\n",
      "              'cidade': 'da Paz de da Paz',\n",
      "              'logradouro': 'Chácara de Moura',\n",
      "              'numero': '1',\n",
      "              'uf': 'Espírito Santo'},\n",
      " 'formacoes': ['Gestor ambiental', 'Recreador'],\n",
      " 'idade': 43,\n",
      " 'nome': 'Laura Melo',\n",
      " 'telefones': ['5571948844742', '5531989518820', '5551955298910']}\n",
      "{'_id': ObjectId('625ff31dbf0e1464748a84bc'),\n",
      " 'cpf': '740.125.368-26',\n",
      " 'data_nascimento': '2018-03-30',\n",
      " 'email': 'vitor.da cunha@bol.com.br',\n",
      " 'endereco': {'bairro': 'Santa Lúcia',\n",
      "              'cep': '51702-390',\n",
      "              'cidade': 'Freitas',\n",
      "              'logradouro': 'Praia Thales Fernandes',\n",
      "              'numero': '615',\n",
      "              'uf': 'Maranhão'},\n",
      " 'formacoes': ['Tecnólogo em negócios imobiliários', 'Bartender'],\n",
      " 'idade': 19,\n",
      " 'nome': 'Vitor da Cunha',\n",
      " 'telefones': ['5551996396954']}\n",
      "{'_id': ObjectId('625ff31dbf0e1464748a84bd'),\n",
      " 'cpf': '567.042.138-80',\n",
      " 'data_nascimento': '1996-12-22',\n",
      " 'email': 'pedro miguel.carvalho@gmail.com',\n",
      " 'endereco': {'bairro': 'Santa Amelia',\n",
      "              'cep': '07689825',\n",
      "              'cidade': 'Ferreira da Praia',\n",
      "              'logradouro': 'Feira Lucca Nogueira',\n",
      "              'numero': '53',\n",
      "              'uf': 'Paraná'},\n",
      " 'formacoes': ['Intérprete de Bíblias', 'Cartógrafo'],\n",
      " 'idade': 45,\n",
      " 'nome': 'Pedro Miguel Carvalho',\n",
      " 'telefones': ['5571989617889', '5541928387648', '5584917515712']}\n",
      "{'_id': ObjectId('625ff31dbf0e1464748a84be'),\n",
      " 'cpf': '694.128.573-73',\n",
      " 'data_nascimento': '1998-01-08',\n",
      " 'email': 'andré.carvalho@yahoo.com.br',\n",
      " 'endereco': {'bairro': 'Horto',\n",
      "              'cep': '26703-049',\n",
      "              'cidade': 'Lima do Norte',\n",
      "              'logradouro': 'Estação de da Luz',\n",
      "              'numero': '29',\n",
      "              'uf': 'Mato Grosso'},\n",
      " 'formacoes': ['Continuista', 'Lancheiro', 'Cabo'],\n",
      " 'idade': 33,\n",
      " 'nome': 'André Carvalho',\n",
      " 'telefones': ['5541922886192']}\n",
      "{'_id': ObjectId('625ff31dbf0e1464748a84bf'),\n",
      " 'cpf': '092.768.543-47',\n",
      " 'data_nascimento': '2011-04-13',\n",
      " 'email': 'joana.monteiro@gmail.com',\n",
      " 'endereco': {'bairro': 'Urca',\n",
      "              'cep': '39708-050',\n",
      "              'cidade': 'Vieira',\n",
      "              'logradouro': 'Estação de Moreira',\n",
      "              'numero': '9',\n",
      "              'uf': 'Sergipe'},\n",
      " 'formacoes': ['Guincheiro'],\n",
      " 'idade': 30,\n",
      " 'nome': 'Joana Monteiro',\n",
      " 'telefones': ['5511996405150', '5521902959179']}\n",
      "{'_id': ObjectId('625ff31dbf0e1464748a84c0'),\n",
      " 'cpf': '590.746.123-34',\n",
      " 'data_nascimento': '2020-03-20',\n",
      " 'email': 'luiz henrique.rocha@uol.com.br',\n",
      " 'endereco': {'bairro': 'São Gabriel',\n",
      "              'cep': '42353274',\n",
      "              'cidade': 'Dias',\n",
      "              'logradouro': 'Recanto de Araújo',\n",
      "              'numero': '37',\n",
      "              'uf': 'Maranhão'},\n",
      " 'formacoes': ['Sushiman'],\n",
      " 'idade': 37,\n",
      " 'nome': 'Luiz Henrique Rocha',\n",
      " 'telefones': ['5531980340936', '5571920739634']}\n",
      "{'_id': ObjectId('625ff31dbf0e1464748a84c1'),\n",
      " 'cpf': '217.508.469-85',\n",
      " 'data_nascimento': '1987-08-09',\n",
      " 'email': 'natália.peixoto@yahoo.com.br',\n",
      " 'endereco': {'bairro': 'Pantanal',\n",
      "              'cep': '17756588',\n",
      "              'cidade': 'Cavalcanti da Prata',\n",
      "              'logradouro': 'Loteamento Ana Júlia Duarte',\n",
      "              'numero': '334',\n",
      "              'uf': 'Pará'},\n",
      " 'formacoes': ['Tecnólogo em recursos pesqueiros', 'Instrumentador cirúrgico',\n",
      "               'Bibliotecário'],\n",
      " 'idade': 29,\n",
      " 'nome': 'Natália Peixoto',\n",
      " 'telefones': ['5521991861139', '5541962001534', '5541947065342']}\n",
      "{'_id': ObjectId('625ff31dbf0e1464748a84c2'),\n",
      " 'cpf': '830.629.714-87',\n",
      " 'data_nascimento': '2007-09-08',\n",
      " 'email': 'gustavo.farias@yahoo.com.br',\n",
      " 'endereco': {'bairro': 'Vila Bandeirantes',\n",
      "              'cep': '98892721',\n",
      "              'cidade': 'Moraes',\n",
      "              'logradouro': 'Lagoa Barros',\n",
      "              'numero': '4',\n",
      "              'uf': 'Rio Grande do Sul'},\n",
      " 'formacoes': ['Designer gráfico'],\n",
      " 'idade': 41,\n",
      " 'nome': 'Gustavo Farias',\n",
      " 'telefones': ['5521924430341', '5541957584099', '5541982813435']}\n",
      "{'_id': ObjectId('625ff31dbf0e1464748a84c3'),\n",
      " 'cpf': '528.903.716-03',\n",
      " 'data_nascimento': '2001-05-31',\n",
      " 'email': 'maitê.jesus@gmail.com',\n",
      " 'endereco': {'bairro': 'Cinquentenário',\n",
      "              'cep': '85295-893',\n",
      "              'cidade': 'Fernandes do Oeste',\n",
      "              'logradouro': 'Via Azevedo',\n",
      "              'numero': '4',\n",
      "              'uf': 'Alagoas'},\n",
      " 'formacoes': ['Designer de produto ou desenhista industrial', 'Velejador'],\n",
      " 'idade': 34,\n",
      " 'nome': 'Maitê Jesus',\n",
      " 'telefones': ['5581986329539', '5541983093629', '5541968292541']}\n",
      "{'_id': ObjectId('625ff31dbf0e1464748a84c4'),\n",
      " 'cpf': '321.568.490-05',\n",
      " 'data_nascimento': '1978-03-01',\n",
      " 'email': 'sarah.farias@hotmail.com',\n",
      " 'endereco': {'bairro': 'Pousada Santo Antonio',\n",
      "              'cep': '69806487',\n",
      "              'cidade': 'Carvalho da Praia',\n",
      "              'logradouro': 'Condomínio de da Luz',\n",
      "              'numero': '3',\n",
      "              'uf': 'Roraima'},\n",
      " 'formacoes': ['Armador', 'Corretor da bolsa de valores'],\n",
      " 'idade': 31,\n",
      " 'nome': 'Sarah Farias',\n",
      " 'telefones': ['5551956405386']}\n"
     ]
    }
   ],
   "source": [
    "for p in colecao_pessoa.find({}):\n",
    "    pp.pprint(p)"
   ]
  },
  {
   "cell_type": "code",
   "execution_count": 11,
   "id": "a79ba799",
   "metadata": {},
   "outputs": [
    {
     "data": {
      "text/plain": [
       "pymongo.cursor.Cursor"
      ]
     },
     "execution_count": 11,
     "metadata": {},
     "output_type": "execute_result"
    }
   ],
   "source": [
    "type(colecao_pessoa.find({}))"
   ]
  },
  {
   "cell_type": "code",
   "execution_count": 12,
   "id": "d520b6c1",
   "metadata": {},
   "outputs": [
    {
     "data": {
      "text/plain": [
       "{'explainVersion': '1',\n",
       " 'queryPlanner': {'namespace': 'techshot_mongo03.pessoas',\n",
       "  'indexFilterSet': False,\n",
       "  'parsedQuery': {},\n",
       "  'maxIndexedOrSolutionsReached': False,\n",
       "  'maxIndexedAndSolutionsReached': False,\n",
       "  'maxScansToExplodeReached': False,\n",
       "  'winningPlan': {'stage': 'COLLSCAN', 'direction': 'forward'},\n",
       "  'rejectedPlans': []},\n",
       " 'executionStats': {'executionSuccess': True,\n",
       "  'nReturned': 10,\n",
       "  'executionTimeMillis': 0,\n",
       "  'totalKeysExamined': 0,\n",
       "  'totalDocsExamined': 10,\n",
       "  'executionStages': {'stage': 'COLLSCAN',\n",
       "   'nReturned': 10,\n",
       "   'executionTimeMillisEstimate': 0,\n",
       "   'works': 12,\n",
       "   'advanced': 10,\n",
       "   'needTime': 1,\n",
       "   'needYield': 0,\n",
       "   'saveState': 0,\n",
       "   'restoreState': 0,\n",
       "   'isEOF': 1,\n",
       "   'direction': 'forward',\n",
       "   'docsExamined': 10},\n",
       "  'allPlansExecution': []},\n",
       " 'command': {'find': 'pessoas', 'filter': {}, '$db': 'techshot_mongo03'},\n",
       " 'serverInfo': {'host': '4d7a123a3888',\n",
       "  'port': 27017,\n",
       "  'version': '5.0.7',\n",
       "  'gitVersion': 'b977129dc70eed766cbee7e412d901ee213acbda'},\n",
       " 'serverParameters': {'internalQueryFacetBufferSizeBytes': 104857600,\n",
       "  'internalQueryFacetMaxOutputDocSizeBytes': 104857600,\n",
       "  'internalLookupStageIntermediateDocumentMaxSizeBytes': 104857600,\n",
       "  'internalDocumentSourceGroupMaxMemoryBytes': 104857600,\n",
       "  'internalQueryMaxBlockingSortMemoryUsageBytes': 104857600,\n",
       "  'internalQueryProhibitBlockingMergeOnMongoS': 0,\n",
       "  'internalQueryMaxAddToSetBytes': 104857600,\n",
       "  'internalDocumentSourceSetWindowFieldsMaxMemoryBytes': 104857600},\n",
       " 'ok': 1.0}"
      ]
     },
     "execution_count": 12,
     "metadata": {},
     "output_type": "execute_result"
    }
   ],
   "source": [
    "colecao_pessoa.find({}).explain()"
   ]
  },
  {
   "cell_type": "markdown",
   "id": "e47a74b9",
   "metadata": {},
   "source": [
    "#### Recuperando por algum outro atributo"
   ]
  },
  {
   "cell_type": "code",
   "execution_count": 13,
   "id": "a03f3dd5",
   "metadata": {},
   "outputs": [
    {
     "data": {
      "text/plain": [
       "34.2"
      ]
     },
     "execution_count": 13,
     "metadata": {},
     "output_type": "execute_result"
    }
   ],
   "source": [
    "df['idade'].mean()"
   ]
  },
  {
   "cell_type": "code",
   "execution_count": 14,
   "id": "0bd44fe0",
   "metadata": {},
   "outputs": [
    {
     "name": "stdout",
     "output_type": "stream",
     "text": [
      "{'idade': {'$gt': 34.2}}\n"
     ]
    }
   ],
   "source": [
    "\n",
    "criterio = {\n",
    "    'idade': {'$gt':df['idade'].mean()}\n",
    "}\n",
    "pp.pprint(criterio)\n"
   ]
  },
  {
   "cell_type": "code",
   "execution_count": 15,
   "id": "d10cf3c6",
   "metadata": {
    "scrolled": true
   },
   "outputs": [
    {
     "name": "stdout",
     "output_type": "stream",
     "text": [
      "{'_id': ObjectId('625ff31dbf0e1464748a84bb'),\n",
      " 'cpf': '807.542.369-00',\n",
      " 'data_nascimento': '1983-03-28',\n",
      " 'email': 'laura.melo@uol.com.br',\n",
      " 'endereco': {'bairro': 'Serrano',\n",
      "              'cep': '18245389',\n",
      "              'cidade': 'da Paz de da Paz',\n",
      "              'logradouro': 'Chácara de Moura',\n",
      "              'numero': '1',\n",
      "              'uf': 'Espírito Santo'},\n",
      " 'formacoes': ['Gestor ambiental', 'Recreador'],\n",
      " 'idade': 43,\n",
      " 'nome': 'Laura Melo',\n",
      " 'telefones': ['5571948844742', '5531989518820', '5551955298910']}\n"
     ]
    }
   ],
   "source": [
    "p = colecao_pessoa.find_one(criterio)\n",
    "pp.pprint(p)"
   ]
  },
  {
   "cell_type": "code",
   "execution_count": 16,
   "id": "174f6820",
   "metadata": {},
   "outputs": [
    {
     "name": "stdout",
     "output_type": "stream",
     "text": [
      "{'_id': ObjectId('625ff31dbf0e1464748a84bb'),\n",
      " 'cpf': '807.542.369-00',\n",
      " 'data_nascimento': '1983-03-28',\n",
      " 'email': 'laura.melo@uol.com.br',\n",
      " 'endereco': {'bairro': 'Serrano',\n",
      "              'cep': '18245389',\n",
      "              'cidade': 'da Paz de da Paz',\n",
      "              'logradouro': 'Chácara de Moura',\n",
      "              'numero': '1',\n",
      "              'uf': 'Espírito Santo'},\n",
      " 'formacoes': ['Gestor ambiental', 'Recreador'],\n",
      " 'idade': 43,\n",
      " 'nome': 'Laura Melo',\n",
      " 'telefones': ['5571948844742', '5531989518820', '5551955298910']}\n",
      "{'_id': ObjectId('625ff31dbf0e1464748a84bd'),\n",
      " 'cpf': '567.042.138-80',\n",
      " 'data_nascimento': '1996-12-22',\n",
      " 'email': 'pedro miguel.carvalho@gmail.com',\n",
      " 'endereco': {'bairro': 'Santa Amelia',\n",
      "              'cep': '07689825',\n",
      "              'cidade': 'Ferreira da Praia',\n",
      "              'logradouro': 'Feira Lucca Nogueira',\n",
      "              'numero': '53',\n",
      "              'uf': 'Paraná'},\n",
      " 'formacoes': ['Intérprete de Bíblias', 'Cartógrafo'],\n",
      " 'idade': 45,\n",
      " 'nome': 'Pedro Miguel Carvalho',\n",
      " 'telefones': ['5571989617889', '5541928387648', '5584917515712']}\n",
      "{'_id': ObjectId('625ff31dbf0e1464748a84c0'),\n",
      " 'cpf': '590.746.123-34',\n",
      " 'data_nascimento': '2020-03-20',\n",
      " 'email': 'luiz henrique.rocha@uol.com.br',\n",
      " 'endereco': {'bairro': 'São Gabriel',\n",
      "              'cep': '42353274',\n",
      "              'cidade': 'Dias',\n",
      "              'logradouro': 'Recanto de Araújo',\n",
      "              'numero': '37',\n",
      "              'uf': 'Maranhão'},\n",
      " 'formacoes': ['Sushiman'],\n",
      " 'idade': 37,\n",
      " 'nome': 'Luiz Henrique Rocha',\n",
      " 'telefones': ['5531980340936', '5571920739634']}\n",
      "{'_id': ObjectId('625ff31dbf0e1464748a84c2'),\n",
      " 'cpf': '830.629.714-87',\n",
      " 'data_nascimento': '2007-09-08',\n",
      " 'email': 'gustavo.farias@yahoo.com.br',\n",
      " 'endereco': {'bairro': 'Vila Bandeirantes',\n",
      "              'cep': '98892721',\n",
      "              'cidade': 'Moraes',\n",
      "              'logradouro': 'Lagoa Barros',\n",
      "              'numero': '4',\n",
      "              'uf': 'Rio Grande do Sul'},\n",
      " 'formacoes': ['Designer gráfico'],\n",
      " 'idade': 41,\n",
      " 'nome': 'Gustavo Farias',\n",
      " 'telefones': ['5521924430341', '5541957584099', '5541982813435']}\n"
     ]
    }
   ],
   "source": [
    "for p in colecao_pessoa.find(criterio):\n",
    "    pp.pprint(p)"
   ]
  },
  {
   "cell_type": "markdown",
   "id": "c451d823",
   "metadata": {},
   "source": [
    "#### Recuperando por algum outro atributo"
   ]
  },
  {
   "cell_type": "code",
   "execution_count": 17,
   "id": "bf9704de",
   "metadata": {},
   "outputs": [
    {
     "data": {
      "text/plain": [
       "'Dias'"
      ]
     },
     "execution_count": 17,
     "metadata": {},
     "output_type": "execute_result"
    }
   ],
   "source": [
    "df.loc[5, 'endereco']['cidade']"
   ]
  },
  {
   "cell_type": "code",
   "execution_count": 18,
   "id": "2ddcedb6",
   "metadata": {},
   "outputs": [
    {
     "name": "stdout",
     "output_type": "stream",
     "text": [
      "{'endereco.cidade': {'$eq': 'Dias'}}\n"
     ]
    }
   ],
   "source": [
    "criterio = {\n",
    "    'endereco.cidade': {'$eq':df.loc[5, 'endereco']['cidade']}\n",
    "}\n",
    "pp.pprint(criterio)\n"
   ]
  },
  {
   "cell_type": "code",
   "execution_count": 19,
   "id": "eaf2d1d2",
   "metadata": {
    "scrolled": true
   },
   "outputs": [
    {
     "name": "stdout",
     "output_type": "stream",
     "text": [
      "{'_id': ObjectId('625ff31dbf0e1464748a84c0'),\n",
      " 'cpf': '590.746.123-34',\n",
      " 'data_nascimento': '2020-03-20',\n",
      " 'email': 'luiz henrique.rocha@uol.com.br',\n",
      " 'endereco': {'bairro': 'São Gabriel',\n",
      "              'cep': '42353274',\n",
      "              'cidade': 'Dias',\n",
      "              'logradouro': 'Recanto de Araújo',\n",
      "              'numero': '37',\n",
      "              'uf': 'Maranhão'},\n",
      " 'formacoes': ['Sushiman'],\n",
      " 'idade': 37,\n",
      " 'nome': 'Luiz Henrique Rocha',\n",
      " 'telefones': ['5531980340936', '5571920739634']}\n"
     ]
    }
   ],
   "source": [
    "for p in colecao_pessoa.find(criterio):\n",
    "    pp.pprint(p)"
   ]
  },
  {
   "cell_type": "markdown",
   "id": "9d6caedd",
   "metadata": {},
   "source": [
    "## Atualizar o documento"
   ]
  },
  {
   "cell_type": "code",
   "execution_count": 20,
   "id": "b79e0919",
   "metadata": {},
   "outputs": [
    {
     "data": {
      "text/plain": [
       "'694.128.573-73'"
      ]
     },
     "execution_count": 20,
     "metadata": {},
     "output_type": "execute_result"
    }
   ],
   "source": [
    "df.loc[3, 'cpf']"
   ]
  },
  {
   "cell_type": "code",
   "execution_count": 21,
   "id": "23ddd3e8",
   "metadata": {},
   "outputs": [
    {
     "name": "stdout",
     "output_type": "stream",
     "text": [
      "{'$set': {'endereco.bairro': 'Pampulha'}}\n"
     ]
    }
   ],
   "source": [
    "criterio = {\n",
    "    \"cpf\":df.loc[3, 'cpf']}\n",
    "\n",
    "novo_valor = {\n",
    "    \"$set\": { \"endereco.bairro\": \"Pampulha\" }\n",
    "}\n",
    "pp.pprint(novo_valor)\n"
   ]
  },
  {
   "cell_type": "code",
   "execution_count": 22,
   "id": "d02f65eb",
   "metadata": {},
   "outputs": [
    {
     "data": {
      "text/plain": [
       "<pymongo.results.UpdateResult at 0x7ff8ec1e79d0>"
      ]
     },
     "execution_count": 22,
     "metadata": {},
     "output_type": "execute_result"
    }
   ],
   "source": [
    "r = colecao_pessoa.update_many(criterio, novo_valor)\n",
    "r"
   ]
  },
  {
   "cell_type": "code",
   "execution_count": 23,
   "id": "c64144e5",
   "metadata": {},
   "outputs": [
    {
     "data": {
      "text/plain": [
       "1"
      ]
     },
     "execution_count": 23,
     "metadata": {},
     "output_type": "execute_result"
    }
   ],
   "source": [
    "# ref.: https://pymongo.readthedocs.io/en/stable/api/pymongo/results.html\n",
    "r.matched_count"
   ]
  },
  {
   "cell_type": "code",
   "execution_count": 24,
   "id": "e565605f",
   "metadata": {},
   "outputs": [
    {
     "data": {
      "text/plain": [
       "1"
      ]
     },
     "execution_count": 24,
     "metadata": {},
     "output_type": "execute_result"
    }
   ],
   "source": [
    "r.modified_count"
   ]
  },
  {
   "cell_type": "code",
   "execution_count": 25,
   "id": "90fc8264",
   "metadata": {},
   "outputs": [
    {
     "data": {
      "text/plain": [
       "{'n': 1, 'nModified': 1, 'ok': 1.0, 'updatedExisting': True}"
      ]
     },
     "execution_count": 25,
     "metadata": {},
     "output_type": "execute_result"
    }
   ],
   "source": [
    "r.raw_result"
   ]
  },
  {
   "cell_type": "code",
   "execution_count": 26,
   "id": "af4ac478",
   "metadata": {},
   "outputs": [],
   "source": [
    "r.upserted_id"
   ]
  },
  {
   "cell_type": "code",
   "execution_count": 27,
   "id": "b74145a5",
   "metadata": {},
   "outputs": [
    {
     "name": "stdout",
     "output_type": "stream",
     "text": [
      "{'_id': ObjectId('625ff31dbf0e1464748a84be'),\n",
      " 'cpf': '694.128.573-73',\n",
      " 'data_nascimento': '1998-01-08',\n",
      " 'email': 'andré.carvalho@yahoo.com.br',\n",
      " 'endereco': {'bairro': 'Pampulha',\n",
      "              'cep': '26703-049',\n",
      "              'cidade': 'Lima do Norte',\n",
      "              'logradouro': 'Estação de da Luz',\n",
      "              'numero': '29',\n",
      "              'uf': 'Mato Grosso'},\n",
      " 'formacoes': ['Continuista', 'Lancheiro', 'Cabo'],\n",
      " 'idade': 33,\n",
      " 'nome': 'André Carvalho',\n",
      " 'telefones': ['5541922886192']}\n"
     ]
    }
   ],
   "source": [
    "p = colecao_pessoa.find_one(criterio)\n",
    "pp.pprint(p)"
   ]
  },
  {
   "cell_type": "markdown",
   "id": "a6f90c5d",
   "metadata": {},
   "source": [
    "## Remover todos os documentos"
   ]
  },
  {
   "cell_type": "code",
   "execution_count": 28,
   "id": "c0d991ca",
   "metadata": {},
   "outputs": [
    {
     "name": "stdout",
     "output_type": "stream",
     "text": [
      "{}\n"
     ]
    }
   ],
   "source": [
    "criterio = {}\n",
    "pp.pprint(criterio)"
   ]
  },
  {
   "cell_type": "code",
   "execution_count": 29,
   "id": "3392e777",
   "metadata": {},
   "outputs": [],
   "source": [
    "r = colecao_pessoa.delete_many(criterio)"
   ]
  },
  {
   "cell_type": "code",
   "execution_count": 30,
   "id": "af40a559",
   "metadata": {},
   "outputs": [
    {
     "data": {
      "text/plain": [
       "{'n': 10, 'ok': 1.0}"
      ]
     },
     "execution_count": 30,
     "metadata": {},
     "output_type": "execute_result"
    }
   ],
   "source": [
    "r.raw_result"
   ]
  },
  {
   "cell_type": "code",
   "execution_count": 31,
   "id": "9314832b",
   "metadata": {},
   "outputs": [
    {
     "name": "stdout",
     "output_type": "stream",
     "text": [
      "None\n"
     ]
    }
   ],
   "source": [
    "p = colecao_pessoa.find_one({})\n",
    "pp.pprint(p)"
   ]
  },
  {
   "cell_type": "code",
   "execution_count": null,
   "id": "ead155d5",
   "metadata": {},
   "outputs": [],
   "source": []
  }
 ],
 "metadata": {
  "kernelspec": {
   "display_name": "Python 3 (ipykernel)",
   "language": "python",
   "name": "python3"
  },
  "language_info": {
   "codemirror_mode": {
    "name": "ipython",
    "version": 3
   },
   "file_extension": ".py",
   "mimetype": "text/x-python",
   "name": "python",
   "nbconvert_exporter": "python",
   "pygments_lexer": "ipython3",
   "version": "3.9.7"
  }
 },
 "nbformat": 4,
 "nbformat_minor": 5
}
