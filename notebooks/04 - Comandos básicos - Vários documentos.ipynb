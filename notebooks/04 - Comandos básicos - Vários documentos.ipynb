{
 "cells": [
  {
   "cell_type": "markdown",
   "id": "d65f76bd",
   "metadata": {},
   "source": [
    "# Notebook responsável por apresentar os comandos básicos para manipulação de dados no mongo\n",
    "\n",
    "## Crud com apenas vários documentos:\n",
    "- Inserir vários documentos **compostos**\n",
    "- Recuperar vários documentos **compostos**\n",
    "- Atualizar vários documentos **compostos**\n",
    "- Excluir vários documentos **compostos**"
   ]
  },
  {
   "cell_type": "markdown",
   "id": "d7d2da3b",
   "metadata": {},
   "source": [
    "## Bibliotecas importantes"
   ]
  },
  {
   "cell_type": "code",
   "execution_count": null,
   "id": "f0fb9fd7",
   "metadata": {},
   "outputs": [],
   "source": [
    "from pymongo import MongoClient\n",
    "import pprint\n",
    "import numpy as np\n",
    "import pandas as pd\n",
    "\n",
    "# para geração de dados fake\n",
    "from faker import Faker\n"
   ]
  },
  {
   "cell_type": "markdown",
   "id": "4dfe91a8",
   "metadata": {},
   "source": [
    "## Funções uteis"
   ]
  },
  {
   "cell_type": "code",
   "execution_count": null,
   "id": "ea741f12",
   "metadata": {},
   "outputs": [],
   "source": [
    "def criar_endereco():\n",
    "    return {\n",
    "        'logradouro':fake.street_name(),\n",
    "        'numero':fake.building_number(),\n",
    "        'bairro':fake.bairro(),\n",
    "        'cidade':fake.city(),\n",
    "        'uf':fake.administrative_unit(),\n",
    "        'cep':fake.postcode(),\n",
    "    }"
   ]
  },
  {
   "cell_type": "code",
   "execution_count": null,
   "id": "cedde46c",
   "metadata": {},
   "outputs": [],
   "source": [
    "def criar_pessoa():\n",
    "    primeiro_nome = fake.first_name()\n",
    "    ultimo_nome = fake.last_name()\n",
    "    \n",
    "    idade = np.random.randint(18, 50)\n",
    "    \n",
    "    pessoa = {\n",
    "        'cpf': fake.cpf(),\n",
    "        'nome': f'{primeiro_nome} {ultimo_nome}' ,\n",
    "        'idade': idade ,\n",
    "        'data_nascimento':fake.date()\n",
    "    }        \n",
    "    pessoa['email']= f'{primeiro_nome.lower()}.{ultimo_nome.lower()}@{fake.free_email_domain()}'\n",
    "    \n",
    "    pessoa['endereco'] = criar_endereco()\n",
    "\n",
    "    pessoa['telefones'] = []\n",
    "    n = np.random.randint(1, 4)\n",
    "    for i in range(n):\n",
    "        pessoa['telefones'].append(fake.msisdn())\n",
    "\n",
    "    pessoa['formacoes'] = []\n",
    "    n = np.random.randint(1, 4)\n",
    "    for i in range(n):\n",
    "        pessoa['formacoes'].append(fake.job())\n",
    "        \n",
    "        \n",
    "    return pessoa"
   ]
  },
  {
   "cell_type": "markdown",
   "id": "648352cd",
   "metadata": {},
   "source": [
    "## Configurações"
   ]
  },
  {
   "cell_type": "code",
   "execution_count": null,
   "id": "332b9e9b",
   "metadata": {},
   "outputs": [],
   "source": [
    "pp = pprint.PrettyPrinter(compact=True)\n",
    "# gerando dados fictícios em português do Brasil\n",
    "fake = Faker(['pt_BR'])"
   ]
  },
  {
   "cell_type": "markdown",
   "id": "55a2771b",
   "metadata": {},
   "source": [
    "## Inserção de vários documentos"
   ]
  },
  {
   "cell_type": "markdown",
   "id": "9d0204f1",
   "metadata": {},
   "source": [
    "### Conectando ao MongoDB"
   ]
  },
  {
   "cell_type": "code",
   "execution_count": null,
   "id": "fc8b60e3",
   "metadata": {},
   "outputs": [],
   "source": [
    "client = MongoClient('localhost', 27017)\n",
    "# Se a base de dados não existir, ela é criada automagicamente :-)\n",
    "db = client['techshot_mongo03']"
   ]
  },
  {
   "cell_type": "markdown",
   "id": "7b551e88",
   "metadata": {},
   "source": [
    "### Exemplo - Criação de vários documentos compostos"
   ]
  },
  {
   "cell_type": "code",
   "execution_count": null,
   "id": "5450a862",
   "metadata": {
    "scrolled": false
   },
   "outputs": [],
   "source": [
    "lista_pessoas = []\n",
    "\n",
    "for i in range(10):\n",
    "    lista_pessoas.append(criar_pessoa())\n",
    "    \n",
    "pp.pprint(lista_pessoas)"
   ]
  },
  {
   "cell_type": "code",
   "execution_count": null,
   "id": "9d4a2f6a",
   "metadata": {},
   "outputs": [],
   "source": [
    "df = pd.DataFrame.from_records(lista_pessoas)\n",
    "df"
   ]
  },
  {
   "cell_type": "code",
   "execution_count": null,
   "id": "852b76e7",
   "metadata": {},
   "outputs": [],
   "source": [
    "df.info()"
   ]
  },
  {
   "cell_type": "markdown",
   "id": "e22f2eab",
   "metadata": {},
   "source": [
    "### Inserindo os documentos no banco de dados"
   ]
  },
  {
   "cell_type": "code",
   "execution_count": null,
   "id": "2c048809",
   "metadata": {
    "scrolled": false
   },
   "outputs": [],
   "source": [
    "# se a coleção não existir, ela é criada automagicamente :-)\n",
    "colecao_pessoa = db['pessoas']\n",
    "pessoa_ids = colecao_pessoa.insert_many(lista_pessoas).inserted_ids\n",
    "pessoa_ids"
   ]
  },
  {
   "cell_type": "markdown",
   "id": "eb1e708f",
   "metadata": {},
   "source": [
    "## Recuperando os documentos inseridos"
   ]
  },
  {
   "cell_type": "markdown",
   "id": "4d3c61ec",
   "metadata": {},
   "source": [
    "#### Recuperar todos"
   ]
  },
  {
   "cell_type": "code",
   "execution_count": null,
   "id": "36d993f5",
   "metadata": {
    "scrolled": false
   },
   "outputs": [],
   "source": [
    "for p in colecao_pessoa.find({}):\n",
    "    pp.pprint(p)"
   ]
  },
  {
   "cell_type": "code",
   "execution_count": null,
   "id": "a79ba799",
   "metadata": {},
   "outputs": [],
   "source": [
    "type(colecao_pessoa.find({}))"
   ]
  },
  {
   "cell_type": "code",
   "execution_count": null,
   "id": "d520b6c1",
   "metadata": {},
   "outputs": [],
   "source": [
    "colecao_pessoa.find({}).explain()"
   ]
  },
  {
   "cell_type": "markdown",
   "id": "e47a74b9",
   "metadata": {},
   "source": [
    "#### Recuperando por algum outro atributo"
   ]
  },
  {
   "cell_type": "code",
   "execution_count": null,
   "id": "a03f3dd5",
   "metadata": {},
   "outputs": [],
   "source": [
    "df['idade'].mean()"
   ]
  },
  {
   "cell_type": "code",
   "execution_count": null,
   "id": "0bd44fe0",
   "metadata": {},
   "outputs": [],
   "source": [
    "\n",
    "criterio = {\n",
    "    'idade': {'$gt':df['idade'].mean()}\n",
    "}\n",
    "pp.pprint(criterio)\n"
   ]
  },
  {
   "cell_type": "code",
   "execution_count": null,
   "id": "d10cf3c6",
   "metadata": {
    "scrolled": true
   },
   "outputs": [],
   "source": [
    "p = colecao_pessoa.find_one(criterio)\n",
    "pp.pprint(p)"
   ]
  },
  {
   "cell_type": "code",
   "execution_count": null,
   "id": "174f6820",
   "metadata": {},
   "outputs": [],
   "source": [
    "for p in colecao_pessoa.find(criterio):\n",
    "    pp.pprint(p)"
   ]
  },
  {
   "cell_type": "markdown",
   "id": "c451d823",
   "metadata": {},
   "source": [
    "#### Recuperando por algum outro atributo"
   ]
  },
  {
   "cell_type": "code",
   "execution_count": null,
   "id": "bf9704de",
   "metadata": {},
   "outputs": [],
   "source": [
    "df.loc[5, 'endereco']['cidade']"
   ]
  },
  {
   "cell_type": "code",
   "execution_count": null,
   "id": "2ddcedb6",
   "metadata": {},
   "outputs": [],
   "source": [
    "criterio = {\n",
    "    'endereco.cidade': {'$eq':df.loc[5, 'endereco']['cidade']}\n",
    "}\n",
    "pp.pprint(criterio)\n"
   ]
  },
  {
   "cell_type": "code",
   "execution_count": null,
   "id": "eaf2d1d2",
   "metadata": {
    "scrolled": true
   },
   "outputs": [],
   "source": [
    "for p in colecao_pessoa.find(criterio):\n",
    "    pp.pprint(p)"
   ]
  },
  {
   "cell_type": "markdown",
   "id": "9d6caedd",
   "metadata": {},
   "source": [
    "## Atualizar o documento"
   ]
  },
  {
   "cell_type": "code",
   "execution_count": null,
   "id": "b79e0919",
   "metadata": {},
   "outputs": [],
   "source": [
    "df.loc[3, 'cpf']"
   ]
  },
  {
   "cell_type": "code",
   "execution_count": null,
   "id": "23ddd3e8",
   "metadata": {},
   "outputs": [],
   "source": [
    "criterio = {\n",
    "    \"cpf\":df.loc[3, 'cpf']}\n",
    "\n",
    "novo_valor = {\n",
    "    \"$set\": { \"endereco.bairro\": \"Pampulha\" }\n",
    "}\n",
    "pp.pprint(novo_valor)\n"
   ]
  },
  {
   "cell_type": "code",
   "execution_count": null,
   "id": "d02f65eb",
   "metadata": {},
   "outputs": [],
   "source": [
    "r = colecao_pessoa.update_many(criterio, novo_valor)\n",
    "r"
   ]
  },
  {
   "cell_type": "code",
   "execution_count": null,
   "id": "c64144e5",
   "metadata": {},
   "outputs": [],
   "source": [
    "# ref.: https://pymongo.readthedocs.io/en/stable/api/pymongo/results.html\n",
    "r.matched_count"
   ]
  },
  {
   "cell_type": "code",
   "execution_count": null,
   "id": "e565605f",
   "metadata": {},
   "outputs": [],
   "source": [
    "r.modified_count"
   ]
  },
  {
   "cell_type": "code",
   "execution_count": null,
   "id": "90fc8264",
   "metadata": {},
   "outputs": [],
   "source": [
    "r.raw_result"
   ]
  },
  {
   "cell_type": "code",
   "execution_count": null,
   "id": "af4ac478",
   "metadata": {},
   "outputs": [],
   "source": [
    "r.upserted_id"
   ]
  },
  {
   "cell_type": "code",
   "execution_count": null,
   "id": "b74145a5",
   "metadata": {},
   "outputs": [],
   "source": [
    "p = colecao_pessoa.find_one(criterio)\n",
    "pp.pprint(p)"
   ]
  },
  {
   "cell_type": "markdown",
   "id": "a6f90c5d",
   "metadata": {},
   "source": [
    "## Remover todos os documentos"
   ]
  },
  {
   "cell_type": "code",
   "execution_count": null,
   "id": "c0d991ca",
   "metadata": {},
   "outputs": [],
   "source": [
    "criterio = {}\n",
    "pp.pprint(criterio)"
   ]
  },
  {
   "cell_type": "code",
   "execution_count": null,
   "id": "3392e777",
   "metadata": {},
   "outputs": [],
   "source": [
    "r = colecao_pessoa.delete_many(criterio)"
   ]
  },
  {
   "cell_type": "code",
   "execution_count": null,
   "id": "af40a559",
   "metadata": {},
   "outputs": [],
   "source": [
    "r.raw_result"
   ]
  },
  {
   "cell_type": "code",
   "execution_count": null,
   "id": "9314832b",
   "metadata": {},
   "outputs": [],
   "source": [
    "p = colecao_pessoa.find_one({})\n",
    "pp.pprint(p)"
   ]
  },
  {
   "cell_type": "code",
   "execution_count": null,
   "id": "ead155d5",
   "metadata": {},
   "outputs": [],
   "source": []
  }
 ],
 "metadata": {
  "kernelspec": {
   "display_name": "Python 3 (ipykernel)",
   "language": "python",
   "name": "python3"
  },
  "language_info": {
   "codemirror_mode": {
    "name": "ipython",
    "version": 3
   },
   "file_extension": ".py",
   "mimetype": "text/x-python",
   "name": "python",
   "nbconvert_exporter": "python",
   "pygments_lexer": "ipython3",
   "version": "3.9.7"
  }
 },
 "nbformat": 4,
 "nbformat_minor": 5
}
