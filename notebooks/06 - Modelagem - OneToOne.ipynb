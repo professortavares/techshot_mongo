{
 "cells": [
  {
   "cell_type": "markdown",
   "id": "d65f76bd",
   "metadata": {},
   "source": [
    "# Notebook responsável por alguns aspectos de modelagem OneToOne / OneToFew Linking (usando MongoEngine)"
   ]
  },
  {
   "cell_type": "markdown",
   "id": "d7d2da3b",
   "metadata": {},
   "source": [
    "## Bibliotecas importantes"
   ]
  },
  {
   "cell_type": "code",
   "execution_count": 1,
   "id": "f0fb9fd7",
   "metadata": {},
   "outputs": [],
   "source": [
    "from mongoengine import *\n",
    "import pprint\n",
    "import numpy as np\n",
    "import pandas as pd\n",
    "import unidecode\n",
    "\n",
    "# para geração de dados fake\n",
    "from faker import Faker\n"
   ]
  },
  {
   "cell_type": "markdown",
   "id": "3a233703",
   "metadata": {},
   "source": [
    "## Classes úteis"
   ]
  },
  {
   "cell_type": "code",
   "execution_count": 2,
   "id": "0b71aa64",
   "metadata": {},
   "outputs": [],
   "source": [
    "class Endereco (Document):\n",
    "    logradouro = StringField(max_length=200, required=True)\n",
    "    numero = StringField(max_length=10, required=True)\n",
    "    bairro = StringField(max_length=50, required=True)\n",
    "    cidade = StringField(max_length=200, required=True)\n",
    "    uf = StringField(max_length=50, required=True)\n",
    "    cep = StringField(max_length=10, required=True)\n",
    "    \n",
    "    def __str__(self):\n",
    "        return f\"{self.logradouro}, {self.numero}\"\n",
    "    \n",
    "    \n",
    "class Pessoa (Document):\n",
    "    cpf = StringField(max_length=20, required=True)\n",
    "    primeiro_nome = StringField(max_length=200, required=True)\n",
    "    ultimo_nome = StringField(max_length=400, required=True)\n",
    "    idade = IntField(min_value=0, max_value=120, required=True)\n",
    "    data_nascimento = StringField(max_length=20, required=True)\n",
    "    email = EmailField(max_length=50)\n",
    "    telefones = ListField(StringField(max_length=50), max_length=4)\n",
    "    formacoes = ListField(StringField(max_length=50), max_length=4)\n",
    "    \n",
    "    # Referência (linking) para um objeto da classe pessoa\n",
    "    # ref.:https://mongoengine-odm.readthedocs.io/apireference.html#documents\n",
    "    #endereco = ReferenceField(Endereco, reverse_delete_rule=DENY)\n",
    "    endereco = ReferenceField(Endereco, reverse_delete_rule=DENY)\n",
    "    \n",
    "    def __str__(self):\n",
    "        return f\"{self.pk}, {self.cpf}, {self.primeiro_nome}, Endereço: {self.endereco}\"\n"
   ]
  },
  {
   "cell_type": "markdown",
   "id": "4dfe91a8",
   "metadata": {},
   "source": [
    "## Funções uteis"
   ]
  },
  {
   "cell_type": "code",
   "execution_count": 3,
   "id": "ea741f12",
   "metadata": {},
   "outputs": [],
   "source": [
    "def criar_endereco():\n",
    "    \n",
    "    logradouro = fake.street_name()\n",
    "    numero = fake.building_number()\n",
    "    bairro = fake.bairro()\n",
    "    cidade = fake.city()\n",
    "    uf = fake.administrative_unit()\n",
    "    cep = fake.postcode()\n",
    "\n",
    "    endereco = Endereco(logradouro=logradouro, numero=numero, bairro=bairro, cidade=cidade, uf=uf, cep=cep)\n",
    "    return endereco"
   ]
  },
  {
   "cell_type": "code",
   "execution_count": 4,
   "id": "cedde46c",
   "metadata": {},
   "outputs": [],
   "source": [
    "def criar_pessoa():\n",
    "    \n",
    "    cpf = fake.cpf()\n",
    "    primeiro_nome = fake.first_name()\n",
    "    ultimo_nome = fake.last_name()\n",
    "    idade = np.random.randint(18, 50)\n",
    "    data_nascimento = fake.date()\n",
    "    email = f'{cpf}@{fake.free_email_domain()}'\n",
    "    \n",
    "    # criando os telefones\n",
    "    telefones = []\n",
    "    n = np.random.randint(1, 4)\n",
    "    for i in range(n):\n",
    "        telefones.append(fake.msisdn())\n",
    "    \n",
    "    # criando as formações\n",
    "    formacoes = []\n",
    "    n = np.random.randint(1, 4)\n",
    "    for i in range(n):\n",
    "        formacoes.append(fake.job())\n",
    "    \n",
    "    endereco = criar_endereco()\n",
    "    \n",
    "    pessoa = Pessoa(cpf=cpf, primeiro_nome=primeiro_nome, \n",
    "                    ultimo_nome=ultimo_nome, idade=idade, \n",
    "                    data_nascimento=data_nascimento, \n",
    "                    email=email, telefones=telefones, \n",
    "                    formacoes=formacoes, endereco=endereco)\n",
    "    return pessoa"
   ]
  },
  {
   "cell_type": "markdown",
   "id": "648352cd",
   "metadata": {},
   "source": [
    "## Configurações"
   ]
  },
  {
   "cell_type": "code",
   "execution_count": 5,
   "id": "332b9e9b",
   "metadata": {},
   "outputs": [],
   "source": [
    "pp = pprint.PrettyPrinter(compact=True)\n",
    "# gerando dados fictícios em português do Brasil\n",
    "fake = Faker(['pt_BR'])"
   ]
  },
  {
   "cell_type": "markdown",
   "id": "55a2771b",
   "metadata": {},
   "source": [
    "## Inserção de vários documentos"
   ]
  },
  {
   "cell_type": "markdown",
   "id": "9d0204f1",
   "metadata": {},
   "source": [
    "### Conectando ao MongoDB"
   ]
  },
  {
   "cell_type": "code",
   "execution_count": 6,
   "id": "fc8b60e3",
   "metadata": {},
   "outputs": [
    {
     "data": {
      "text/plain": [
       "MongoClient(host=['localhost:27017'], document_class=dict, tz_aware=False, connect=True, read_preference=Primary(), uuidrepresentation=3)"
      ]
     },
     "execution_count": 6,
     "metadata": {},
     "output_type": "execute_result"
    }
   ],
   "source": [
    "connect('onetoone_linking')"
   ]
  },
  {
   "cell_type": "markdown",
   "id": "7b551e88",
   "metadata": {},
   "source": [
    "### Exemplo - Criação de vários documentos compostos"
   ]
  },
  {
   "cell_type": "code",
   "execution_count": 7,
   "id": "5450a862",
   "metadata": {},
   "outputs": [
    {
     "name": "stdout",
     "output_type": "stream",
     "text": [
      "[<Pessoa: None, 456.203.198-06, Lívia, Endereço: Viela Ana Aragão, 6>,\n",
      " <Pessoa: None, 032.658.491-98, Yuri, Endereço: Condomínio de Viana, 94>,\n",
      " <Pessoa: None, 428.530.179-23, Nathan, Endereço: Ladeira Ana Luiza Melo, 60>,\n",
      " <Pessoa: None, 583.492.760-29, Otávio, Endereço: Favela de da Costa, 4>,\n",
      " <Pessoa: None, 703.269.148-03, Enzo, Endereço: Viaduto Martins, 72>,\n",
      " <Pessoa: None, 341.286.059-05, Benjamin, Endereço: Fazenda de Souza, 47>,\n",
      " <Pessoa: None, 730.469.815-20, Clarice, Endereço: Estrada da Cruz, 8>,\n",
      " <Pessoa: None, 930.651.248-15, Davi Lucas, Endereço: Via de Costa, 38>,\n",
      " <Pessoa: None, 451.793.086-66, Danilo, Endereço: Condomínio Mendes, 26>,\n",
      " <Pessoa: None, 582.907.346-38, Vicente, Endereço: Trecho Gabriel Barros, 38>]\n"
     ]
    }
   ],
   "source": [
    "lista_pessoas = []\n",
    "\n",
    "for i in range(10):\n",
    "    lista_pessoas.append(criar_pessoa())\n",
    "    \n",
    "pp.pprint(lista_pessoas)"
   ]
  },
  {
   "cell_type": "code",
   "execution_count": 8,
   "id": "7036ac60-5979-4445-a5fd-54bf39925482",
   "metadata": {},
   "outputs": [
    {
     "name": "stdout",
     "output_type": "stream",
     "text": [
      "None\n"
     ]
    }
   ],
   "source": [
    "pp.pprint(lista_pessoas[0].pk)"
   ]
  },
  {
   "cell_type": "markdown",
   "id": "e22f2eab",
   "metadata": {},
   "source": [
    "### Inserindo os documentos no banco de dados"
   ]
  },
  {
   "cell_type": "code",
   "execution_count": 9,
   "id": "2c048809",
   "metadata": {},
   "outputs": [
    {
     "data": {
      "text/plain": [
       "<Pessoa: 625f4c518aa345c91185abea, 456.203.198-06, Lívia, Endereço: Viela Ana Aragão, 6>"
      ]
     },
     "execution_count": 9,
     "metadata": {},
     "output_type": "execute_result"
    }
   ],
   "source": [
    "# inserindo 1 documento apenas\n",
    "lista_pessoas[0].cascade_save()\n",
    "lista_pessoas[0].save()"
   ]
  },
  {
   "cell_type": "code",
   "execution_count": 10,
   "id": "b2cce9fd",
   "metadata": {},
   "outputs": [
    {
     "name": "stdout",
     "output_type": "stream",
     "text": [
      "ObjectId('625f4c518aa345c91185abea')\n"
     ]
    }
   ],
   "source": [
    "pp.pprint(lista_pessoas[0].pk)"
   ]
  },
  {
   "cell_type": "code",
   "execution_count": 11,
   "id": "926c6d54",
   "metadata": {},
   "outputs": [
    {
     "name": "stdout",
     "output_type": "stream",
     "text": [
      "ObjectId('625f4c518aa345c91185abe9')\n"
     ]
    }
   ],
   "source": [
    "pp.pprint(lista_pessoas[0].endereco.pk)"
   ]
  },
  {
   "cell_type": "code",
   "execution_count": 12,
   "id": "8e269e5c-3aae-4180-84c6-f0d89d8a8dd7",
   "metadata": {},
   "outputs": [],
   "source": [
    "# inserindo todos os outros documentos\n",
    "for p in lista_pessoas[1:]:\n",
    "    p.cascade_save()\n",
    "    p.save()"
   ]
  },
  {
   "cell_type": "markdown",
   "id": "eb1e708f",
   "metadata": {},
   "source": [
    "## Recuperando os documentos inseridos"
   ]
  },
  {
   "cell_type": "markdown",
   "id": "4d3c61ec",
   "metadata": {},
   "source": [
    "#### Recuperar todos"
   ]
  },
  {
   "cell_type": "code",
   "execution_count": 13,
   "id": "36d993f5",
   "metadata": {},
   "outputs": [
    {
     "name": "stdout",
     "output_type": "stream",
     "text": [
      "ObjectId('625f4c518aa345c91185abea')\n",
      "ObjectId('625f4c528aa345c91185abec')\n",
      "ObjectId('625f4c528aa345c91185abee')\n",
      "ObjectId('625f4c528aa345c91185abf0')\n",
      "ObjectId('625f4c528aa345c91185abf2')\n",
      "ObjectId('625f4c528aa345c91185abf4')\n",
      "ObjectId('625f4c528aa345c91185abf6')\n",
      "ObjectId('625f4c528aa345c91185abf8')\n",
      "ObjectId('625f4c528aa345c91185abfa')\n",
      "ObjectId('625f4c528aa345c91185abfc')\n"
     ]
    }
   ],
   "source": [
    "for p in Pessoa.objects:\n",
    "    pp.pprint(p.id)"
   ]
  },
  {
   "cell_type": "code",
   "execution_count": 17,
   "id": "ead155d5",
   "metadata": {},
   "outputs": [
    {
     "name": "stdout",
     "output_type": "stream",
     "text": [
      "<Pessoa: 625f4c518aa345c91185abea, 456.203.198-06, Lívia, Endereço: Viela Ana Aragão, 6>\n"
     ]
    }
   ],
   "source": [
    "pessoa = Pessoa.objects.first()\n",
    "pp.pprint(pessoa)"
   ]
  },
  {
   "cell_type": "code",
   "execution_count": 18,
   "id": "0eb9c593",
   "metadata": {},
   "outputs": [
    {
     "name": "stdout",
     "output_type": "stream",
     "text": [
      "ObjectId('625f4c518aa345c91185abe9')\n"
     ]
    }
   ],
   "source": [
    "pp.pprint(pessoa.endereco.pk)"
   ]
  },
  {
   "cell_type": "code",
   "execution_count": 19,
   "id": "99ba5229",
   "metadata": {},
   "outputs": [
    {
     "ename": "OperationError",
     "evalue": "Could not delete document (Pessoa.endereco refers to it)",
     "output_type": "error",
     "traceback": [
      "\u001b[0;31m---------------------------------------------------------------------------\u001b[0m",
      "\u001b[0;31mOperationError\u001b[0m                            Traceback (most recent call last)",
      "Input \u001b[0;32mIn [19]\u001b[0m, in \u001b[0;36m<cell line: 2>\u001b[0;34m()\u001b[0m\n\u001b[1;32m      1\u001b[0m endereco \u001b[38;5;241m=\u001b[39m Endereco\u001b[38;5;241m.\u001b[39mobjects(\u001b[38;5;28mid\u001b[39m\u001b[38;5;241m=\u001b[39m\u001b[38;5;124m'\u001b[39m\u001b[38;5;124m625f4c518aa345c91185abe9\u001b[39m\u001b[38;5;124m'\u001b[39m)\u001b[38;5;241m.\u001b[39mfirst()\n\u001b[0;32m----> 2\u001b[0m \u001b[43mendereco\u001b[49m\u001b[38;5;241;43m.\u001b[39;49m\u001b[43mdelete\u001b[49m\u001b[43m(\u001b[49m\u001b[43m)\u001b[49m\n",
      "File \u001b[0;32m~/Documentos/GitHub/techshot_mongo/techshot_mongo/lib/python3.9/site-packages/mongoengine/document.py:653\u001b[0m, in \u001b[0;36mDocument.delete\u001b[0;34m(self, signal_kwargs, **write_concern)\u001b[0m\n\u001b[1;32m    650\u001b[0m         \u001b[38;5;28mgetattr\u001b[39m(\u001b[38;5;28mself\u001b[39m, name)\u001b[38;5;241m.\u001b[39mdelete()\n\u001b[1;32m    652\u001b[0m \u001b[38;5;28;01mtry\u001b[39;00m:\n\u001b[0;32m--> 653\u001b[0m     \u001b[38;5;28;43mself\u001b[39;49m\u001b[38;5;241;43m.\u001b[39;49m\u001b[43m_qs\u001b[49m\u001b[38;5;241;43m.\u001b[39;49m\u001b[43mfilter\u001b[49m\u001b[43m(\u001b[49m\u001b[38;5;241;43m*\u001b[39;49m\u001b[38;5;241;43m*\u001b[39;49m\u001b[38;5;28;43mself\u001b[39;49m\u001b[38;5;241;43m.\u001b[39;49m\u001b[43m_object_key\u001b[49m\u001b[43m)\u001b[49m\u001b[38;5;241;43m.\u001b[39;49m\u001b[43mdelete\u001b[49m\u001b[43m(\u001b[49m\n\u001b[1;32m    654\u001b[0m \u001b[43m        \u001b[49m\u001b[43mwrite_concern\u001b[49m\u001b[38;5;241;43m=\u001b[39;49m\u001b[43mwrite_concern\u001b[49m\u001b[43m,\u001b[49m\u001b[43m \u001b[49m\u001b[43m_from_doc_delete\u001b[49m\u001b[38;5;241;43m=\u001b[39;49m\u001b[38;5;28;43;01mTrue\u001b[39;49;00m\n\u001b[1;32m    655\u001b[0m \u001b[43m    \u001b[49m\u001b[43m)\u001b[49m\n\u001b[1;32m    656\u001b[0m \u001b[38;5;28;01mexcept\u001b[39;00m pymongo\u001b[38;5;241m.\u001b[39merrors\u001b[38;5;241m.\u001b[39mOperationFailure \u001b[38;5;28;01mas\u001b[39;00m err:\n\u001b[1;32m    657\u001b[0m     message \u001b[38;5;241m=\u001b[39m \u001b[38;5;124m\"\u001b[39m\u001b[38;5;124mCould not delete document (\u001b[39m\u001b[38;5;132;01m%s\u001b[39;00m\u001b[38;5;124m)\u001b[39m\u001b[38;5;124m\"\u001b[39m \u001b[38;5;241m%\u001b[39m err\u001b[38;5;241m.\u001b[39margs\n",
      "File \u001b[0;32m~/Documentos/GitHub/techshot_mongo/techshot_mongo/lib/python3.9/site-packages/mongoengine/queryset/base.py:483\u001b[0m, in \u001b[0;36mBaseQuerySet.delete\u001b[0;34m(self, write_concern, _from_doc_delete, cascade_refs)\u001b[0m\n\u001b[1;32m    481\u001b[0m         refs \u001b[38;5;241m=\u001b[39m document_cls\u001b[38;5;241m.\u001b[39mobjects(\u001b[38;5;241m*\u001b[39m\u001b[38;5;241m*\u001b[39m{field_name \u001b[38;5;241m+\u001b[39m \u001b[38;5;124m\"\u001b[39m\u001b[38;5;124m__in\u001b[39m\u001b[38;5;124m\"\u001b[39m: \u001b[38;5;28mself\u001b[39m})\n\u001b[1;32m    482\u001b[0m         \u001b[38;5;28;01mif\u001b[39;00m refs\u001b[38;5;241m.\u001b[39mlimit(\u001b[38;5;241m1\u001b[39m)\u001b[38;5;241m.\u001b[39mcount() \u001b[38;5;241m>\u001b[39m \u001b[38;5;241m0\u001b[39m:\n\u001b[0;32m--> 483\u001b[0m             \u001b[38;5;28;01mraise\u001b[39;00m OperationError(\n\u001b[1;32m    484\u001b[0m                 \u001b[38;5;124m\"\u001b[39m\u001b[38;5;124mCould not delete document (\u001b[39m\u001b[38;5;132;01m%s\u001b[39;00m\u001b[38;5;124m.\u001b[39m\u001b[38;5;132;01m%s\u001b[39;00m\u001b[38;5;124m refers to it)\u001b[39m\u001b[38;5;124m\"\u001b[39m\n\u001b[1;32m    485\u001b[0m                 \u001b[38;5;241m%\u001b[39m (document_cls\u001b[38;5;241m.\u001b[39m\u001b[38;5;18m__name__\u001b[39m, field_name)\n\u001b[1;32m    486\u001b[0m             )\n\u001b[1;32m    488\u001b[0m \u001b[38;5;66;03m# Check all the other rules\u001b[39;00m\n\u001b[1;32m    489\u001b[0m \u001b[38;5;28;01mfor\u001b[39;00m rule_entry, rule \u001b[38;5;129;01min\u001b[39;00m delete_rules:\n",
      "\u001b[0;31mOperationError\u001b[0m: Could not delete document (Pessoa.endereco refers to it)"
     ]
    }
   ],
   "source": [
    "endereco = Endereco.objects(id='625f4c518aa345c91185abe9').first()\n",
    "endereco.delete()"
   ]
  },
  {
   "cell_type": "code",
   "execution_count": null,
   "id": "87cee784",
   "metadata": {},
   "outputs": [],
   "source": [
    "Pessoa.objects(id='625f48b63a1f265e4af5816b')"
   ]
  }
 ],
 "metadata": {
  "kernelspec": {
   "display_name": "Python 3 (ipykernel)",
   "language": "python",
   "name": "python3"
  },
  "language_info": {
   "codemirror_mode": {
    "name": "ipython",
    "version": 3
   },
   "file_extension": ".py",
   "mimetype": "text/x-python",
   "name": "python",
   "nbconvert_exporter": "python",
   "pygments_lexer": "ipython3",
   "version": "3.9.7"
  }
 },
 "nbformat": 4,
 "nbformat_minor": 5
}
