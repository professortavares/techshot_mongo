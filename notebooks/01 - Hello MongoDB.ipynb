{
 "cells": [
  {
   "cell_type": "markdown",
   "id": "ea87a2c6-1d29-48ab-815a-dffb5468fa17",
   "metadata": {},
   "source": [
    "# Código responsável por mostrar um Hello World em mongo!\n",
    "\n",
    "\n",
    "ref.: https://pymongo.readthedocs.io/en/stable/"
   ]
  },
  {
   "cell_type": "markdown",
   "id": "ad2b53c4-7aa2-4f4c-85cf-fe7931477a59",
   "metadata": {},
   "source": [
    "## Bibliotecas importantes"
   ]
  },
  {
   "cell_type": "code",
   "execution_count": null,
   "id": "35684a7d-313e-495a-940a-317cebcc029d",
   "metadata": {},
   "outputs": [],
   "source": [
    "from pymongo import MongoClient\n",
    "import pprint\n",
    "\n",
    "pp = pprint.PrettyPrinter(compact=True)"
   ]
  },
  {
   "cell_type": "markdown",
   "id": "9dde43ea-005e-4520-b907-7489e5a7965f",
   "metadata": {},
   "source": [
    "### Criando a conexão com o Mongo"
   ]
  },
  {
   "cell_type": "markdown",
   "id": "a427b506-4dc2-4899-8330-799ccfdf94b2",
   "metadata": {},
   "source": [
    "As duas formas abaixo são equivalentes:\n",
    "\n",
    "```python\n",
    "client = MongoClient('localhost', 27017)\n",
    "```\n",
    "\n",
    "ou\n",
    "\n",
    "```python\n",
    "client = MongoClient('mongodb://localhost:27017/')\n",
    "```\n"
   ]
  },
  {
   "cell_type": "code",
   "execution_count": null,
   "id": "60d2a0d6-255b-475c-971a-7cbf70d2edfb",
   "metadata": {},
   "outputs": [],
   "source": [
    "client = MongoClient('localhost', 27017)\n",
    "client"
   ]
  },
  {
   "cell_type": "markdown",
   "id": "528004bf",
   "metadata": {},
   "source": [
    "### Lista as databases disponíveis"
   ]
  },
  {
   "cell_type": "code",
   "execution_count": null,
   "id": "2d80c52c",
   "metadata": {},
   "outputs": [],
   "source": [
    "client.list_database_names()"
   ]
  },
  {
   "cell_type": "markdown",
   "id": "2e1ff828-489d-49cd-a0db-27c2a7c995df",
   "metadata": {},
   "source": [
    "### Selecionado a base de dados (database)"
   ]
  },
  {
   "cell_type": "markdown",
   "id": "6dbb84d3",
   "metadata": {},
   "source": [
    "As duas formas abaixo são equivalentes:\n",
    "\n",
    "```python\n",
    "db = client.local\n",
    "```\n",
    "\n",
    "ou\n",
    "\n",
    "```python\n",
    "db = client['local']\n",
    "```\n"
   ]
  },
  {
   "cell_type": "code",
   "execution_count": null,
   "id": "a198e0b0-c08a-4dae-8032-d517614fa228",
   "metadata": {},
   "outputs": [],
   "source": [
    "db = client['local']\n",
    "db"
   ]
  },
  {
   "cell_type": "markdown",
   "id": "145398d8-63e3-4af2-9a71-764222565e2c",
   "metadata": {},
   "source": [
    "### Lista as coleções disponíveis"
   ]
  },
  {
   "cell_type": "code",
   "execution_count": null,
   "id": "e86a3d9b-532c-43a6-8459-6859b4e54bc0",
   "metadata": {},
   "outputs": [],
   "source": [
    "db.list_collection_names()"
   ]
  },
  {
   "cell_type": "markdown",
   "id": "d15e1e44-6a25-4c0a-8da6-71be1e5e7153",
   "metadata": {},
   "source": [
    "### Selecionando a coleção"
   ]
  },
  {
   "cell_type": "markdown",
   "id": "579af40e",
   "metadata": {},
   "source": [
    "As duas formas abaixo são equivalentes:\n",
    "\n",
    "\n",
    "```python\n",
    "db = db.startup_log\n",
    "```\n",
    "\n",
    "ou\n",
    "\n",
    "```python\n",
    "collection = db['startup_log']\n",
    "```"
   ]
  },
  {
   "cell_type": "code",
   "execution_count": null,
   "id": "1e4a39b0-9c58-42af-b428-74f5265cbc59",
   "metadata": {},
   "outputs": [],
   "source": [
    "collection = db['startup_log']\n",
    "collection"
   ]
  },
  {
   "cell_type": "code",
   "execution_count": null,
   "id": "6dd9f2b1-1dd1-43a9-b60a-6bdb5d3459ca",
   "metadata": {},
   "outputs": [],
   "source": [
    "pp.pprint(collection.find_one())"
   ]
  },
  {
   "cell_type": "code",
   "execution_count": null,
   "id": "aebd181d",
   "metadata": {},
   "outputs": [],
   "source": []
  }
 ],
 "metadata": {
  "kernelspec": {
   "display_name": "Python 3 (ipykernel)",
   "language": "python",
   "name": "python3"
  },
  "language_info": {
   "codemirror_mode": {
    "name": "ipython",
    "version": 3
   },
   "file_extension": ".py",
   "mimetype": "text/x-python",
   "name": "python",
   "nbconvert_exporter": "python",
   "pygments_lexer": "ipython3",
   "version": "3.9.7"
  }
 },
 "nbformat": 4,
 "nbformat_minor": 5
}
