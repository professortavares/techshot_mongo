{
 "cells": [
  {
   "cell_type": "markdown",
   "id": "ea87a2c6-1d29-48ab-815a-dffb5468fa17",
   "metadata": {},
   "source": [
    "# Código responsável por mostrar um Hello World em mongo!\n",
    "\n",
    "\n",
    "ref.: https://pymongo.readthedocs.io/en/stable/"
   ]
  },
  {
   "cell_type": "markdown",
   "id": "ad2b53c4-7aa2-4f4c-85cf-fe7931477a59",
   "metadata": {},
   "source": [
    "## Bibliotecas importantes"
   ]
  },
  {
   "cell_type": "code",
   "execution_count": 1,
   "id": "35684a7d-313e-495a-940a-317cebcc029d",
   "metadata": {},
   "outputs": [],
   "source": [
    "from pymongo import MongoClient\n",
    "import pprint\n",
    "\n",
    "pp = pprint.PrettyPrinter(compact=True)"
   ]
  },
  {
   "cell_type": "markdown",
   "id": "9dde43ea-005e-4520-b907-7489e5a7965f",
   "metadata": {},
   "source": [
    "### Criando a conexão com o Mongo"
   ]
  },
  {
   "cell_type": "markdown",
   "id": "a427b506-4dc2-4899-8330-799ccfdf94b2",
   "metadata": {},
   "source": [
    "As duas formas abaixo são equivalentes:\n",
    "\n",
    "```python\n",
    "client = MongoClient('localhost', 27017)\n",
    "```\n",
    "\n",
    "ou\n",
    "\n",
    "```python\n",
    "client = MongoClient('mongodb://localhost:27017/')\n",
    "```\n"
   ]
  },
  {
   "cell_type": "code",
   "execution_count": 2,
   "id": "60d2a0d6-255b-475c-971a-7cbf70d2edfb",
   "metadata": {},
   "outputs": [
    {
     "data": {
      "text/plain": [
       "MongoClient(host=['localhost:27017'], document_class=dict, tz_aware=False, connect=True)"
      ]
     },
     "execution_count": 2,
     "metadata": {},
     "output_type": "execute_result"
    }
   ],
   "source": [
    "client = MongoClient('localhost', 27017)\n",
    "client"
   ]
  },
  {
   "cell_type": "markdown",
   "id": "528004bf",
   "metadata": {},
   "source": [
    "### Lista as databases disponíveis"
   ]
  },
  {
   "cell_type": "code",
   "execution_count": 3,
   "id": "2d80c52c",
   "metadata": {},
   "outputs": [
    {
     "data": {
      "text/plain": [
       "['admin', 'config', 'local']"
      ]
     },
     "execution_count": 3,
     "metadata": {},
     "output_type": "execute_result"
    }
   ],
   "source": [
    "client.list_database_names()"
   ]
  },
  {
   "cell_type": "markdown",
   "id": "2e1ff828-489d-49cd-a0db-27c2a7c995df",
   "metadata": {},
   "source": [
    "### Selecionado a base de dados (database)"
   ]
  },
  {
   "cell_type": "markdown",
   "id": "6dbb84d3",
   "metadata": {},
   "source": [
    "As duas formas abaixo são equivalentes:\n",
    "\n",
    "```python\n",
    "db = client.local\n",
    "```\n",
    "\n",
    "ou\n",
    "\n",
    "```python\n",
    "db = client['local']\n",
    "```\n"
   ]
  },
  {
   "cell_type": "code",
   "execution_count": 4,
   "id": "a198e0b0-c08a-4dae-8032-d517614fa228",
   "metadata": {},
   "outputs": [
    {
     "data": {
      "text/plain": [
       "Database(MongoClient(host=['localhost:27017'], document_class=dict, tz_aware=False, connect=True), 'local')"
      ]
     },
     "execution_count": 4,
     "metadata": {},
     "output_type": "execute_result"
    }
   ],
   "source": [
    "db = client['local']\n",
    "db"
   ]
  },
  {
   "cell_type": "markdown",
   "id": "145398d8-63e3-4af2-9a71-764222565e2c",
   "metadata": {},
   "source": [
    "### Lista as coleções disponíveis"
   ]
  },
  {
   "cell_type": "code",
   "execution_count": 5,
   "id": "e86a3d9b-532c-43a6-8459-6859b4e54bc0",
   "metadata": {},
   "outputs": [
    {
     "data": {
      "text/plain": [
       "['startup_log']"
      ]
     },
     "execution_count": 5,
     "metadata": {},
     "output_type": "execute_result"
    }
   ],
   "source": [
    "db.list_collection_names()"
   ]
  },
  {
   "cell_type": "markdown",
   "id": "d15e1e44-6a25-4c0a-8da6-71be1e5e7153",
   "metadata": {},
   "source": [
    "### Selecionando a coleção"
   ]
  },
  {
   "cell_type": "markdown",
   "id": "579af40e",
   "metadata": {},
   "source": [
    "As duas formas abaixo são equivalentes:\n",
    "\n",
    "\n",
    "```python\n",
    "db = db.startup_log\n",
    "```\n",
    "\n",
    "ou\n",
    "\n",
    "```python\n",
    "collection = db['startup_log']\n",
    "```"
   ]
  },
  {
   "cell_type": "code",
   "execution_count": 6,
   "id": "1e4a39b0-9c58-42af-b428-74f5265cbc59",
   "metadata": {},
   "outputs": [
    {
     "data": {
      "text/plain": [
       "Collection(Database(MongoClient(host=['localhost:27017'], document_class=dict, tz_aware=False, connect=True), 'local'), 'startup_log')"
      ]
     },
     "execution_count": 6,
     "metadata": {},
     "output_type": "execute_result"
    }
   ],
   "source": [
    "collection = db['startup_log']\n",
    "collection"
   ]
  },
  {
   "cell_type": "code",
   "execution_count": 7,
   "id": "6dd9f2b1-1dd1-43a9-b60a-6bdb5d3459ca",
   "metadata": {},
   "outputs": [
    {
     "name": "stdout",
     "output_type": "stream",
     "text": [
      "{'_id': 'fbbb6c71d47b-1650363001233',\n",
      " 'buildinfo': {'allocator': 'tcmalloc',\n",
      "               'bits': 64,\n",
      "               'buildEnvironment': {'cc': '/opt/mongodbtoolchain/v3/bin/gcc: '\n",
      "                                          'gcc (GCC) 8.5.0',\n",
      "                                    'ccflags': '-Werror -include '\n",
      "                                               'mongo/platform/basic.h '\n",
      "                                               '-fasynchronous-unwind-tables '\n",
      "                                               '-ggdb -Wall -Wsign-compare '\n",
      "                                               '-Wno-unknown-pragmas '\n",
      "                                               '-Winvalid-pch '\n",
      "                                               '-fno-omit-frame-pointer '\n",
      "                                               '-fno-strict-aliasing -O2 '\n",
      "                                               '-march=sandybridge '\n",
      "                                               '-mtune=generic '\n",
      "                                               '-mprefer-vector-width=128 '\n",
      "                                               '-Wno-unused-local-typedefs '\n",
      "                                               '-Wno-unused-function '\n",
      "                                               '-Wno-deprecated-declarations '\n",
      "                                               '-Wno-unused-const-variable '\n",
      "                                               '-Wno-unused-but-set-variable '\n",
      "                                               '-Wno-missing-braces '\n",
      "                                               '-fstack-protector-strong '\n",
      "                                               '-Wa,--nocompress-debug-sections '\n",
      "                                               '-fno-builtin-memcmp',\n",
      "                                    'cppdefines': 'SAFEINT_USE_INTRINSICS 0 '\n",
      "                                                  'PCRE_STATIC NDEBUG '\n",
      "                                                  '_XOPEN_SOURCE 700 '\n",
      "                                                  '_GNU_SOURCE _FORTIFY_SOURCE '\n",
      "                                                  '2 BOOST_THREAD_VERSION 5 '\n",
      "                                                  'BOOST_THREAD_USES_DATETIME '\n",
      "                                                  'BOOST_SYSTEM_NO_DEPRECATED '\n",
      "                                                  'BOOST_MATH_NO_LONG_DOUBLE_MATH_FUNCTIONS '\n",
      "                                                  'BOOST_ENABLE_ASSERT_DEBUG_HANDLER '\n",
      "                                                  'BOOST_LOG_NO_SHORTHAND_NAMES '\n",
      "                                                  'BOOST_LOG_USE_NATIVE_SYSLOG '\n",
      "                                                  'BOOST_LOG_WITHOUT_THREAD_ATTR '\n",
      "                                                  'ABSL_FORCE_ALIGNED_ACCESS',\n",
      "                                    'cxx': '/opt/mongodbtoolchain/v3/bin/g++: '\n",
      "                                           'g++ (GCC) 8.5.0',\n",
      "                                    'cxxflags': '-Woverloaded-virtual '\n",
      "                                                '-Wno-maybe-uninitialized '\n",
      "                                                '-fsized-deallocation '\n",
      "                                                '-std=c++17',\n",
      "                                    'distarch': 'x86_64',\n",
      "                                    'distmod': 'ubuntu2004',\n",
      "                                    'linkflags': '-Wl,--fatal-warnings '\n",
      "                                                 '-pthread -Wl,-z,now '\n",
      "                                                 '-fuse-ld=gold '\n",
      "                                                 '-fstack-protector-strong '\n",
      "                                                 '-Wl,--no-threads '\n",
      "                                                 '-Wl,--build-id '\n",
      "                                                 '-Wl,--hash-style=gnu '\n",
      "                                                 '-Wl,-z,noexecstack '\n",
      "                                                 '-Wl,--warn-execstack '\n",
      "                                                 '-Wl,-z,relro '\n",
      "                                                 '-Wl,--compress-debug-sections=none '\n",
      "                                                 '-Wl,-z,origin '\n",
      "                                                 '-Wl,--enable-new-dtags',\n",
      "                                    'target_arch': 'x86_64',\n",
      "                                    'target_os': 'linux'},\n",
      "               'debug': False,\n",
      "               'gitVersion': 'b977129dc70eed766cbee7e412d901ee213acbda',\n",
      "               'javascriptEngine': 'mozjs',\n",
      "               'maxBsonObjectSize': 16777216,\n",
      "               'modules': [],\n",
      "               'openssl': {'compiled': 'OpenSSL 1.1.1f  31 Mar 2020',\n",
      "                           'running': 'OpenSSL 1.1.1f  31 Mar 2020'},\n",
      "               'storageEngines': ['devnull', 'ephemeralForTest', 'wiredTiger'],\n",
      "               'sysInfo': 'deprecated',\n",
      "               'version': '5.0.7',\n",
      "               'versionArray': [5, 0, 7, 0]},\n",
      " 'cmdLine': {'net': {'bindIp': '*'}},\n",
      " 'hostname': 'fbbb6c71d47b',\n",
      " 'pid': 1,\n",
      " 'startTime': datetime.datetime(2022, 4, 19, 10, 10, 1),\n",
      " 'startTimeLocal': 'Tue Apr 19 10:10:01.233'}\n"
     ]
    }
   ],
   "source": [
    "pp.pprint(collection.find_one())"
   ]
  },
  {
   "cell_type": "code",
   "execution_count": null,
   "id": "aebd181d",
   "metadata": {},
   "outputs": [],
   "source": []
  }
 ],
 "metadata": {
  "kernelspec": {
   "display_name": "Python 3 (ipykernel)",
   "language": "python",
   "name": "python3"
  },
  "language_info": {
   "codemirror_mode": {
    "name": "ipython",
    "version": 3
   },
   "file_extension": ".py",
   "mimetype": "text/x-python",
   "name": "python",
   "nbconvert_exporter": "python",
   "pygments_lexer": "ipython3",
   "version": "3.9.7"
  }
 },
 "nbformat": 4,
 "nbformat_minor": 5
}
